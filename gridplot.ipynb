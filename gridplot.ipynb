{
 "cells": [
  {
   "cell_type": "code",
   "execution_count": 17,
   "metadata": {
    "collapsed": true
   },
   "outputs": [],
   "source": [
    "from scipy import special\n",
    "import numpy as np\n",
    "from os import mkdir\n",
    "from AT import get_data\n",
    "from matplotlib import pylab as plt\n",
    "from scipy.integrate import quad,quadrature,nquad\n",
    "from math import sqrt,cos, log, pi\n",
    "from scipy import optimize as sciopt\n",
    "from scipy.interpolate import UnivariateSpline as spline"
   ]
  },
  {
   "cell_type": "code",
   "execution_count": 18,
   "metadata": {
    "collapsed": true
   },
   "outputs": [],
   "source": [
    "names = {'dra':\"Draco\",'seg1':\"Segue 1\",'umaI':\"Ursa Major 1\",'booI':\"Bootes 1\",\n",
    "         'wil1':\"Willman 1\",'scl':\"Sculptor\",'for':\"Fornax\",'sgr':\"Sagittarius\",\n",
    "         'com':\"Coma Berenices\"}"
   ]
  },
  {
   "cell_type": "markdown",
   "metadata": {},
   "source": [
    "Stellar density profile (Plummer)"
   ]
  },
  {
   "cell_type": "code",
   "execution_count": 19,
   "metadata": {
    "collapsed": true
   },
   "outputs": [],
   "source": [
    "def nu(r,rh):\n",
    "    return (1 + (r/rh)**2)**(-5./2.)"
   ]
  },
  {
   "cell_type": "markdown",
   "metadata": {},
   "source": [
    "Surface brightness profile"
   ]
  },
  {
   "cell_type": "code",
   "execution_count": 20,
   "metadata": {
    "collapsed": true
   },
   "outputs": [],
   "source": [
    "def I(R,rh):\n",
    "    return 4./3. * rh/(1+(R/rh)**2)**2"
   ]
  },
  {
   "cell_type": "markdown",
   "metadata": {},
   "source": [
    "Mass of a Dark Matter Halo with NFW profile"
   ]
  },
  {
   "cell_type": "code",
   "execution_count": 21,
   "metadata": {
    "collapsed": true
   },
   "outputs": [],
   "source": [
    "def get_M_NFW(x):\n",
    "    return np.log(1.+x)-x/(1.+x)"
   ]
  },
  {
   "cell_type": "markdown",
   "metadata": {},
   "source": [
    "Numerical integrals in $\\sigma^2_{l.o.s.}(R)$"
   ]
  },
  {
   "cell_type": "code",
   "execution_count": 22,
   "metadata": {
    "collapsed": false
   },
   "outputs": [],
   "source": [
    "def integrand1(y,alpha,beta):\n",
    "    result = nu(y,1)*get_M_NFW(y*alpha)/y**(2.-2.*beta)\n",
    "    return result\n",
    "\n",
    "def integral1(ymin,alpha,beta):\n",
    "    res,err = quad(integrand1,ymin,+np.inf,args=(alpha,beta),\n",
    "                   epsabs=1.e-10,epsrel=1.e-10,limit=1000)\n",
    "    return res\n",
    "\n",
    "def integrand2(z,alpha,beta,gamma):\n",
    "    result = (1.-beta/z**2) * z**(1.-2.*beta)/np.sqrt(z*z-1.)\n",
    "    res = integral1(gamma*z,alpha,beta)\n",
    "    return result * res\n",
    "\n",
    "def integral2(alpha,beta,gamma):\n",
    "    res, err = quad(integrand2,1.,+np.inf,args=(alpha,beta,gamma),\n",
    "                    epsabs=1.e-10,epsrel=1.e-10,limit=1000)\n",
    "    return res, err"
   ]
  },
  {
   "cell_type": "markdown",
   "metadata": {},
   "source": [
    "J factor"
   ]
  },
  {
   "cell_type": "code",
   "execution_count": 23,
   "metadata": {
    "collapsed": true
   },
   "outputs": [],
   "source": [
    "def func(u,y, D, rt, ymin):\n",
    "    return (1.+u)**(-4)/u/sqrt(u*u-D**2*(1-y*y))\n",
    "\n",
    "def lim_u(y, D, rt, ymin):\n",
    "    return [D*sqrt(1-y*y), rt]\n",
    "\n",
    "def lim_y(D, rt, ymin):\n",
    "    return [ymin,1]\n",
    "\n",
    "def Jfactor(D,rt,r0,rho0,tmax):\n",
    "    \"\"\"\n",
    "    returns the Jfactor computed in the solid angle of\n",
    "    semi apex angle tmax, in degree, for a NFW halo profile of \n",
    "    shape parameters (r0,rho0) at distance D. \n",
    "    rt is the maximal radius of integration \n",
    "    D, r0 and rt are in kpc, and rho0 is in Msun.kpc^-3\n",
    "    \"\"\"\n",
    "    ymin=cos(np.radians(tmax))\n",
    "    Dprime=D/r0\n",
    "    rtprime=rt/r0\n",
    "    Msun2kpc5_GeVcm5 = 4463954.894661358\n",
    "    cst = 4*pi*rho0**2*r0*Msun2kpc5_GeVcm5\n",
    "    res = nquad(func, ranges=[lim_u, lim_y], args=(Dprime,rtprime,ymin),\n",
    "    \topts=[{'epsabs':1.e-10,'epsrel':1.e-10,'limit':1000},\n",
    "    \t{'epsabs':1.e-10,'epsrel':1.e-10,'limit':1000}])\n",
    "    return cst*res[0]"
   ]
  },
  {
   "cell_type": "code",
   "execution_count": 24,
   "metadata": {
    "collapsed": true
   },
   "outputs": [],
   "source": [
    "dwarf = 'umaI'\n",
    "#mkdir('/home/andrea/Desktop/work/DWARF/Jvalue/output/%s'%dwarf)\n",
    "R,v,dv,rh,rt,nstars,D = get_data(dwarf)\n",
    "u=v.mean()\n",
    "beta=-0.005"
   ]
  },
  {
   "cell_type": "code",
   "execution_count": 25,
   "metadata": {
    "collapsed": false
   },
   "outputs": [],
   "source": [
    "gamma_array = R/rh\n",
    "A_array = gamma_array**(1.-2.*beta)/I(R,rh)\n",
    "r0_array = np.logspace(np.log10(0.1),np.log10(5.),100)\n",
    "alpha_array = rh/r0_array\n",
    "I_array=np.zeros(shape=(len(A_array),len(r0_array)))\n",
    "for i,gamma in enumerate(gamma_array):\n",
    "    for j,alpha in enumerate(alpha_array):\n",
    "        res,err = integral2(alpha,beta,gamma)\n",
    "        I_array[i,j] = res *A_array[i]"
   ]
  },
  {
   "cell_type": "code",
   "execution_count": null,
   "metadata": {
    "collapsed": true
   },
   "outputs": [],
   "source": [
    "cst = 8.*np.pi*4.3e-6\n",
    "# Likelihood definition (only for fixed beta!)\n",
    "def logLike(M0,j):\n",
    "    I = cst*M0*I_array[:,j]\n",
    "    S = dv**2+I\n",
    "    res = (np.log(S) + (v-u)**2/S).sum()\n",
    "    return res/2."
   ]
  },
  {
   "cell_type": "code",
   "execution_count": null,
   "metadata": {
    "collapsed": false
   },
   "outputs": [],
   "source": [
    "rho0_array = np.logspace(6.,9.,100)\n",
    "Jgrid = np.empty([len(rho0_array),len(r0_array)])\n",
    "Lgrid = np.empty([len(rho0_array),len(r0_array)])\n",
    "for i,rho0 in enumerate(rho0_array):\n",
    "    for j,r0 in enumerate(r0_array):\n",
    "        Jgrid[i,j] = Jfactor(D,np.inf,r0,rho0,0.5)\n",
    "        Lgrid[i,j] = logLike(rho0*r0**3,j)\n",
    "np.save('output/%s/Jgrid_%s'%(dwarf,dwarf),Jgrid)\n",
    "np.save('output/%s/Lgrid_%s'%(dwarf,dwarf),Lgrid)"
   ]
  },
  {
   "cell_type": "code",
   "execution_count": null,
   "metadata": {
    "collapsed": true
   },
   "outputs": [],
   "source": [
    "log10Jrho1 = np.log10([Jfactor(D,np.inf,r0,1.,0.5) for r0 in r0_array])\n",
    "def deltaJ(log10rho0,J,j):\n",
    "    return abs(J-log10Jrho1[j]-2.*log10rho0)"
   ]
  },
  {
   "cell_type": "code",
   "execution_count": null,
   "metadata": {
    "collapsed": true
   },
   "outputs": [],
   "source": [
    "rho0star = np.empty([4])\n",
    "r0star = np.empty([4])\n",
    "for i,J in enumerate((15,16,18,20,21)):\n",
    "    min_rho0J = sciopt.minimize_scalar(deltaJ,args=(J,59+i*2),tol=1.e-10).x\n",
    "    rho0star[i] = 10.**min_rho0J\n",
    "    r0star[i] = r0_array[59+i*2]"
   ]
  },
  {
   "cell_type": "code",
   "execution_count": null,
   "metadata": {
    "collapsed": true
   },
   "outputs": [],
   "source": [
    "lplot = plt.pcolormesh(r0_array,rho0_array,Lgrid,shading='gouraud')\n",
    "ctJ = plt.contour(r0_array,rho0_array,np.log10(Jgrid),colors='k')\n",
    "ctL = plt.contour(r0_array,rho0_array,Lgrid,linestyles='dashed',colors='m')\n",
    "plt.scatter(r0star,rho0star,s=100,marker='*',c='w',edgecolor='w')\n",
    "plt.clabel(ctJ,inline=1,fmt='%1.0f',colors='k')\n",
    "plt.clabel(ctL,inline=1,fmt='%1.0f',colors='m')\n",
    "cx = plt.colorbar(lplot,pad=0)\n",
    "cx.set_label(r'-$log$Like$(\\rho_0,r_0|\\vec v,\\vec \\sigma_v)$',fontsize=14)\n",
    "plt.semilogy()\n",
    "plt.ylabel(r'$\\rho_0 [M_\\odot$ kpc$^{-3}$]',fontsize=14)\n",
    "plt.xlabel(r'$r_0$ [kpc]',fontsize=14)\n",
    "plt.suptitle('%s'%names[dwarf],fontsize=16)\n",
    "plt.show()"
   ]
  }
 ],
 "metadata": {
  "kernelspec": {
   "display_name": "Python 2",
   "language": "python",
   "name": "python2"
  },
  "language_info": {
   "codemirror_mode": {
    "name": "ipython",
    "version": 2
   },
   "file_extension": ".py",
   "mimetype": "text/x-python",
   "name": "python",
   "nbconvert_exporter": "python",
   "pygments_lexer": "ipython2",
   "version": "2.7.6"
  }
 },
 "nbformat": 4,
 "nbformat_minor": 0
}
