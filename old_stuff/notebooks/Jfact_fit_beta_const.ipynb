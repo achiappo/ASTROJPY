{
 "cells": [
  {
   "cell_type": "code",
   "execution_count": null,
   "metadata": {
    "collapsed": true
   },
   "outputs": [],
   "source": [
    "import yaml\n",
    "import numpy as np\n",
    "from os import mkdir\n",
    "from sys import argv\n",
    "from scipy import special\n",
    "from matplotlib import pylab as plt\n",
    "from scipy.integrate import quad\n",
    "from math import sqrt,cos, log10, pi\n",
    "from scipy import optimize as sciopt\n",
    "from scipy.interpolate import interp1d as interp\n",
    "from functions_beta import integral2, Jfactor, nu\n",
    "from multiprocessing import Pool\n",
    "%matplotlib inline"
   ]
  },
  {
   "cell_type": "code",
   "execution_count": 7,
   "metadata": {
    "collapsed": true
   },
   "outputs": [],
   "source": [
    "names = {'booI':\"Bootes I\",'booII':\"Bootes II\",'car':\"Carina\",'com':\"Coma Berenices\",\n",
    "'cvnI':\"Canes Venatici I\",'cvnII':\"Canes Venatici II\",'dra':\"Draco\",'for':\"Fornax\",\n",
    "'her':\"Hercules\",'leoI':\"Leo I\",'leoIV':\"Leo IV\",'leoT':\"Leo T\",'scl':\"Sculptor\",\n",
    "'seg1':\"Segue 1\",'sex':\"Sextans\",'sgr':\"Sagittarius\",'umaI':\"Ursa Major I\",\n",
    "'umaII':\"Ursa Major II\",'umi':\"Ursa Minor\",'wil1':\"Willman 1\",}"
   ]
  },
  {
   "cell_type": "code",
   "execution_count": null,
   "metadata": {
    "collapsed": true
   },
   "outputs": [],
   "source": [
    "# extract data from data files\n",
    "def get_data(gal):\n",
    "    # Read the parameter from the input file\n",
    "    data = open('../data/params/params_%s.dat'%gal,'r').readlines()\n",
    "    parameters = []\n",
    "    for line in data:\n",
    "        parameters.append(line.split(','))\n",
    "    D  = float(parameters[1][0])       # distance to galaxy in kpc\n",
    "    rh = float(parameters[2][0])       # half-light radius\n",
    "    rt = float(parameters[3][0])       # tidal radius\n",
    "    \n",
    "    x,v,dv = np.loadtxt('../data/velocities/velocities_%s.dat'%gal,dtype=float,usecols=(0,1,2),unpack=True)\n",
    "    return x,v,dv,D,rh,rt"
   ]
  },
  {
   "cell_type": "code",
   "execution_count": null,
   "metadata": {
    "collapsed": true
   },
   "outputs": [],
   "source": [
    "stelprof = ['Plum','true_Plum','non_Plum']\n",
    "DMprof = ['NFW_Cusp','NFW_Core']\n",
    "stelmod = 2\n",
    "DMmod = 1"
   ]
  },
  {
   "cell_type": "code",
   "execution_count": 8,
   "metadata": {
    "collapsed": true
   },
   "outputs": [],
   "source": [
    "# inverse hyperbolic cosecant (used for gamma* = 1 , non-Plum)\n",
    "def inv_csch(x):\n",
    "    return np.log(np.sqrt(1+x**-2.)+x**-1.)\n",
    "# integrand of I(R) (used for gamma* = 0.1 , Plum)\n",
    "def integrand_I(r,rh,R):\n",
    "    return nu(r/rh)*r/np.sqrt(r**2-R**2)\n",
    "\n",
    "# dwarf surface brightness profile\n",
    "def I(R,rh):\n",
    "    if stelmod==1: return 2*quad(integrand_I,R,+np.inf,args=(rh,R))[0] \n",
    "    else: \n",
    "        if stelmod==2: return 4./3.*rh/(1+(R/rh)**2)**2\n",
    "        else: return rh**2*((2*rh**2+R**2)*inv_csch(R/rh)-rh*np.sqrt(rh**2+R**2))/(rh**2+R**2)**(3/2.)"
   ]
  },
  {
   "cell_type": "code",
   "execution_count": null,
   "metadata": {
    "collapsed": true
   },
   "outputs": [],
   "source": [
    "dwarf = 'cvnII'\n",
    "dwarf_dir = '../output/OM/results/%s'%dwarf\n",
    "#mkdir(dwarf_dir)\n",
    "R,v,dv,D,rh,rt = get_data(dwarf)\n",
    "u=v.mean()"
   ]
  },
  {
   "cell_type": "code",
   "execution_count": null,
   "metadata": {
    "collapsed": true
   },
   "outputs": [],
   "source": [
    "theta=0.5\n",
    "\n",
    "r0_i,r0_f,Nr0 = 4,4,200\n",
    "b_i,b_f,Nb    = 2,1,100\n",
    "\n",
    "case = '%s_%i%i%i%i_%i'%(dwarf,r0_i,r0_f,b_i,b_f,theta*10"
   ]
  },
  {
   "cell_type": "code",
   "execution_count": null,
   "metadata": {
    "collapsed": true
   },
   "outputs": [],
   "source": [
    "r0_array    = np.logspace(-r0_i,r0_f,Nr0)\n",
    "beta_array  = np.linspace(-b_i,b_f,Nb)\n",
    "gamma_array = R/rh\n",
    "alpha_array = rh/r0_array\n",
    "A_array = np.array([[gamma_array[i]**(1.-2*beta)/I(Ri,rh) for beta in beta_array] for i,Ri in enumerate(R)])\n",
    "I_array = np.zeros(shape=(len(A_array),len(beta_array),len(r0_array)))"
   ]
  },
  {
   "cell_type": "code",
   "execution_count": null,
   "metadata": {
    "collapsed": true
   },
   "outputs": [],
   "source": [
    "def array_builder(gamma_array, beta_array, alpha_array):\n",
    "    for k,gamma in enumerate(gamma_array):\n",
    "        for i,beta in enumerate(beta_array):\n",
    "            for j,alpha in enumerate(alpha_array):\n",
    "                yield (k, i, j), (gamma, beta, alpha)\n",
    "\n",
    "def proxy(args):\n",
    "    return args[0], A_array[args[0][0],args[0][1]]*integral2(*args[1])"
   ]
  },
  {
   "cell_type": "code",
   "execution_count": null,
   "metadata": {
    "collapsed": true
   },
   "outputs": [],
   "source": [
    "pool = Pool(processes=4)\n",
    "results = pool.map(proxy, array_builder(gamma_array, beta_array, alpha_array))\n",
    "pool.close()\n",
    "pool.join()\n",
    "for idx,value in results:\n",
    "    I_array[idx] = value"
   ]
  },
  {
   "cell_type": "code",
   "execution_count": null,
   "metadata": {
    "collapsed": true
   },
   "outputs": [],
   "source": [
    "Jf = np.sqrt([Jfactor(D,np.inf,r0,1.,theta) for r0 in r0_array])\n",
    "\n",
    "cst = 8.*np.pi*4.3e-6\n",
    "# Likelihood definition (for free beta)\n",
    "def logLike(J,i,j):\n",
    "    I = cst*sqrt(J)*r0_array[j]**3*I_array[:,i,j]/Jf[j]\n",
    "    S = dv**2.+I\n",
    "    res = (np.log(S) + (v-u)**2./S).sum()\n",
    "    return res/2."
   ]
  },
  {
   "cell_type": "code",
   "execution_count": null,
   "metadata": {
    "collapsed": true
   },
   "outputs": [],
   "source": [
    "J_array = np.linspace(14,21,200)\n",
    "J_new   = np.empty([0])\n",
    "min_LikeJ  = np.empty([0])\n",
    "min_r0_arr = np.empty([0])\n",
    "min_b_arr  = np.empty([0])\n",
    "\n",
    "for J in J_array:                                                # scan over an array of J values\n",
    "    b_new   = np.empty([0])\n",
    "    r0_new  = np.empty([0])\n",
    "    LikeJr0 = np.empty([0])\n",
    "    for j,r0 in enumerate(r0_array):                             # for each J scan over an array of r0 values\n",
    "        LikeJb = np.zeros_like(beta_array)\n",
    "        for i in range(beta_array.size): LikeJb[i] = logLike(10**J,i,j)\n",
    "        interp_Like_b = interp(beta_array,LikeJb)                  # build the profile likelihood along ra\n",
    "\n",
    "        eval_Like_b = np.linspace(beta_array.min(),beta_array.max(),1e3)\n",
    "        min_Like_b  = interp_Like_b(eval_Like_b).min()\n",
    "        min_b       = eval_Like_b[np.where(interp_Like_b(eval_Like_b)==min_Like_b)[0][0]]\n",
    "\n",
    "        if beta_array[1]<min_b<beta_array[-2]:\n",
    "            LikeJr0 = np.append(LikeJr0,min_Like_b)\n",
    "            b_new   = np.append(b_new,min_b)\n",
    "            r0_new  = np.append(r0_new,r0)\n",
    "\n",
    "    if LikeJr0.size>3:\n",
    "        interp_b  = interp(r0_new,b_new)\n",
    "        interp_r0 = interp(r0_new,LikeJr0)                  # build the profile likelihood along r0\n",
    "\n",
    "        eval_Like_r0 = np.logspace(log10(r0_new.min()),log10(r0_new.max()),1e3)\n",
    "        min_Like_r0  = interp_r0(eval_Like_r0).min()\n",
    "        min_r0       = eval_Like_r0[np.where(interp_r0(eval_Like_r0)==min_Like_r0)[0][0]]\n",
    "\n",
    "        if r0_new[1]<min_r0<r0_new[-2]:\n",
    "            plt.semilogx(r0_new,interp_r0(r0_new),label='J=%.2f'%J)\n",
    "            plt.plot(min_r0,min_Like_r0,'*',markersize=10,c='k')\n",
    "            \n",
    "            min_b_arr  = np.append(min_b_arr,interp_b(min_r0))\n",
    "            min_r0_arr = np.append(min_r0_arr,min_r0)\n",
    "            min_LikeJ  = np.append(min_LikeJ,min_Like_r0)\n",
    "            J_new      = np.append(J_new,J)\n"
   ]
  },
  {
   "cell_type": "code",
   "execution_count": null,
   "metadata": {
    "collapsed": true
   },
   "outputs": [],
   "source": [
    "interp_Like_J  = interp(J_new,min_LikeJ)\n",
    "interp_Like_b  = interp(J_new,min_b_arr)\n",
    "interp_Like_r0 = interp(J_new,min_r0_arr)\n",
    "\n",
    "eval_Like_J = np.linspace(J_new.min(),J_new.max(),1e3)\n",
    "min_Like_J  = interp_Like_J(eval_Like_J).min()\n",
    "J_min       = eval_Like_J[np.where(interp_Like_J(eval_Like_J)==min_Like_J)[0][0]]\n",
    "\n",
    "J_b    = float(interp_Like_b(J_min))\n",
    "J_r0   = float(interp_Like_r0(J_min))\n",
    "J_rho0 = 10**sciopt.minimize_scalar(lambda log10rho0 : abs(J_min-np.log10(Jfactor(D,np.inf,J_r0,1.,theta))-2*log10rho0)).x\n",
    "\n",
    "print 'min J = ',round(J_min,2),' , b = ',round(J_b,3),' , r0 = ',round(J_r0,3)\n",
    "plt.plot(J_new,interp_Like_J(J_new))\n",
    "plt.plot(J_min,interp_Like_J(J_min),'b*')\n",
    "#plt.ylim(39,40)"
   ]
  },
  {
   "cell_type": "code",
   "execution_count": null,
   "metadata": {
    "collapsed": true
   },
   "outputs": [],
   "source": [
    "J1sL = round(sciopt.minimize_scalar(lambda J : np.abs(interp_Like_J(J)-interp_Like_J(J_min)-0.5),method='Bounded',bounds=(J_new[0],J_min)).x-J_min,2)\n",
    "J1sR = round(sciopt.minimize_scalar(lambda J : np.abs(interp_Like_J(J)-interp_Like_J(J_min)-0.5),method='Bounded',bounds=(J_min,J_new[-1])).x-J_min,2)\n",
    "\n",
    "J2sL = round(sciopt.minimize_scalar(lambda J : np.abs(interp_Like_J(J)-interp_Like_J(J_min)-2.),method='Bounded',bounds=(J_new[0],J_min)).x-J_min,2)\n",
    "J2sR = round(sciopt.minimize_scalar(lambda J : np.abs(interp_Like_J(J)-interp_Like_J(J_min)-2.),method='Bounded',bounds=(J_min,J_new[-1])).x-J_min,2)\n",
    "\n",
    "J3sL = round(sciopt.minimize_scalar(lambda J : np.abs(interp_Like_J(J)-interp_Like_J(J_min)-4.),method='Bounded',bounds=(J_new[0],J_min)).x-J_min,2)\n",
    "J3sR = round(sciopt.minimize_scalar(lambda J : np.abs(interp_Like_J(J)-interp_Like_J(J_min)-4.),method='Bounded',bounds=(J_min,J_new[-1])).x-J_min,2)"
   ]
  },
  {
   "cell_type": "code",
   "execution_count": null,
   "metadata": {
    "collapsed": true
   },
   "outputs": [],
   "source": [
    "print round(J_min,2),J1sL,J1sR,J2sL,J2sR,J3sL,J3sR"
   ]
  },
  {
   "cell_type": "code",
   "execution_count": null,
   "metadata": {
    "collapsed": true
   },
   "outputs": [],
   "source": [
    "if J_min+J3sL-0.1>J_new[0]: J_i = J_min+J3sL-0.1\n",
    "else: J_i = J_new[0]\n",
    "if J_min+J3sR+0.1<J_new[-1]: J_f = J_min+J3sR+0.1\n",
    "else: J_f = J_new[-1]\n",
    "J_plt = np.linspace(J_i,J_f,100)"
   ]
  },
  {
   "cell_type": "code",
   "execution_count": null,
   "metadata": {
    "collapsed": true
   },
   "outputs": [],
   "source": [
    "J1sL = J1sL if J_min+J1sL-0.01>=J_i else ''\n",
    "J1sR = J1sR if J_min+J1sR+0.01<=J_f else ''\n",
    "J2sL = J2sL if J_min+J2sL-0.01>=J_i else ''\n",
    "J2sR = J2sR if J_min+J2sR+0.01<=J_i else ''\n",
    "J3sL = J3sL if J_min+J3sL-0.01>=J_i else ''\n",
    "J3sR = J3sR if J_min+J3sR+0.01<=J_i else ''"
   ]
  },
  {
   "cell_type": "code",
   "execution_count": null,
   "metadata": {
    "collapsed": true
   },
   "outputs": [],
   "source": [
    "save = False\n",
    "plt.plot(J_plt,interp_Like_J(J_plt)-interp_Like_J(J_min))\n",
    "plt.plot(J_min,0,'b^',markersize=10,label='J = %.2f'%J_min+r' (N$_\\star$=%i)'%R.size)\n",
    "plt.hlines(0.,min(J_plt),max(J_plt),linestyles='dashed')\n",
    "plt.hlines(.5,min(J_plt),max(J_plt),colors=('r'),linestyles='dashed',\n",
    "           label=r'$1-\\sigma$'+'\\t'+'[%2s,%+2s]'%(str(J1sL),str(J1sR)))\n",
    "plt.hlines(2,min(J_plt),max(J_plt),colors=('g'),linestyles='dashed',\n",
    "           label=r'$2-\\sigma$'+'\\t'+'[%2s,%+2s]'%(str(J2sL),str(J2sR)))\n",
    "plt.hlines(4,min(J_plt),max(J_plt),colors=('c'),linestyles='dashed',\n",
    "           label=r'$3-\\sigma$'+'\\t'+'[%2s,%+2s]'%(str(J3sL),str(J3sR)))\n",
    "plt.legend(numpoints=1,fontsize=14).get_frame().set_facecolor('w')\n",
    "plt.ylabel(r'$\\mathcal{L}$(J)',fontsize=14)\n",
    "plt.xlabel(r'log$_{10}$  J [GeV$^2$ cm$^{-5}$]',fontsize=14)\n",
    "plt.ylim(-0.5,12)\n",
    "plt.xlim(J_i,J_f)\n",
    "if save:\n",
    "    plt.savefig(dwarf_dir+'/%s_%s.png'%(DMprof[DMmod-1],stelprof[stelmod-1]),dpi=300,format='png')\n",
    "    plt.suptitle('%s'%names[dwarf],fontsize=16)\n",
    "    plt.savefig(dwarf_dir+'/%s_%s_title.png'%(DMprof[DMmod-1],stelprof[stelmod-1]),dpi=300,format='png')\n",
    "    np.save(dwarf_dir+'/LikeJ_CA_%s'%case,np.vstack((J_plt,interp_Like_J(J_plt)-interp_Like_J(J_min))))\n",
    "    yaml.dump({'Nstars':R.size,'Jmin':J_min,'r0':J_r0,'rho0':J_rho0,'ra':J_ra,'J1sL':J1sL,'J1sR':J1sR,\n",
    "               'J2sL':J2sL,'J2sR':J2sR,'J3sL':J3sL,'J3sR':J3sR},open(dwarf_dir+'/results_CA_%s.yaml'%case,'w'))"
   ]
  },
  {
   "cell_type": "code",
   "execution_count": null,
   "metadata": {
    "collapsed": true
   },
   "outputs": [],
   "source": [
    "print '%5s %10.2f'%('r0',J_r0)\n",
    "print '%5s %10.2f'%('b',J_rb)\n",
    "print '%5s %10.2e'%('rho0',10**J_rho0)"
   ]
  }
 ],
 "metadata": {
  "kernelspec": {
   "display_name": "Python 2",
   "language": "python",
   "name": "python2"
  },
  "language_info": {
   "codemirror_mode": {
    "name": "ipython",
    "version": 2
   },
   "file_extension": ".py",
   "mimetype": "text/x-python",
   "name": "python",
   "nbconvert_exporter": "python",
   "pygments_lexer": "ipython2",
   "version": "2.7.6"
  }
 },
 "nbformat": 4,
 "nbformat_minor": 0
}
