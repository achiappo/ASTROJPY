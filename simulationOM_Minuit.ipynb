{
 "cells": [
  {
   "cell_type": "markdown",
   "metadata": {},
   "source": [
    "Testing the Gaia Challenge simulated data in the case on a non costant or fixed anisotropy in the velocity of the stellar subcomponent. The profile adopted is the Osipkov-Merritt, which reads:\n",
    "\\begin{equation}\n",
    "\\beta(r)=\\frac{r^2}{r^2+r^2_a}\n",
    "\\end{equation}\n",
    "with $r_a = r_h$.\n",
    "\n",
    "The stellar profile adopted here reads:\n",
    "\\begin{equation}\n",
    "\\nu_\\ast(r) = \\rho_h \\left(\\frac{r}{r_h}\\right)^{-\\gamma_\\ast}\\left(1+\\left(\\frac{r}{r_h}\\right)^{\\alpha_\\ast}\\right)^\\frac{\\gamma_\\ast-\\beta_\\ast}{\\alpha_\\ast}\n",
    "\\end{equation}\n",
    "with parameters values:\n",
    "* $\\alpha_\\ast$ = 2\n",
    "* $\\beta_\\ast$ = 5\n",
    "* $r_h$ = 0.1,0.25,1 kpc\n",
    "\n",
    "leading to the simple expression\n",
    "\\begin{equation}\n",
    "\\nu_\\ast(r) = \\frac{\\rho_h}{\\left(\\frac{r}{r_h}\\right)^{\\gamma_\\ast}\\left(1+\\left(\\frac{r}{r_h}\\right)^2\\right)^{\\frac{5-\\gamma_\\ast}{2}}}\n",
    "\\end{equation}\n",
    "\n",
    "for $\\gamma_\\ast = 0.1,1$ this is referred to as \"Plummer\" and \"non-Plummer\" stellar profile, respectively.\n",
    "\n",
    "In the non-Plummer profile case, the surface brightness profile has the following analytic expression:\n",
    "\\begin{equation}\n",
    "I(R) = 2 \\int^\\infty_R \\frac{\\nu_\\ast(r) r dr}{\\sqrt{r^2-R^2}} = \\rho_h \\frac{r_h^2\\left[(2r_h^2+R^2) csch^{-1}\\left(\\frac{R}{r_h}\\right) - r_h\\sqrt{r_h^2+R^2}\\right]}{(r_h^2+R^2)^{3/2}}\n",
    "\\end{equation}\n",
    "\n",
    "The $line-of-sight$ velocity dispersion $\\sigma^2(R)$ that enters the Likelihood has the following expression\n",
    "\\begin{equation}\n",
    "\\sigma^2_{l.o.s.}(R) = 2G\\mu_0\\frac{R}{I(R)}\\int^\\infty_1 \\left(1-\\frac{\\beta(zR)}{z^2}\\right)\\frac{z}{\\sqrt{z^2-1}}\\frac{1}{z^2R^2+r^2_a}\\int^\\infty_{zR}\\left(1+\\left(\\frac{r_a}{s}\\right)^2\\right)\\nu_\\ast(s)\\mu(s/r_0)dsdz\n",
    "\\end{equation}\n",
    "This can be cast in an dimensionless format by performing the following replacement:\n",
    "\\begin{equation}\n",
    "\\frac{s}{r_h} = y \\quad \\frac{r_h}{r_0} = \\alpha \\quad \\frac{r_a}{r_h} = \\delta \\quad \\frac{R}{r_h} = \\gamma\n",
    "\\end{equation}\n",
    "which lead to\n",
    "\\begin{equation}\n",
    "\\sigma^2_{l.o.s.}(R) = 2G\\mu_0\\frac{\\gamma}{I(R)}\\int^\\infty_1 \\left(1-\\frac{\\beta(z,\\delta,\\gamma)}{z^2}\\right)\\frac{z}{\\sqrt{z^2-1}}\\frac{1}{z^2\\gamma^2+\\delta^2}\\int^\\infty_{z\\gamma}\\left[1+\\left(\\frac{\\delta}{y}\\right)^2\\right]\\nu_\\ast(y)\\mu(y\\alpha)dsdz\n",
    "\\end{equation}"
   ]
  },
  {
   "cell_type": "code",
   "execution_count": 1,
   "metadata": {
    "collapsed": false
   },
   "outputs": [],
   "source": [
    "import yaml\n",
    "import itertools\n",
    "import numpy as np\n",
    "from sys import argv\n",
    "from iminuit import Minuit\n",
    "from matplotlib import pylab as plt\n",
    "from scipy.integrate import quad\n",
    "from math import sqrt,cos, log10, pi\n",
    "from scipy import optimize as sciopt\n",
    "from scipy.interpolate import interp1d as interp\n",
    "from functions_simOM import integral2, Jfactor,nu\n",
    "%matplotlib inline"
   ]
  },
  {
   "cell_type": "code",
   "execution_count": 2,
   "metadata": {
    "collapsed": true
   },
   "outputs": [],
   "source": [
    "homedir = '/home/andrea/Desktop/work/DWARF/Jvalue/test/'\n",
    "casedir = ['OsipkMerr_Core_nonPlum','OsipkMerr_Core_Plum','OsipkMerr_Cusp_nonPlum','OsipkMerr_Cusp_Plum']\n",
    "\n",
    "# enter size of Mock dataset (options 100,1000,10000)\n",
    "MockSize = 100\n",
    "dset = 4\n",
    "# enter model choice - cf. casedir (options 0,1,2,3)\n",
    "mod = 3"
   ]
  },
  {
   "cell_type": "code",
   "execution_count": 3,
   "metadata": {
    "collapsed": false
   },
   "outputs": [
    {
     "name": "stdout",
     "output_type": "stream",
     "text": [
      "0.5 100.0 18.8344\n"
     ]
    }
   ],
   "source": [
    "u = 0.\n",
    "D = 100.\n",
    "theta = 0.5\n",
    "rh= 0.25 if mod == 0 or mod == 1 else 0.1\n",
    "r0_true=1.\n",
    "ra_true=rh\n",
    "rho0_true=6.4e7\n",
    "J_true=np.log10(Jfactor(D,np.inf,r0_true,rho0_true, theta, mod))\n",
    "print theta, D, \"%g\"%J_true"
   ]
  },
  {
   "cell_type": "code",
   "execution_count": 4,
   "metadata": {
    "collapsed": true
   },
   "outputs": [],
   "source": [
    "# inverse hyperbolic cosecant (used for gamma* = 1 , non-Plum)\n",
    "def inv_csch(x):\n",
    "    return np.log(np.sqrt(1+x**-2.)+x**-1.)\n",
    "# integrand of I(R) (used for gamma* = 0.1 , Plum)\n",
    "def integrand_I(r,rh,R):\n",
    "    return nu(r/rh, mod)*r/np.sqrt(r**2-R**2)\n",
    "\n",
    "# dwarf surface brightness profile\n",
    "def I(R,rh):\n",
    "    return 2*quad(integrand_I,R,+np.inf,args=(rh,R))[0] if mod == 1 or mod == 3 else \\\n",
    "rh**2*((2*rh**2+R**2)*inv_csch(R/rh)-rh*np.sqrt(rh**2+R**2))/(rh**2+R**2)**(3/2.)"
   ]
  },
  {
   "cell_type": "code",
   "execution_count": 5,
   "metadata": {
    "collapsed": false
   },
   "outputs": [],
   "source": [
    "# Mock data preparation\n",
    "data = ['/data/gs100_bs050_rcrs025_rarc100_core_0400mpc3_df_%i_%i.dat'%(MockSize,dset),      # OsipkMerr_Core_nonPlum\n",
    "        '/data/gs010_bs050_rcrs025_rarc100_core_0400mpc3_df_%i_%i.dat'%(MockSize,dset),      # OsipkMerr_Core_Plum\n",
    "        '/data/gs100_bs050_rcrs010_rarc100_cusp_0064mpc3_df_%i_%i.dat'%(MockSize,dset),      # OsipkMerr_Cusp_nonPlum\n",
    "        '/data/gs010_bs050_rcrs010_rarc100_cusp_0064mpc3_df_%i_%i.dat'%(MockSize,dset)]      # OsipkMerr_Cusp_Plum\n",
    "err  = ['/data/gs100_bs050_rcrs025_rarc100_core_0400mpc3_df_%i_%i_err.dat'%(MockSize,dset),  # OsipkMerr_Core_nonPlum\n",
    "        '/data/gs010_bs050_rcrs025_rarc100_core_0400mpc3_df_%i_%i_err.dat'%(MockSize,dset),  # OsipkMerr_Core_Plum\n",
    "        '/data/gs100_bs050_rcrs010_rarc100_cusp_0064mpc3_df_%i_%i_err.dat'%(MockSize,dset),  # OsipkMerr_Cusp_nonPlum\n",
    "        '/data/gs010_bs050_rcrs010_rarc100_cusp_0064mpc3_df_%i_%i_err.dat'%(MockSize,dset)]  # OsipkMerr_Cusp_Plum\n",
    "\n",
    "x,y,z,vx,vy,vz = np.loadtxt(homedir+casedir[mod]+data[mod],unpack=True)\n",
    "R = np.sqrt(x**2+y**2) # assumed direction of observation along z-axis for simplicity (as suggested on the Gaia wiki)\n",
    "d = np.sqrt(x**2+y**2+(D-z)**2)\n",
    "# Errors (from mock data) preparation\n",
    "Evx,Evy,Evz = np.loadtxt(homedir+casedir[mod]+err[mod],unpack=True,usecols=(3,4,5))\n",
    "Ex,Ey,Ez = Evx-vx, Evy-vy,Evz-vz\n",
    "v = (x*Evx+y*Evy+(D-z)*Evz)/d\n",
    "dv = (x*Ex+y*Ey+(D-z)*Ez)/d"
   ]
  },
  {
   "cell_type": "code",
   "execution_count": 6,
   "metadata": {
    "collapsed": false
   },
   "outputs": [],
   "source": [
    "cst = 8.*np.pi*4.3e-6\n",
    "gamma_array = R/rh\n",
    "A_array = np.array([gamma_array[i]/I(Ri,rh) for i,Ri in enumerate(R)])"
   ]
  },
  {
   "cell_type": "code",
   "execution_count": 7,
   "metadata": {
    "collapsed": true
   },
   "outputs": [],
   "source": [
    "cst = 8.*np.pi*4.3e-6\n",
    "class logLike:\n",
    "    def __init__(self,data, numprocs=1):\n",
    "        self.data = data\n",
    "        self.numprocs = numprocs\n",
    "        self.cache = {}\n",
    "        \n",
    "    def retrieve(self,ra,r0):\n",
    "        if (ra,r0) in self.cache.keys():\n",
    "            I=self.cache[ra,r0]\n",
    "            iscached=True\n",
    "        else:\n",
    "            I=0#dummy value\n",
    "            iscached=False\n",
    "        return iscached, I\n",
    "    \n",
    "    def store(self,ra,r0, I):\n",
    "        self.cache[ra,r0]=I\n",
    "        return\n",
    "\n",
    "    def pool_compute(self, delta, alpha):\n",
    "        from multiprocessing import Pool\n",
    "        pool = Pool(processes=self.numprocs)\n",
    "        results = pool.map(proxy_integral2, itertools.izip(self.data, itertools.repeat(alpha), itertools.repeat(delta), itertools.repeat(mod)))\n",
    "        pool.close()\n",
    "        pool.join()\n",
    "        return results\n",
    "    \n",
    "    def compute(self,J,ra,r0):\n",
    "        #treat r0 first, as it can't be vectorized\n",
    "        r0=10**r0\n",
    "        ra=10**ra\n",
    "        if r0<=0 or ra<=0:\n",
    "            if np.isscalar(J):\n",
    "                return np.nan\n",
    "            else:\n",
    "                return np.nan*np.ones_like(J)\n",
    "        if np.all(J<0):\n",
    "            return np.nan*np.ones_like(J)\n",
    "        else:\n",
    "            res=np.zeros_like(J)\n",
    "            mask=J>0\n",
    "            res[np.logical_not(mask)]=np.nan\n",
    "            iscached, Icached = self.retrieve(ra,r0)\n",
    "            if iscached:\n",
    "                I=Icached\n",
    "            else:\n",
    "                if self.numprocs==1 or self.data.size<100:\n",
    "                    #I_array = compute_I_array(self.data, rh/r0)\n",
    "                    I_array = np.array([integral2(gamma, ra/rh, rh/r0, mod) for gamma in self.data])\n",
    "                else:\n",
    "                    I_array = self.pool_compute(ra/rh, rh/r0, mod)\n",
    "                I = cst*r0**3*A_array*I_array/np.sqrt(Jfactor(D,np.inf,r0,1.,theta,mod))\n",
    "                self.store(ra,r0,I)\n",
    "            S = (dv**2.)[:,np.newaxis] + I[:,np.newaxis] * np.power(10,J/2.)\n",
    "        res = (np.log(S) + ((v-u)**2.)[:,np.newaxis]/S)\n",
    "        res = res.sum(axis=0)\n",
    "        return res/2."
   ]
  },
  {
   "cell_type": "code",
   "execution_count": 8,
   "metadata": {
    "collapsed": false
   },
   "outputs": [],
   "source": [
    "lh = logLike(gamma_array)\n",
    "settings = {'errordef':0.5,'print_level':0,'pedantic':False,'J':19,'ra':np.log10(rh/2.),'r0':np.log10(rh*2.),'error_J':0.001,'error_ra':0.00001,'error_r0':0.00001}\n",
    "Jfit = Minuit(lh.compute,**settings)\n",
    "Jfit.tol = 0.001\n",
    "Jfit.set_strategy(2)\n",
    "BF = Jfit.migrad()"
   ]
  },
  {
   "cell_type": "code",
   "execution_count": 9,
   "metadata": {
    "collapsed": false
   },
   "outputs": [
    {
     "name": "stdout",
     "output_type": "stream",
     "text": [
      "J  =  18.7101214468 +- 0.184505469349\n",
      "ra =  0.377921202243 +- 2.57632601495\n",
      "r0 =  1.35131416072 +- 2.91008403271\n"
     ]
    }
   ],
   "source": [
    "minL=BF[0]['fval']\n",
    "J_min,eJ_min = BF[1][0]['value'],BF[1][0]['error']\n",
    "J_ra, eJ_ra = BF[1][1]['value'],BF[1][1]['error']\n",
    "J_r0, eJ_r0 = BF[1][2]['value'],BF[1][2]['error']\n",
    "print 'J  = ',J_min,'+-',eJ_min\n",
    "print 'ra = ',10**J_ra,'+-',10**eJ_ra\n",
    "print 'r0 = ',10**J_r0,'+-',10**eJ_r0"
   ]
  },
  {
   "cell_type": "markdown",
   "metadata": {},
   "source": [
    "Contour plot of $\\mathcal{L}(\\mathcal{J},r^{MLE}_a,r_0)$"
   ]
  },
  {
   "cell_type": "code",
   "execution_count": 107,
   "metadata": {
    "collapsed": false
   },
   "outputs": [],
   "source": [
    "r0_array = np.linspace(-1,5,100)\n",
    "J_array = J_min+eJ_min*np.arange(-4,+4+0.05,0.05)"
   ]
  },
  {
   "cell_type": "code",
   "execution_count": 108,
   "metadata": {
    "collapsed": false
   },
   "outputs": [],
   "source": [
    "resJr0 = np.zeros(shape=(r0_array.size, J_array.size))\n",
    "for i,r0 in enumerate(r0_array):\n",
    "        resJr0[i,:] = lh.compute(J_array,J_ra,r0)-minL"
   ]
  },
  {
   "cell_type": "code",
   "execution_count": 92,
   "metadata": {
    "collapsed": true
   },
   "outputs": [],
   "source": [
    "import matplotlib.ticker as ticker\n",
    "def fmt(x, pos):\n",
    "    ticks = {'0.5':1,'2.0':2,'4.5':3}\n",
    "    return r'${}\\sigma$'.format(ticks[format(x)])"
   ]
  },
  {
   "cell_type": "code",
   "execution_count": 109,
   "metadata": {
    "collapsed": false
   },
   "outputs": [
    {
     "data": {
      "text/plain": [
       "<matplotlib.text.Text at 0x7f351cce2490>"
      ]
     },
     "execution_count": 109,
     "metadata": {},
     "output_type": "execute_result"
    },
    {
     "data": {
      "image/png": "[encoded data removed]",
      "text/plain": [
       "<matplotlib.figure.Figure at 0x7f351d3da0d0>"
      ]
     },
     "metadata": {},
     "output_type": "display_data"
    }
   ],
   "source": [
    "plt.contour(J_array, r0_array,resJr0,[0.5,2.,4.5],linewidths=2)\n",
    "plt.colorbar(format=ticker.FuncFormatter(fmt))\n",
    "plt.plot(J_min,J_r0,'mo',label='best-fit',markersize=8)\n",
    "plt.plot(J_true, np.log10(r0_true), 'r*',label='true values',markersize=10)\n",
    "plt.xlabel(r'$\\mathcal{J}$ [MeV$^2$ cm$^{-5}$]',fontsize=14)\n",
    "plt.ylabel(r'log$_{10}$ r$_0$ [kpc]',fontsize=14)\n",
    "plt.legend(numpoints=1).get_frame().set_facecolor('w')\n",
    "plt.suptitle(r'$\\mathcal{L}(\\mathcal{J},r^{MLE}_a,r_0)$',fontsize=16)\n",
    "#plt.savefig('OM_J_r0_cont.png',dpi=300,format='png')"
   ]
  },
  {
   "cell_type": "markdown",
   "metadata": {},
   "source": [
    "Contour plot of $\\mathcal{L}(\\mathcal{J},r_a,r^{MLE}_0)$"
   ]
  },
  {
   "cell_type": "code",
   "execution_count": 101,
   "metadata": {
    "collapsed": true
   },
   "outputs": [],
   "source": [
    "ra_array = np.linspace(-2,2,100)\n",
    "J_array = J_min+eJ_min*np.arange(-4,+4+0.05,0.05)"
   ]
  },
  {
   "cell_type": "code",
   "execution_count": 23,
   "metadata": {
    "collapsed": false
   },
   "outputs": [],
   "source": [
    "resJra = np.zeros(shape=(ra_array.size, J_array.size))\n",
    "for i,ra in enumerate(ra_array):\n",
    "        resJra[i,:] = lh.compute(J_array,ra,J_r0)-minL"
   ]
  },
  {
   "cell_type": "code",
   "execution_count": 102,
   "metadata": {
    "collapsed": false
   },
   "outputs": [
    {
     "data": {
      "image/png": "[encoded data removed]",
      "text/plain": [
       "<matplotlib.figure.Figure at 0x7f351de9b410>"
      ]
     },
     "metadata": {},
     "output_type": "display_data"
    }
   ],
   "source": [
    "plt.contour(J_array, ra_array,resJra,levels=[0.2,0.5,2.,4.5],linewidths=2)\n",
    "plt.colorbar(c,format=ticker.FuncFormatter(fmt))\n",
    "plt.plot(J_min,J_ra,'mo',label='best-fit',markersize=8)\n",
    "plt.plot(J_true, np.log10(ra_true), 'r*',label='true values',markersize=10)\n",
    "plt.xlabel(r'$\\mathcal{J}$ [MeV$^2$ cm$^{-5}$]',fontsize=14)\n",
    "plt.ylabel(r'log$_{10}$ $r_a$ [kpc]',fontsize=14)\n",
    "plt.legend(numpoints=1).get_frame().set_facecolor('w')\n",
    "plt.suptitle(r'$\\mathcal{L}(\\mathcal{J},r_a,r^{MLE}_0)$',fontsize=16)\n",
    "#plt.savefig('OM_J_ra_cont.png',dpi=300,format='png')"
   ]
  },
  {
   "cell_type": "markdown",
   "metadata": {},
   "source": [
    "Contour plot of $\\mathcal{L}(\\mathcal{J}^{MLE},r_a,r_0)$"
   ]
  },
  {
   "cell_type": "code",
   "execution_count": 112,
   "metadata": {
    "collapsed": true
   },
   "outputs": [],
   "source": [
    "ra_array = np.linspace(-2,4,100)\n",
    "r0_array = np.linspace(-2,3,100)"
   ]
  },
  {
   "cell_type": "code",
   "execution_count": 30,
   "metadata": {
    "collapsed": false
   },
   "outputs": [],
   "source": [
    "resr0ra = np.zeros(shape=(r0_array.size,ra_array.size))\n",
    "for i,r0 in enumerate(r0_array):\n",
    "    for j,ra in enumerate(ra_array):\n",
    "        resr0ra[i,j] = lh.compute(J_min,ra,r0)-minL"
   ]
  },
  {
   "cell_type": "code",
   "execution_count": 114,
   "metadata": {
    "collapsed": false
   },
   "outputs": [
    {
     "data": {
      "image/png": "[encoded data removed]",
      "text/plain": [
       "<matplotlib.figure.Figure at 0x7f351cb0a310>"
      ]
     },
     "metadata": {},
     "output_type": "display_data"
    }
   ],
   "source": [
    "plt.contour(ra_array, r0_array, resr0ra, levels=[0.2,0.5,2.,4.5], linewidths=2)\n",
    "plt.colorbar(c,format=ticker.FuncFormatter(fmt))\n",
    "plt.plot(J_ra,J_r0,'mo',label='best-fit')\n",
    "plt.plot(np.log10(ra_true),np.log10(r0_true), 'r*',label='true values')\n",
    "plt.xlabel(r'log$_{10}$ $r_a$ [kpc]',fontsize=14)\n",
    "plt.ylabel(r'log$_{10}$ $r_0$ [kpc]',fontsize=14)\n",
    "plt.legend(numpoints=1)\n",
    "plt.suptitle(r'$\\mathcal{L}(\\mathcal{J}^{MLE},r_a,r_0)$',fontsize=16)\n",
    "#plt.savefig('OM_ra_r0_cont.png',dpi=300,format='png')"
   ]
  },
  {
   "cell_type": "code",
   "execution_count": null,
   "metadata": {
    "collapsed": true
   },
   "outputs": [],
   "source": []
  }
 ],
 "metadata": {
  "kernelspec": {
   "display_name": "Python 2",
   "language": "python",
   "name": "python2"
  },
  "language_info": {
   "codemirror_mode": {
    "name": "ipython",
    "version": 2
   },
   "file_extension": ".py",
   "mimetype": "text/x-python",
   "name": "python",
   "nbconvert_exporter": "python",
   "pygments_lexer": "ipython2",
   "version": "2.7.6"
  }
 },
 "nbformat": 4,
 "nbformat_minor": 0
}
