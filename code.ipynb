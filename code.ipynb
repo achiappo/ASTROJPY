{
 "cells": [
  {
   "cell_type": "code",
   "execution_count": 1,
   "metadata": {
    "collapsed": false
   },
   "outputs": [],
   "source": [
    "from profiles import *\n",
    "from dispersion import SphericalJeansDispersion\n",
    "from likelihood import GaussianLikelihood\n",
    "from fitter import *\n",
    "from utils import *"
   ]
  },
  {
   "cell_type": "code",
   "execution_count": 2,
   "metadata": {
    "collapsed": true
   },
   "outputs": [],
   "source": [
    "homedir = '/home/andrea/Desktop/work/DWARF/Jvalue/project1/test/Isotrop_Core_nonPlum'\n",
    "MockSize = 100\n",
    "dataSize = 1000\n",
    "dset = 1\n",
    "# enter model choice - cf. casedir (options 1,2,3,4)\n",
    "mod = 1\n",
    "D = 100"
   ]
  },
  {
   "cell_type": "code",
   "execution_count": 3,
   "metadata": {
    "collapsed": false
   },
   "outputs": [
    {
     "name": "stdout",
     "output_type": "stream",
     "text": [
      "Using  /home/andrea/Desktop/work/DWARF/Jvalue/project1/test/Isotrop_Core_nonPlum/data/gs100_bs050_rcrs100_rarcinf_core_0400mpc3_df_1000_1.dat\n"
     ]
    }
   ],
   "source": [
    "data = load_gaia(homedir, MockSize, dataSize, dset, mod, D, True)"
   ]
  },
  {
   "cell_type": "code",
   "execution_count": 4,
   "metadata": {
    "collapsed": false
   },
   "outputs": [],
   "source": [
    "kinematic = data[0:3]\n",
    "rh = data[-3]\n",
    "r0_true = data[-2]\n",
    "rho0_true = data[-1]"
   ]
  },
  {
   "cell_type": "code",
   "execution_count": 5,
   "metadata": {
    "collapsed": false
   },
   "outputs": [],
   "source": [
    "dm = build_profile('nfw')\n",
    "st = build_profile('plummer',**{'c':1,'rh':rh})\n",
    "kr = build_kernel('iso')"
   ]
  },
  {
   "cell_type": "code",
   "execution_count": 6,
   "metadata": {
    "collapsed": false
   },
   "outputs": [],
   "source": [
    "Sigma = SphericalJeansDispersion(dm, st, kr)"
   ]
  },
  {
   "cell_type": "code",
   "execution_count": 7,
   "metadata": {
    "collapsed": false
   },
   "outputs": [
    {
     "data": {
      "text/plain": [
       "{'J': 18,\n",
       " 'dm_a': 1,\n",
       " 'dm_b': 3,\n",
       " 'dm_c': 1,\n",
       " 'dm_r0': 1,\n",
       " 'dm_rho0': 1,\n",
       " 'st_c': 1,\n",
       " 'st_rh': 1.0,\n",
       " 'st_rhoh': 1}"
      ]
     },
     "execution_count": 7,
     "metadata": {},
     "output_type": "execute_result"
    }
   ],
   "source": [
    "Sigma.params"
   ]
  },
  {
   "cell_type": "code",
   "execution_count": 8,
   "metadata": {
    "collapsed": false
   },
   "outputs": [],
   "source": [
    "LL = GaussianLikelihood(kinematic,Sigma)"
   ]
  },
  {
   "cell_type": "code",
   "execution_count": 9,
   "metadata": {
    "collapsed": false
   },
   "outputs": [
    {
     "data": {
      "text/plain": [
       "{'J': 18}"
      ]
     },
     "execution_count": 9,
     "metadata": {},
     "output_type": "execute_result"
    }
   ],
   "source": [
    "LL.free_pars"
   ]
  },
  {
   "cell_type": "code",
   "execution_count": 10,
   "metadata": {
    "collapsed": false
   },
   "outputs": [],
   "source": [
    "LL.set_free('dm_r0')"
   ]
  },
  {
   "cell_type": "code",
   "execution_count": 11,
   "metadata": {
    "collapsed": true
   },
   "outputs": [],
   "source": [
    "#global global_loglike\n",
    "global_loglike = LL\n",
    "M = MinuitFitter(LL)"
   ]
  },
  {
   "cell_type": "code",
   "execution_count": 12,
   "metadata": {
    "collapsed": false
   },
   "outputs": [
    {
     "data": {
      "text/plain": [
       "{'J': 18,\n",
       " 'dm_r0': 1,\n",
       " 'errordef': 0.5,\n",
       " 'fix_J': False,\n",
       " 'fix_dm_r0': False,\n",
       " 'pedantic': False,\n",
       " 'print_level': 0}"
      ]
     },
     "execution_count": 12,
     "metadata": {},
     "output_type": "execute_result"
    }
   ],
   "source": [
    "M.settings"
   ]
  },
  {
   "cell_type": "code",
   "execution_count": 13,
   "metadata": {
    "collapsed": false
   },
   "outputs": [],
   "source": [
    "M.set_error('dm_r0',0.01)\n",
    "M.set_error('J',0.01)\n",
    "M.set_bound('dm_r0',(kinematic[0].min(),kinematic[0].max()))\n",
    "M.set_bound('J',(17,20))"
   ]
  },
  {
   "cell_type": "code",
   "execution_count": 14,
   "metadata": {
    "collapsed": false
   },
   "outputs": [
    {
     "data": {
      "text/plain": [
       "{'J': 18,\n",
       " 'dm_r0': 1,\n",
       " 'error_J': 0.01,\n",
       " 'error_dm_r0': 0.01,\n",
       " 'errordef': 0.5,\n",
       " 'fix_J': False,\n",
       " 'fix_dm_r0': False,\n",
       " 'limit_J': (17, 20),\n",
       " 'limit_dm_r0': (0.044595899463964167, 18.75518886308533),\n",
       " 'pedantic': False,\n",
       " 'print_level': 0}"
      ]
     },
     "execution_count": 14,
     "metadata": {},
     "output_type": "execute_result"
    }
   ],
   "source": [
    "M.settings"
   ]
  },
  {
   "cell_type": "code",
   "execution_count": 15,
   "metadata": {
    "collapsed": false
   },
   "outputs": [
    {
     "name": "stderr",
     "output_type": "stream",
     "text": [
      "fitter.py:64: RuntimeWarning: Exception Occured \n",
      "fcn is called with following arguments:\n",
      "        J = +18.000000\n",
      "    dm_r0 = +1.000000\n",
      "\n",
      "  fitresult = minuit.migrad()\n"
     ]
    },
    {
     "ename": "TypeError",
     "evalue": "__call__() takes exactly 2 arguments (3 given)",
     "output_type": "error",
     "traceback": [
      "\u001b[1;31m---------------------------------------------------------------------------\u001b[0m",
      "\u001b[1;31mTypeError\u001b[0m                                 Traceback (most recent call last)",
      "\u001b[1;32m<ipython-input-15-39b829f0d86f>\u001b[0m in \u001b[0;36m<module>\u001b[1;34m()\u001b[0m\n\u001b[1;32m----> 1\u001b[1;33m \u001b[0mM\u001b[0m\u001b[1;33m.\u001b[0m\u001b[0mfit\u001b[0m\u001b[1;33m(\u001b[0m\u001b[1;33m)\u001b[0m\u001b[1;33m\u001b[0m\u001b[0m\n\u001b[0m",
      "\u001b[1;32m/home/andrea/Desktop/work/DWARF/ASTROJPY/fitter.pyc\u001b[0m in \u001b[0;36mfit\u001b[1;34m(self, **kwargs)\u001b[0m\n\u001b[0;32m     62\u001b[0m         \u001b[0mminuit\u001b[0m \u001b[1;33m=\u001b[0m \u001b[0mMinuit\u001b[0m\u001b[1;33m(\u001b[0m\u001b[0mfit_func\u001b[0m\u001b[1;33m,\u001b[0m \u001b[1;33m**\u001b[0m\u001b[0mself\u001b[0m\u001b[1;33m.\u001b[0m\u001b[0msettings\u001b[0m\u001b[1;33m)\u001b[0m\u001b[1;33m\u001b[0m\u001b[0m\n\u001b[0;32m     63\u001b[0m         \u001b[1;32mif\u001b[0m \u001b[1;34m'tol'\u001b[0m \u001b[1;32min\u001b[0m \u001b[0mkwargs\u001b[0m\u001b[1;33m:\u001b[0m \u001b[0mminuit\u001b[0m\u001b[1;33m.\u001b[0m\u001b[0mtol\u001b[0m \u001b[1;33m=\u001b[0m \u001b[0mkwargs\u001b[0m\u001b[1;33m[\u001b[0m\u001b[1;34m'tol'\u001b[0m\u001b[1;33m]\u001b[0m\u001b[1;33m\u001b[0m\u001b[0m\n\u001b[1;32m---> 64\u001b[1;33m         \u001b[0mfitresult\u001b[0m \u001b[1;33m=\u001b[0m \u001b[0mminuit\u001b[0m\u001b[1;33m.\u001b[0m\u001b[0mmigrad\u001b[0m\u001b[1;33m(\u001b[0m\u001b[1;33m)\u001b[0m\u001b[1;33m\u001b[0m\u001b[0m\n\u001b[0m\u001b[0;32m     65\u001b[0m         \u001b[1;32mreturn\u001b[0m \u001b[0mfitresult\u001b[0m\u001b[1;33m\u001b[0m\u001b[0m\n\u001b[0;32m     66\u001b[0m \u001b[1;33m\u001b[0m\u001b[0m\n",
      "\u001b[1;32miminuit/_libiminuit.pyx\u001b[0m in \u001b[0;36miminuit._libiminuit.Minuit.migrad (iminuit/_libiminuit.cpp:5250)\u001b[1;34m()\u001b[0m\n",
      "\u001b[1;32m/home/andrea/Desktop/work/DWARF/ASTROJPY/fitter.pyc\u001b[0m in \u001b[0;36m<lambda>\u001b[1;34m(J, dm_r0)\u001b[0m\n",
      "\u001b[1;31mTypeError\u001b[0m: __call__() takes exactly 2 arguments (3 given)"
     ]
    }
   ],
   "source": [
    "M.fit()"
   ]
  },
  {
   "cell_type": "code",
   "execution_count": null,
   "metadata": {
    "collapsed": true
   },
   "outputs": [],
   "source": []
  }
 ],
 "metadata": {
  "kernelspec": {
   "display_name": "Python 2",
   "language": "python",
   "name": "python2"
  },
  "language_info": {
   "codemirror_mode": {
    "name": "ipython",
    "version": 2
   },
   "file_extension": ".py",
   "mimetype": "text/x-python",
   "name": "python",
   "nbconvert_exporter": "python",
   "pygments_lexer": "ipython2",
   "version": "2.7.6"
  }
 },
 "nbformat": 4,
 "nbformat_minor": 0
}
