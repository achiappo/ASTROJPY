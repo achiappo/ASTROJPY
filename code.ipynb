{
 "cells": [
  {
   "cell_type": "code",
   "execution_count": 2,
   "metadata": {
    "collapsed": false
   },
   "outputs": [],
   "source": [
    "import numpy as np\n",
    "from profiles import *\n",
    "from dispersion import SphericalJeansDispersion\n",
    "from likelihood import GaussianLikelihood\n",
    "from fitter import MinuitFitter\n",
    "from utils import *"
   ]
  },
  {
   "cell_type": "code",
   "execution_count": 3,
   "metadata": {
    "collapsed": true
   },
   "outputs": [],
   "source": [
    "homedir = '/home/andrea/Desktop/work/DWARF/Jvalue/project1/test/Isotrop_Core_nonPlum'\n",
    "MockSize = 100\n",
    "dataSize = 1000\n",
    "dset = 1\n",
    "# enter model choice - cf. casedir (options 1,2,3,4)\n",
    "mod = 1\n",
    "theta = 0.5\n",
    "D = 100"
   ]
  },
  {
   "cell_type": "code",
   "execution_count": 4,
   "metadata": {
    "collapsed": false
   },
   "outputs": [
    {
     "name": "stdout",
     "output_type": "stream",
     "text": [
      "Using  /home/andrea/Desktop/work/DWARF/Jvalue/project1/test/Isotrop_Core_nonPlum/data/gs100_bs050_rcrs100_rarcinf_core_0400mpc3_df_1000_1.dat\n"
     ]
    }
   ],
   "source": [
    "data = load_gaia(homedir, MockSize, dataSize, dset, mod, D, True)"
   ]
  },
  {
   "cell_type": "code",
   "execution_count": 5,
   "metadata": {
    "collapsed": false
   },
   "outputs": [],
   "source": [
    "kinematic = data[0:3]\n",
    "rh = data[-3]\n",
    "r0_true = data[-2]\n",
    "rho0_true = data[-1]"
   ]
  },
  {
   "cell_type": "code",
   "execution_count": 6,
   "metadata": {
    "collapsed": false
   },
   "outputs": [],
   "source": [
    "dm = build_profile('nfw')\n",
    "st = build_profile('plummer',**{'c':1,'rh':rh})\n",
    "kr = build_kernel('iso')"
   ]
  },
  {
   "cell_type": "code",
   "execution_count": 7,
   "metadata": {
    "collapsed": false
   },
   "outputs": [],
   "source": [
    "dwarf_props = {'D':D,'theta':theta,'rt':np.inf,'errs':False}"
   ]
  },
  {
   "cell_type": "code",
   "execution_count": 8,
   "metadata": {
    "collapsed": false
   },
   "outputs": [],
   "source": [
    "Sigma = SphericalJeansDispersion(dm, st, kr,dwarf_props)"
   ]
  },
  {
   "cell_type": "code",
   "execution_count": 9,
   "metadata": {
    "collapsed": false
   },
   "outputs": [
    {
     "data": {
      "text/plain": [
       "{'J': 18,\n",
       " 'dm_a': 1,\n",
       " 'dm_b': 3,\n",
       " 'dm_c': 1,\n",
       " 'dm_r0': 1,\n",
       " 'dm_rho0': 1,\n",
       " 'st_c': 1,\n",
       " 'st_rh': 1.0,\n",
       " 'st_rhoh': 1}"
      ]
     },
     "execution_count": 9,
     "metadata": {},
     "output_type": "execute_result"
    }
   ],
   "source": [
    "Sigma.params"
   ]
  },
  {
   "cell_type": "code",
   "execution_count": 10,
   "metadata": {
    "collapsed": false
   },
   "outputs": [],
   "source": [
    "LL = GaussianLikelihood(kinematic, Sigma)"
   ]
  },
  {
   "cell_type": "code",
   "execution_count": 11,
   "metadata": {
    "collapsed": false
   },
   "outputs": [
    {
     "data": {
      "text/plain": [
       "{'J': 18}"
      ]
     },
     "execution_count": 11,
     "metadata": {},
     "output_type": "execute_result"
    }
   ],
   "source": [
    "LL.free_pars"
   ]
  },
  {
   "cell_type": "raw",
   "metadata": {
    "collapsed": false
   },
   "source": [
    "LL.set_free('dm_r0')"
   ]
  },
  {
   "cell_type": "code",
   "execution_count": 12,
   "metadata": {
    "collapsed": false
   },
   "outputs": [],
   "source": [
    "#global global_loglike\n",
    "global_loglike = LL\n",
    "M = MinuitFitter(LL)"
   ]
  },
  {
   "cell_type": "code",
   "execution_count": 13,
   "metadata": {
    "collapsed": false
   },
   "outputs": [
    {
     "data": {
      "text/plain": [
       "{'J': 18}"
      ]
     },
     "execution_count": 13,
     "metadata": {},
     "output_type": "execute_result"
    }
   ],
   "source": [
    "M.loglike.free_pars"
   ]
  },
  {
   "cell_type": "code",
   "execution_count": 13,
   "metadata": {
    "collapsed": false
   },
   "outputs": [
    {
     "data": {
      "text/plain": [
       "{'J': 18, 'errordef': 0.5, 'pedantic': False, 'print_level': 0}"
      ]
     },
     "execution_count": 13,
     "metadata": {},
     "output_type": "execute_result"
    }
   ],
   "source": [
    "M.settings"
   ]
  },
  {
   "cell_type": "code",
   "execution_count": 15,
   "metadata": {
    "collapsed": false
   },
   "outputs": [
    {
     "ename": "ValueError",
     "evalue": "J not a parameter of logLike function.\nThe parameters are ['st_rh', 'dm_r0', 'st_c', 'dm_a', 'dm_b', 'dm_c', 'dm_rho0', 'st_rhoh']",
     "output_type": "error",
     "traceback": [
      "\u001b[1;31m---------------------------------------------------------------------------\u001b[0m",
      "\u001b[1;31mValueError\u001b[0m                                Traceback (most recent call last)",
      "\u001b[1;32m<ipython-input-15-3f924aace639>\u001b[0m in \u001b[0;36m<module>\u001b[1;34m()\u001b[0m\n\u001b[0;32m      1\u001b[0m \u001b[1;31m#M.set_error('dm_r0',0.01)\u001b[0m\u001b[1;33m\u001b[0m\u001b[1;33m\u001b[0m\u001b[0m\n\u001b[1;32m----> 2\u001b[1;33m \u001b[0mM\u001b[0m\u001b[1;33m.\u001b[0m\u001b[0mset_error\u001b[0m\u001b[1;33m(\u001b[0m\u001b[1;34m'J'\u001b[0m\u001b[1;33m,\u001b[0m\u001b[1;36m0.01\u001b[0m\u001b[1;33m)\u001b[0m\u001b[1;33m\u001b[0m\u001b[0m\n\u001b[0m\u001b[0;32m      3\u001b[0m \u001b[1;31m#M.set_bound('dm_r0',(kinematic[0].min(),kinematic[0].max()))\u001b[0m\u001b[1;33m\u001b[0m\u001b[1;33m\u001b[0m\u001b[0m\n\u001b[0;32m      4\u001b[0m \u001b[0mM\u001b[0m\u001b[1;33m.\u001b[0m\u001b[0mset_bound\u001b[0m\u001b[1;33m(\u001b[0m\u001b[1;34m'J'\u001b[0m\u001b[1;33m,\u001b[0m\u001b[1;33m(\u001b[0m\u001b[1;36m17\u001b[0m\u001b[1;33m,\u001b[0m\u001b[1;36m20\u001b[0m\u001b[1;33m)\u001b[0m\u001b[1;33m)\u001b[0m\u001b[1;33m\u001b[0m\u001b[0m\n",
      "\u001b[1;32m/home/andrea/Desktop/work/DWARF/ASTROJPY/fitter.py\u001b[0m in \u001b[0;36mset_error\u001b[1;34m(self, par, value)\u001b[0m\n\u001b[0;32m     38\u001b[0m         \u001b[1;32mif\u001b[0m \u001b[0mpar\u001b[0m \u001b[1;32mnot\u001b[0m \u001b[1;32min\u001b[0m \u001b[0mself\u001b[0m\u001b[1;33m.\u001b[0m\u001b[0mloglike\u001b[0m\u001b[1;33m.\u001b[0m\u001b[0msigma\u001b[0m\u001b[1;33m.\u001b[0m\u001b[0mparams\u001b[0m\u001b[1;33m:\u001b[0m\u001b[1;33m\u001b[0m\u001b[0m\n\u001b[0;32m     39\u001b[0m             raise ValueError('%s not a parameter of logLike function.\\n'%par\\\n\u001b[1;32m---> 40\u001b[1;33m \t\t\t\t+'The parameters are %s'%self.loglike.sigma.params.keys())\n\u001b[0m\u001b[0;32m     41\u001b[0m         \u001b[1;32mif\u001b[0m \u001b[0mpar\u001b[0m \u001b[1;32mnot\u001b[0m \u001b[1;32min\u001b[0m \u001b[0mself\u001b[0m\u001b[1;33m.\u001b[0m\u001b[0mloglike\u001b[0m\u001b[1;33m.\u001b[0m\u001b[0mfree_pars\u001b[0m\u001b[1;33m:\u001b[0m\u001b[1;33m\u001b[0m\u001b[0m\n\u001b[0;32m     42\u001b[0m             raise ValueError('%s not a free parameter of logLike function.\\n'%par\\\n",
      "\u001b[1;31mValueError\u001b[0m: J not a parameter of logLike function.\nThe parameters are ['st_rh', 'dm_r0', 'st_c', 'dm_a', 'dm_b', 'dm_c', 'dm_rho0', 'st_rhoh']"
     ]
    }
   ],
   "source": [
    "#M.set_error('dm_r0',0.01)\n",
    "M.set_error('J',0.01)\n",
    "#M.set_bound('dm_r0',(kinematic[0].min(),kinematic[0].max()))\n",
    "M.set_bound('J',(17,20))"
   ]
  },
  {
   "cell_type": "code",
   "execution_count": 15,
   "metadata": {
    "collapsed": false
   },
   "outputs": [
    {
     "data": {
      "text/plain": [
       "{'J': 18,\n",
       " 'dm_r0': 1,\n",
       " 'error_J': 0.01,\n",
       " 'error_dm_r0': 0.01,\n",
       " 'errordef': 0.5,\n",
       " 'limit_J': (17, 20),\n",
       " 'limit_dm_r0': (0.077103885381996154, 5.4674701279476601),\n",
       " 'pedantic': False,\n",
       " 'print_level': 0}"
      ]
     },
     "execution_count": 15,
     "metadata": {},
     "output_type": "execute_result"
    }
   ],
   "source": [
    "M.settings"
   ]
  },
  {
   "cell_type": "code",
   "execution_count": 19,
   "metadata": {
    "collapsed": false
   },
   "outputs": [
    {
     "data": {
      "text/plain": [
       "<function fitter.<lambda>>"
      ]
     },
     "execution_count": 19,
     "metadata": {},
     "output_type": "execute_result"
    }
   ],
   "source": [
    "M.fit()"
   ]
  }
 ],
 "metadata": {
  "kernelspec": {
   "display_name": "Python 2",
   "language": "python",
   "name": "python2"
  },
  "language_info": {
   "codemirror_mode": {
    "name": "ipython",
    "version": 2
   },
   "file_extension": ".py",
   "mimetype": "text/x-python",
   "name": "python",
   "nbconvert_exporter": "python",
   "pygments_lexer": "ipython2",
   "version": "2.7.6"
  }
 },
 "nbformat": 4,
 "nbformat_minor": 0
}
