{
 "cells": [
  {
   "cell_type": "code",
   "execution_count": 1,
   "metadata": {
    "collapsed": false
   },
   "outputs": [],
   "source": [
    "import numpy as np\n",
    "from profiles import *\n",
    "from dispersion import SphericalJeansDispersion\n",
    "from likelihood import GaussianLikelihood\n",
    "from fitter import MinuitFitter\n",
    "from utils import *"
   ]
  },
  {
   "cell_type": "code",
   "execution_count": 2,
   "metadata": {
    "collapsed": true
   },
   "outputs": [],
   "source": [
    "homedir = '/home/andrea/Desktop/work/DWARF/Jvalue/project1/test/Isotrop_Core_nonPlum'\n",
    "MockSize = 100\n",
    "dataSize = 100\n",
    "dset = 1\n",
    "# enter model choice - cf. casedir (options 1,2,3,4)\n",
    "mod = 1\n",
    "theta = 0.5\n",
    "D = 100"
   ]
  },
  {
   "cell_type": "code",
   "execution_count": 3,
   "metadata": {
    "collapsed": false
   },
   "outputs": [
    {
     "name": "stdout",
     "output_type": "stream",
     "text": [
      "Using  /home/andrea/Desktop/work/DWARF/Jvalue/project1/test/Isotrop_Core_nonPlum/data/gs100_bs050_rcrs100_rarcinf_core_0400mpc3_df_100_1.dat\n"
     ]
    }
   ],
   "source": [
    "data = load_gaia(homedir, MockSize, dataSize, dset, mod, D, True)"
   ]
  },
  {
   "cell_type": "code",
   "execution_count": 4,
   "metadata": {
    "collapsed": false
   },
   "outputs": [],
   "source": [
    "kinematic = data[0:3]\n",
    "rh = data[-3]\n",
    "r0_true = data[-2]\n",
    "rho0_true = data[-1]"
   ]
  },
  {
   "cell_type": "code",
   "execution_count": 5,
   "metadata": {
    "collapsed": false
   },
   "outputs": [],
   "source": [
    "dm = build_profile('Zhao', a=1., b=3., c=0.) # Cored DM profile\n",
    "st = build_profile('plummer', **{'c':1, 'rh':rh}) # non-Plummer Stellar profile\n",
    "kr = build_kernel('iso') # isotropic kernel"
   ]
  },
  {
   "cell_type": "code",
   "execution_count": 6,
   "metadata": {
    "collapsed": false
   },
   "outputs": [],
   "source": [
    "dwarf_props = {'D':D, 'theta':theta, 'rt':np.inf, 'errs':False}"
   ]
  },
  {
   "cell_type": "code",
   "execution_count": 7,
   "metadata": {
    "collapsed": false
   },
   "outputs": [],
   "source": [
    "Sigma = SphericalJeansDispersion(dm, st, kr, dwarf_props)"
   ]
  },
  {
   "cell_type": "code",
   "execution_count": 14,
   "metadata": {
    "collapsed": true
   },
   "outputs": [],
   "source": [
    "Sigma.setparams('J',18)"
   ]
  },
  {
   "cell_type": "code",
   "execution_count": 17,
   "metadata": {
    "collapsed": false
   },
   "outputs": [
    {
     "data": {
      "text/plain": [
       "(array([ 125.07345048,  126.33781746,   98.62449137,  108.41014303,\n",
       "         124.97980662,  131.84653401,  122.15674626,  101.93149613,\n",
       "         126.72395753,  124.99511976,  128.97148996,  121.56725543,\n",
       "         130.02408589,  115.83871823,  125.04727143,  133.75298891,\n",
       "         133.2584394 ,  129.36873374,  124.24446845,  134.30586329,\n",
       "         132.12628682,  133.17992343,  125.29037699,  111.90774612,\n",
       "         133.56814546,  122.45850192,  133.16501631,   89.0443735 ,\n",
       "         118.68882639,  112.16715015,  116.44822271,  121.74682959,\n",
       "         113.49780282,  133.81150584,   79.25741214,  121.15764265,\n",
       "         120.85056589,  123.0542582 ,  111.79423719,  129.13116695,\n",
       "         117.58213704,  133.76432999,   74.48778791,  115.86822567,\n",
       "         125.92473467,  134.35607695,  119.50391914,  120.40859099,\n",
       "         122.72815049,  125.29193228,  107.29847241,  116.77138908,\n",
       "         131.77294582,  133.53882744,  110.5471952 ,  133.98152657,\n",
       "         118.85979527,  126.92948087,  132.4578881 ,  133.78326794,\n",
       "         134.33026184,  125.77529819,  123.863156  ,  128.61951245,\n",
       "          81.42618163,  121.64715843,  124.769143  ,  124.80454036,\n",
       "         129.40444866,  133.70602229,  104.96452243,  132.08731757,\n",
       "         113.86680537,  112.47868653,  125.80520634,  114.06148497,\n",
       "         109.94906781,   90.78705553,  101.80320192,  130.70470134,\n",
       "         118.1704928 ,  126.22420123,  125.10019293,  118.05955233,\n",
       "         128.40106812,  111.83488587,  129.61995341,  117.26234203,\n",
       "         128.99188997,   80.51986066,  132.12231523,  113.49882545,\n",
       "         133.31015586,  119.11486051,  131.27442329,  133.51540627,\n",
       "         134.18864726,  119.20241167,  133.88943565,  100.62020033]),\n",
       " array([  2.89260917e+00,   1.15138700e+01,   1.25108400e+00,\n",
       "          3.61562697e-01,   5.62890205e+00,   3.61431124e+00,\n",
       "          4.74215327e+00,   1.58782953e+00,   1.52857306e+01,\n",
       "          9.03925455e-01,   1.61152929e+00,   2.36744782e+01,\n",
       "          1.08867675e+00,   3.25566805e-01,   3.30456910e-02,\n",
       "          2.94801100e+00,   8.77747468e+00,   1.35619674e+00,\n",
       "          1.71490327e+01,   4.08501647e+00,   3.59944149e-01,\n",
       "          2.58040279e+01,   9.75550021e-01,   2.51977554e+00,\n",
       "          1.50165525e+00,   1.60613802e+00,   3.80257785e+00,\n",
       "          6.46740688e+00,   1.12609930e-01,   8.87184004e+00,\n",
       "          2.35212193e+01,   1.73018848e+00,   7.49447889e-02,\n",
       "          2.55714335e+00,   7.06249391e-01,   1.79394896e-01,\n",
       "          2.96465045e+01,   8.53637457e-01,   1.42950165e+01,\n",
       "          4.95125521e-03,   2.31691083e+00,   6.28480714e+00,\n",
       "          1.70260071e-01,   1.74853369e+00,   1.76014036e+00,\n",
       "          6.43408313e-02,   9.08677638e+00,   2.19833937e+00,\n",
       "          2.61127098e+00,   2.90250410e+00,   1.51635946e+00,\n",
       "          1.57812064e+00,   1.26823471e+00,   1.58804631e+00,\n",
       "          4.70743705e-01,   8.84364764e-01,   1.47979423e+01,\n",
       "          3.59507427e-01,   9.42219546e-01,   3.11230218e+00,\n",
       "          1.28870910e+00,   1.02286280e+00,   9.75273919e-01,\n",
       "          2.67699926e+00,   6.20199277e+00,   3.22465218e-01,\n",
       "          6.59695327e+00,   6.11386408e+00,   1.01628259e+00,\n",
       "          4.01647695e+00,   1.09647359e+00,   2.43144267e+00,\n",
       "          7.98486388e+00,   5.29954341e-02,   5.01005455e-01,\n",
       "          6.65296646e-01,   4.05884893e+00,   4.38118663e-01,\n",
       "          2.02903693e+01,   5.38611171e-02,   9.31189738e-01,\n",
       "          1.37419223e+00,   1.79531698e+00,   1.13583128e-01,\n",
       "          5.75327787e-01,   1.00062830e+01,   7.23460956e-02,\n",
       "          6.16401534e-01,   1.06593618e+01,   2.14815972e+01,\n",
       "          2.74178889e+00,   6.07193839e+00,   3.66943813e+00,\n",
       "          4.50324059e+00,   7.26408205e-03,   1.81852096e-03,\n",
       "          1.81137263e-01,   2.16283371e+00,   9.93591329e-01,\n",
       "          4.76373177e-01]))"
      ]
     },
     "execution_count": 17,
     "metadata": {},
     "output_type": "execute_result"
    }
   ],
   "source": [
    "Sigma.compute(kinematic[0]),kinematic[2]**2"
   ]
  },
  {
   "cell_type": "code",
   "execution_count": 8,
   "metadata": {
    "collapsed": true
   },
   "outputs": [],
   "source": [
    "LL = GaussianLikelihood(kinematic, Sigma)"
   ]
  },
  {
   "cell_type": "code",
   "execution_count": 9,
   "metadata": {
    "collapsed": true
   },
   "outputs": [],
   "source": [
    "LL.set_free('dm_r0')"
   ]
  },
  {
   "cell_type": "code",
   "execution_count": 10,
   "metadata": {
    "collapsed": true
   },
   "outputs": [],
   "source": [
    "global global_loglike\n",
    "global_loglike = LL\n",
    "M = MinuitFitter(LL)"
   ]
  },
  {
   "cell_type": "code",
   "execution_count": 11,
   "metadata": {
    "collapsed": true
   },
   "outputs": [],
   "source": [
    "M.set_value('J',19)\n",
    "M.set_value('dm_r0',rh/2.)\n",
    "M.set_error('J',0.01)\n",
    "M.set_bound('J',(15,22))\n",
    "M.set_error('dm_r0',0.01)\n",
    "M.set_bound('dm_r0',(kinematic[0].min(),kinematic[0].max()))\n",
    "M.settings['print_level'] = 1"
   ]
  },
  {
   "cell_type": "code",
   "execution_count": 12,
   "metadata": {
    "collapsed": true
   },
   "outputs": [],
   "source": [
    "M.set_free('dm_c')\n",
    "M.set_error('dm_c',0.01)\n",
    "M.set_bound('dm_c',(0.001,5))"
   ]
  },
  {
   "cell_type": "code",
   "execution_count": 13,
   "metadata": {
    "collapsed": false
   },
   "outputs": [
    {
     "data": {
      "text/plain": [
       "{'J': 18,\n",
       " 'dm_c': 0.0,\n",
       " 'dm_r0': 1,\n",
       " 'error_J': 0.01,\n",
       " 'error_dm_c': 0.01,\n",
       " 'error_dm_r0': 0.01,\n",
       " 'errordef': 0.5,\n",
       " 'limit_J': (15, 22),\n",
       " 'limit_dm_c': (0.001, 5),\n",
       " 'limit_dm_r0': (0.075304685777181218, 8.2368209066605313),\n",
       " 'pedantic': False,\n",
       " 'print_level': 1}"
      ]
     },
     "execution_count": 13,
     "metadata": {},
     "output_type": "execute_result"
    }
   ],
   "source": [
    "M.settings"
   ]
  },
  {
   "cell_type": "raw",
   "metadata": {},
   "source": [
    "M.fit()"
   ]
  }
 ],
 "metadata": {
  "kernelspec": {
   "display_name": "Python 2",
   "language": "python",
   "name": "python2"
  },
  "language_info": {
   "codemirror_mode": {
    "name": "ipython",
    "version": 2
   },
   "file_extension": ".py",
   "mimetype": "text/x-python",
   "name": "python",
   "nbconvert_exporter": "python",
   "pygments_lexer": "ipython2",
   "version": "2.7.6"
  }
 },
 "nbformat": 4,
 "nbformat_minor": 0
}
