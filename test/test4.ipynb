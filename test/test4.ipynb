{
 "cells": [
  {
   "cell_type": "code",
   "execution_count": 20,
   "metadata": {
    "collapsed": false
   },
   "outputs": [],
   "source": [
    "import yaml\n",
    "import numpy as np\n",
    "import pylab as plt\n",
    "from math import *\n",
    "from types import *\n",
    "from operator import itemgetter\n",
    "from inspect import getargspec\n",
    "from iminuit import Minuit,util\n",
    "%matplotlib inline"
   ]
  },
  {
   "cell_type": "code",
   "execution_count": 21,
   "metadata": {
    "collapsed": false
   },
   "outputs": [],
   "source": [
    "def f(x, a):\n",
    "    return np.tanh(x*a)\n",
    "\n",
    "def g(x, b):\n",
    "    return np.power(x,b)\n",
    "\n",
    "def h(x, c, d):\n",
    "    return x*c+d*np.cos(x)\n",
    "\n",
    "def j(x, e, f):\n",
    "    return e*np.power(x,f)"
   ]
  },
  {
   "cell_type": "code",
   "execution_count": 22,
   "metadata": {
    "collapsed": false
   },
   "outputs": [],
   "source": [
    "x_arr = np.linspace(-10,10)\n",
    "\n",
    "#plt.plot(x_arr,f(x_arr,2)*g(x_arr,3));\n",
    "#plt.plot(x_arr,f(x_arr,2)*h(x_arr,3,2));\n",
    "#plt.plot(x_arr,j(x_arr,2,1)*h(x_arr,3,2));"
   ]
  },
  {
   "cell_type": "code",
   "execution_count": 23,
   "metadata": {
    "collapsed": true
   },
   "outputs": [],
   "source": [
    "class loglike(object):\n",
    "    \"\"\" class to define the loglike. this takes a function f as argument,\n",
    "        extracts its signature, checks if the first argument is 'x' and \n",
    "        returns the loglike as a function of the remaining arguments \"\"\"\n",
    "    \n",
    "    def __init__(self, data, func):\n",
    "        self.data = data\n",
    "        self.func = func\n",
    "        self.arguments = {}\n",
    "        \n",
    "    def get_args(self):\n",
    "        signature = getargspec(self.func)[0]\n",
    "        if signature[0] == 'x':\n",
    "            for arg in signature[1:]:\n",
    "                self.arguments[arg] = 1. #fictious value\n",
    "                # next: extract info from config file and create two dictionaries,\n",
    "                # one for fixed variables in the fit -> add 'fixed_<variable>':True to dict\n",
    "                # one with free variables and assign initial guess value or fixed value, parsed from config file\n",
    "            return self.arguments\n",
    "        else:\n",
    "            raise ValueError, 'first argument should be \"x\"'\n",
    "    \n",
    "    def __call__(self, *freepars):\n",
    "        arguments = self.get_args().keys()\n",
    "        for i,freepar in enumerate(arguments):\n",
    "            self.get_args()[freepar] = freepars[i]\n",
    "        \n",
    "        is_tuple = isinstance(freepars, TupleType)\n",
    "        if is_tuple:\n",
    "            return sum((self.func(self.data[0],*freepars)- self.data[1])**2)\n",
    "        else:\n",
    "            return sum((self.func(self.data[0], freepars)- self.data[1])**2)"
   ]
  },
  {
   "cell_type": "code",
   "execution_count": 24,
   "metadata": {
    "collapsed": false
   },
   "outputs": [],
   "source": [
    "class MinuitFitter(object):\n",
    "    def __init__(self, loglike):\n",
    "        self.loglike = loglike\n",
    "        global_loglike = loglike\n",
    "        self.settings = {'errordef':0.5,'print_level':1,'pedantic':False}\n",
    "        \n",
    "    def sync(self):\n",
    "        for key,val in self.loglike.get_args().items():\n",
    "            self.settings[key] = 1.\n",
    "            self.settings['error_%s'%key] = 0.01\n",
    "        return self.settings\n",
    "        \n",
    "\n",
    "    def fit(self, **kwargs):\n",
    "        settings = self.sync()\n",
    "        freepars = self.loglike.get_args().keys()\n",
    "        strargs = \", \".join(freepars)\n",
    "        fit_func = eval(\"lambda {args} : global_loglike({args})\".format(args=strargs))\n",
    "        mm = Minuit(fit_func, **settings)\n",
    "        if 'tol' in kwargs: \n",
    "            mm.tol = kwargs['tol']\n",
    "        #return fit_func\n",
    "        fitresult = mm.migrad()\n",
    "        return fitresult\n",
    "\n"
   ]
  },
  {
   "cell_type": "code",
   "execution_count": 25,
   "metadata": {
    "collapsed": false
   },
   "outputs": [
    {
     "name": "stdout",
     "output_type": "stream",
     "text": [
      "{'pedantic': False, 'd': 1.0, 'c': 1.0, 'print_level': 1, 'errordef': 0.5, 'error_d': 0.01, 'error_c': 0.01}\n"
     ]
    },
    {
     "data": {
      "text/html": [
       "<hr>"
      ]
     },
     "metadata": {},
     "output_type": "display_data"
    },
    {
     "data": {
      "text/html": [
       "\n",
       "        <table>\n",
       "            <tr>\n",
       "                <td title=\"Minimum value of function\">FCN = 1.04831374749e-14</td>\n",
       "                <td title=\"Total number of call to FCN so far\">TOTAL NCALL = 28</td>\n",
       "                <td title=\"Number of call in last migrad\">NCALLS = 28</td>\n",
       "            </tr>\n",
       "            <tr>\n",
       "                <td title=\"Estimated distance to minimum\">EDM = 1.04831371523e-14</td>\n",
       "                <td title=\"Maximum EDM definition of convergence\">GOAL EDM = 5e-06</td>\n",
       "                <td title=\"Error def. Amount of increase in FCN to be defined as 1 standard deviation\">\n",
       "                UP = 0.5</td>\n",
       "            </tr>\n",
       "        </table>\n",
       "        \n",
       "        <table>\n",
       "            <tr>\n",
       "                <td align=\"center\" title=\"Validity of the migrad call\">Valid</td>\n",
       "                <td align=\"center\" title=\"Validity of parameters\">Valid Param</td>\n",
       "                <td align=\"center\" title=\"Is Covariance matrix accurate?\">Accurate Covar</td>\n",
       "                <td align=\"center\" title=\"Positive definiteness of covariance matrix\">PosDef</td>\n",
       "                <td align=\"center\" title=\"Was covariance matrix made posdef by adding diagonal element\">Made PosDef</td>\n",
       "            </tr>\n",
       "            <tr>\n",
       "                <td align=\"center\" style=\"background-color:#92CCA6\">True</td>\n",
       "                <td align=\"center\" style=\"background-color:#92CCA6\">True</td>\n",
       "                <td align=\"center\" style=\"background-color:#92CCA6\">True</td>\n",
       "                <td align=\"center\" style=\"background-color:#92CCA6\">True</td>\n",
       "                <td align=\"center\" style=\"background-color:#92CCA6\">False</td>\n",
       "            </tr>\n",
       "            <tr>\n",
       "                <td align=\"center\" title=\"Was last hesse call fail?\">Hesse Fail</td>\n",
       "                <td align=\"center\" title=\"Validity of covariance\">HasCov</td>\n",
       "                <td align=\"center\" title=\"Is EDM above goal EDM?\">Above EDM</td>\n",
       "                <td align=\"center\"></td>\n",
       "                <td align=\"center\" title=\"Did last migrad call reach max call limit?\">Reach calllim</td>\n",
       "            </tr>\n",
       "            <tr>\n",
       "                <td align=\"center\" style=\"background-color:#92CCA6\">False</td>\n",
       "                <td align=\"center\" style=\"background-color:#92CCA6\">True</td>\n",
       "                <td align=\"center\" style=\"background-color:#92CCA6\">False</td>\n",
       "                <td align=\"center\"></td>\n",
       "                <td align=\"center\" style=\"background-color:#92CCA6\">False</td>\n",
       "            </tr>\n",
       "        </table>\n",
       "        "
      ]
     },
     "metadata": {},
     "output_type": "display_data"
    },
    {
     "data": {
      "text/html": [
       "\n",
       "        <table>\n",
       "            <tr>\n",
       "                <td><a href=\"#\" onclick=\"$('#VuZspwgKFL').toggle()\">+</a></td>\n",
       "                <td title=\"Variable name\">Name</td>\n",
       "                <td title=\"Value of parameter\">Value</td>\n",
       "                <td title=\"Parabolic error\">Parab Error</td>\n",
       "                <td title=\"Minos lower error\">Minos Error-</td>\n",
       "                <td title=\"Minos upper error\">Minos Error+</td>\n",
       "                <td title=\"Lower limit of the parameter\">Limit-</td>\n",
       "                <td title=\"Upper limit of the parameter\">Limit+</td>\n",
       "                <td title=\"Is the parameter fixed in the fit\">FIXED</td>\n",
       "            </tr>\n",
       "        \n",
       "            <tr>\n",
       "                <td>1</td>\n",
       "                <td>c</td>\n",
       "                <td>3.000000e+00</td>\n",
       "                <td>1.697749e-02</td>\n",
       "                <td>0.000000e+00</td>\n",
       "                <td>0.000000e+00</td>\n",
       "                <td></td>\n",
       "                <td></td>\n",
       "                <td></td>\n",
       "            </tr>\n",
       "            \n",
       "            <tr>\n",
       "                <td>2</td>\n",
       "                <td>d</td>\n",
       "                <td>2.000000e+00</td>\n",
       "                <td>1.379879e-01</td>\n",
       "                <td>0.000000e+00</td>\n",
       "                <td>0.000000e+00</td>\n",
       "                <td></td>\n",
       "                <td></td>\n",
       "                <td></td>\n",
       "            </tr>\n",
       "            \n",
       "            </table>\n",
       "        \n",
       "            <pre id=\"VuZspwgKFL\" style=\"display:none;\">\n",
       "            <textarea rows=\"10\" cols=\"50\" onclick=\"this.select()\" readonly>\\begin{tabular}{|c|r|r|r|r|r|r|r|c|}\n",
       "\\hline\n",
       " & Name & Value & Para Error & Error+ & Error- & Limit+ & Limit- & FIXED\\\\\n",
       "\\hline\n",
       "1 & c & 3.000e+00 & 1.698e-02 &  &  &  &  & \\\\\n",
       "\\hline\n",
       "2 & d & 2.000e+00 & 1.380e-01 &  &  &  &  & \\\\\n",
       "\\hline\n",
       "\\end{tabular}</textarea>\n",
       "            </pre>\n",
       "            "
      ]
     },
     "metadata": {},
     "output_type": "display_data"
    },
    {
     "data": {
      "text/html": [
       "<hr>"
      ]
     },
     "metadata": {},
     "output_type": "display_data"
    },
    {
     "data": {
      "text/plain": [
       "({'hesse_failed': False, 'has_reached_call_limit': False, 'has_accurate_covar': True, 'has_posdef_covar': True, 'up': 0.5, 'edm': 1.0483137152280821e-14, 'is_valid': True, 'is_above_max_edm': False, 'has_covariance': True, 'has_made_posdef_covar': False, 'has_valid_parameters': True, 'fval': 1.048313747491732e-14, 'nfcn': 28},\n",
       " [{'is_const': False, 'name': 'c', 'has_limits': False, 'value': 2.9999999975622353, 'number': 0, 'has_lower_limit': False, 'upper_limit': 0.0, 'lower_limit': 0.0, 'has_upper_limit': False, 'error': 0.016977493752581632, 'is_fixed': False},\n",
       "  {'is_const': False, 'name': 'd', 'has_limits': False, 'value': 1.9999999974230729, 'number': 1, 'has_lower_limit': False, 'upper_limit': 0.0, 'lower_limit': 0.0, 'has_upper_limit': False, 'error': 0.13798790064135202, 'is_fixed': False}])"
      ]
     },
     "execution_count": 25,
     "metadata": {},
     "output_type": "execute_result"
    }
   ],
   "source": [
    "c_true = 3\n",
    "d_true = 2\n",
    "y_arr = h(x_arr, c_true, d_true)\n",
    "LL = loglike((x_arr, y_arr),h)\n",
    "\n",
    "global global_loglike\n",
    "global_loglike = LL\n",
    "\n",
    "m = MinuitFitter(LL)\n",
    "m.sync()\n",
    "print m.settings\n",
    "m.fit()"
   ]
  },
  {
   "cell_type": "code",
   "execution_count": 26,
   "metadata": {
    "collapsed": false
   },
   "outputs": [
    {
     "data": {
      "text/html": [
       "<hr>"
      ]
     },
     "metadata": {},
     "output_type": "display_data"
    },
    {
     "data": {
      "text/html": [
       "\n",
       "        <table>\n",
       "            <tr>\n",
       "                <td title=\"Minimum value of function\">FCN = 3.76340321183e-15</td>\n",
       "                <td title=\"Total number of call to FCN so far\">TOTAL NCALL = 28</td>\n",
       "                <td title=\"Number of call in last migrad\">NCALLS = 28</td>\n",
       "            </tr>\n",
       "            <tr>\n",
       "                <td title=\"Estimated distance to minimum\">EDM = 3.76340314841e-15</td>\n",
       "                <td title=\"Maximum EDM definition of convergence\">GOAL EDM = 5e-06</td>\n",
       "                <td title=\"Error def. Amount of increase in FCN to be defined as 1 standard deviation\">\n",
       "                UP = 0.5</td>\n",
       "            </tr>\n",
       "        </table>\n",
       "        \n",
       "        <table>\n",
       "            <tr>\n",
       "                <td align=\"center\" title=\"Validity of the migrad call\">Valid</td>\n",
       "                <td align=\"center\" title=\"Validity of parameters\">Valid Param</td>\n",
       "                <td align=\"center\" title=\"Is Covariance matrix accurate?\">Accurate Covar</td>\n",
       "                <td align=\"center\" title=\"Positive definiteness of covariance matrix\">PosDef</td>\n",
       "                <td align=\"center\" title=\"Was covariance matrix made posdef by adding diagonal element\">Made PosDef</td>\n",
       "            </tr>\n",
       "            <tr>\n",
       "                <td align=\"center\" style=\"background-color:#92CCA6\">True</td>\n",
       "                <td align=\"center\" style=\"background-color:#92CCA6\">True</td>\n",
       "                <td align=\"center\" style=\"background-color:#92CCA6\">True</td>\n",
       "                <td align=\"center\" style=\"background-color:#92CCA6\">True</td>\n",
       "                <td align=\"center\" style=\"background-color:#92CCA6\">False</td>\n",
       "            </tr>\n",
       "            <tr>\n",
       "                <td align=\"center\" title=\"Was last hesse call fail?\">Hesse Fail</td>\n",
       "                <td align=\"center\" title=\"Validity of covariance\">HasCov</td>\n",
       "                <td align=\"center\" title=\"Is EDM above goal EDM?\">Above EDM</td>\n",
       "                <td align=\"center\"></td>\n",
       "                <td align=\"center\" title=\"Did last migrad call reach max call limit?\">Reach calllim</td>\n",
       "            </tr>\n",
       "            <tr>\n",
       "                <td align=\"center\" style=\"background-color:#92CCA6\">False</td>\n",
       "                <td align=\"center\" style=\"background-color:#92CCA6\">True</td>\n",
       "                <td align=\"center\" style=\"background-color:#92CCA6\">False</td>\n",
       "                <td align=\"center\"></td>\n",
       "                <td align=\"center\" style=\"background-color:#92CCA6\">False</td>\n",
       "            </tr>\n",
       "        </table>\n",
       "        "
      ]
     },
     "metadata": {},
     "output_type": "display_data"
    },
    {
     "data": {
      "text/html": [
       "\n",
       "        <table>\n",
       "            <tr>\n",
       "                <td><a href=\"#\" onclick=\"$('#MwuVwAWFxo').toggle()\">+</a></td>\n",
       "                <td title=\"Variable name\">Name</td>\n",
       "                <td title=\"Value of parameter\">Value</td>\n",
       "                <td title=\"Parabolic error\">Parab Error</td>\n",
       "                <td title=\"Minos lower error\">Minos Error-</td>\n",
       "                <td title=\"Minos upper error\">Minos Error+</td>\n",
       "                <td title=\"Lower limit of the parameter\">Limit-</td>\n",
       "                <td title=\"Upper limit of the parameter\">Limit+</td>\n",
       "                <td title=\"Is the parameter fixed in the fit\">FIXED</td>\n",
       "            </tr>\n",
       "        \n",
       "            <tr>\n",
       "                <td>1</td>\n",
       "                <td>c</td>\n",
       "                <td>3.000000e+00</td>\n",
       "                <td>1.697749e-02</td>\n",
       "                <td>0.000000e+00</td>\n",
       "                <td>0.000000e+00</td>\n",
       "                <td></td>\n",
       "                <td></td>\n",
       "                <td></td>\n",
       "            </tr>\n",
       "            \n",
       "            <tr>\n",
       "                <td>2</td>\n",
       "                <td>d</td>\n",
       "                <td>2.000000e+00</td>\n",
       "                <td>1.379879e-01</td>\n",
       "                <td>0.000000e+00</td>\n",
       "                <td>0.000000e+00</td>\n",
       "                <td></td>\n",
       "                <td></td>\n",
       "                <td></td>\n",
       "            </tr>\n",
       "            \n",
       "            </table>\n",
       "        \n",
       "            <pre id=\"MwuVwAWFxo\" style=\"display:none;\">\n",
       "            <textarea rows=\"10\" cols=\"50\" onclick=\"this.select()\" readonly>\\begin{tabular}{|c|r|r|r|r|r|r|r|c|}\n",
       "\\hline\n",
       " & Name & Value & Para Error & Error+ & Error- & Limit+ & Limit- & FIXED\\\\\n",
       "\\hline\n",
       "1 & c & 3.000e+00 & 1.698e-02 &  &  &  &  & \\\\\n",
       "\\hline\n",
       "2 & d & 2.000e+00 & 1.380e-01 &  &  &  &  & \\\\\n",
       "\\hline\n",
       "\\end{tabular}</textarea>\n",
       "            </pre>\n",
       "            "
      ]
     },
     "metadata": {},
     "output_type": "display_data"
    },
    {
     "data": {
      "text/html": [
       "<hr>"
      ]
     },
     "metadata": {},
     "output_type": "display_data"
    },
    {
     "data": {
      "text/plain": [
       "({'hesse_failed': False, 'has_reached_call_limit': False, 'has_accurate_covar': True, 'has_posdef_covar': True, 'up': 0.5, 'edm': 3.763403148411169e-15, 'is_valid': True, 'is_above_max_edm': False, 'has_covariance': True, 'has_made_posdef_covar': False, 'has_valid_parameters': True, 'fval': 3.763403211834842e-15, 'nfcn': 28},\n",
       " [{'is_const': False, 'name': 'c', 'has_limits': False, 'value': 2.9999999985286268, 'number': 0, 'has_lower_limit': False, 'upper_limit': 0.0, 'lower_limit': 0.0, 'has_upper_limit': False, 'error': 0.016977493752926568, 'is_fixed': False},\n",
       "  {'is_const': False, 'name': 'd', 'has_limits': False, 'value': 2.000000000548371, 'number': 1, 'has_lower_limit': False, 'upper_limit': 0.0, 'lower_limit': 0.0, 'has_upper_limit': False, 'error': 0.1379879006416467, 'is_fixed': False}])"
      ]
     },
     "execution_count": 26,
     "metadata": {},
     "output_type": "execute_result"
    }
   ],
   "source": [
    "c_true = 3\n",
    "d_true = 2\n",
    "y_arr = h(x_arr, c_true, d_true)\n",
    "settings = {'c': 1.0, 'd': 1.0, 'print_level': 1, 'pedantic': False, 'error_c': 0.01, 'error_d': 0.01, 'errordef': 0.5}\n",
    "def proxy_func(c, d):\n",
    "    return np.sum((h(x_arr, c, d)-y_arr)**2)\n",
    "m = Minuit(proxy_func, **settings)\n",
    "m.migrad()"
   ]
  }
 ],
 "metadata": {
  "kernelspec": {
   "display_name": "Python 2",
   "language": "python",
   "name": "python2"
  },
  "language_info": {
   "codemirror_mode": {
    "name": "ipython",
    "version": 2
   },
   "file_extension": ".py",
   "mimetype": "text/x-python",
   "name": "python",
   "nbconvert_exporter": "python",
   "pygments_lexer": "ipython2",
   "version": "2.7.6"
  }
 },
 "nbformat": 4,
 "nbformat_minor": 0
}
