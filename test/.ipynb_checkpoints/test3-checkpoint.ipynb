{
 "cells": [
  {
   "cell_type": "code",
   "execution_count": 7,
   "metadata": {
    "collapsed": true
   },
   "outputs": [],
   "source": [
    "import numpy as np\n",
    "from types import *\n",
    "from math import *\n",
    "from operator import itemgetter\n",
    "from inspect import getargspec\n",
    "from decorator import FunctionMaker as FM"
   ]
  },
  {
   "cell_type": "code",
   "execution_count": 3,
   "metadata": {
    "collapsed": true
   },
   "outputs": [],
   "source": [
    "def f(x, a):\n",
    "    return np.tanh(x*a)"
   ]
  },
  {
   "cell_type": "code",
   "execution_count": 4,
   "metadata": {
    "collapsed": true
   },
   "outputs": [],
   "source": [
    "class loglike(object):\n",
    "    def __init__(self, data, func):\n",
    "        self.data = data\n",
    "        self.func = func\n",
    "        \n",
    "    def get_args(self):\n",
    "        signature = getargspec(self.func)[0]\n",
    "        arguments = {}\n",
    "        if signature[0] == 'x':\n",
    "            for arg in signature[1:]:\n",
    "                arguments[arg] = 1.\n",
    "            return arguments\n",
    "        else:\n",
    "            raise ValueError, 'wrong labelling of first argument should be \"x\"'\n",
    "    \n",
    "    def __call__(self, **kwargs):\n",
    "        arguments = self.get_args().keys()\n",
    "        args = itemgetter(*arguments)(kwargs)\n",
    "        is_tuple = isinstance(args, TupleType)\n",
    "        if is_tuple:\n",
    "            return self.func(self.data,*args).sum()\n",
    "        else:\n",
    "            return self.func(self.data,args).sum()"
   ]
  },
  {
   "cell_type": "code",
   "execution_count": 10,
   "metadata": {
    "collapsed": false
   },
   "outputs": [
    {
     "name": "stdout",
     "output_type": "stream",
     "text": [
      "{'a': 1.0}\n"
     ]
    },
    {
     "data": {
      "text/plain": [
       "(0.0, -8.8817841970012523e-16)"
      ]
     },
     "execution_count": 10,
     "metadata": {},
     "output_type": "execute_result"
    }
   ],
   "source": [
    "x_arr = np.linspace(-10,10)\n",
    "F = loglike(x_arr,f)\n",
    "print F.get_args()\n",
    "F(**F.get_args()),F(a=2)"
   ]
  },
  {
   "cell_type": "code",
   "execution_count": 15,
   "metadata": {
    "collapsed": false
   },
   "outputs": [
    {
     "name": "stdout",
     "output_type": "stream",
     "text": [
      "F(a = 1.)\n",
      "new_func(a)\n"
     ]
    }
   ],
   "source": [
    "print ('F('+\", \".join([\"%s = 1.\"] * len(F.get_args()))+')') % tuple(F.get_args())\n",
    "print ('new_func('+\", \".join([\"%s\"] * len(F.get_args()))+')') % tuple(F.get_args())"
   ]
  },
  {
   "cell_type": "code",
   "execution_count": 28,
   "metadata": {
    "collapsed": false
   },
   "outputs": [],
   "source": [
    "new_funcF = FM.create(('new_func('+\", \".join([\"%s\"] * len(F.get_args()))+')') % tuple(F.get_args()),\n",
    "                     ('F('+\", \".join([\"%s = 1.\"] * len(F.get_args()))+')') % tuple(F.get_args()),dict(F=F))"
   ]
  },
  {
   "cell_type": "code",
   "execution_count": 29,
   "metadata": {
    "collapsed": false
   },
   "outputs": [
    {
     "name": "stdout",
     "output_type": "stream",
     "text": [
      "None\n"
     ]
    }
   ],
   "source": [
    "print new_funcF(1)"
   ]
  }
 ],
 "metadata": {
  "kernelspec": {
   "display_name": "Python 2",
   "language": "python",
   "name": "python2"
  },
  "language_info": {
   "codemirror_mode": {
    "name": "ipython",
    "version": 2
   },
   "file_extension": ".py",
   "mimetype": "text/x-python",
   "name": "python",
   "nbconvert_exporter": "python",
   "pygments_lexer": "ipython2",
   "version": "2.7.6"
  }
 },
 "nbformat": 4,
 "nbformat_minor": 0
}
