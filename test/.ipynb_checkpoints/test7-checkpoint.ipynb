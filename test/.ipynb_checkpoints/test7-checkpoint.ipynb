{
 "cells": [
  {
   "cell_type": "markdown",
   "metadata": {},
   "source": [
    "## Exemplifying notebook"
   ]
  },
  {
   "cell_type": "code",
   "execution_count": 22,
   "metadata": {
    "collapsed": false
   },
   "outputs": [],
   "source": [
    "import yaml\n",
    "import itertools\n",
    "import numpy as np\n",
    "import pylab as plt\n",
    "from math import *\n",
    "from types import *\n",
    "from operator import itemgetter\n",
    "from scipy.special import hyp2f1\n",
    "from inspect import getargspec\n",
    "from iminuit import Minuit,util\n",
    "%matplotlib inline"
   ]
  },
  {
   "cell_type": "markdown",
   "metadata": {},
   "source": [
    "Below, the *ParseConfig* function returns a dictionary containing the name of the profile and its corresponding parameter values  \n",
    "So config could contain an element named *'dm'* with subelement *'name':NFW* and *'r0':2*"
   ]
  },
  {
   "cell_type": "code",
   "execution_count": null,
   "metadata": {
    "collapsed": true
   },
   "outputs": [],
   "source": [
    "dm = ParseProfile(config,'dm')\n",
    "st = ParseProfile(config,'st')\n",
    "kr = ParseProfile(config,'kr')"
   ]
  },
  {
   "cell_type": "raw",
   "metadata": {},
   "source": [
    "#alternatively\n",
    "profiles = {}\n",
    "for pr in ['dm','st','kr']:\n",
    "    profiles[pr] = ParseProfile(config,pr)"
   ]
  },
  {
   "cell_type": "code",
   "execution_count": 44,
   "metadata": {
    "collapsed": true
   },
   "outputs": [],
   "source": [
    "cst = 8.*np.pi*4.3e-6\n",
    "class SigmaLOS(object):\n",
    "    def __init__(self, dm, st, kr):\n",
    "        # with this syntax, the class is instantiated \n",
    "        # with a precise and fixed sequence of profiles\n",
    "        self.dm = build_profile(**dm)\n",
    "        self.st = build_profile(**st)\n",
    "        self.kr = build_kernel(**kr)\n",
    "    \n",
    "    # alternatively (refers to the commented cell above)\n",
    "    #def __init__(self, profiles):\n",
    "    #    self.dm = build_profile(**profiles['dm'])\n",
    "    #    self.st = build_profile(**profiles['st'])\n",
    "    #    self.kr = build_kernel(**profiles['kr'])\n",
    "    # this syntax allows more freedom in how the class is instantiated\n",
    "        \n",
    "    def integrand(self, x, gamma, alpha):\n",
    "        return self.kr(x/gamma) * self.st.density(x) * self.dm.mass(x*alpha) / x\n",
    "    \n",
    "    def __call__(self, R, **free_params):\n",
    "        self.dm.__dict__.update(**free_params)\n",
    "        self.st.__dict__.update(**free_params)\n",
    "        self.kr.__dict__.update(**free_params)\n",
    "        gamma = R/self.st.rh\n",
    "        alpha = self.st.rh/self.dm.r0\n",
    "        integral = quad(self.integrand, gamma, np.inf, args=(gamma,alpha))\n",
    "        return cst*integral[0]/self.st.surface_brightness(gamma)"
   ]
  },
  {
   "cell_type": "markdown",
   "metadata": {},
   "source": [
    "The *integrand* and *call* method of the class above refer to the following calculation of $\\sigma^2_{l.o.s.}$ (by Mamom and Lokas):\n",
    "\\begin{equation}\n",
    "\\sigma^2_{l.o.s.}(R) = \\frac{2 G}{I(R)} \\int^\\infty_\\gamma K\\left(\\frac{x}{\\gamma},\\frac{\\delta}{\\gamma},\\beta\\right) \\nu(x) M(x \\alpha) \\frac{dx}{x}\n",
    "\\end{equation}\n",
    "where\n",
    "\\begin{equation}\n",
    "\\alpha = \\frac{r_h}{r_0} \\quad , \\quad \\gamma = \\frac{R}{r_h} \\quad , \\quad \\delta = \\frac{r_a}{r_h}\n",
    "\\end{equation}\n",
    "These variable transformations ensure that the newly defined quantities, and thus the integral, are dimensionless."
   ]
  },
  {
   "cell_type": "code",
   "execution_count": null,
   "metadata": {
    "collapsed": true
   },
   "outputs": [],
   "source": [
    "class loglike(object):    \n",
    "    def __init__(self, data, sigma, like='Gauss'):\n",
    "        self.R = data[0]\n",
    "        self.v = data[1]\n",
    "        self.dv = data[2]\n",
    "        self.sigma = sigma\n",
    "        self.like = like\n",
    "    \n",
    "    def GaussLike(self, **params):\n",
    "        term1 = 0.5*np.power(self.v-self.v.mean(),2) / (self.sigma(self.R, **params))\n",
    "        term2 = np.log(self.sigma(*params) + self.dv**2)\n",
    "        return (term1 + term2).sum()\n",
    "    \n",
    "    def __call__(self, **freepars):\n",
    "        if self.like=='Gauss':\n",
    "            return self.GaussLike(**freepars)"
   ]
  },
  {
   "cell_type": "markdown",
   "metadata": {},
   "source": [
    "When the *loglike* class is instantiated, an instance of the *SigmaLOS* is created. In turn, instances of the three terms entering the $\\sigma^2_{l.o.s}$ are created. So when the flow should be:  \n",
    "- an instance of *loglike* is called by the minimiser with a new set of free parameters, eg. `LL = loglike(data, SigmaLOS(dm,st,kr))`  \n",
    "- this calls the loglikelihood function (defaulted to *Gaussian* here), eg. `LL(freeparams)`  \n",
    "- the instance of the *SigmaLOS* is called with the new parameters  \n",
    "- the internal dictionaries of *dark matter*, *stellar* and *kernel* functions instances are updated  \n",
    "- the integral is calculated for the new parameters and the results returned"
   ]
  },
  {
   "cell_type": "code",
   "execution_count": null,
   "metadata": {
    "collapsed": true
   },
   "outputs": [],
   "source": []
  }
 ],
 "metadata": {
  "kernelspec": {
   "display_name": "Python 2",
   "language": "python",
   "name": "python2"
  },
  "language_info": {
   "codemirror_mode": {
    "name": "ipython",
    "version": 2
   },
   "file_extension": ".py",
   "mimetype": "text/x-python",
   "name": "python",
   "nbconvert_exporter": "python",
   "pygments_lexer": "ipython2",
   "version": "2.7.6"
  }
 },
 "nbformat": 4,
 "nbformat_minor": 0
}
