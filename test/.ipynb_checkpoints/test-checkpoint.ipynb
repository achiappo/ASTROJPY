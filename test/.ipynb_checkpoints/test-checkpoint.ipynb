{
 "cells": [
  {
   "cell_type": "code",
   "execution_count": 1,
   "metadata": {
    "collapsed": false
   },
   "outputs": [],
   "source": [
    "import yaml\n",
    "import numpy as np\n",
    "import pylab as plt\n",
    "from math import *\n",
    "from types import *\n",
    "from operator import itemgetter\n",
    "from inspect import getargspec\n",
    "from iminuit import Minuit,util\n",
    "%matplotlib inline"
   ]
  },
  {
   "cell_type": "markdown",
   "metadata": {},
   "source": [
    "As an exercise, I try to build an object that takes any two functions $f(x, a)$ and $g(x, b)$ and minimizes their products. The parameters $a$ and $b$ should not be hardcode.  \n",
    "Below, I write some example functions, all depending on $x$ plus additional, different parameter(s): $a, b, c, d, e, f, ...$"
   ]
  },
  {
   "cell_type": "code",
   "execution_count": 2,
   "metadata": {
    "collapsed": false
   },
   "outputs": [],
   "source": [
    "def f(x, a):\n",
    "    return np.tanh(x*a)\n",
    "\n",
    "def g(x, b):\n",
    "    return np.power(x,b)\n",
    "\n",
    "def h(x, c, d):\n",
    "    return x*c+np.cos(x)\n",
    "\n",
    "def j(x, e, f):\n",
    "    return e*np.power(x,f)"
   ]
  },
  {
   "cell_type": "markdown",
   "metadata": {},
   "source": [
    "I plot the behaviour of the product $f(x, 2) g(x, 3)$"
   ]
  },
  {
   "cell_type": "code",
   "execution_count": 3,
   "metadata": {
    "collapsed": false
   },
   "outputs": [
    {
     "data": {
      "image/png": "[encoded data removed]",
      "text/plain": [
       "<matplotlib.figure.Figure at 0x7f614b072510>"
      ]
     },
     "metadata": {},
     "output_type": "display_data"
    }
   ],
   "source": [
    "x_arr = np.linspace(-10,10)\n",
    "plt.plot(x_arr,f(x_arr,2)*g(x_arr,3));\n",
    "#plt.plot(x_arr,f(x_arr,2)*h(x_arr,3,2));\n",
    "#plt.plot(x_arr,j(x_arr,2,1)*h(x_arr,3,2));"
   ]
  },
  {
   "cell_type": "markdown",
   "metadata": {},
   "source": [
    "Given that in a likelihood minimisation the function object already contains the data and is a function of the free parameters only, I create a class.  \n",
    "\n",
    "When an object is istantiated, the two external functions (eg. f,g) and their signature are saved as class variables. This way, their parameters need not be hardcoded"
   ]
  },
  {
   "cell_type": "raw",
   "metadata": {
    "collapsed": true
   },
   "source": [
    "class func_def(object):\n",
    "    def __init__(self, data, *args):\n",
    "        self.data = data\n",
    "        self.func_a = args[0]\n",
    "        self.func_b = args[1]\n",
    "        self.arg_a = getargspec(self.func_a)[0][1:]\n",
    "        self.arg_b = getargspec(self.func_b)[0][1:]\n",
    "        self.params = list(set(self.arg_a)|set(self.arg_b))\n",
    "    \n",
    "    def __call__(self, **kwargs):\n",
    "        arg_a = itemgetter(*self.arg_a)(kwargs)\n",
    "        arg_b = itemgetter(*self.arg_b)(kwargs)\n",
    "        is_arg_a_tpl = isinstance(arg_a, TupleType)\n",
    "        is_arg_b_tpl = isinstance(arg_b, TupleType)\n",
    "        \n",
    "        if is_arg_a_tpl and is_arg_b_tpl:\n",
    "            term1 = self.func_a(self.data,*arg_a)\n",
    "            term2 = self.func_b(self.data,*arg_b)\n",
    "            return sum(term1 * term2)\n",
    "        \n",
    "        elif not is_arg_a_tpl and is_arg_b_tpl:\n",
    "            term1 = self.func_a(self.data,arg_a)\n",
    "            term2 = self.func_b(self.data,*arg_b)\n",
    "            return sum(term1 * term2)\n",
    "        \n",
    "        elif is_arg_a_tpl and not is_arg_b_tpl:\n",
    "            term1 = self.func_a(self.data,*arg_a)\n",
    "            term2 = self.func_b(self.data,arg_b)\n",
    "            return sum(term1 * term2)\n",
    "        \n",
    "        elif not is_arg_a_tpl and not is_arg_b_tpl:\n",
    "            term1 = self.func_a(self.data,arg_a)\n",
    "            term2 = self.func_b(self.data,arg_b)\n",
    "            return sum(term1 * term2)"
   ]
  },
  {
   "cell_type": "markdown",
   "metadata": {},
   "source": [
    "Problem: in the definition of the class variables *self.arg_a* and *self.arg_b*, it is assumed that the first variable corresponds to the data  \n",
    "\n",
    "There is a long set of conditional statements. These are necessary to unpack correctly the arguments lists of the two function.  \n",
    "An alternative would be include the *x* argument into such lists, so by writing *self.arg_a = getargspec(self.func_a)[0]* in the *init* method but then the *call* method would require calling the function object with *x* argument too, unless I modify *arg_a = itemgetter(* **self.arg_a)(kwargs)*\n",
    "\n",
    "Below I initiate various objects containing the data array and any two of the functions defined above, whose product shuold be minimised."
   ]
  },
  {
   "cell_type": "raw",
   "metadata": {},
   "source": [
    "F = func_def(x_arr,f,g)\n",
    "F(a=1,b=3)"
   ]
  },
  {
   "cell_type": "raw",
   "metadata": {},
   "source": [
    "G = func_def(x_arr,f,h)\n",
    "G(a=1,c=3,d=4)"
   ]
  },
  {
   "cell_type": "raw",
   "metadata": {},
   "source": [
    "H = func_def(x_arr,h,g)\n",
    "H(c=1,d=2,b=3)"
   ]
  },
  {
   "cell_type": "raw",
   "metadata": {
    "collapsed": true
   },
   "source": [
    "J = func_def(x_arr,h,j)\n",
    "J(c=1,d=2,e=3,f=4)"
   ]
  },
  {
   "cell_type": "markdown",
   "metadata": {},
   "source": [
    "Problem: how can I evaluate the function object with arguments the free arguments of the included functions?"
   ]
  },
  {
   "cell_type": "raw",
   "metadata": {},
   "source": [
    "#----------------------------2nd trial----------------------------"
   ]
  },
  {
   "cell_type": "markdown",
   "metadata": {},
   "source": [
    "Below I build a (*loglike*) class with the following methods:  \n",
    "- *init* : reads a data array and a generic function (*func*) and saves both in internal variables  \n",
    "- *get_params* : extracts the signature of *func* - provided the first argument is *x* (the variable) - and saves the parameter names into a dictionary\n",
    "- *call* : the sum of *func* evaluated at all *data* points, as a function of the parameters of *func*  \n",
    "\n",
    "Constructed this way, an instance of the class *loglike* is callable with keyword arguments corresponding to the parameters of *func*"
   ]
  },
  {
   "cell_type": "raw",
   "metadata": {
    "collapsed": true
   },
   "source": [
    "class loglike(object):\n",
    "    \"\"\" class to define the loglike. this takes a function f as argument,\n",
    "        extracts its signature, checks if the first argument is 'x' and \n",
    "        returns the loglike as a function of the remaining arguments \"\"\"\n",
    "    \n",
    "    def __init__(self, data, func):\n",
    "        self.data = data\n",
    "        self.func = func\n",
    "        \n",
    "    def get_args(self):\n",
    "        signature = getargspec(self.func)[0]\n",
    "        arguments = {}\n",
    "        if signature[0] == 'x':\n",
    "            for arg in signature[1:]:\n",
    "                arguments[arg] = 1. #fictious value\n",
    "                # next: extract info from config file and create two dictionaries,\n",
    "                # one for fixed variables in the fit -> add 'fixed_<variable>':True to dict\n",
    "                # one with free variables and assign initial guess value or fixed value, parsed from config file\n",
    "            return arguments\n",
    "        else:\n",
    "            # improve this, perhaps with an 'try.... except' statement\n",
    "            # raising an error (AssertionError ?)\n",
    "            print 'wrong labelling of first argument should be \"x\"'\n",
    "            pass\n",
    "    \n",
    "    def __call__(self, **kwargs):\n",
    "        arguments = self.get_args().keys()\n",
    "        args = itemgetter(*arguments)(kwargs)\n",
    "        is_tuple = isinstance(args, TupleType)\n",
    "        if is_tuple:\n",
    "            return self.func(self.data,*args).sum()\n",
    "        else:\n",
    "            return self.func(self.data,args).sum()\n",
    "        #return self.func(self.data,*args if is_tuple else args) doesn't work for some reason"
   ]
  },
  {
   "cell_type": "markdown",
   "metadata": {},
   "source": [
    "Below I simply check whether the class *loglike* correctly extracts the signature and returns the desired function"
   ]
  },
  {
   "cell_type": "raw",
   "metadata": {
    "collapsed": false
   },
   "source": [
    "L = loglike(x_arr,f)\n",
    "print L.get_args()\n",
    "L(**L.get_args()),L(a=2) #ok, here and in the next example I know the name of the variable"
   ]
  },
  {
   "cell_type": "raw",
   "metadata": {
    "collapsed": false
   },
   "source": [
    "J = loglike(x_arr,j)\n",
    "print J.get_args()\n",
    "J(**J.get_args()),J(e=3.,f=4.),J(f=2,e=1)"
   ]
  },
  {
   "cell_type": "markdown",
   "metadata": {},
   "source": [
    "Below I define a the fitting class"
   ]
  },
  {
   "cell_type": "raw",
   "metadata": {
    "collapsed": false
   },
   "source": [
    "class MinuitFitter(object):\n",
    "    \"\"\" class to update the free parameters of the functions contained\n",
    "        in the loglike and fit it with Minuit \"\"\"\n",
    "    def __init__(self, loglike):\n",
    "        self.loglike = loglike\n",
    "        self.settings = {'errordef':0.5,'print_level':1,'pedantic':False}\n",
    "        \n",
    "    def synch(self):\n",
    "        for key,val in self.loglike.get_args().items():\n",
    "            if hasattr(val, '__iter__'):\n",
    "                #make room for future add of boundaries and/or errors\n",
    "                self.settings[key]= val[0]\n",
    "            else:\n",
    "                self.settings[key]= val\n",
    "        return self.settings\n",
    "    \n",
    "    def fit(self, **kwargs):\n",
    "        settings = self.synch()\n",
    "        freepars = self.loglike.get_args().keys()\n",
    "        func = lambda p=freepars : self.loglike(**p)\n",
    "        #minuit = Minuit(func,**settings)\n",
    "        if 'tol' in kwargs: minuit.tol = kwargs['tol']\n",
    "        return func\n",
    "        #fitresult = minuit.migrad()\n",
    "        #return fitresult"
   ]
  },
  {
   "cell_type": "markdown",
   "metadata": {},
   "source": [
    "In order to create a proxy function depending on the parameters to be varied in the minimisation, I use the *lambda* function. In order for the function object to know the parameters' names, a hack is necessary: *lambda p=freeparams* should force the name of the variable in the internal scope to match the parameter names in the outer scope."
   ]
  },
  {
   "cell_type": "raw",
   "metadata": {
    "collapsed": true
   },
   "source": [
    "MF = MinuitFitter(J)"
   ]
  },
  {
   "cell_type": "raw",
   "metadata": {
    "collapsed": false
   },
   "source": [
    "J.get_args()"
   ]
  },
  {
   "cell_type": "raw",
   "metadata": {
    "collapsed": false
   },
   "source": [
    "getargspec(MF.fit())[0]"
   ]
  },
  {
   "cell_type": "markdown",
   "metadata": {},
   "source": [
    "This hack does not work because it only assigns *freepars* as default value in *lambda*, which continues to be a function of the variable *p* (and hence the signature is *p*)"
   ]
  },
  {
   "cell_type": "markdown",
   "metadata": {},
   "source": [
    "#----------------------------3rd trial----------------------------"
   ]
  },
  {
   "cell_type": "markdown",
   "metadata": {},
   "source": [
    "In this trial, the *call* method takes a generic list of arguments and returns the sum of the function *func* with which the class is instantiated, evaluated at the array of the first argument and depending on the unpacked list of *args*. This removes the need to know the variables' names, but makes the ordering of the arguments in a call of the class instances important"
   ]
  },
  {
   "cell_type": "raw",
   "metadata": {
    "collapsed": true
   },
   "source": [
    "class loglike(object):\n",
    "    \"\"\" class to define the loglike. this takes a function f as argument,\n",
    "        extracts its signature, checks if the first argument is 'x' and \n",
    "        returns the loglike as a function of the remaining arguments \"\"\"\n",
    "    \n",
    "    def __init__(self, data, func):\n",
    "        self.data = data\n",
    "        self.func = func\n",
    "        \n",
    "    def get_args(self):\n",
    "        signature = getargspec(self.func)[0]\n",
    "        if signature[0] == 'x':\n",
    "            return signature[1:]\n",
    "        else:\n",
    "            print 'wrong labelling of first argument should be \"x\"'\n",
    "            pass\n",
    "    \n",
    "    def __call__(self, *args):\n",
    "        return self.func(self.data,*args).sum()"
   ]
  },
  {
   "cell_type": "raw",
   "metadata": {
    "collapsed": false
   },
   "source": [
    "L = loglike(x_arr,f)\n",
    "print L.get_args()\n",
    "L(2)"
   ]
  },
  {
   "cell_type": "raw",
   "metadata": {
    "collapsed": false
   },
   "source": [
    "J = loglike(x_arr,j)\n",
    "print J.get_args()\n",
    "J(3.,4.),J(4.,3.)"
   ]
  },
  {
   "cell_type": "raw",
   "metadata": {
    "collapsed": false
   },
   "source": [
    "class MinuitFitter(object):\n",
    "    \"\"\" class to update the free parameters of the functions contained\n",
    "        in the loglike and fit it with Minuit \"\"\"\n",
    "    def __init__(self, loglike):\n",
    "        self.loglike = loglike\n",
    "        self.settings = {'errordef':0.5,'print_level':1,'pedantic':False}\n",
    "        \n",
    "    def synch(self):\n",
    "        for var in self.loglike.get_args():\n",
    "            # just fixed values to complete the exercise\n",
    "            self.settings[var]= 1\n",
    "            self.settings['limit_%s'%var] = 0.01\n",
    "        return self.settings\n",
    "    \n",
    "    def test(self, *args):\n",
    "        return self.loglike(*args) \n",
    "    \n",
    "    def fit(self, **kwargs):\n",
    "        settings = self.synch()\n",
    "        freepars = self.loglike.get_args()\n",
    "        fit_func = lambda p=freepars : self.test(p)\n",
    "        minuit = Minuit(fit_func,**settings)\n",
    "        if 'tol' in kwargs: minuit.tol = kwargs['tol']\n",
    "        return fit_func\n",
    "        #fitresult = minuit.migrad()\n",
    "        #return fitresult"
   ]
  },
  {
   "cell_type": "raw",
   "metadata": {
    "collapsed": true
   },
   "source": [
    "MF = MinuitFitter(J)"
   ]
  },
  {
   "cell_type": "raw",
   "metadata": {
    "collapsed": false
   },
   "source": [
    "J.get_args()"
   ]
  },
  {
   "cell_type": "raw",
   "metadata": {
    "collapsed": false
   },
   "source": [
    "MF.fit()"
   ]
  },
  {
   "cell_type": "markdown",
   "metadata": {},
   "source": [
    "I get the same problem as above: the signature of the function I'm creating (*fit_func*) to pass to Minuit does not have the signature of the *func*. This cannot be solved using *lambda* so a workaroung must be found"
   ]
  },
  {
   "cell_type": "raw",
   "metadata": {
    "collapsed": true
   },
   "source": [
    "getargspec(MF.fit())[0]"
   ]
  },
  {
   "cell_type": "raw",
   "metadata": {
    "collapsed": false
   },
   "source": [
    "MF.test(2,3),MF.test(3,2)"
   ]
  },
  {
   "cell_type": "markdown",
   "metadata": {},
   "source": [
    "#----------------------------4th trial----------------------------"
   ]
  },
  {
   "cell_type": "code",
   "execution_count": 510,
   "metadata": {
    "collapsed": true
   },
   "outputs": [],
   "source": [
    "class loglike(object):\n",
    "    \"\"\" class to define the loglike. this takes a function f as argument,\n",
    "        extracts its signature, checks if the first argument is 'x' and \n",
    "        returns the loglike as a function of the remaining arguments \"\"\"\n",
    "    \n",
    "    def __init__(self, data, func):\n",
    "        self.data = data\n",
    "        self.func = func\n",
    "        self.arguments = {}\n",
    "        \n",
    "    def get_args(self):\n",
    "        signature = getargspec(self.func)[0]\n",
    "        if signature[0] == 'x':\n",
    "            for arg in signature[1:]:\n",
    "                self.arguments[arg] = 1. #fictious value\n",
    "                # next: extract info from config file and create two dictionaries,\n",
    "                # one for fixed variables in the fit -> add 'fixed_<variable>':True to dict\n",
    "                # one with free variables and assign initial guess value or fixed value, parsed from config file\n",
    "            return self.arguments\n",
    "        else:\n",
    "            raise ValueError, 'first argument should be \"x\"'\n",
    "    \n",
    "    def __call__(self, *freepars):\n",
    "        arguments = self.get_args().keys()\n",
    "        for i,freepar in enumerate(arguments):\n",
    "            self.get_args()[freepar] = freepars[i]\n",
    "        \n",
    "        is_tuple = isinstance(freepars, TupleType)\n",
    "        if is_tuple:\n",
    "            return sum(self.func(self.data,*freepars))\n",
    "        else:\n",
    "            return sum(self.func(self.data,freepars))"
   ]
  },
  {
   "cell_type": "code",
   "execution_count": 511,
   "metadata": {
    "collapsed": false
   },
   "outputs": [
    {
     "name": "stdout",
     "output_type": "stream",
     "text": [
      "{'e': 1.0, 'f': 1.0}\n"
     ]
    },
    {
     "data": {
      "text/plain": [
       "324816.19053285627"
      ]
     },
     "execution_count": 511,
     "metadata": {},
     "output_type": "execute_result"
    }
   ],
   "source": [
    "J = loglike(x_arr,j)\n",
    "print J.get_args()\n",
    "J(3.,4.)"
   ]
  },
  {
   "cell_type": "code",
   "execution_count": 569,
   "metadata": {
    "collapsed": false
   },
   "outputs": [],
   "source": [
    "class MinuitFitter(object):\n",
    "    \"\"\" class to update the free parameters of the functions contained\n",
    "        in the loglike and fit it with Minuit \"\"\"\n",
    "    def __init__(self, loglike):\n",
    "        self.loglike = loglike\n",
    "        self.settings = {'errordef':0.5,'print_level':1,'pedantic':False}\n",
    "        \n",
    "    def sync(self):\n",
    "        for key,val in self.loglike.get_args().items():\n",
    "            self.settings[key] = 1.\n",
    "            self.settings['limit_%s'%key] = 0.01\n",
    "        return self.settings\n",
    "        \n",
    "    def fit(self, **kwargs):\n",
    "        settings = self.sync()\n",
    "        freepars = self.loglike.get_args().keys()\n",
    "        strargs = \", \".join(freepars)\n",
    "        fit_func = eval(\"lambda {args}, self=self : self.loglike({args})\".format(args=strargs))\n",
    "        minuit = Minuit(fit_func, self=self, fix_self=True, **settings)\n",
    "        if 'tol' in kwargs: minuit.tol = kwargs['tol']\n",
    "        #return fit_func\n",
    "        fitresult = minuit.migrad()\n",
    "        return fitresult"
   ]
  },
  {
   "cell_type": "code",
   "execution_count": 570,
   "metadata": {
    "collapsed": true
   },
   "outputs": [],
   "source": [
    "MF = MinuitFitter(J)"
   ]
  },
  {
   "cell_type": "raw",
   "metadata": {},
   "source": [
    "MF.sync()"
   ]
  },
  {
   "cell_type": "markdown",
   "metadata": {},
   "source": [
    "In 'code' mode and uncommenting *return fit_func* in the *MinuitFitter* class definition, this cell shows that *fit_func* has (nearly) the desired signature and returns the desired value (compare with *J(3.,4.)* few cells above)"
   ]
  },
  {
   "cell_type": "raw",
   "metadata": {},
   "source": [
    "getargspec(MF.fit())[0],MF.fit()(3.,4.)"
   ]
  },
  {
   "cell_type": "code",
   "execution_count": 571,
   "metadata": {
    "collapsed": false
   },
   "outputs": [
    {
     "ename": "TypeError",
     "evalue": "a float is required",
     "output_type": "error",
     "traceback": [
      "\u001b[1;31m---------------------------------------------------------------------------\u001b[0m",
      "\u001b[1;31mTypeError\u001b[0m                                 Traceback (most recent call last)",
      "\u001b[1;32m<ipython-input-571-604ec572ec08>\u001b[0m in \u001b[0;36m<module>\u001b[1;34m()\u001b[0m\n\u001b[1;32m----> 1\u001b[1;33m \u001b[0mMF\u001b[0m\u001b[1;33m.\u001b[0m\u001b[0mfit\u001b[0m\u001b[1;33m(\u001b[0m\u001b[1;33m)\u001b[0m\u001b[1;33m\u001b[0m\u001b[0m\n\u001b[0m",
      "\u001b[1;32m<ipython-input-569-2a04ca48fa18>\u001b[0m in \u001b[0;36mfit\u001b[1;34m(self, **kwargs)\u001b[0m\n\u001b[0;32m     20\u001b[0m         \u001b[1;32mif\u001b[0m \u001b[1;34m'tol'\u001b[0m \u001b[1;32min\u001b[0m \u001b[0mkwargs\u001b[0m\u001b[1;33m:\u001b[0m \u001b[0mminuit\u001b[0m\u001b[1;33m.\u001b[0m\u001b[0mtol\u001b[0m \u001b[1;33m=\u001b[0m \u001b[0mkwargs\u001b[0m\u001b[1;33m[\u001b[0m\u001b[1;34m'tol'\u001b[0m\u001b[1;33m]\u001b[0m\u001b[1;33m\u001b[0m\u001b[0m\n\u001b[0;32m     21\u001b[0m         \u001b[1;31m#return fit_func\u001b[0m\u001b[1;33m\u001b[0m\u001b[1;33m\u001b[0m\u001b[0m\n\u001b[1;32m---> 22\u001b[1;33m         \u001b[0mfitresult\u001b[0m \u001b[1;33m=\u001b[0m \u001b[0mminuit\u001b[0m\u001b[1;33m.\u001b[0m\u001b[0mmigrad\u001b[0m\u001b[1;33m(\u001b[0m\u001b[1;33m)\u001b[0m\u001b[1;33m\u001b[0m\u001b[0m\n\u001b[0m\u001b[0;32m     23\u001b[0m         \u001b[1;32mreturn\u001b[0m \u001b[0mfitresult\u001b[0m\u001b[1;33m\u001b[0m\u001b[0m\n",
      "\u001b[1;32miminuit/_libiminuit.pyx\u001b[0m in \u001b[0;36miminuit._libiminuit.Minuit.migrad (iminuit/_libiminuit.cpp:5016)\u001b[1;34m()\u001b[0m\n",
      "\u001b[1;32miminuit/_libiminuit.pyx\u001b[0m in \u001b[0;36miminuit._libiminuit.Minuit.initialParameterState (iminuit/_libiminuit.cpp:18764)\u001b[1;34m()\u001b[0m\n",
      "\u001b[1;31mTypeError\u001b[0m: a float is required"
     ]
    }
   ],
   "source": [
    "MF.fit()"
   ]
  },
  {
   "cell_type": "code",
   "execution_count": null,
   "metadata": {
    "collapsed": true
   },
   "outputs": [],
   "source": []
  }
 ],
 "metadata": {
  "kernelspec": {
   "display_name": "Python 2",
   "language": "python",
   "name": "python2"
  },
  "language_info": {
   "codemirror_mode": {
    "name": "ipython",
    "version": 2
   },
   "file_extension": ".py",
   "mimetype": "text/x-python",
   "name": "python",
   "nbconvert_exporter": "python",
   "pygments_lexer": "ipython2",
   "version": "2.7.6"
  }
 },
 "nbformat": 4,
 "nbformat_minor": 0
}
