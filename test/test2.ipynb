{
 "cells": [
  {
   "cell_type": "code",
   "execution_count": 11,
   "metadata": {
    "collapsed": false
   },
   "outputs": [],
   "source": [
    "import yaml\n",
    "import numpy as np\n",
    "import pylab as plt\n",
    "from math import *\n",
    "from types import *\n",
    "from operator import itemgetter\n",
    "from inspect import getargspec\n",
    "from iminuit import Minuit,util\n",
    "%matplotlib inline"
   ]
  },
  {
   "cell_type": "markdown",
   "metadata": {},
   "source": [
    "As an exercise, I try to build an object that takes any two functions $f(x, a)$ and $g(x, b)$ and minimizes their products. The parameters $a$ and $b$ should not be hardcode.  \n",
    "Below, I write some example functions, all depending on $x$ plus additional, different parameter(s): $a, b, c, d, e, f, ...$"
   ]
  },
  {
   "cell_type": "code",
   "execution_count": 12,
   "metadata": {
    "collapsed": false
   },
   "outputs": [],
   "source": [
    "def f(x, a):\n",
    "    return np.tanh(x*a)\n",
    "\n",
    "def g(x, b):\n",
    "    return np.power(x,b)\n",
    "\n",
    "def h(x, c, d):\n",
    "    return x*c+np.cos(x)\n",
    "\n",
    "def j(x, e, f):\n",
    "    return e*np.power(x,f)"
   ]
  },
  {
   "cell_type": "markdown",
   "metadata": {},
   "source": [
    "I plot the behaviour of the product $f(x, 2) g(x, 3)$"
   ]
  },
  {
   "cell_type": "code",
   "execution_count": 13,
   "metadata": {
    "collapsed": false
   },
   "outputs": [
    {
     "data": {
      "image/png": "[encoded data removed]",
      "text/plain": [
       "<matplotlib.figure.Figure at 0x7fcd5c064290>"
      ]
     },
     "metadata": {},
     "output_type": "display_data"
    }
   ],
   "source": [
    "x_arr = np.linspace(-10,10)\n",
    "plt.plot(x_arr,f(x_arr,2)*g(x_arr,3));\n",
    "#plt.plot(x_arr,f(x_arr,2)*h(x_arr,3,2));\n",
    "#plt.plot(x_arr,j(x_arr,2,1)*h(x_arr,3,2));"
   ]
  },
  {
   "cell_type": "markdown",
   "metadata": {},
   "source": [
    "Given that in a likelihood minimisation the function object already contains the data and is a function of the free parameters only, I create a class.  \n",
    "\n",
    "When an object is istantiated, the two external functions (eg. f,g) and their signature are saved as class variables. This way, their parameters need not be hardcoded"
   ]
  },
  {
   "cell_type": "code",
   "execution_count": 53,
   "metadata": {
    "collapsed": true
   },
   "outputs": [],
   "source": [
    "class func_def(object):\n",
    "    __name__ = 'func_def'\n",
    "    def __init__(self, data, *args):\n",
    "        self.data = data\n",
    "        self.func_a = args[0]\n",
    "        self.func_b = args[1]\n",
    "        self.arg_a = getargspec(self.func_a)[0][1:]\n",
    "        self.arg_b = getargspec(self.func_b)[0][1:]\n",
    "        self.params = list(set(self.arg_a)|set(self.arg_b))\n",
    "    \n",
    "    def __call__(self, **kwargs):\n",
    "        arg_a = itemgetter(*self.arg_a)(kwargs)\n",
    "        arg_b = itemgetter(*self.arg_b)(kwargs)\n",
    "        is_arg_a_tpl = isinstance(arg_a, TupleType)\n",
    "        is_arg_b_tpl = isinstance(arg_b, TupleType)\n",
    "        \n",
    "        if is_arg_a_tpl and is_arg_b_tpl:\n",
    "            term1 = self.func_a(self.data,*arg_a)\n",
    "            term2 = self.func_b(self.data,*arg_b)\n",
    "            return sum(term1 * term2)\n",
    "        \n",
    "        elif not is_arg_a_tpl and is_arg_b_tpl:\n",
    "            term1 = self.func_a(self.data,arg_a)\n",
    "            term2 = self.func_b(self.data,*arg_b)\n",
    "            return sum(term1 * term2)\n",
    "        \n",
    "        elif is_arg_a_tpl and not is_arg_b_tpl:\n",
    "            term1 = self.func_a(self.data,*arg_a)\n",
    "            term2 = self.func_b(self.data,arg_b)\n",
    "            return sum(term1 * term2)\n",
    "        \n",
    "        elif not is_arg_a_tpl and not is_arg_b_tpl:\n",
    "            term1 = self.func_a(self.data,arg_a)\n",
    "            term2 = self.func_b(self.data,arg_b)\n",
    "            return sum(term1 * term2)"
   ]
  },
  {
   "cell_type": "markdown",
   "metadata": {},
   "source": [
    "Problem: in the definition of the class variables *self.arg_a* and *self.arg_b*, it is assumed that the first variable corresponds to the data  \n",
    "\n",
    "There is a long set of conditional statements. These are necessary to unpack correctly the arguments lists of the two function.  \n",
    "An alternative would be include the *x* argument into such lists, so by writing *self.arg_a = getargspec(self.func_a)[0]* in the *init* method but then the *call* method would require calling the function object with *x* argument too, unless I modify *arg_a = itemgetter(* **self.arg_a)(kwargs)*\n",
    "\n",
    "Below I initiate various objects containing the data array and any two of the functions defined above, whose product shuold be minimised."
   ]
  },
  {
   "cell_type": "code",
   "execution_count": 47,
   "metadata": {
    "collapsed": false
   },
   "outputs": [
    {
     "data": {
      "text/plain": [
       "13266.926692422941"
      ]
     },
     "execution_count": 47,
     "metadata": {},
     "output_type": "execute_result"
    }
   ],
   "source": [
    "F = func_def(x_arr,f,g)\n",
    "F(a=1,b=3)"
   ]
  },
  {
   "cell_type": "code",
   "execution_count": 48,
   "metadata": {
    "collapsed": false
   },
   "outputs": [
    {
     "data": {
      "text/plain": [
       "759.15894915185561"
      ]
     },
     "execution_count": 48,
     "metadata": {},
     "output_type": "execute_result"
    }
   ],
   "source": [
    "G = func_def(x_arr,f,h)\n",
    "G(a=1,c=3,d=4)"
   ]
  },
  {
   "cell_type": "code",
   "execution_count": 49,
   "metadata": {
    "collapsed": false
   },
   "outputs": [
    {
     "data": {
      "text/plain": [
       "108272.06351095208"
      ]
     },
     "execution_count": 49,
     "metadata": {},
     "output_type": "execute_result"
    }
   ],
   "source": [
    "H = func_def(x_arr,h,g)\n",
    "H(c=1,d=2,b=3)"
   ]
  },
  {
   "cell_type": "code",
   "execution_count": 50,
   "metadata": {
    "collapsed": false
   },
   "outputs": [
    {
     "data": {
      "text/plain": [
       "-141694.17241534666"
      ]
     },
     "execution_count": 50,
     "metadata": {},
     "output_type": "execute_result"
    }
   ],
   "source": [
    "J = func_def(x_arr,h,j)\n",
    "J(c=1,d=2,e=3,f=4)"
   ]
  },
  {
   "cell_type": "markdown",
   "metadata": {},
   "source": [
    "Problem: how can I evaluate the function object with arguments the free arguments of the included functions?"
   ]
  },
  {
   "cell_type": "code",
   "execution_count": 19,
   "metadata": {
    "collapsed": false
   },
   "outputs": [
    {
     "name": "stdout",
     "output_type": "stream",
     "text": [
      "{'a': 1, 'b': 1, 'error_a': 0.01, 'error_b': 0.01}\n"
     ]
    }
   ],
   "source": [
    "settings = {s : 1 for s in F.params}\n",
    "settings.update({'error_%s'%s : 0.01 for s in F.params})\n",
    "print settings"
   ]
  },
  {
   "cell_type": "markdown",
   "metadata": {},
   "source": [
    "A possible solution could be to use the functionalities of the class *decorator*, in particular its attribute *FunctionMaker*, to create a new function with the desired signature"
   ]
  },
  {
   "cell_type": "code",
   "execution_count": 21,
   "metadata": {
    "collapsed": true
   },
   "outputs": [],
   "source": [
    "from decorator import FunctionMaker as FM"
   ]
  },
  {
   "cell_type": "code",
   "execution_count": 54,
   "metadata": {
    "collapsed": false
   },
   "outputs": [],
   "source": [
    "nf = FM(H,signature=H.params)"
   ]
  },
  {
   "cell_type": "code",
   "execution_count": 41,
   "metadata": {
    "collapsed": true
   },
   "outputs": [],
   "source": [
    "def proxy_func(*args):\n",
    "    return self.loglike(*args)"
   ]
  },
  {
   "cell_type": "code",
   "execution_count": 42,
   "metadata": {
    "collapsed": false
   },
   "outputs": [
    {
     "ename": "TypeError",
     "evalue": "unsupported operand type(s) for %: 'function' and 'dict'",
     "output_type": "error",
     "traceback": [
      "\u001b[1;31m---------------------------------------------------------------------------\u001b[0m",
      "\u001b[1;31mTypeError\u001b[0m                                 Traceback (most recent call last)",
      "\u001b[1;32m<ipython-input-42-ec5ba38a3aae>\u001b[0m in \u001b[0;36m<module>\u001b[1;34m()\u001b[0m\n\u001b[0;32m      1\u001b[0m \u001b[0mstrargs\u001b[0m \u001b[1;33m=\u001b[0m \u001b[1;34m\", \"\u001b[0m\u001b[1;33m.\u001b[0m\u001b[0mjoin\u001b[0m\u001b[1;33m(\u001b[0m\u001b[0mF\u001b[0m\u001b[1;33m.\u001b[0m\u001b[0mparams\u001b[0m\u001b[1;33m)\u001b[0m\u001b[1;33m\u001b[0m\u001b[0m\n\u001b[1;32m----> 2\u001b[1;33m \u001b[0mnf\u001b[0m\u001b[1;33m.\u001b[0m\u001b[0mmake\u001b[0m\u001b[1;33m(\u001b[0m\u001b[0mproxy_func\u001b[0m\u001b[1;33m)\u001b[0m\u001b[1;33m\u001b[0m\u001b[0m\n\u001b[0m",
      "\u001b[1;32m/usr/lib/python2.7/dist-packages/decorator.pyc\u001b[0m in \u001b[0;36mmake\u001b[1;34m(self, src_templ, evaldict, addsource, **attrs)\u001b[0m\n\u001b[0;32m    138\u001b[0m     \u001b[1;32mdef\u001b[0m \u001b[0mmake\u001b[0m\u001b[1;33m(\u001b[0m\u001b[0mself\u001b[0m\u001b[1;33m,\u001b[0m \u001b[0msrc_templ\u001b[0m\u001b[1;33m,\u001b[0m \u001b[0mevaldict\u001b[0m\u001b[1;33m=\u001b[0m\u001b[0mNone\u001b[0m\u001b[1;33m,\u001b[0m \u001b[0maddsource\u001b[0m\u001b[1;33m=\u001b[0m\u001b[0mFalse\u001b[0m\u001b[1;33m,\u001b[0m \u001b[1;33m**\u001b[0m\u001b[0mattrs\u001b[0m\u001b[1;33m)\u001b[0m\u001b[1;33m:\u001b[0m\u001b[1;33m\u001b[0m\u001b[0m\n\u001b[0;32m    139\u001b[0m         \u001b[1;34m\"Make a new function from a given template and update the signature\"\u001b[0m\u001b[1;33m\u001b[0m\u001b[0m\n\u001b[1;32m--> 140\u001b[1;33m         \u001b[0msrc\u001b[0m \u001b[1;33m=\u001b[0m \u001b[0msrc_templ\u001b[0m \u001b[1;33m%\u001b[0m \u001b[0mvars\u001b[0m\u001b[1;33m(\u001b[0m\u001b[0mself\u001b[0m\u001b[1;33m)\u001b[0m \u001b[1;31m# expand name and signature\u001b[0m\u001b[1;33m\u001b[0m\u001b[0m\n\u001b[0m\u001b[0;32m    141\u001b[0m         \u001b[0mevaldict\u001b[0m \u001b[1;33m=\u001b[0m \u001b[0mevaldict\u001b[0m \u001b[1;32mor\u001b[0m \u001b[1;33m{\u001b[0m\u001b[1;33m}\u001b[0m\u001b[1;33m\u001b[0m\u001b[0m\n\u001b[0;32m    142\u001b[0m         \u001b[0mmo\u001b[0m \u001b[1;33m=\u001b[0m \u001b[0mDEF\u001b[0m\u001b[1;33m.\u001b[0m\u001b[0mmatch\u001b[0m\u001b[1;33m(\u001b[0m\u001b[0msrc\u001b[0m\u001b[1;33m)\u001b[0m\u001b[1;33m\u001b[0m\u001b[0m\n",
      "\u001b[1;31mTypeError\u001b[0m: unsupported operand type(s) for %: 'function' and 'dict'"
     ]
    }
   ],
   "source": [
    "strargs = \", \".join(F.params) \n",
    "nf.make(proxy_func)"
   ]
  },
  {
   "cell_type": "code",
   "execution_count": 45,
   "metadata": {
    "collapsed": false
   },
   "outputs": [
    {
     "data": {
      "text/plain": [
       "{'doc': None,\n",
       " 'module': '__main__',\n",
       " 'name': 'func_def',\n",
       " 'shortsignature': ['a', 'b'],\n",
       " 'signature': ['a', 'b']}"
      ]
     },
     "execution_count": 45,
     "metadata": {},
     "output_type": "execute_result"
    }
   ],
   "source": [
    "nf.__dict__"
   ]
  },
  {
   "cell_type": "code",
   "execution_count": 11,
   "metadata": {
    "collapsed": false
   },
   "outputs": [],
   "source": [
    "new_funcF = FM.create(('new_func('+\", \".join([\"%s = 1.\"] * len(F.params))+')') % tuple(F.params),\n",
    "                     ('F('+\", \".join([\"%s = 1.\"] * len(F.params))+')') % tuple(F.params),dict(F=F))"
   ]
  },
  {
   "cell_type": "code",
   "execution_count": 12,
   "metadata": {
    "collapsed": false
   },
   "outputs": [
    {
     "name": "stdout",
     "output_type": "stream",
     "text": [
      "F(a = 1., b = 1.)\n",
      "new_func(a = 1., b = 1.)\n"
     ]
    }
   ],
   "source": [
    "print ('F('+\", \".join([\"%s = 1.\"] * len(F.params))+')') % tuple(F.params)\n",
    "print ('new_func('+\", \".join([\"%s = 1.\"] * len(F.params))+')') % tuple(F.params)"
   ]
  },
  {
   "cell_type": "markdown",
   "metadata": {},
   "source": [
    "With this long expression, I can build the correct string for the new function definition with *FunctionMaker.create* attribute"
   ]
  },
  {
   "cell_type": "code",
   "execution_count": 13,
   "metadata": {
    "collapsed": false
   },
   "outputs": [
    {
     "data": {
      "text/plain": [
       "function"
      ]
     },
     "execution_count": 13,
     "metadata": {},
     "output_type": "execute_result"
    }
   ],
   "source": [
    "type(new_funcF)"
   ]
  },
  {
   "cell_type": "markdown",
   "metadata": {},
   "source": [
    "I check that the new function has the correct signature"
   ]
  },
  {
   "cell_type": "code",
   "execution_count": 14,
   "metadata": {
    "collapsed": false
   },
   "outputs": [
    {
     "data": {
      "text/plain": [
       "['a', 'b']"
      ]
     },
     "execution_count": 14,
     "metadata": {},
     "output_type": "execute_result"
    }
   ],
   "source": [
    "getargspec(new_funcF)[0]"
   ]
  },
  {
   "cell_type": "markdown",
   "metadata": {},
   "source": [
    "I check that this scheme works for functions with more arguments"
   ]
  },
  {
   "cell_type": "code",
   "execution_count": 15,
   "metadata": {
    "collapsed": false
   },
   "outputs": [],
   "source": [
    "new_funcH = FM.create(('new_func('+\", \".join([\"%s = 1.\"] * len(H.params))+')') % tuple(H.params),\n",
    "                     ('F('+\", \".join([\"%s = 1.\"] * len(H.params))+')') % tuple(H.params),dict(F=F))"
   ]
  },
  {
   "cell_type": "code",
   "execution_count": 16,
   "metadata": {
    "collapsed": false
   },
   "outputs": [
    {
     "data": {
      "text/plain": [
       "['c', 'b', 'd']"
      ]
     },
     "execution_count": 16,
     "metadata": {},
     "output_type": "execute_result"
    }
   ],
   "source": [
    "getargspec(new_funcH)[0]"
   ]
  },
  {
   "cell_type": "markdown",
   "metadata": {},
   "source": [
    "Now *new_funcF* has the derised signature: it depends on the free parameters of the functions with which the object *F* is instantiated, *a, b*\n",
    "\n",
    "I feed it to Minuit, building first an arbitrary *settings* dictionary"
   ]
  },
  {
   "cell_type": "code",
   "execution_count": 17,
   "metadata": {
    "collapsed": false
   },
   "outputs": [
    {
     "name": "stdout",
     "output_type": "stream",
     "text": [
      "{'a': 1, 'b': 1, 'error_a': 0.01, 'error_b': 0.01}\n"
     ]
    }
   ],
   "source": [
    "settings = {s : 1 for s in F.params}\n",
    "settings.update({'error_%s'%s : 0.01 for s in F.params})\n",
    "print settings"
   ]
  },
  {
   "cell_type": "code",
   "execution_count": 20,
   "metadata": {
    "collapsed": true
   },
   "outputs": [],
   "source": [
    "freeparams = F.params"
   ]
  },
  {
   "cell_type": "code",
   "execution_count": 25,
   "metadata": {
    "collapsed": false
   },
   "outputs": [
    {
     "ename": "RuntimeError",
     "evalue": "Cannot understand keyword a. May be a typo?\nThe parameters are ['freeparams']",
     "output_type": "error",
     "traceback": [
      "\u001b[1;31m---------------------------------------------------------------------------\u001b[0m",
      "\u001b[1;31mRuntimeError\u001b[0m                              Traceback (most recent call last)",
      "\u001b[1;32m<ipython-input-25-681fcf1cd229>\u001b[0m in \u001b[0;36m<module>\u001b[1;34m()\u001b[0m\n\u001b[1;32m----> 1\u001b[1;33m \u001b[0mm\u001b[0m \u001b[1;33m=\u001b[0m \u001b[0mMinuit\u001b[0m\u001b[1;33m(\u001b[0m\u001b[1;32mlambda\u001b[0m \u001b[0mfreeparams\u001b[0m \u001b[1;33m:\u001b[0m \u001b[0mF\u001b[0m\u001b[1;33m(\u001b[0m\u001b[0mfreeparams\u001b[0m\u001b[1;33m)\u001b[0m\u001b[1;33m,\u001b[0m \u001b[0merrordef\u001b[0m\u001b[1;33m=\u001b[0m\u001b[1;36m0.5\u001b[0m\u001b[1;33m,\u001b[0m \u001b[1;33m**\u001b[0m\u001b[0msettings\u001b[0m\u001b[1;33m)\u001b[0m\u001b[1;33m\u001b[0m\u001b[0m\n\u001b[0m",
      "\u001b[1;32miminuit/_libiminuit.pyx\u001b[0m in \u001b[0;36miminuit._libiminuit.Minuit.__init__ (iminuit/_libiminuit.cpp:3030)\u001b[1;34m()\u001b[0m\n",
      "\u001b[1;32miminuit/_libiminuit.pyx\u001b[0m in \u001b[0;36miminuit._libiminuit.Minuit._check_extra_args (iminuit/_libiminuit.cpp:20211)\u001b[1;34m()\u001b[0m\n",
      "\u001b[1;31mRuntimeError\u001b[0m: Cannot understand keyword a. May be a typo?\nThe parameters are ['freeparams']"
     ]
    }
   ],
   "source": [
    "m = Minuit(lambda freeparams : F(freeparams), errordef=0.5, **settings)"
   ]
  },
  {
   "cell_type": "markdown",
   "metadata": {},
   "source": [
    "I call *migrad* to minimize the function object"
   ]
  },
  {
   "cell_type": "code",
   "execution_count": 23,
   "metadata": {
    "collapsed": false
   },
   "outputs": [
    {
     "name": "stderr",
     "output_type": "stream",
     "text": [
      "/usr/local/lib/python2.7/dist-packages/IPython/kernel/__main__.py:1: RuntimeWarning: Cannot convert fcn(*arg) to double \n",
      "fcn is called with following arguments:\n",
      "    a = +1.000000\n",
      "    b = +1.000000\n",
      "\n",
      "  if __name__ == '__main__':\n"
     ]
    },
    {
     "ename": "TypeError",
     "evalue": "a float is required",
     "output_type": "error",
     "traceback": [
      "\u001b[1;31m---------------------------------------------------------------------------\u001b[0m",
      "\u001b[1;31mTypeError\u001b[0m                                 Traceback (most recent call last)",
      "\u001b[1;32m<ipython-input-23-ac05abcce5c3>\u001b[0m in \u001b[0;36m<module>\u001b[1;34m()\u001b[0m\n\u001b[1;32m----> 1\u001b[1;33m \u001b[0mm\u001b[0m\u001b[1;33m.\u001b[0m\u001b[0mmigrad\u001b[0m\u001b[1;33m(\u001b[0m\u001b[1;33m)\u001b[0m\u001b[1;33m\u001b[0m\u001b[0m\n\u001b[0m",
      "\u001b[1;32miminuit/_libiminuit.pyx\u001b[0m in \u001b[0;36miminuit._libiminuit.Minuit.migrad (iminuit/_libiminuit.cpp:5250)\u001b[1;34m()\u001b[0m\n",
      "\u001b[1;31mTypeError\u001b[0m: a float is required"
     ]
    }
   ],
   "source": [
    "m.migrad()"
   ]
  },
  {
   "cell_type": "code",
   "execution_count": 63,
   "metadata": {
    "collapsed": false
   },
   "outputs": [],
   "source": [
    "class test(object):\n",
    "    def __init__(self, func):\n",
    "        self.func = func\n",
    "        self.var = getargspec(func)[0]\n",
    "    \n",
    "    def fit(self):\n",
    "        x = self.var\n",
    "        f = Minuit(lambda x : self.func(x), errordef=0.5, x=3, error_x=0.01)\n",
    "        resfit = f.migrad()\n",
    "        return resfit"
   ]
  },
  {
   "cell_type": "code",
   "execution_count": 64,
   "metadata": {
    "collapsed": false
   },
   "outputs": [],
   "source": [
    "parabola = test(lambda x : x**2)"
   ]
  },
  {
   "cell_type": "code",
   "execution_count": 65,
   "metadata": {
    "collapsed": false
   },
   "outputs": [
    {
     "data": {
      "text/html": [
       "<hr>"
      ]
     },
     "metadata": {},
     "output_type": "display_data"
    },
    {
     "data": {
      "text/html": [
       "\n",
       "        <table>\n",
       "            <tr>\n",
       "                <td title=\"Minimum value of function\">FCN = 9.51267866748e-18</td>\n",
       "                <td title=\"Total number of call to FCN so far\">TOTAL NCALL = 13</td>\n",
       "                <td title=\"Number of call in last migrad\">NCALLS = 13</td>\n",
       "            </tr>\n",
       "            <tr>\n",
       "                <td title=\"Estimated distance to minimum\">EDM = 9.51267866748e-18</td>\n",
       "                <td title=\"Maximum EDM definition of convergence\">GOAL EDM = 5e-06</td>\n",
       "                <td title=\"Error def. Amount of increase in FCN to be defined as 1 standard deviation\">\n",
       "                UP = 0.5</td>\n",
       "            </tr>\n",
       "        </table>\n",
       "        \n",
       "        <table>\n",
       "            <tr>\n",
       "                <td align=\"center\" title=\"Validity of the migrad call\">Valid</td>\n",
       "                <td align=\"center\" title=\"Validity of parameters\">Valid Param</td>\n",
       "                <td align=\"center\" title=\"Is Covariance matrix accurate?\">Accurate Covar</td>\n",
       "                <td align=\"center\" title=\"Positive definiteness of covariance matrix\">PosDef</td>\n",
       "                <td align=\"center\" title=\"Was covariance matrix made posdef by adding diagonal element\">Made PosDef</td>\n",
       "            </tr>\n",
       "            <tr>\n",
       "                <td align=\"center\" style=\"background-color:#92CCA6\">True</td>\n",
       "                <td align=\"center\" style=\"background-color:#92CCA6\">True</td>\n",
       "                <td align=\"center\" style=\"background-color:#92CCA6\">True</td>\n",
       "                <td align=\"center\" style=\"background-color:#92CCA6\">True</td>\n",
       "                <td align=\"center\" style=\"background-color:#92CCA6\">False</td>\n",
       "            </tr>\n",
       "            <tr>\n",
       "                <td align=\"center\" title=\"Was last hesse call fail?\">Hesse Fail</td>\n",
       "                <td align=\"center\" title=\"Validity of covariance\">HasCov</td>\n",
       "                <td align=\"center\" title=\"Is EDM above goal EDM?\">Above EDM</td>\n",
       "                <td align=\"center\"></td>\n",
       "                <td align=\"center\" title=\"Did last migrad call reach max call limit?\">Reach calllim</td>\n",
       "            </tr>\n",
       "            <tr>\n",
       "                <td align=\"center\" style=\"background-color:#92CCA6\">False</td>\n",
       "                <td align=\"center\" style=\"background-color:#92CCA6\">True</td>\n",
       "                <td align=\"center\" style=\"background-color:#92CCA6\">False</td>\n",
       "                <td align=\"center\"></td>\n",
       "                <td align=\"center\" style=\"background-color:#92CCA6\">False</td>\n",
       "            </tr>\n",
       "        </table>\n",
       "        "
      ]
     },
     "metadata": {},
     "output_type": "display_data"
    },
    {
     "data": {
      "text/html": [
       "\n",
       "        <table>\n",
       "            <tr>\n",
       "                <td><a href=\"#\" onclick=\"$('#JruhqtSNmH').toggle()\">+</a></td>\n",
       "                <td title=\"Variable name\">Name</td>\n",
       "                <td title=\"Value of parameter\">Value</td>\n",
       "                <td title=\"Parabolic error\">Parab Error</td>\n",
       "                <td title=\"Minos lower error\">Minos Error-</td>\n",
       "                <td title=\"Minos upper error\">Minos Error+</td>\n",
       "                <td title=\"Lower limit of the parameter\">Limit-</td>\n",
       "                <td title=\"Upper limit of the parameter\">Limit+</td>\n",
       "                <td title=\"Is the parameter fixed in the fit\">FIXED</td>\n",
       "            </tr>\n",
       "        \n",
       "            <tr>\n",
       "                <td>1</td>\n",
       "                <td>x</td>\n",
       "                <td>3.084263e-09</td>\n",
       "                <td>7.071068e-01</td>\n",
       "                <td>0.000000e+00</td>\n",
       "                <td>0.000000e+00</td>\n",
       "                <td></td>\n",
       "                <td></td>\n",
       "                <td></td>\n",
       "            </tr>\n",
       "            \n",
       "            </table>\n",
       "        \n",
       "            <pre id=\"JruhqtSNmH\" style=\"display:none;\">\n",
       "            <textarea rows=\"8\" cols=\"50\" onclick=\"this.select()\" readonly>\\begin{tabular}{|c|r|r|r|r|r|r|r|c|}\n",
       "\\hline\n",
       " & Name & Value & Para Error & Error+ & Error- & Limit+ & Limit- & FIXED\\\\\n",
       "\\hline\n",
       "1 & x & 3.084e-09 & 7.071e-01 &  &  &  &  & \\\\\n",
       "\\hline\n",
       "\\end{tabular}</textarea>\n",
       "            </pre>\n",
       "            "
      ]
     },
     "metadata": {},
     "output_type": "display_data"
    },
    {
     "data": {
      "text/html": [
       "<hr>"
      ]
     },
     "metadata": {},
     "output_type": "display_data"
    },
    {
     "data": {
      "text/plain": [
       "({'hesse_failed': False, 'has_reached_call_limit': False, 'has_accurate_covar': True, 'has_posdef_covar': True, 'up': 0.5, 'edm': 9.512678667476046e-18, 'is_valid': True, 'is_above_max_edm': False, 'has_covariance': True, 'has_made_posdef_covar': False, 'has_valid_parameters': True, 'fval': 9.51267866748233e-18, 'nfcn': 13},\n",
       " [{'is_const': False, 'name': 'x', 'has_limits': False, 'value': 3.0842630671656934e-09, 'number': 0, 'has_lower_limit': False, 'upper_limit': 0.0, 'lower_limit': 0.0, 'has_upper_limit': False, 'error': 0.7071067811865476, 'is_fixed': False}])"
      ]
     },
     "execution_count": 65,
     "metadata": {},
     "output_type": "execute_result"
    }
   ],
   "source": [
    "parabola.fit()"
   ]
  },
  {
   "cell_type": "code",
   "execution_count": null,
   "metadata": {
    "collapsed": true
   },
   "outputs": [],
   "source": []
  }
 ],
 "metadata": {
  "kernelspec": {
   "display_name": "Python 2",
   "language": "python",
   "name": "python2"
  },
  "language_info": {
   "codemirror_mode": {
    "name": "ipython",
    "version": 2
   },
   "file_extension": ".py",
   "mimetype": "text/x-python",
   "name": "python",
   "nbconvert_exporter": "python",
   "pygments_lexer": "ipython2",
   "version": "2.7.6"
  }
 },
 "nbformat": 4,
 "nbformat_minor": 0
}
