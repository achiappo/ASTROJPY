{
 "cells": [
  {
   "cell_type": "code",
   "execution_count": 76,
   "metadata": {
    "collapsed": false
   },
   "outputs": [],
   "source": [
    "import yaml\n",
    "import numpy as np\n",
    "from operator import itemgetter\n",
    "config = yaml.load(open('test.yaml'))"
   ]
  },
  {
   "cell_type": "code",
   "execution_count": 77,
   "metadata": {
    "collapsed": false
   },
   "outputs": [
    {
     "data": {
      "text/plain": [
       "{'DM': {'a': {'free': False, 'val': 1},\n",
       "  'b': {'free': False, 'val': 1},\n",
       "  'c': {'free': True, 'val': 3},\n",
       "  'name': 'Zhao'},\n",
       " 'Like': {'name': 'unbinned'},\n",
       " 'Stellar': {'name': 'Plummer', 'rh': {'free': False, 'val': 0.1}},\n",
       " 'anisotropy': {'beta': {'free': True, 'val': -1}, 'name': 'CA'}}"
      ]
     },
     "execution_count": 77,
     "metadata": {},
     "output_type": "execute_result"
    }
   ],
   "source": [
    "config"
   ]
  },
  {
   "cell_type": "code",
   "execution_count": 93,
   "metadata": {
    "collapsed": true
   },
   "outputs": [],
   "source": [
    "err = 0.01\n",
    "Min_set = {}\n",
    "params = {}"
   ]
  },
  {
   "cell_type": "code",
   "execution_count": 96,
   "metadata": {
    "collapsed": false
   },
   "outputs": [],
   "source": [
    "profiles = []\n",
    "for profile,dic in config.items():\n",
    "    profiles.append(dic['name'])\n",
    "    for param,vals in dic.items():\n",
    "        if 'name' not in param:\n",
    "            params.update({param:vals['val']})\n",
    "            if vals['free']:\n",
    "                Min_set.update({param:vals['val'],'error_%s'%param:err})\n",
    "            else:\n",
    "                Min_set.update({param:vals['val'],'fix_%s'%param:True})"
   ]
  },
  {
   "cell_type": "code",
   "execution_count": 97,
   "metadata": {
    "collapsed": false
   },
   "outputs": [
    {
     "data": {
      "text/plain": [
       "['Plummer', 'CA', 'Zhao', 'unbinned']"
      ]
     },
     "execution_count": 97,
     "metadata": {},
     "output_type": "execute_result"
    }
   ],
   "source": [
    "profiles"
   ]
  },
  {
   "cell_type": "code",
   "execution_count": 98,
   "metadata": {
    "collapsed": false
   },
   "outputs": [
    {
     "data": {
      "text/plain": [
       "{'a': 1,\n",
       " 'b': 1,\n",
       " 'beta': -1,\n",
       " 'c': 3,\n",
       " 'error_beta': 0.01,\n",
       " 'error_c': 0.01,\n",
       " 'fix_a': True,\n",
       " 'fix_b': True,\n",
       " 'fix_rh': True,\n",
       " 'rh': 0.1}"
      ]
     },
     "execution_count": 98,
     "metadata": {},
     "output_type": "execute_result"
    }
   ],
   "source": [
    "Minuit_settings"
   ]
  }
 ],
 "metadata": {
  "kernelspec": {
   "display_name": "Python 2",
   "language": "python",
   "name": "python2"
  },
  "language_info": {
   "codemirror_mode": {
    "name": "ipython",
    "version": 2
   },
   "file_extension": ".py",
   "mimetype": "text/x-python",
   "name": "python",
   "nbconvert_exporter": "python",
   "pygments_lexer": "ipython2",
   "version": "2.7.6"
  }
 },
 "nbformat": 4,
 "nbformat_minor": 0
}
