{
 "cells": [
  {
   "cell_type": "code",
   "execution_count": 22,
   "metadata": {
    "collapsed": false
   },
   "outputs": [],
   "source": [
    "import yaml\n",
    "import itertools\n",
    "import numpy as np\n",
    "import pylab as plt\n",
    "from math import *\n",
    "from types import *\n",
    "from operator import itemgetter\n",
    "from scipy.special import hyp2f1\n",
    "from inspect import getargspec\n",
    "from iminuit import Minuit,util\n",
    "%matplotlib inline"
   ]
  },
  {
   "cell_type": "code",
   "execution_count": 43,
   "metadata": {
    "collapsed": true
   },
   "outputs": [],
   "source": [
    "class ZhaoProfiles(object):\n",
    "    \"\"\" Class defining the mass and density of the Zhao profile \"\"\"\n",
    "    \n",
    "    def __init__(self, *params):\n",
    "        self.params = params\n",
    "    \n",
    "    def density(self,x):\n",
    "        a, b, c = self.params\n",
    "        return 1. / x**c / (1.+x**a)**((b-c) / a)\n",
    "\n",
    "    def mass(self, x):\n",
    "        a, b, c = self.params\n",
    "        return x**(3.-a) * hyp2f1( (3-a)/b, (c-a)/b, (b-a+3.)/b, -x**b )"
   ]
  },
  {
   "cell_type": "code",
   "execution_count": 44,
   "metadata": {
    "collapsed": true
   },
   "outputs": [],
   "source": [
    "class DMprofile(object):\n",
    "    \"\"\" Class returning the DM mass and density functions,\n",
    "        depending on the profile chosen \"\"\"\n",
    "\n",
    "    def __init__(self, profiles):\n",
    "        if 'core' in profiles:\n",
    "            self.profile = ZhaoProfiles(1.,3.,0.)\n",
    "\n",
    "    def DM_density(self, x):\n",
    "        return self.profile.density(x) \n",
    "\n",
    "    def DM_mass(self,x):\n",
    "        return self.profile.mass(x)"
   ]
  },
  {
   "cell_type": "code",
   "execution_count": 44,
   "metadata": {
    "collapsed": true
   },
   "outputs": [],
   "source": [
    "class SigmaLOS(object):\n",
    "    def __init__(self, *funcs):\n",
    "        self.funcs = funcs\n",
    "    \n",
    "    def get_signature(self):\n",
    "        func_args = []\n",
    "        for func in self.funcs:\n",
    "            func_args.append(self.get_args_func(func))\n",
    "        return list(itertools.chain(*func_args))\n",
    "    \n",
    "    def get_args_func(self,func):\n",
    "        signature = getargspec(func)[0]\n",
    "        if signature[0] == 'x':\n",
    "            return signature[1:]\n",
    "        else:\n",
    "            raise ValueError, 'first argument should be \"x\"'\n",
    "    \n",
    "    def __call__(self, *freepars):\n",
    "        result = np.empty_like(self.funcs)\n",
    "        l = 0 \n",
    "        for i,func in enumerate(self.funcs):\n",
    "            num_args = len(self.get_args_func(func))\n",
    "            func_vals = freepars[l:num_args+l]\n",
    "            l += num_args\n",
    "            result[i] = func(self.data[0],*func_vals)\n",
    "        \n",
    "        return np.power(result.prod() - self.data[1],2).sum()"
   ]
  },
  {
   "cell_type": "code",
   "execution_count": null,
   "metadata": {
    "collapsed": true
   },
   "outputs": [],
   "source": [
    "class loglike(object):    \n",
    "    def __init__(self, data, sigma, like='Gauss'):\n",
    "        self.R = data[0]\n",
    "        self.v = data[1]\n",
    "        self.dv = data[2]\n",
    "        self.sigma = sigma\n",
    "        self.like = like\n",
    "    \n",
    "    def GaussLike(self, *params):\n",
    "        term1 = 0.5*np.power(self.v-self.v.mean(),2) / (self.sigma(*params))\n",
    "        term2 = np.log(self.sigma(*params) + self.dv**2)\n",
    "        return (term1 + term2).sum()\n",
    "    \n",
    "    def __call__(self, *freepars):\n",
    "        if self.like=='Gauss':\n",
    "            return self.GaussLike(*freepars)"
   ]
  },
  {
   "cell_type": "code",
   "execution_count": 45,
   "metadata": {
    "collapsed": false
   },
   "outputs": [
    {
     "data": {
      "text/plain": [
       "['c', 'd', 'a']"
      ]
     },
     "execution_count": 45,
     "metadata": {},
     "output_type": "execute_result"
    }
   ],
   "source": [
    "LL = loglike((x_arr, y_arr),h,f)\n",
    "LL.get_signature()"
   ]
  },
  {
   "cell_type": "code",
   "execution_count": 46,
   "metadata": {
    "collapsed": true
   },
   "outputs": [],
   "source": [
    "class Fitter(object):\n",
    "    def __init__(self, loglike):\n",
    "        self.loglike = loglike\n",
    "        global_loglike = loglike\n",
    "        self.settings = {'errordef':0.5,'print_level':1,'pedantic':False}\n",
    "        \n",
    "    def sync(self):\n",
    "        for key in self.loglike.get_signature():\n",
    "            self.settings[key] = 1.\n",
    "            self.settings['error_%s'%key] = 0.01\n",
    "        return self.settings\n",
    "    \n",
    "    def MinuitFit(self, **kwargs):\n",
    "        settings = self.sync()\n",
    "        freepars = self.loglike.get_signature()\n",
    "        strargs = \", \".join(freepars)\n",
    "        fit_func = eval(\"lambda {args} : global_loglike({args})\".format(args=strargs))\n",
    "        mm = Minuit(fit_func, **settings)\n",
    "        if 'tol' in kwargs: \n",
    "            mm.tol = kwargs['tol']\n",
    "        fitresult = mm.migrad()\n",
    "        return fitresult"
   ]
  },
  {
   "cell_type": "code",
   "execution_count": 47,
   "metadata": {
    "collapsed": false
   },
   "outputs": [
    {
     "data": {
      "text/html": [
       "<hr>"
      ]
     },
     "metadata": {},
     "output_type": "display_data"
    },
    {
     "data": {
      "text/html": [
       "\n",
       "        <table>\n",
       "            <tr>\n",
       "                <td title=\"Minimum value of function\">FCN = 1.71600742665e-06</td>\n",
       "                <td title=\"Total number of call to FCN so far\">TOTAL NCALL = 87</td>\n",
       "                <td title=\"Number of call in last migrad\">NCALLS = 87</td>\n",
       "            </tr>\n",
       "            <tr>\n",
       "                <td title=\"Estimated distance to minimum\">EDM = 1.71572751717e-06</td>\n",
       "                <td title=\"Maximum EDM definition of convergence\">GOAL EDM = 5e-06</td>\n",
       "                <td title=\"Error def. Amount of increase in FCN to be defined as 1 standard deviation\">\n",
       "                UP = 0.5</td>\n",
       "            </tr>\n",
       "        </table>\n",
       "        \n",
       "        <table>\n",
       "            <tr>\n",
       "                <td align=\"center\" title=\"Validity of the migrad call\">Valid</td>\n",
       "                <td align=\"center\" title=\"Validity of parameters\">Valid Param</td>\n",
       "                <td align=\"center\" title=\"Is Covariance matrix accurate?\">Accurate Covar</td>\n",
       "                <td align=\"center\" title=\"Positive definiteness of covariance matrix\">PosDef</td>\n",
       "                <td align=\"center\" title=\"Was covariance matrix made posdef by adding diagonal element\">Made PosDef</td>\n",
       "            </tr>\n",
       "            <tr>\n",
       "                <td align=\"center\" style=\"background-color:#92CCA6\">True</td>\n",
       "                <td align=\"center\" style=\"background-color:#92CCA6\">True</td>\n",
       "                <td align=\"center\" style=\"background-color:#92CCA6\">True</td>\n",
       "                <td align=\"center\" style=\"background-color:#92CCA6\">True</td>\n",
       "                <td align=\"center\" style=\"background-color:#92CCA6\">False</td>\n",
       "            </tr>\n",
       "            <tr>\n",
       "                <td align=\"center\" title=\"Was last hesse call fail?\">Hesse Fail</td>\n",
       "                <td align=\"center\" title=\"Validity of covariance\">HasCov</td>\n",
       "                <td align=\"center\" title=\"Is EDM above goal EDM?\">Above EDM</td>\n",
       "                <td align=\"center\"></td>\n",
       "                <td align=\"center\" title=\"Did last migrad call reach max call limit?\">Reach calllim</td>\n",
       "            </tr>\n",
       "            <tr>\n",
       "                <td align=\"center\" style=\"background-color:#92CCA6\">False</td>\n",
       "                <td align=\"center\" style=\"background-color:#92CCA6\">True</td>\n",
       "                <td align=\"center\" style=\"background-color:#92CCA6\">False</td>\n",
       "                <td align=\"center\"></td>\n",
       "                <td align=\"center\" style=\"background-color:#92CCA6\">False</td>\n",
       "            </tr>\n",
       "        </table>\n",
       "        "
      ]
     },
     "metadata": {},
     "output_type": "display_data"
    },
    {
     "data": {
      "text/html": [
       "\n",
       "        <table>\n",
       "            <tr>\n",
       "                <td><a href=\"#\" onclick=\"$('#sxGUUzCWnR').toggle()\">+</a></td>\n",
       "                <td title=\"Variable name\">Name</td>\n",
       "                <td title=\"Value of parameter\">Value</td>\n",
       "                <td title=\"Parabolic error\">Parab Error</td>\n",
       "                <td title=\"Minos lower error\">Minos Error-</td>\n",
       "                <td title=\"Minos upper error\">Minos Error+</td>\n",
       "                <td title=\"Lower limit of the parameter\">Limit-</td>\n",
       "                <td title=\"Upper limit of the parameter\">Limit+</td>\n",
       "                <td title=\"Is the parameter fixed in the fit\">FIXED</td>\n",
       "            </tr>\n",
       "        \n",
       "            <tr>\n",
       "                <td>1</td>\n",
       "                <td>c</td>\n",
       "                <td>3.000023e+00</td>\n",
       "                <td>1.698859e-02</td>\n",
       "                <td>0.000000e+00</td>\n",
       "                <td>0.000000e+00</td>\n",
       "                <td></td>\n",
       "                <td></td>\n",
       "                <td></td>\n",
       "            </tr>\n",
       "            \n",
       "            <tr>\n",
       "                <td>2</td>\n",
       "                <td>d</td>\n",
       "                <td>1.999890e+00</td>\n",
       "                <td>1.459450e-01</td>\n",
       "                <td>0.000000e+00</td>\n",
       "                <td>0.000000e+00</td>\n",
       "                <td></td>\n",
       "                <td></td>\n",
       "                <td></td>\n",
       "            </tr>\n",
       "            \n",
       "            <tr>\n",
       "                <td>3</td>\n",
       "                <td>a</td>\n",
       "                <td>1.999239e+00</td>\n",
       "                <td>8.286725e-01</td>\n",
       "                <td>0.000000e+00</td>\n",
       "                <td>0.000000e+00</td>\n",
       "                <td></td>\n",
       "                <td></td>\n",
       "                <td></td>\n",
       "            </tr>\n",
       "            \n",
       "            </table>\n",
       "        \n",
       "            <pre id=\"sxGUUzCWnR\" style=\"display:none;\">\n",
       "            <textarea rows=\"12\" cols=\"50\" onclick=\"this.select()\" readonly>\\begin{tabular}{|c|r|r|r|r|r|r|r|c|}\n",
       "\\hline\n",
       " & Name & Value & Para Error & Error+ & Error- & Limit+ & Limit- & FIXED\\\\\n",
       "\\hline\n",
       "1 & c & 3.000e+00 & 1.699e-02 &  &  &  &  & \\\\\n",
       "\\hline\n",
       "2 & d & 2.000e+00 & 1.459e-01 &  &  &  &  & \\\\\n",
       "\\hline\n",
       "3 & a & 1.999e+00 & 8.287e-01 &  &  &  &  & \\\\\n",
       "\\hline\n",
       "\\end{tabular}</textarea>\n",
       "            </pre>\n",
       "            "
      ]
     },
     "metadata": {},
     "output_type": "display_data"
    },
    {
     "data": {
      "text/html": [
       "<hr>"
      ]
     },
     "metadata": {},
     "output_type": "display_data"
    },
    {
     "data": {
      "text/plain": [
       "({'hesse_failed': False, 'has_reached_call_limit': False, 'has_accurate_covar': True, 'has_posdef_covar': True, 'up': 0.5, 'edm': 1.7157275171655186e-06, 'is_valid': True, 'is_above_max_edm': False, 'has_covariance': True, 'has_made_posdef_covar': False, 'has_valid_parameters': True, 'fval': 1.716007426647748e-06, 'nfcn': 87},\n",
       " [{'is_const': False, 'name': 'c', 'has_limits': False, 'value': 3.0000228125505197, 'number': 0, 'has_lower_limit': False, 'upper_limit': 0.0, 'lower_limit': 0.0, 'has_upper_limit': False, 'error': 0.016988587942543723, 'is_fixed': False},\n",
       "  {'is_const': False, 'name': 'd', 'has_limits': False, 'value': 1.9998896430788096, 'number': 1, 'has_lower_limit': False, 'upper_limit': 0.0, 'lower_limit': 0.0, 'has_upper_limit': False, 'error': 0.14594503714370397, 'is_fixed': False},\n",
       "  {'is_const': False, 'name': 'a', 'has_limits': False, 'value': 1.9992392498110232, 'number': 2, 'has_lower_limit': False, 'upper_limit': 0.0, 'lower_limit': 0.0, 'has_upper_limit': False, 'error': 0.8286725089591633, 'is_fixed': False}])"
      ]
     },
     "execution_count": 47,
     "metadata": {},
     "output_type": "execute_result"
    }
   ],
   "source": [
    "global global_loglike\n",
    "global_loglike = LL\n",
    "\n",
    "m = MinuitFitter(LL)\n",
    "m.fit()"
   ]
  },
  {
   "cell_type": "code",
   "execution_count": null,
   "metadata": {
    "collapsed": true
   },
   "outputs": [],
   "source": []
  }
 ],
 "metadata": {
  "kernelspec": {
   "display_name": "Python 2",
   "language": "python",
   "name": "python2"
  },
  "language_info": {
   "codemirror_mode": {
    "name": "ipython",
    "version": 2
   },
   "file_extension": ".py",
   "mimetype": "text/x-python",
   "name": "python",
   "nbconvert_exporter": "python",
   "pygments_lexer": "ipython2",
   "version": "2.7.6"
  }
 },
 "nbformat": 4,
 "nbformat_minor": 0
}
