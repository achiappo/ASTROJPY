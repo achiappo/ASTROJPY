{
 "cells": [
  {
   "cell_type": "markdown",
   "metadata": {},
   "source": [
    "# computation of the line-of-sight velocity dispersion of a stellar system\n",
    "\n",
    "This is a standard spherical Jeans analysis, that proceeds as follows :\n",
    "* choose a 2D surface brightness profile $I(R)$ for the stellar system. This defines the 3D stellar density $\\nu(r)$ as well.\n",
    "* Choose a sDM density rho(r), which also yields its integral mass within radius $s$ $M(s)$\n",
    "* Then apply the following two equations to obtain $\\sigma^2_{los}$:\n",
    "\\begin{align}\n",
    "\\sigma^2_{los} &= \\frac{2}{I(R)}\\int_R^\\infty \\left(1-\\beta\\frac{R^2}{r^2}\\right)\\nu(r)\\sigma^2(r)\\frac{r{\\rm d}r}{\\sqrt{r^2-R^2}}\\\\\n",
    "\\nu(r)\\sigma^2(r) &= \\int_r^\\infty \\left(\\frac{s}{r}\\right)^{2\\beta}\\nu(s)\\frac{GM(s)}{s^2}{\\rm d}s\n",
    "\\end{align}\n"
   ]
  },
  {
   "cell_type": "markdown",
   "metadata": {},
   "source": [
    "A common choice for the stellar density and surface brightness is the so-called Plummer profile :\n",
    "\\begin{align}\n",
    "\\nu(r) &= \\frac{\\rho_h}{\\left(1+(\\frac{r}{r_h})^2\\right)^{5/2}} \\\\\n",
    "I(R) &= \\frac{4}{3}\\frac{\\rho_h r_h}{\\left(1+(\\frac{R}{r_h})^2\\right)^2}\n",
    "\\end{align}"
   ]
  },
  {
   "cell_type": "code",
   "execution_count": 421,
   "metadata": {
    "collapsed": false
   },
   "outputs": [],
   "source": [
    "def nu(r,rh,rhoh):\n",
    "    return rhoh * (1 + (r/rh)**2)**(-5./2.)\n",
    "def I(R,rh,rhoh):\n",
    "    return 4./3. * rh*rhoh/(1+(R/rh)**2)**2"
   ]
  },
  {
   "cell_type": "markdown",
   "metadata": {},
   "source": [
    "For the spherical Dark Matter profile, we will use the generalized NFW profile :\n",
    "\\begin{equation}\n",
    "\\rho(r) = \\frac{\\rho_0}{\\left(\\frac{r}{r_0}\\right)^a\\left(1+(\\frac{r}{r_0})^b\\right)^\\frac{c-a}{b}}\n",
    "\\end{equation}\n",
    "with the standard NFW profile corresponding to $(a,b,c)=(1,1,3)$.\n",
    "The enclosed mass can be analytically computed :\n",
    "\\begin{align}\n",
    "M(s) &= \\int_0^s 4\\pi r^2 \\rho(r){\\rm d}r \\\\\n",
    "     &= 4\\pi\\rho_0 r_0^3 \\int_0^{s/r_0} \\frac{x^{2-a}}{(1+x^b)^\\frac{c-a}{b}} {\\rm d}x \\\\\n",
    "     &= \\frac{4\\pi\\rho_0 r_0^3}{(3 - a)} x^{3 - a}{}_2F_1\\left[\\frac{3 - a}{b}, \\frac{-a + c}{b}, \\frac{3 - a + b}{b}, -x^b\\right]\\quad x=\\frac{s}{r_0}\\\\\n",
    "     &= \\mu_0\\;\\mu(x)\n",
    "\\end{align}\n",
    "\n",
    "In the strict NFW case, with $(a,b,c)=(1,1,3)$, the integral simplifies into $\\mu(x)=\\ln(1+x)-\\frac{x}{1+x}$, and $\\mu_0=4\\pi\\rho_0 r_0^3$\n",
    "\n",
    "This results in :\n",
    "\\begin{align}\n",
    "\\nu(r)\\sigma^2(r) &= G\\mu_0\\;r^{-2\\beta}\\;\\int_r^\\infty s^{2\\beta}\\nu(s)\\frac{\\mu(s/r_0)}{s^2}{\\rm d}s\\\\\n",
    "&= G\\mu_0\\rho_h\\;r^{-2\\beta}\\;\\int_r^\\infty \\frac{s^{2\\beta}}{\\left(1+(\\frac{s}{r_h})^2\\right)^{5/2}}\\frac{\\mu(s/r_0)}{s^2}{\\rm d}s\\\\\n",
    "&= G\\mu_0\\rho_hr_h^{-1}\\;\\left(\\frac{r}{r_h}\\right)^{-2\\beta}\\;\\int_\\frac{r}{r_h}^\\infty \\frac{y^{2\\beta-2}}{\\left(1+y^2\\right)^{5/2}}\\mu(y\\,r_h/r_0){\\rm d}y \\quad\\quad y=s/r_h\\\\\n",
    "\\sigma^2_{los}(R) &= \\frac{2G\\mu_0\\rho_hr_h^{-1}}{I(R)}\\int_R^\\infty \\left(1-\\beta\\frac{R^2}{r^2}\\right)\\frac{r{\\rm d}r}{\\sqrt{r^2-R^2}}\\left(\\frac{r}{r_h}\\right)^{-2\\beta}\\;\\int_\\frac{r}{r_h}^\\infty \\frac{y^{2\\beta-2}}{\\left(1+y^2\\right)^{5/2}}\\mu(y\\,r_h/r_0){\\rm d}y\\\\\n",
    "&= \\frac{2G\\mu_0\\rho_h}{I(R)}\\left(\\frac{R}{r_h}\\right)^{1-2\\beta}\\int_1^\\infty \\left(1-\\frac{\\beta}{z^2}\\right)\\frac{z^{1-2\\beta}{\\rm d}z}{\\sqrt{z^2-1}}\\;\\int_\\frac{zR}{r_h}^\\infty \\frac{y^{2\\beta-2}}{\\left(1+y^2\\right)^{5/2}}\\mu(y\\,r_h/r_0){\\rm d}y\n",
    "\\end{align}\n",
    "\n",
    "We can note the following :\n",
    "* $\\rho_h/I(R)$ is independent of $\\rho_h$, which thus can be set arbitrarily to 1;\n",
    "* if we neglect the dependency on $r_0$ of the double integral for a moment, we can immediately see that $\\rho_0$ and $r_0$ are quite degenerate, as they appear in $\\sigma_{los}$ as a product $\\rho_0r_0^3$. This fact also justifies that one may be better off using the parameter $M_0=\\rho_0r_0^3$ instead of $\\rho_0$;\n",
    "* a minimization procedure will be penalized if it requires recomputation of the double integral each time it changes $\\rho_0$ only. The easiest way out in case of a Likelihood formulation is to use a profiled likelihood method, where $\\rho_0$ is fitted (fast evaluations) while $r_s$ is scanned over (slow double integrand computation, but performed only once per $r_s$ value);\n",
    "* units are carried over to $\\sigma^2_{los}$ by the product $GM_0/r_h$, which usually is to be defined in km$^2$s$^{-2}$, while $r_h$ (together with $r_0$ and $R$) is given in kpc. Donc :\n",
    "\\begin{equation}\n",
    "\\frac{GM_0[\\rm kg]}{r_h[\\rm m]}\\; {\\rm m^2}{\\rm s}^{-2} = 4.3\\,10^{-6} \\frac{M[M_\\odot]}{r_h[\\rm kpc]} \\; {\\rm km^2}{\\rm s}^{-2} \n",
    "\\end{equation}\n",
    "\n",
    "which means that a galaxy with mass $10^6-10^8$ solar masses will result in a line-of-sight squared velocity dispersion of order $1-10^2 \\;{\\rm km}^2{\\rm s}^{-2} $\n"
   ]
  },
  {
   "cell_type": "code",
   "execution_count": 422,
   "metadata": {
    "collapsed": true
   },
   "outputs": [],
   "source": [
    "from scipy import special\n",
    "import numpy as np\n",
    "from matplotlib import pylab as plt\n",
    "from scipy.integrate import quad,quadrature\n",
    "%matplotlib inline"
   ]
  },
  {
   "cell_type": "code",
   "execution_count": 423,
   "metadata": {
    "collapsed": false
   },
   "outputs": [
    {
     "data": {
      "text/plain": [
       "[<matplotlib.lines.Line2D at 0x7fbe84d48990>]"
      ]
     },
     "execution_count": 423,
     "metadata": {},
     "output_type": "execute_result"
    },
    {
     "data": {
      "image/png": "[encoded data removed]",
      "text/plain": [
       "<matplotlib.figure.Figure at 0x7fbe846f4290>"
      ]
     },
     "metadata": {},
     "output_type": "display_data"
    }
   ],
   "source": [
    "# Contained mass of the DM halo : generalized NFW\n",
    "a=1.\n",
    "b=1.\n",
    "c=3.\n",
    "def mu(x):\n",
    "    return x**(3.-a)*special.hyp2f1((3.-a)/b, (c-a)/b, (-a+b+3.)/b,-x**b)\n",
    "\n",
    "def dmass(u,a,b,c):\n",
    "    #return pow( u, 2.-a)/pow(1. + pow(u,b), (c-a)/b )\n",
    "    return u/(1. + u)**2\n",
    "\n",
    "def get_M(x):\n",
    "    return quad(dmass, 0., x, args=(a,b,c))[0]\n",
    "\n",
    "def get_M_NFW(x):\n",
    "    #this is the analytic formula\n",
    "    #the constant is 4pi*rho0*rs^3\n",
    "    return np.log(1.+x)-x/(1.+x)\n",
    "    \n",
    "    \n",
    "x = np.linspace(0, 1000, 100)\n",
    "yy = [get_M(xx) for xx in x]\n",
    "plt.plot(x,mu(x)/(3.-a),'k')\n",
    "plt.plot(x,yy, 'b')\n",
    "plt.plot(x,get_M_NFW(x),'.r')\n",
    "# The special function breaks out at 10^14, before the quad integration start showing issues"
   ]
  },
  {
   "cell_type": "code",
   "execution_count": 424,
   "metadata": {
    "collapsed": false
   },
   "outputs": [
    {
     "data": {
      "text/plain": [
       "<matplotlib.legend.Legend at 0x7fbe84d1bad0>"
      ]
     },
     "execution_count": 424,
     "metadata": {},
     "output_type": "execute_result"
    },
    {
     "data": {
      "image/png": "[encoded data removed]",
      "text/plain": [
       "<matplotlib.figure.Figure at 0x7fbe84d1b250>"
      ]
     },
     "metadata": {},
     "output_type": "display_data"
    }
   ],
   "source": [
    "beta=-0.005\n",
    "def integrand1(y, alpha):\n",
    "    result = nu(y, 1, 1)*get_M_NFW(y*alpha)/y**(2.-2.*beta)\n",
    "    return result\n",
    "\n",
    "#alpha=rh/r0\n",
    "#start=zR/rh\n",
    "alpha=1\n",
    "start=1.e-5\n",
    "for alpha in [0.1,1,10]:\n",
    "    int1_y=np.linspace(1.e-5, 10, 1000)\n",
    "    plt.loglog(int1_y, integrand1(int1_y, alpha),label=\"rh/r0=%.1f\"%alpha)\n",
    "plt.legend(loc=3)\n",
    "\n"
   ]
  },
  {
   "cell_type": "markdown",
   "metadata": {},
   "source": [
    "One can see in the plot above that the first integrand scales at $\\alpha^2$ with $\\alpha=r_h/r_0$. This is due to the fact that $M(s)$ goes like $s^2$ at small $s$ for an NFW profile. \n",
    "Then the first integrand cuts off at large $y$ with a weak dependency on $\\alpha$ :  at large $y$, the integrand goes like $y^{-5}y^{2\\beta-2}\\log(\\alpha x)$ so the numerical integration to infinity should really be well-behaved."
   ]
  },
  {
   "cell_type": "code",
   "execution_count": 425,
   "metadata": {
    "collapsed": false
   },
   "outputs": [],
   "source": [
    "def integral1(ymin,alpha):\n",
    "    res,err = quad(integrand1, ymin, +np.inf, args=(alpha) )\n",
    "    return res, err\n",
    "\n",
    "ymin_array=np.logspace(-4,6,100)\n",
    "alpha_array=np.logspace(-4,4,100)\n",
    "res_array=np.zeros((100,100))\n",
    "err_array=np.zeros((100,100))\n",
    "for i,ymin in enumerate(ymin_array):\n",
    "    for j,alpha in enumerate(alpha_array):\n",
    "        res_array[i,j], err_array[i,j]=integral1(ymin,alpha)"
   ]
  },
  {
   "cell_type": "code",
   "execution_count": 426,
   "metadata": {
    "collapsed": false
   },
   "outputs": [
    {
     "name": "stdout",
     "output_type": "stream",
     "text": [
      "3.37266536124e-09\n"
     ]
    },
    {
     "data": {
      "image/png": "[encoded data removed]",
      "text/plain": [
       "<matplotlib.figure.Figure at 0x7fbe8488c5d0>"
      ]
     },
     "metadata": {},
     "output_type": "display_data"
    }
   ],
   "source": [
    "plt.pcolor(np.log10(ymin_array), np.log10(alpha_array),np.log10(res_array))\n",
    "plt.colorbar()\n",
    "plt.ylabel(r\"$\\alpha=r_h/r_0$\")\n",
    "plt.xlabel(r\"$zR/r_h$\")\n",
    "print res_array[0,0]"
   ]
  },
  {
   "cell_type": "code",
   "execution_count": 427,
   "metadata": {
    "collapsed": false
   },
   "outputs": [
    {
     "data": {
      "text/plain": [
       "<matplotlib.colorbar.Colorbar instance at 0x7fbe8366a2d8>"
      ]
     },
     "execution_count": 427,
     "metadata": {},
     "output_type": "execute_result"
    },
    {
     "data": {
      "image/png": "[encoded data removed]",
      "text/plain": [
       "<matplotlib.figure.Figure at 0x7fbe85b5e550>"
      ]
     },
     "metadata": {},
     "output_type": "display_data"
    }
   ],
   "source": [
    "plt.pcolor(np.log10(res_array/err_array))\n",
    "plt.colorbar()"
   ]
  },
  {
   "cell_type": "code",
   "execution_count": 428,
   "metadata": {
    "collapsed": true
   },
   "outputs": [],
   "source": [
    "def integrand2(z, alpha, beta, gamma):\n",
    "    #gamma=R/rh\n",
    "    result = (1.-beta/z**2) * z**(1.-2.*beta)/np.sqrt(z*z-1.)\n",
    "    res, err = integral1(gamma*z, alpha)\n",
    "    return result * res\n",
    "    "
   ]
  },
  {
   "cell_type": "code",
   "execution_count": 429,
   "metadata": {
    "collapsed": false
   },
   "outputs": [
    {
     "name": "stdout",
     "output_type": "stream",
     "text": [
      "(3.690999830810866e-07, 4.0118347711574595e-11)\n"
     ]
    }
   ],
   "source": [
    "def integral2(alpha, beta, gamma):\n",
    "    res, err = quad(integrand2, 1., +np.inf, args=(alpha, beta, gamma) )\n",
    "    return res, err\n",
    "\n",
    "print integral2(10, beta, 10)"
   ]
  },
  {
   "cell_type": "markdown",
   "metadata": {},
   "source": [
    "#Likelihood formalism\n",
    "\n",
    "\\begin{align}\n",
    "L &= \\prod_{i=1}^N\\frac{e^{-\\frac{(v_i-u)^2}{2\\sigma_i^2}}}{\\sqrt{2\\pi\\sigma_i^2}} \\quad{\\rm with }\\quad \\sigma_i^2=\\epsilon_i^2+\\sigma_{los}^2(R_i,\\rho_0, r_0) \\\\\n",
    "{\\cal L} = -\\log L &= \\frac{1}{2}\\sum_{i=1}^N\\left[\\log(2\\pi\\sigma_i^2)+\\frac{(v_i-u)^2}{\\sigma_i^2}\\right]\n",
    "\\end{align}\n",
    "\n",
    "We can forget about the $2\\pi$ in the minimization, but we can be clever about the way to proceed with minimizing ${\\cal L}$, as mentioned above. First we need to look at typical data"
   ]
  },
  {
   "cell_type": "code",
   "execution_count": 430,
   "metadata": {
    "collapsed": false
   },
   "outputs": [],
   "source": [
    "from os import mkdir\n",
    "def get_data(gal):\n",
    "\n",
    " #  Read the parameter from the input file\n",
    "    data = open('data/params/params_'+gal+'.dat','r').readlines()\n",
    "    parameters = []\n",
    "    for line in data:\n",
    "        parameters.append(line.split(','))\n",
    "\n",
    "    dwarfname = str(parameters[0][0])             # name of the dwarf\n",
    "    D         = float(parameters[1][0])           # distance to galaxy in kpc\n",
    "    rh        = float(parameters[2][0])           # half-light radius\n",
    "    rt        = float(parameters[3][0])           # tidal radius \n",
    "    like_val  = float(parameters[4][0])           # initial (arbitrary) value of the likelihood\n",
    "    pmin = np.empty([0])\n",
    "    pmax = np.empty([0])\n",
    "    for i in range(5,len(data)):                        \n",
    "        pmin = np.append(pmin,float(parameters[i][0]))  # extract min,max values of M300pc[Msun],log10(rs[kpc])\n",
    "        pmax = np.append(pmax,float(parameters[i][1]))  # beta(velocity anisotropy) a,b,c NFW shape parameters\n",
    "    \n",
    "    x,v,dv = np.loadtxt('data/velocities/velocities_'+gal+'.dat',dtype=float,usecols=(0,1,2),unpack=True)\n",
    "    nstars = len(x)\n",
    "    ave = v.mean()\n",
    "    vsys_min = ave-6.e0\n",
    "    vsys_max = ave+6.e0\n",
    " # Overwrite systematic velocity?\n",
    "    pmin  = np.append(pmin,vsys_min)\n",
    "    pmax  = np.append(pmax,vsys_max)\n",
    "    pa    = 0.5*(pmax+pmin)\n",
    "    pa[0] = 10.**pa[0]\n",
    "    pa[1] = 10.**pa[1]\n",
    "\n",
    "    return x,v,dv,rh,rt,nstars,D,pa\n",
    "\n",
    "dwarf = 'umaI'\n",
    "#mkdir('/home/andrea/Desktop/work/DWARF/Jvalue/output/%s'%dwarf)\n",
    "data = get_data(dwarf)\n",
    "R=data[0]\n",
    "v=data[1]\n",
    "dv=data[2]\n",
    "rh=data[3]\n",
    "D=data[-2]\n",
    "u=v.mean()\n",
    "dv2 = (v-u)**2"
   ]
  },
  {
   "cell_type": "code",
   "execution_count": 431,
   "metadata": {
    "collapsed": false
   },
   "outputs": [
    {
     "name": "stdout",
     "output_type": "stream",
     "text": [
      "-55.6982051282\n",
      "5.14923076923 2.30111053693\n"
     ]
    },
    {
     "data": {
      "image/png": "[encoded data removed]",
      "text/plain": [
       "<matplotlib.figure.Figure at 0x7fbe82a716d0>"
      ]
     },
     "metadata": {},
     "output_type": "display_data"
    }
   ],
   "source": [
    "print v.mean() #this is u\n",
    "print dv.mean(), (v.std()/dv.mean())**2\n",
    "plt.errorbar(np.log10(R),v-v.mean(),dv,fmt='.',\n",
    "             label=r'$\\bar v = %.2f$'%v.mean()+'\\n'+r'$\\bar \\sigma_v = %.2f$'%dv.mean())\n",
    "plt.legend(numpoints=1,loc='upper left',fontsize=12)\n",
    "plt.savefig('output/%s/vel_%s.png'%(dwarf,dwarf),dpi=100,format='png')"
   ]
  },
  {
   "cell_type": "markdown",
   "metadata": {},
   "source": [
    "So the logical sequence would be :\n",
    "* load data from param file. This gives $r_h$, the arrays $R$, $v$, $dv$, and $u$ is the average of $v$. Thus we can readily compute the array $\\gamma$, with indice $i$, and then $A = \\gamma^{1-2\\beta}/I(R)$, where $\\rho_h$ is set to 1 and $\\gamma=R/r_h$. Remember that $r_h$ is provided in kpc, and there is another factor remaining : $8\\pi GM_0$, that we deal with later ($8\\pi G$ are kept in there to avoid numerical issues with small numbers, remember that in our units $G=4.3\\times10^{-6}$);\n",
    "* we define the array $r_0$ on which we are scanning ${\\cal L}$, with indice $j$. This defines the array $\\alpha=r_h/r_0$\n",
    "* we compute the matrix $X_{i,j} = A_i I_{i,j}$ where $I_{i,j}$ is the integral value computed with $(\\alpha_i,\\gamma_j)$\n",
    "* we compute ${\\cal L}$ which now is an array in $j$; and a function of $\\rho_0$, $M_0$, or $8\\pi GM_0$, arbitrarily."
   ]
  },
  {
   "cell_type": "code",
   "execution_count": 432,
   "metadata": {
    "collapsed": false
   },
   "outputs": [
    {
     "ename": "KeyboardInterrupt",
     "evalue": "",
     "output_type": "error",
     "traceback": [
      "\u001b[1;31m---------------------------------------------------------------------------\u001b[0m",
      "\u001b[1;31mKeyboardInterrupt\u001b[0m                         Traceback (most recent call last)",
      "\u001b[1;32m<ipython-input-432-200d943d6382>\u001b[0m in \u001b[0;36m<module>\u001b[1;34m()\u001b[0m\n\u001b[0;32m      9\u001b[0m \u001b[1;32mfor\u001b[0m \u001b[0mi\u001b[0m\u001b[1;33m,\u001b[0m\u001b[0mgamma\u001b[0m \u001b[1;32min\u001b[0m \u001b[0menumerate\u001b[0m\u001b[1;33m(\u001b[0m\u001b[0mgamma_array\u001b[0m\u001b[1;33m)\u001b[0m\u001b[1;33m:\u001b[0m\u001b[1;33m\u001b[0m\u001b[0m\n\u001b[0;32m     10\u001b[0m     \u001b[1;32mfor\u001b[0m \u001b[0mj\u001b[0m\u001b[1;33m,\u001b[0m\u001b[0malpha\u001b[0m \u001b[1;32min\u001b[0m \u001b[0menumerate\u001b[0m\u001b[1;33m(\u001b[0m\u001b[0malpha_array\u001b[0m\u001b[1;33m)\u001b[0m\u001b[1;33m:\u001b[0m\u001b[1;33m\u001b[0m\u001b[0m\n\u001b[1;32m---> 11\u001b[1;33m         \u001b[0mres\u001b[0m\u001b[1;33m,\u001b[0m\u001b[0merr\u001b[0m \u001b[1;33m=\u001b[0m \u001b[0mintegral2\u001b[0m\u001b[1;33m(\u001b[0m\u001b[0malpha\u001b[0m\u001b[1;33m,\u001b[0m\u001b[0mbeta\u001b[0m\u001b[1;33m,\u001b[0m\u001b[0mgamma\u001b[0m\u001b[1;33m)\u001b[0m\u001b[1;33m\u001b[0m\u001b[0m\n\u001b[0m\u001b[0;32m     12\u001b[0m         \u001b[1;31m#print res,err\u001b[0m\u001b[1;33m\u001b[0m\u001b[1;33m\u001b[0m\u001b[0m\n\u001b[0;32m     13\u001b[0m         \u001b[0mI_array\u001b[0m\u001b[1;33m[\u001b[0m\u001b[0mi\u001b[0m\u001b[1;33m,\u001b[0m\u001b[0mj\u001b[0m\u001b[1;33m]\u001b[0m \u001b[1;33m=\u001b[0m \u001b[0mres\u001b[0m \u001b[1;33m*\u001b[0m\u001b[0mA_array\u001b[0m\u001b[1;33m[\u001b[0m\u001b[0mi\u001b[0m\u001b[1;33m]\u001b[0m\u001b[1;33m\u001b[0m\u001b[0m\n",
      "\u001b[1;32m<ipython-input-429-39babf53d715>\u001b[0m in \u001b[0;36mintegral2\u001b[1;34m(alpha, beta, gamma)\u001b[0m\n\u001b[0;32m      1\u001b[0m \u001b[1;32mdef\u001b[0m \u001b[0mintegral2\u001b[0m\u001b[1;33m(\u001b[0m\u001b[0malpha\u001b[0m\u001b[1;33m,\u001b[0m \u001b[0mbeta\u001b[0m\u001b[1;33m,\u001b[0m \u001b[0mgamma\u001b[0m\u001b[1;33m)\u001b[0m\u001b[1;33m:\u001b[0m\u001b[1;33m\u001b[0m\u001b[0m\n\u001b[1;32m----> 2\u001b[1;33m     \u001b[0mres\u001b[0m\u001b[1;33m,\u001b[0m \u001b[0merr\u001b[0m \u001b[1;33m=\u001b[0m \u001b[0mquad\u001b[0m\u001b[1;33m(\u001b[0m\u001b[0mintegrand2\u001b[0m\u001b[1;33m,\u001b[0m \u001b[1;36m1.\u001b[0m\u001b[1;33m,\u001b[0m \u001b[1;33m+\u001b[0m\u001b[0mnp\u001b[0m\u001b[1;33m.\u001b[0m\u001b[0minf\u001b[0m\u001b[1;33m,\u001b[0m \u001b[0margs\u001b[0m\u001b[1;33m=\u001b[0m\u001b[1;33m(\u001b[0m\u001b[0malpha\u001b[0m\u001b[1;33m,\u001b[0m \u001b[0mbeta\u001b[0m\u001b[1;33m,\u001b[0m \u001b[0mgamma\u001b[0m\u001b[1;33m)\u001b[0m \u001b[1;33m)\u001b[0m\u001b[1;33m\u001b[0m\u001b[0m\n\u001b[0m\u001b[0;32m      3\u001b[0m     \u001b[1;32mreturn\u001b[0m \u001b[0mres\u001b[0m\u001b[1;33m,\u001b[0m \u001b[0merr\u001b[0m\u001b[1;33m\u001b[0m\u001b[0m\n\u001b[0;32m      4\u001b[0m \u001b[1;33m\u001b[0m\u001b[0m\n\u001b[0;32m      5\u001b[0m \u001b[1;32mprint\u001b[0m \u001b[0mintegral2\u001b[0m\u001b[1;33m(\u001b[0m\u001b[1;36m10\u001b[0m\u001b[1;33m,\u001b[0m \u001b[0mbeta\u001b[0m\u001b[1;33m,\u001b[0m \u001b[1;36m10\u001b[0m\u001b[1;33m)\u001b[0m\u001b[1;33m\u001b[0m\u001b[0m\n",
      "\u001b[1;32m/usr/lib/python2.7/dist-packages/scipy/integrate/quadpack.pyc\u001b[0m in \u001b[0;36mquad\u001b[1;34m(func, a, b, args, full_output, epsabs, epsrel, limit, points, weight, wvar, wopts, maxp1, limlst)\u001b[0m\n\u001b[0;32m    252\u001b[0m         \u001b[0margs\u001b[0m \u001b[1;33m=\u001b[0m \u001b[1;33m(\u001b[0m\u001b[0margs\u001b[0m\u001b[1;33m,\u001b[0m\u001b[1;33m)\u001b[0m\u001b[1;33m\u001b[0m\u001b[0m\n\u001b[0;32m    253\u001b[0m     \u001b[1;32mif\u001b[0m \u001b[1;33m(\u001b[0m\u001b[0mweight\u001b[0m \u001b[1;32mis\u001b[0m \u001b[0mNone\u001b[0m\u001b[1;33m)\u001b[0m\u001b[1;33m:\u001b[0m\u001b[1;33m\u001b[0m\u001b[0m\n\u001b[1;32m--> 254\u001b[1;33m         \u001b[0mretval\u001b[0m \u001b[1;33m=\u001b[0m \u001b[0m_quad\u001b[0m\u001b[1;33m(\u001b[0m\u001b[0mfunc\u001b[0m\u001b[1;33m,\u001b[0m\u001b[0ma\u001b[0m\u001b[1;33m,\u001b[0m\u001b[0mb\u001b[0m\u001b[1;33m,\u001b[0m\u001b[0margs\u001b[0m\u001b[1;33m,\u001b[0m\u001b[0mfull_output\u001b[0m\u001b[1;33m,\u001b[0m\u001b[0mepsabs\u001b[0m\u001b[1;33m,\u001b[0m\u001b[0mepsrel\u001b[0m\u001b[1;33m,\u001b[0m\u001b[0mlimit\u001b[0m\u001b[1;33m,\u001b[0m\u001b[0mpoints\u001b[0m\u001b[1;33m)\u001b[0m\u001b[1;33m\u001b[0m\u001b[0m\n\u001b[0m\u001b[0;32m    255\u001b[0m     \u001b[1;32melse\u001b[0m\u001b[1;33m:\u001b[0m\u001b[1;33m\u001b[0m\u001b[0m\n\u001b[0;32m    256\u001b[0m         \u001b[0mretval\u001b[0m \u001b[1;33m=\u001b[0m \u001b[0m_quad_weight\u001b[0m\u001b[1;33m(\u001b[0m\u001b[0mfunc\u001b[0m\u001b[1;33m,\u001b[0m\u001b[0ma\u001b[0m\u001b[1;33m,\u001b[0m\u001b[0mb\u001b[0m\u001b[1;33m,\u001b[0m\u001b[0margs\u001b[0m\u001b[1;33m,\u001b[0m\u001b[0mfull_output\u001b[0m\u001b[1;33m,\u001b[0m\u001b[0mepsabs\u001b[0m\u001b[1;33m,\u001b[0m\u001b[0mepsrel\u001b[0m\u001b[1;33m,\u001b[0m\u001b[0mlimlst\u001b[0m\u001b[1;33m,\u001b[0m\u001b[0mlimit\u001b[0m\u001b[1;33m,\u001b[0m\u001b[0mmaxp1\u001b[0m\u001b[1;33m,\u001b[0m\u001b[0mweight\u001b[0m\u001b[1;33m,\u001b[0m\u001b[0mwvar\u001b[0m\u001b[1;33m,\u001b[0m\u001b[0mwopts\u001b[0m\u001b[1;33m)\u001b[0m\u001b[1;33m\u001b[0m\u001b[0m\n",
      "\u001b[1;32m/usr/lib/python2.7/dist-packages/scipy/integrate/quadpack.pyc\u001b[0m in \u001b[0;36m_quad\u001b[1;34m(func, a, b, args, full_output, epsabs, epsrel, limit, points)\u001b[0m\n\u001b[0;32m    319\u001b[0m             \u001b[1;32mreturn\u001b[0m \u001b[0m_quadpack\u001b[0m\u001b[1;33m.\u001b[0m\u001b[0m_qagse\u001b[0m\u001b[1;33m(\u001b[0m\u001b[0mfunc\u001b[0m\u001b[1;33m,\u001b[0m\u001b[0ma\u001b[0m\u001b[1;33m,\u001b[0m\u001b[0mb\u001b[0m\u001b[1;33m,\u001b[0m\u001b[0margs\u001b[0m\u001b[1;33m,\u001b[0m\u001b[0mfull_output\u001b[0m\u001b[1;33m,\u001b[0m\u001b[0mepsabs\u001b[0m\u001b[1;33m,\u001b[0m\u001b[0mepsrel\u001b[0m\u001b[1;33m,\u001b[0m\u001b[0mlimit\u001b[0m\u001b[1;33m)\u001b[0m\u001b[1;33m\u001b[0m\u001b[0m\n\u001b[0;32m    320\u001b[0m         \u001b[1;32melse\u001b[0m\u001b[1;33m:\u001b[0m\u001b[1;33m\u001b[0m\u001b[0m\n\u001b[1;32m--> 321\u001b[1;33m             \u001b[1;32mreturn\u001b[0m \u001b[0m_quadpack\u001b[0m\u001b[1;33m.\u001b[0m\u001b[0m_qagie\u001b[0m\u001b[1;33m(\u001b[0m\u001b[0mfunc\u001b[0m\u001b[1;33m,\u001b[0m\u001b[0mbound\u001b[0m\u001b[1;33m,\u001b[0m\u001b[0minfbounds\u001b[0m\u001b[1;33m,\u001b[0m\u001b[0margs\u001b[0m\u001b[1;33m,\u001b[0m\u001b[0mfull_output\u001b[0m\u001b[1;33m,\u001b[0m\u001b[0mepsabs\u001b[0m\u001b[1;33m,\u001b[0m\u001b[0mepsrel\u001b[0m\u001b[1;33m,\u001b[0m\u001b[0mlimit\u001b[0m\u001b[1;33m)\u001b[0m\u001b[1;33m\u001b[0m\u001b[0m\n\u001b[0m\u001b[0;32m    322\u001b[0m     \u001b[1;32melse\u001b[0m\u001b[1;33m:\u001b[0m\u001b[1;33m\u001b[0m\u001b[0m\n\u001b[0;32m    323\u001b[0m         \u001b[1;32mif\u001b[0m \u001b[0minfbounds\u001b[0m \u001b[1;33m!=\u001b[0m \u001b[1;36m0\u001b[0m\u001b[1;33m:\u001b[0m\u001b[1;33m\u001b[0m\u001b[0m\n",
      "\u001b[1;32m<ipython-input-428-4c3f3437d6f6>\u001b[0m in \u001b[0;36mintegrand2\u001b[1;34m(z, alpha, beta, gamma)\u001b[0m\n\u001b[0;32m      2\u001b[0m     \u001b[1;31m#gamma=R/rh\u001b[0m\u001b[1;33m\u001b[0m\u001b[1;33m\u001b[0m\u001b[0m\n\u001b[0;32m      3\u001b[0m     \u001b[0mresult\u001b[0m \u001b[1;33m=\u001b[0m \u001b[1;33m(\u001b[0m\u001b[1;36m1.\u001b[0m\u001b[1;33m-\u001b[0m\u001b[0mbeta\u001b[0m\u001b[1;33m/\u001b[0m\u001b[0mz\u001b[0m\u001b[1;33m**\u001b[0m\u001b[1;36m2\u001b[0m\u001b[1;33m)\u001b[0m \u001b[1;33m*\u001b[0m \u001b[0mz\u001b[0m\u001b[1;33m**\u001b[0m\u001b[1;33m(\u001b[0m\u001b[1;36m1.\u001b[0m\u001b[1;33m-\u001b[0m\u001b[1;36m2.\u001b[0m\u001b[1;33m*\u001b[0m\u001b[0mbeta\u001b[0m\u001b[1;33m)\u001b[0m\u001b[1;33m/\u001b[0m\u001b[0mnp\u001b[0m\u001b[1;33m.\u001b[0m\u001b[0msqrt\u001b[0m\u001b[1;33m(\u001b[0m\u001b[0mz\u001b[0m\u001b[1;33m*\u001b[0m\u001b[0mz\u001b[0m\u001b[1;33m-\u001b[0m\u001b[1;36m1.\u001b[0m\u001b[1;33m)\u001b[0m\u001b[1;33m\u001b[0m\u001b[0m\n\u001b[1;32m----> 4\u001b[1;33m     \u001b[0mres\u001b[0m\u001b[1;33m,\u001b[0m \u001b[0merr\u001b[0m \u001b[1;33m=\u001b[0m \u001b[0mintegral1\u001b[0m\u001b[1;33m(\u001b[0m\u001b[0mgamma\u001b[0m\u001b[1;33m*\u001b[0m\u001b[0mz\u001b[0m\u001b[1;33m,\u001b[0m \u001b[0malpha\u001b[0m\u001b[1;33m)\u001b[0m\u001b[1;33m\u001b[0m\u001b[0m\n\u001b[0m\u001b[0;32m      5\u001b[0m     \u001b[1;32mreturn\u001b[0m \u001b[0mresult\u001b[0m \u001b[1;33m*\u001b[0m \u001b[0mres\u001b[0m\u001b[1;33m\u001b[0m\u001b[0m\n\u001b[0;32m      6\u001b[0m \u001b[1;33m\u001b[0m\u001b[0m\n",
      "\u001b[1;32m<ipython-input-425-9a845fbde714>\u001b[0m in \u001b[0;36mintegral1\u001b[1;34m(ymin, alpha)\u001b[0m\n\u001b[0;32m      1\u001b[0m \u001b[1;32mdef\u001b[0m \u001b[0mintegral1\u001b[0m\u001b[1;33m(\u001b[0m\u001b[0mymin\u001b[0m\u001b[1;33m,\u001b[0m\u001b[0malpha\u001b[0m\u001b[1;33m)\u001b[0m\u001b[1;33m:\u001b[0m\u001b[1;33m\u001b[0m\u001b[0m\n\u001b[1;32m----> 2\u001b[1;33m     \u001b[0mres\u001b[0m\u001b[1;33m,\u001b[0m\u001b[0merr\u001b[0m \u001b[1;33m=\u001b[0m \u001b[0mquad\u001b[0m\u001b[1;33m(\u001b[0m\u001b[0mintegrand1\u001b[0m\u001b[1;33m,\u001b[0m \u001b[0mymin\u001b[0m\u001b[1;33m,\u001b[0m \u001b[1;33m+\u001b[0m\u001b[0mnp\u001b[0m\u001b[1;33m.\u001b[0m\u001b[0minf\u001b[0m\u001b[1;33m,\u001b[0m \u001b[0margs\u001b[0m\u001b[1;33m=\u001b[0m\u001b[1;33m(\u001b[0m\u001b[0malpha\u001b[0m\u001b[1;33m)\u001b[0m \u001b[1;33m)\u001b[0m\u001b[1;33m\u001b[0m\u001b[0m\n\u001b[0m\u001b[0;32m      3\u001b[0m     \u001b[1;32mreturn\u001b[0m \u001b[0mres\u001b[0m\u001b[1;33m,\u001b[0m \u001b[0merr\u001b[0m\u001b[1;33m\u001b[0m\u001b[0m\n\u001b[0;32m      4\u001b[0m \u001b[1;33m\u001b[0m\u001b[0m\n\u001b[0;32m      5\u001b[0m \u001b[0mymin_array\u001b[0m\u001b[1;33m=\u001b[0m\u001b[0mnp\u001b[0m\u001b[1;33m.\u001b[0m\u001b[0mlogspace\u001b[0m\u001b[1;33m(\u001b[0m\u001b[1;33m-\u001b[0m\u001b[1;36m4\u001b[0m\u001b[1;33m,\u001b[0m\u001b[1;36m6\u001b[0m\u001b[1;33m,\u001b[0m\u001b[1;36m100\u001b[0m\u001b[1;33m)\u001b[0m\u001b[1;33m\u001b[0m\u001b[0m\n",
      "\u001b[1;32m/usr/lib/python2.7/dist-packages/scipy/integrate/quadpack.pyc\u001b[0m in \u001b[0;36mquad\u001b[1;34m(func, a, b, args, full_output, epsabs, epsrel, limit, points, weight, wvar, wopts, maxp1, limlst)\u001b[0m\n\u001b[0;32m    252\u001b[0m         \u001b[0margs\u001b[0m \u001b[1;33m=\u001b[0m \u001b[1;33m(\u001b[0m\u001b[0margs\u001b[0m\u001b[1;33m,\u001b[0m\u001b[1;33m)\u001b[0m\u001b[1;33m\u001b[0m\u001b[0m\n\u001b[0;32m    253\u001b[0m     \u001b[1;32mif\u001b[0m \u001b[1;33m(\u001b[0m\u001b[0mweight\u001b[0m \u001b[1;32mis\u001b[0m \u001b[0mNone\u001b[0m\u001b[1;33m)\u001b[0m\u001b[1;33m:\u001b[0m\u001b[1;33m\u001b[0m\u001b[0m\n\u001b[1;32m--> 254\u001b[1;33m         \u001b[0mretval\u001b[0m \u001b[1;33m=\u001b[0m \u001b[0m_quad\u001b[0m\u001b[1;33m(\u001b[0m\u001b[0mfunc\u001b[0m\u001b[1;33m,\u001b[0m\u001b[0ma\u001b[0m\u001b[1;33m,\u001b[0m\u001b[0mb\u001b[0m\u001b[1;33m,\u001b[0m\u001b[0margs\u001b[0m\u001b[1;33m,\u001b[0m\u001b[0mfull_output\u001b[0m\u001b[1;33m,\u001b[0m\u001b[0mepsabs\u001b[0m\u001b[1;33m,\u001b[0m\u001b[0mepsrel\u001b[0m\u001b[1;33m,\u001b[0m\u001b[0mlimit\u001b[0m\u001b[1;33m,\u001b[0m\u001b[0mpoints\u001b[0m\u001b[1;33m)\u001b[0m\u001b[1;33m\u001b[0m\u001b[0m\n\u001b[0m\u001b[0;32m    255\u001b[0m     \u001b[1;32melse\u001b[0m\u001b[1;33m:\u001b[0m\u001b[1;33m\u001b[0m\u001b[0m\n\u001b[0;32m    256\u001b[0m         \u001b[0mretval\u001b[0m \u001b[1;33m=\u001b[0m \u001b[0m_quad_weight\u001b[0m\u001b[1;33m(\u001b[0m\u001b[0mfunc\u001b[0m\u001b[1;33m,\u001b[0m\u001b[0ma\u001b[0m\u001b[1;33m,\u001b[0m\u001b[0mb\u001b[0m\u001b[1;33m,\u001b[0m\u001b[0margs\u001b[0m\u001b[1;33m,\u001b[0m\u001b[0mfull_output\u001b[0m\u001b[1;33m,\u001b[0m\u001b[0mepsabs\u001b[0m\u001b[1;33m,\u001b[0m\u001b[0mepsrel\u001b[0m\u001b[1;33m,\u001b[0m\u001b[0mlimlst\u001b[0m\u001b[1;33m,\u001b[0m\u001b[0mlimit\u001b[0m\u001b[1;33m,\u001b[0m\u001b[0mmaxp1\u001b[0m\u001b[1;33m,\u001b[0m\u001b[0mweight\u001b[0m\u001b[1;33m,\u001b[0m\u001b[0mwvar\u001b[0m\u001b[1;33m,\u001b[0m\u001b[0mwopts\u001b[0m\u001b[1;33m)\u001b[0m\u001b[1;33m\u001b[0m\u001b[0m\n",
      "\u001b[1;32m/usr/lib/python2.7/dist-packages/scipy/integrate/quadpack.pyc\u001b[0m in \u001b[0;36m_quad\u001b[1;34m(func, a, b, args, full_output, epsabs, epsrel, limit, points)\u001b[0m\n\u001b[0;32m    319\u001b[0m             \u001b[1;32mreturn\u001b[0m \u001b[0m_quadpack\u001b[0m\u001b[1;33m.\u001b[0m\u001b[0m_qagse\u001b[0m\u001b[1;33m(\u001b[0m\u001b[0mfunc\u001b[0m\u001b[1;33m,\u001b[0m\u001b[0ma\u001b[0m\u001b[1;33m,\u001b[0m\u001b[0mb\u001b[0m\u001b[1;33m,\u001b[0m\u001b[0margs\u001b[0m\u001b[1;33m,\u001b[0m\u001b[0mfull_output\u001b[0m\u001b[1;33m,\u001b[0m\u001b[0mepsabs\u001b[0m\u001b[1;33m,\u001b[0m\u001b[0mepsrel\u001b[0m\u001b[1;33m,\u001b[0m\u001b[0mlimit\u001b[0m\u001b[1;33m)\u001b[0m\u001b[1;33m\u001b[0m\u001b[0m\n\u001b[0;32m    320\u001b[0m         \u001b[1;32melse\u001b[0m\u001b[1;33m:\u001b[0m\u001b[1;33m\u001b[0m\u001b[0m\n\u001b[1;32m--> 321\u001b[1;33m             \u001b[1;32mreturn\u001b[0m \u001b[0m_quadpack\u001b[0m\u001b[1;33m.\u001b[0m\u001b[0m_qagie\u001b[0m\u001b[1;33m(\u001b[0m\u001b[0mfunc\u001b[0m\u001b[1;33m,\u001b[0m\u001b[0mbound\u001b[0m\u001b[1;33m,\u001b[0m\u001b[0minfbounds\u001b[0m\u001b[1;33m,\u001b[0m\u001b[0margs\u001b[0m\u001b[1;33m,\u001b[0m\u001b[0mfull_output\u001b[0m\u001b[1;33m,\u001b[0m\u001b[0mepsabs\u001b[0m\u001b[1;33m,\u001b[0m\u001b[0mepsrel\u001b[0m\u001b[1;33m,\u001b[0m\u001b[0mlimit\u001b[0m\u001b[1;33m)\u001b[0m\u001b[1;33m\u001b[0m\u001b[0m\n\u001b[0m\u001b[0;32m    322\u001b[0m     \u001b[1;32melse\u001b[0m\u001b[1;33m:\u001b[0m\u001b[1;33m\u001b[0m\u001b[0m\n\u001b[0;32m    323\u001b[0m         \u001b[1;32mif\u001b[0m \u001b[0minfbounds\u001b[0m \u001b[1;33m!=\u001b[0m \u001b[1;36m0\u001b[0m\u001b[1;33m:\u001b[0m\u001b[1;33m\u001b[0m\u001b[0m\n",
      "\u001b[1;32m<ipython-input-424-3959a9bb7a3a>\u001b[0m in \u001b[0;36mintegrand1\u001b[1;34m(y, alpha)\u001b[0m\n\u001b[0;32m      1\u001b[0m \u001b[0mbeta\u001b[0m\u001b[1;33m=\u001b[0m\u001b[1;33m-\u001b[0m\u001b[1;36m0.005\u001b[0m\u001b[1;33m\u001b[0m\u001b[0m\n\u001b[0;32m      2\u001b[0m \u001b[1;32mdef\u001b[0m \u001b[0mintegrand1\u001b[0m\u001b[1;33m(\u001b[0m\u001b[0my\u001b[0m\u001b[1;33m,\u001b[0m \u001b[0malpha\u001b[0m\u001b[1;33m)\u001b[0m\u001b[1;33m:\u001b[0m\u001b[1;33m\u001b[0m\u001b[0m\n\u001b[1;32m----> 3\u001b[1;33m     \u001b[0mresult\u001b[0m \u001b[1;33m=\u001b[0m \u001b[0mnu\u001b[0m\u001b[1;33m(\u001b[0m\u001b[0my\u001b[0m\u001b[1;33m,\u001b[0m \u001b[1;36m1\u001b[0m\u001b[1;33m,\u001b[0m \u001b[1;36m1\u001b[0m\u001b[1;33m)\u001b[0m\u001b[1;33m*\u001b[0m\u001b[0mget_M_NFW\u001b[0m\u001b[1;33m(\u001b[0m\u001b[0my\u001b[0m\u001b[1;33m*\u001b[0m\u001b[0malpha\u001b[0m\u001b[1;33m)\u001b[0m\u001b[1;33m/\u001b[0m\u001b[0my\u001b[0m\u001b[1;33m**\u001b[0m\u001b[1;33m(\u001b[0m\u001b[1;36m2.\u001b[0m\u001b[1;33m-\u001b[0m\u001b[1;36m2.\u001b[0m\u001b[1;33m*\u001b[0m\u001b[0mbeta\u001b[0m\u001b[1;33m)\u001b[0m\u001b[1;33m\u001b[0m\u001b[0m\n\u001b[0m\u001b[0;32m      4\u001b[0m     \u001b[1;32mreturn\u001b[0m \u001b[0mresult\u001b[0m\u001b[1;33m\u001b[0m\u001b[0m\n\u001b[0;32m      5\u001b[0m \u001b[1;33m\u001b[0m\u001b[0m\n",
      "\u001b[1;31mKeyboardInterrupt\u001b[0m: "
     ]
    }
   ],
   "source": [
    "gamma_array = R/rh\n",
    "A_array = gamma_array**(1.-2.*beta)/I(R,rh,1.)\n",
    "\n",
    "r0_array = np.logspace(np.log10(0.1),np.log10(5.),100)\n",
    "alpha_array = rh/r0_array\n",
    "I_array=np.zeros(shape=(len(A_array),len(r0_array)))\n",
    "\n",
    "#THIS IS THE PART THAT WILL TAKE MOST TIME\n",
    "for i,gamma in enumerate(gamma_array):\n",
    "    for j,alpha in enumerate(alpha_array):\n",
    "        res,err = integral2(alpha,beta,gamma)\n",
    "        #print res,err\n",
    "        I_array[i,j] = res *A_array[i]\n"
   ]
  },
  {
   "cell_type": "code",
   "execution_count": null,
   "metadata": {
    "collapsed": false
   },
   "outputs": [],
   "source": [
    "plt.pcolormesh(alpha_array, gamma_array,np.log10(I_array))\n",
    "plt.colorbar()\n",
    "plt.ylabel(r'$\\gamma=R/r_h$')\n",
    "plt.xlabel(r'$\\alpha=r_h/r_0$')\n"
   ]
  },
  {
   "cell_type": "code",
   "execution_count": null,
   "metadata": {
    "collapsed": false
   },
   "outputs": [],
   "source": [
    "plt.semilogy(alpha_array, I_array[0,:])\n",
    "plt.semilogy(alpha_array, I_array[2,:])\n",
    "plt.semilogy(alpha_array, I_array[-1,:])\n"
   ]
  },
  {
   "cell_type": "code",
   "execution_count": null,
   "metadata": {
    "collapsed": false
   },
   "outputs": [],
   "source": [
    "A=np.array([dv2/I_array[:,j] for j in range(len(r0_array))]).mean(axis=1)\n",
    "plt.plot(r0_array,np.log10(A))\n",
    "plt.ylim(2,12)"
   ]
  },
  {
   "cell_type": "code",
   "execution_count": null,
   "metadata": {
    "collapsed": false
   },
   "outputs": [],
   "source": [
    "cst = 8.*np.pi*4.3e-6 #this is 1.08e-4, which means that the natural numerical unit for M0 is ~10^4 M_solar\n",
    "#j is the r0 indice. In this way we vectorize computations as much as possible\n",
    "def logLike(M0,j):\n",
    "    I = cst*M0*I_array[:,j]\n",
    "    S = dv**2+I\n",
    "    res = (np.log(S) + (v-u)**2/S).sum()\n",
    "    return res/2.\n"
   ]
  },
  {
   "cell_type": "code",
   "execution_count": null,
   "metadata": {
    "collapsed": false
   },
   "outputs": [],
   "source": [
    "M0_array = np.logspace(4,10,100)\n",
    "for j,r0 in enumerate(r0_array):\n",
    "    LL_array = [logLike(M0,j) for M0 in M0_array]\n",
    "    plt.semilogx(M0_array,LL_array,label=r\"$r_0$=%.3f\"%r0)\n",
    "#plt.ylim(50,400)\n",
    "#plt.xlim(10**4,10**15)\n",
    "#plt.legend(loc=2,ncol=2)"
   ]
  },
  {
   "cell_type": "code",
   "execution_count": null,
   "metadata": {
    "collapsed": false
   },
   "outputs": [],
   "source": [
    "from scipy import optimize as sciopt\n",
    "def MinFunc(log10_M0,j):\n",
    "    return logLike(10**log10_M0,j)\n",
    "j=0\n",
    "results = sciopt.minimize_scalar(MinFunc, bracket=None, bounds=None,\n",
    "                                 args=(j,), method='brent', tol=None, options=None)\n",
    "print results"
   ]
  },
  {
   "cell_type": "code",
   "execution_count": null,
   "metadata": {
    "collapsed": false
   },
   "outputs": [],
   "source": [
    "check_x=np.logspace(results['x']-3,results['x']+3,100)\n",
    "check_y=[logLike(x,j) for x in check_x]\n",
    "plt.semilogx(check_x,check_y)\n",
    "plt.plot(10**results['x'],results['fun'],'v')"
   ]
  },
  {
   "cell_type": "code",
   "execution_count": null,
   "metadata": {
    "collapsed": false
   },
   "outputs": [],
   "source": [
    "min_arrays = np.zeros_like(r0_array)\n",
    "fmin_arrays = np.zeros_like(r0_array)\n",
    "for j,r0 in enumerate(r0_array):\n",
    "    results = sciopt.minimize_scalar(MinFunc,bracket=(5,10),args=(j,))\n",
    "    min_arrays[j]=results['x']\n",
    "    fmin_arrays[j]=results['fun']\n",
    "#plt.figure()\n",
    "#plt.plot(r0_array,fmin_arrays,'.')\n",
    "#plt.figure()\n",
    "#plt.plot(min_arrays,fmin_arrays)\n",
    "plt.figure()\n",
    "plt.plot(r0_array,min_arrays*r0_array,'b')\n",
    "plt.plot(r0_array,10*r0_array-2,'g')\n",
    "#plt.ylim(0,10)"
   ]
  },
  {
   "cell_type": "markdown",
   "metadata": {},
   "source": [
    "# Jfactor computation "
   ]
  },
  {
   "cell_type": "markdown",
   "metadata": {},
   "source": [
    "The Jfactor is the line-of-sight integral of the halo density, squared for annihilation but not for decay, further integrated in a small solid angle to take into account the limited angular resolution of gamma-ray telescopes.\n",
    "The formula is :\n",
    "  \\begin{equation}\n",
    "  \\mathrm{J}(D,r_t,r_0,\\rho_0,\\theta_{\\rm max}) = 2\\pi\\int\\limits_0\\limits^{\\theta_{\\rm max}}\\sin\\theta\\;\\mathrm{d}\\theta\\int\\limits_{s_{\\rm min}}\\limits^{s_{\\rm max}}\\mathrm{d}s\\;\\rho^2(r(s))\\quad \\mathrm{GeV}^2\\mathrm{cm}^{-5}\\quad ,\n",
    "  \\end{equation}\n",
    "\n",
    "where $r(s,\\cos\\theta)=\\sqrt{s^2+D^2-2Ds\\cos\\theta}$ is the radius of an element of volume along the line of sight parameterized by the running variable $s$, bounded by $s_{\\rm max/min} = D\\cos\\theta \\pm \\sqrt{r_t^2-D^2\\sin^2\\theta}$, with $r_t$ a cutoff radius of the halo, for instance the tidal radius, and $D$ the distance to the halo center.\n",
    "Generically, the spherical profiles normally used to compute the J factor formally writes as $\\rho(r)=\\rho_0f(r/r_0)$ with $f$ some function defining the profile. Thus, it is convenient to make the change of variable $x=r/r_0$ and take the dimensional quantity out of the integrals :\n",
    "\n",
    "\\begin{equation}\n",
    "  \\mathrm{J}(D,rt,r_0,\\rho_0,\\theta_{max}) = 2\\pi\\rho_0^2r_0\\int\\limits_0\\limits^{\\theta_{\\rm max}}\\sin\\theta\\;\\mathrm{d}\\theta\\int\\limits_{x_{\\rm min}}\\limits^{x_{\\rm max}}\\mathrm{d}x\\;f^2(r(x,\\cos\\theta))\\quad \\mathrm{GeV}^2\\mathrm{cm}^{-5}\\quad ,\n",
    "  \\end{equation}\n",
    "\n",
    "with $r(x, \\cos\\theta)=\\sqrt{x^2+(D/r_0)^2-2x(D/r_0)\\cos\\theta}$ and $x_{\\rm max/min} = (D/r_0)\\cos\\theta \\pm \\sqrt{(r_t/r_0)^2-(D/r_0)^2\\sin^2\\theta}$. Simplifying the notation with $J'=J/(2\\pi\\rho_0^2r_0)$, $D'=D/r_0$ and $r'=r_t/r_0$, and performing the change of variable $y=\\cos\\theta$ in the outer integral, yields the nondimensional integral:\n",
    "\n",
    "\\begin{equation}\n",
    "  \\mathrm{J'}(D',rt',y_{\\rm min}) = \\int_{y_{\\rm min}}^{1}\\mathrm{d}y\\int\\limits_{x_{\\rm min}}\\limits^{x_{\\rm max}}\\mathrm{d}x\\;f^2(r(x,y))\\quad ,\n",
    "  \\end{equation}\n",
    "\n",
    "with $r(x,y)=\\sqrt{x^2+D'^2-2xD'y}$ and $x_{\\rm max/min} = D'y \\pm \\sqrt{r'^2-D'^2(1-y^2)}$. $\\theta_{max}$ is generally small positive, and thus $y_{\\rm min}$ is smaller than and close to 1. Yet another change of variable, $z=x-D'y$, yields :\n",
    "\n",
    "\\begin{equation}\n",
    "  \\mathrm{J'}(D',r',y_{\\rm min}) = \\int_{y_{\\rm min}}^{1}\\mathrm{d}y\\int\\limits_{z_{\\rm min}}\\limits^{z_{\\rm max}}\\mathrm{d}z\\;f^2(r(z,y))\\quad ,\n",
    "  \\end{equation}\n",
    "\n",
    "with $r(z,y)=\\sqrt{z^2+D'^2(1-y^2)}$ and $z_{\\rm max/min} = \\pm \\sqrt{r'^2-D'^2(1-y^2)}$. Now, $z$ appears as squared in the function $\\rho$, so that the integrand is symmetric with respect to $z=0$. Given that the boundaries are equal and of opposite sign, the integral simplifies into :\n",
    "\n",
    "\\begin{equation}\n",
    "  \\mathrm{J'}(D',r',y_{\\rm min}) = 2\\int_{y_{\\rm min}}^{1}\\mathrm{d}y\\int\\limits_{0}\\limits^{z_{\\rm max}}\\mathrm{d}z\\;f^2(r(z,y))\\quad .\n",
    "  \\end{equation}\n",
    "\n",
    "To move ahead we now need to specialize to a profile. We consider the NFW profile $f(r)=r^{-1}(1+r)^{-2}$. The inner integral yields :\n",
    "\n",
    "\\begin{equation}\n",
    "  \\int\\limits_{0}\\limits^{z_{\\rm max}}\\mathrm{d}z\\;f^2(r(z,y)) = \\int\\limits_{0}\\limits^{z_{\\rm max}}\\mathrm{d}z\\; \\left(\\sqrt{z^2+D'^2(1-y^2)}\\right)^{-2}\\left(1+\\sqrt{z^2+D'^2(1-y^2)}\\right)^{-4}\\quad .\n",
    "  \\end{equation}\n",
    "\n",
    "We note the divergence at $z\\rightarrow0$ for $y\\rightarrow1$. The last change of variable, $u=\\sqrt{z^2+D'^2(1-y^2)}$ yields :\n",
    "\\begin{equation}\n",
    "  \\int\\limits_{0}\\limits^{z_{\\rm max}}\\mathrm{d}z\\;f^2(r(z,y)) = \\int\\limits_{D'\\sqrt{1-y^2}}\\limits^{r'}\\mathrm{d}u\\; u^{-1}\\left(u^2-D'^2(1-y^2)\\right)^{-1/2}\\left(1+u\\right)^{-4}\\quad ,\n",
    "  \\end{equation}\n",
    "\n",
    "and so :\n",
    "\n",
    "\\begin{equation}\n",
    "  \\mathrm{J'}(D',r',y_{\\rm min}) = 2\\int_{y_{\\rm min}}^{1}\\mathrm{d}y\\int\\limits_{D'\\sqrt{1-y^2}}\\limits^{r'}\\mathrm{d}u\\; u^{-1}\\left(u^2-D'^2(1-y^2)\\right)^{-1/2}\\left(1+u\\right)^{-4}\\quad .\n",
    "  \\end{equation}\n"
   ]
  },
  {
   "cell_type": "code",
   "execution_count": null,
   "metadata": {
    "collapsed": false
   },
   "outputs": [],
   "source": [
    "import numpy as np\n",
    "from math import sqrt,cos, log, pi\n",
    "from scipy import integrate as sciint\n",
    "rt=np.inf\n",
    "ymin=cos(np.radians(0.5))\n",
    "\n",
    "def func(u,y, D, rt):\n",
    "    return (1.+u)**(-4)/u/sqrt(u*u-D**2*(1-y*y))\n",
    "\n",
    "def lim_u(y, D, rt):\n",
    "    return [D*sqrt(1-y*y), rt]\n",
    "\n",
    "def lim_y(D, rt):\n",
    "    return [ymin,1]\n",
    "\n",
    "sciint.nquad(func, ranges=[lim_u, lim_y], args=(D,rt))"
   ]
  },
  {
   "cell_type": "code",
   "execution_count": null,
   "metadata": {
    "collapsed": false
   },
   "outputs": [],
   "source": [
    "d=np.logspace(1,3)\n",
    "F=[sciint.nquad(func, ranges=[lim_u, lim_y], args=(Dist,rt))[0] for Dist in d]"
   ]
  },
  {
   "cell_type": "code",
   "execution_count": null,
   "metadata": {
    "collapsed": false
   },
   "outputs": [],
   "source": [
    "plt.loglog(d,F)"
   ]
  },
  {
   "cell_type": "markdown",
   "metadata": {},
   "source": [
    "Finally, let's go back to dimensional quantities. We consider $\\rho_0=M_\\odot$ and $r_0=1\\,\\rm kpc$. $M_\\odot=1.9891\\,10^{30}\\, \\rm kg = 1.117471\\,10^{57}\\, \\rm GeV$, and $1\\, \\rm kpc = 3.08567758\\, 10^{21}\\,\\rm cm$. Thus :\n",
    "$2\\pi M_\\odot^2\\cdot \\rm kpc = 2\\pi(1.117471\\,10^{57})^2/(3.08567758\\, 10^{21})^5=2.8\\,10^7\\, \\rm GeV^2\\,\\rm cm^{-5}$.\n",
    "Thus a typical dwarf spheroidal with $\\rho_0~10^8\\,M_\\odot$ and $r_0=0.1\\,\\rm kpc$ will have a natural scale of $\\sim 2.8\\,10^{22}\\,\\rm GeV^2\\,\\rm cm^{-5}$. The numerical integral above seems a factor 100 too low for a dwarf at $D=100 \\rm kpc$ and a scale radius $r_0=0.1\\,\\rm kpc$, which give $D'=10^3$ and a non-dimensional integral close to $10^{-6}$"
   ]
  },
  {
   "cell_type": "code",
   "execution_count": null,
   "metadata": {
    "collapsed": false,
    "scrolled": true
   },
   "outputs": [],
   "source": [
    "def Jfactor(D,rt,r0,rho0,tmax):\n",
    "    \"\"\"\n",
    "    returns the Jfactor computed in the solid angle of\n",
    "    semi apex angle tmax, in degree, for a NFW halo profile of \n",
    "    shape parameters (r0,rho0) at distance D. \n",
    "    rt is the maximal radius of integration \n",
    "    D, r0,  and rt are in kpc, and rho0 is in Msun.kpc^-3\n",
    "    \"\"\"\n",
    "    ymin=cos(np.radians(tmax))\n",
    "    Dprime=D/r0\n",
    "    rtprime=rt/r0\n",
    "    Msun2kpc5_GeVcm5 = 4463954.894661358\n",
    "    cst = 4*pi*rho0**2*r0*Msun2kpc5_GeVcm5\n",
    "    res = sciint.nquad(func, ranges=[lim_u, lim_y], args=(Dprime,rtprime),\n",
    "                        opts=[{'epsabs':1.e-10,'epsrel':1.e-10,'limit':1000},\n",
    "                              {'epsabs':1.e-10,'epsrel':1.e-10,'limit':1000}])\n",
    "    #print res\n",
    "    return cst*res[0]\n",
    "\n",
    "J = Jfactor(D, np.inf, 0.141, 10**8.778, 0.5)\n",
    "print J, np.log10(J)"
   ]
  },
  {
   "cell_type": "code",
   "execution_count": null,
   "metadata": {
    "collapsed": false
   },
   "outputs": [],
   "source": [
    "\"\"\"compare output of 2D integration with analytic expression\"\"\"\n",
    "def f(u,D,y):\n",
    "    Y = y*y-1.\n",
    "    sqY = np.sqrt(Y)\n",
    "    DYu = D**2.*Y+u**2.\n",
    "    DY1 = D**2.*Y+1.\n",
    "    sqDYu = np.sqrt(DYu)\n",
    "    sqDY1 = np.sqrt(DY1)\n",
    "    termA = D**4.*(6.*u**2+15.*u+11.)*Y**2.+D**2*(17.*u**2+45.*u+32.)*Y+26.*u**2.+60.*u+36.\n",
    "    termB = 2.*D**6.*Y**3+7.*D**4.*Y**2.+8.*D**2.*Y+8.\n",
    "    block1 = 2.*np.log(2.*D*(sqY*sqDYu+D*Y))/D/sqY\n",
    "    block2 = sqDYu*termA*(u+1.)**-3.*DY1**-3./3.\n",
    "    block3 = termB*np.log(-4.*DY1**3*(sqDY1*sqDYu+D**2.*Y-u))/DY1**3.5\n",
    "    block4 = termB*np.log((u+1)*sqDY1*termB)/DY1**3.5\n",
    "    block5 = 2.*np.log(D*u*sqY)/D/sqY\n",
    "    return (-block1+block2+block3-block4+block5)/2.\n",
    "\n",
    "def analyticF(D,rt,r0,rho0,tmax):\n",
    "    ymin=cos(np.radians(tmax))\n",
    "    Dprime=D/r0\n",
    "    rtprime=rt/r0\n",
    "    Msun2kpc5_GeVcm5 = 4463954.894661358\n",
    "    cst = 4*pi*rho0**2*r0*Msun2kpc5_GeVcm5\n",
    "    int_y = lambda y : f(rtprime,D,y)-f(Dprime*np.sqrt(1.-y*y),D,y)\n",
    "    result = cst*sciint.quad(int_y,1.,ymin)[0]\n",
    "    return result\n",
    "\n",
    "# print analyticF(104,np.inf, 0.141, 10**8.778, 0.5)"
   ]
  },
  {
   "cell_type": "markdown",
   "metadata": {
    "collapsed": true
   },
   "source": [
    "Neglecting again the dependency on $r_0$ in the double integral in Eq. 19, we notice that even in $\\mathrm{J}(D,r_t,r_0,\\rho_0,\\theta_{max})$ $\\rho_0$ and $r_0$ are degenerate. However, accounting for this dependancy both in Eq. 14 and Eq. 19 and considering the different shapes of the degenerate product in each ($\\rho_0 r_0^3$ in the former and $\\rho_0^2 r_0$ in the latter) should result in two distinguishable behaviours of such functions over the parameter space."
   ]
  },
  {
   "cell_type": "code",
   "execution_count": 418,
   "metadata": {
    "collapsed": false,
    "scrolled": true
   },
   "outputs": [
    {
     "ename": "KeyboardInterrupt",
     "evalue": "",
     "output_type": "error",
     "traceback": [
      "\u001b[1;31m---------------------------------------------------------------------------\u001b[0m",
      "\u001b[1;31mKeyboardInterrupt\u001b[0m                         Traceback (most recent call last)",
      "\u001b[1;32m<ipython-input-418-866d846a709e>\u001b[0m in \u001b[0;36m<module>\u001b[1;34m()\u001b[0m\n\u001b[0;32m      5\u001b[0m \u001b[1;32mfor\u001b[0m \u001b[0mi\u001b[0m\u001b[1;33m,\u001b[0m\u001b[0mrho0\u001b[0m \u001b[1;32min\u001b[0m \u001b[0menumerate\u001b[0m\u001b[1;33m(\u001b[0m\u001b[0mrho0_array\u001b[0m\u001b[1;33m)\u001b[0m\u001b[1;33m:\u001b[0m\u001b[1;33m\u001b[0m\u001b[0m\n\u001b[0;32m      6\u001b[0m     \u001b[1;32mfor\u001b[0m \u001b[0mj\u001b[0m\u001b[1;33m,\u001b[0m\u001b[0mr0\u001b[0m \u001b[1;32min\u001b[0m \u001b[0menumerate\u001b[0m\u001b[1;33m(\u001b[0m\u001b[0mr0_array\u001b[0m\u001b[1;33m)\u001b[0m\u001b[1;33m:\u001b[0m\u001b[1;33m\u001b[0m\u001b[0m\n\u001b[1;32m----> 7\u001b[1;33m         \u001b[0mJgrid\u001b[0m\u001b[1;33m[\u001b[0m\u001b[0mi\u001b[0m\u001b[1;33m,\u001b[0m\u001b[0mj\u001b[0m\u001b[1;33m]\u001b[0m \u001b[1;33m=\u001b[0m \u001b[0mJfactor\u001b[0m\u001b[1;33m(\u001b[0m\u001b[0mD\u001b[0m\u001b[1;33m,\u001b[0m\u001b[0mnp\u001b[0m\u001b[1;33m.\u001b[0m\u001b[0minf\u001b[0m\u001b[1;33m,\u001b[0m\u001b[0mr0\u001b[0m\u001b[1;33m,\u001b[0m\u001b[0mrho0\u001b[0m\u001b[1;33m,\u001b[0m\u001b[1;36m0.5\u001b[0m\u001b[1;33m)\u001b[0m\u001b[1;33m\u001b[0m\u001b[0m\n\u001b[0m\u001b[0;32m      8\u001b[0m         \u001b[0mLgrid\u001b[0m\u001b[1;33m[\u001b[0m\u001b[0mi\u001b[0m\u001b[1;33m,\u001b[0m\u001b[0mj\u001b[0m\u001b[1;33m]\u001b[0m \u001b[1;33m=\u001b[0m \u001b[0mlogLike\u001b[0m\u001b[1;33m(\u001b[0m\u001b[0mrho0\u001b[0m\u001b[1;33m*\u001b[0m\u001b[0mr0\u001b[0m\u001b[1;33m**\u001b[0m\u001b[1;36m3\u001b[0m\u001b[1;33m,\u001b[0m\u001b[0mj\u001b[0m\u001b[1;33m)\u001b[0m\u001b[1;33m\u001b[0m\u001b[0m\n\u001b[0;32m      9\u001b[0m \u001b[0mnp\u001b[0m\u001b[1;33m.\u001b[0m\u001b[0msave\u001b[0m\u001b[1;33m(\u001b[0m\u001b[1;34m'output/%s/Jgrid_%s'\u001b[0m\u001b[1;33m%\u001b[0m\u001b[1;33m(\u001b[0m\u001b[0mdwarf\u001b[0m\u001b[1;33m,\u001b[0m\u001b[0mdwarf\u001b[0m\u001b[1;33m)\u001b[0m\u001b[1;33m,\u001b[0m\u001b[0mJgrid\u001b[0m\u001b[1;33m)\u001b[0m\u001b[1;33m\u001b[0m\u001b[0m\n",
      "\u001b[1;32m<ipython-input-354-673be4e89c53>\u001b[0m in \u001b[0;36mJfactor\u001b[1;34m(D, rt, r0, rho0, tmax)\u001b[0m\n\u001b[0;32m     14\u001b[0m     res = sciint.nquad(func, ranges=[lim_u, lim_y], args=(Dprime,rtprime),\n\u001b[0;32m     15\u001b[0m                         opts=[{'epsabs':1.e-10,'epsrel':1.e-10,'limit':1000},\n\u001b[1;32m---> 16\u001b[1;33m                               {'epsabs':1.e-10,'epsrel':1.e-10,'limit':1000}])\n\u001b[0m\u001b[0;32m     17\u001b[0m     \u001b[1;31m#print res\u001b[0m\u001b[1;33m\u001b[0m\u001b[1;33m\u001b[0m\u001b[0m\n\u001b[0;32m     18\u001b[0m     \u001b[1;32mreturn\u001b[0m \u001b[0mcst\u001b[0m\u001b[1;33m*\u001b[0m\u001b[0mres\u001b[0m\u001b[1;33m[\u001b[0m\u001b[1;36m0\u001b[0m\u001b[1;33m]\u001b[0m\u001b[1;33m\u001b[0m\u001b[0m\n",
      "\u001b[1;32m/usr/lib/python2.7/dist-packages/scipy/integrate/quadpack.pyc\u001b[0m in \u001b[0;36mnquad\u001b[1;34m(func, ranges, args, opts)\u001b[0m\n\u001b[0;32m    616\u001b[0m         \u001b[0mopts\u001b[0m \u001b[1;33m=\u001b[0m \u001b[1;33m[\u001b[0m\u001b[0mopt\u001b[0m \u001b[1;32mif\u001b[0m \u001b[0mcallable\u001b[0m\u001b[1;33m(\u001b[0m\u001b[0mopt\u001b[0m\u001b[1;33m)\u001b[0m \u001b[1;32melse\u001b[0m \u001b[0m_OptFunc\u001b[0m\u001b[1;33m(\u001b[0m\u001b[0mopt\u001b[0m\u001b[1;33m)\u001b[0m \u001b[1;32mfor\u001b[0m \u001b[0mopt\u001b[0m \u001b[1;32min\u001b[0m \u001b[0mopts\u001b[0m\u001b[1;33m]\u001b[0m\u001b[1;33m\u001b[0m\u001b[0m\n\u001b[0;32m    617\u001b[0m \u001b[1;33m\u001b[0m\u001b[0m\n\u001b[1;32m--> 618\u001b[1;33m     \u001b[1;32mreturn\u001b[0m \u001b[0m_NQuad\u001b[0m\u001b[1;33m(\u001b[0m\u001b[0mfunc\u001b[0m\u001b[1;33m,\u001b[0m \u001b[0mranges\u001b[0m\u001b[1;33m,\u001b[0m \u001b[0mopts\u001b[0m\u001b[1;33m)\u001b[0m\u001b[1;33m.\u001b[0m\u001b[0mintegrate\u001b[0m\u001b[1;33m(\u001b[0m\u001b[1;33m*\u001b[0m\u001b[0margs\u001b[0m\u001b[1;33m)\u001b[0m\u001b[1;33m\u001b[0m\u001b[0m\n\u001b[0m\u001b[0;32m    619\u001b[0m \u001b[1;33m\u001b[0m\u001b[0m\n\u001b[0;32m    620\u001b[0m \u001b[1;33m\u001b[0m\u001b[0m\n",
      "\u001b[1;32m/usr/lib/python2.7/dist-packages/scipy/integrate/quadpack.pyc\u001b[0m in \u001b[0;36mintegrate\u001b[1;34m(self, *args, **kwargs)\u001b[0m\n\u001b[0;32m    668\u001b[0m             \u001b[0mf\u001b[0m \u001b[1;33m=\u001b[0m \u001b[0mpartial\u001b[0m\u001b[1;33m(\u001b[0m\u001b[0mself\u001b[0m\u001b[1;33m.\u001b[0m\u001b[0mintegrate\u001b[0m\u001b[1;33m,\u001b[0m \u001b[0mdepth\u001b[0m\u001b[1;33m=\u001b[0m\u001b[0mdepth\u001b[0m\u001b[1;33m+\u001b[0m\u001b[1;36m1\u001b[0m\u001b[1;33m)\u001b[0m\u001b[1;33m\u001b[0m\u001b[0m\n\u001b[0;32m    669\u001b[0m \u001b[1;33m\u001b[0m\u001b[0m\n\u001b[1;32m--> 670\u001b[1;33m         \u001b[0mvalue\u001b[0m\u001b[1;33m,\u001b[0m \u001b[0mabserr\u001b[0m \u001b[1;33m=\u001b[0m \u001b[0mquad\u001b[0m\u001b[1;33m(\u001b[0m\u001b[0mf\u001b[0m\u001b[1;33m,\u001b[0m \u001b[0mlow\u001b[0m\u001b[1;33m,\u001b[0m \u001b[0mhigh\u001b[0m\u001b[1;33m,\u001b[0m \u001b[0margs\u001b[0m\u001b[1;33m=\u001b[0m\u001b[0margs\u001b[0m\u001b[1;33m,\u001b[0m \u001b[1;33m**\u001b[0m\u001b[0mopt\u001b[0m\u001b[1;33m)\u001b[0m\u001b[1;33m\u001b[0m\u001b[0m\n\u001b[0m\u001b[0;32m    671\u001b[0m         \u001b[0mself\u001b[0m\u001b[1;33m.\u001b[0m\u001b[0mabserr\u001b[0m \u001b[1;33m=\u001b[0m \u001b[0mmax\u001b[0m\u001b[1;33m(\u001b[0m\u001b[0mself\u001b[0m\u001b[1;33m.\u001b[0m\u001b[0mabserr\u001b[0m\u001b[1;33m,\u001b[0m \u001b[0mabserr\u001b[0m\u001b[1;33m)\u001b[0m\u001b[1;33m\u001b[0m\u001b[0m\n\u001b[0;32m    672\u001b[0m         \u001b[1;32mif\u001b[0m \u001b[0mdepth\u001b[0m \u001b[1;33m>\u001b[0m \u001b[1;36m0\u001b[0m\u001b[1;33m:\u001b[0m\u001b[1;33m\u001b[0m\u001b[0m\n",
      "\u001b[1;32m/usr/lib/python2.7/dist-packages/scipy/integrate/quadpack.pyc\u001b[0m in \u001b[0;36mquad\u001b[1;34m(func, a, b, args, full_output, epsabs, epsrel, limit, points, weight, wvar, wopts, maxp1, limlst)\u001b[0m\n\u001b[0;32m    252\u001b[0m         \u001b[0margs\u001b[0m \u001b[1;33m=\u001b[0m \u001b[1;33m(\u001b[0m\u001b[0margs\u001b[0m\u001b[1;33m,\u001b[0m\u001b[1;33m)\u001b[0m\u001b[1;33m\u001b[0m\u001b[0m\n\u001b[0;32m    253\u001b[0m     \u001b[1;32mif\u001b[0m \u001b[1;33m(\u001b[0m\u001b[0mweight\u001b[0m \u001b[1;32mis\u001b[0m \u001b[0mNone\u001b[0m\u001b[1;33m)\u001b[0m\u001b[1;33m:\u001b[0m\u001b[1;33m\u001b[0m\u001b[0m\n\u001b[1;32m--> 254\u001b[1;33m         \u001b[0mretval\u001b[0m \u001b[1;33m=\u001b[0m \u001b[0m_quad\u001b[0m\u001b[1;33m(\u001b[0m\u001b[0mfunc\u001b[0m\u001b[1;33m,\u001b[0m\u001b[0ma\u001b[0m\u001b[1;33m,\u001b[0m\u001b[0mb\u001b[0m\u001b[1;33m,\u001b[0m\u001b[0margs\u001b[0m\u001b[1;33m,\u001b[0m\u001b[0mfull_output\u001b[0m\u001b[1;33m,\u001b[0m\u001b[0mepsabs\u001b[0m\u001b[1;33m,\u001b[0m\u001b[0mepsrel\u001b[0m\u001b[1;33m,\u001b[0m\u001b[0mlimit\u001b[0m\u001b[1;33m,\u001b[0m\u001b[0mpoints\u001b[0m\u001b[1;33m)\u001b[0m\u001b[1;33m\u001b[0m\u001b[0m\n\u001b[0m\u001b[0;32m    255\u001b[0m     \u001b[1;32melse\u001b[0m\u001b[1;33m:\u001b[0m\u001b[1;33m\u001b[0m\u001b[0m\n\u001b[0;32m    256\u001b[0m         \u001b[0mretval\u001b[0m \u001b[1;33m=\u001b[0m \u001b[0m_quad_weight\u001b[0m\u001b[1;33m(\u001b[0m\u001b[0mfunc\u001b[0m\u001b[1;33m,\u001b[0m\u001b[0ma\u001b[0m\u001b[1;33m,\u001b[0m\u001b[0mb\u001b[0m\u001b[1;33m,\u001b[0m\u001b[0margs\u001b[0m\u001b[1;33m,\u001b[0m\u001b[0mfull_output\u001b[0m\u001b[1;33m,\u001b[0m\u001b[0mepsabs\u001b[0m\u001b[1;33m,\u001b[0m\u001b[0mepsrel\u001b[0m\u001b[1;33m,\u001b[0m\u001b[0mlimlst\u001b[0m\u001b[1;33m,\u001b[0m\u001b[0mlimit\u001b[0m\u001b[1;33m,\u001b[0m\u001b[0mmaxp1\u001b[0m\u001b[1;33m,\u001b[0m\u001b[0mweight\u001b[0m\u001b[1;33m,\u001b[0m\u001b[0mwvar\u001b[0m\u001b[1;33m,\u001b[0m\u001b[0mwopts\u001b[0m\u001b[1;33m)\u001b[0m\u001b[1;33m\u001b[0m\u001b[0m\n",
      "\u001b[1;32m/usr/lib/python2.7/dist-packages/scipy/integrate/quadpack.pyc\u001b[0m in \u001b[0;36m_quad\u001b[1;34m(func, a, b, args, full_output, epsabs, epsrel, limit, points)\u001b[0m\n\u001b[0;32m    317\u001b[0m     \u001b[1;32mif\u001b[0m \u001b[0mpoints\u001b[0m \u001b[1;32mis\u001b[0m \u001b[0mNone\u001b[0m\u001b[1;33m:\u001b[0m\u001b[1;33m\u001b[0m\u001b[0m\n\u001b[0;32m    318\u001b[0m         \u001b[1;32mif\u001b[0m \u001b[0minfbounds\u001b[0m \u001b[1;33m==\u001b[0m \u001b[1;36m0\u001b[0m\u001b[1;33m:\u001b[0m\u001b[1;33m\u001b[0m\u001b[0m\n\u001b[1;32m--> 319\u001b[1;33m             \u001b[1;32mreturn\u001b[0m \u001b[0m_quadpack\u001b[0m\u001b[1;33m.\u001b[0m\u001b[0m_qagse\u001b[0m\u001b[1;33m(\u001b[0m\u001b[0mfunc\u001b[0m\u001b[1;33m,\u001b[0m\u001b[0ma\u001b[0m\u001b[1;33m,\u001b[0m\u001b[0mb\u001b[0m\u001b[1;33m,\u001b[0m\u001b[0margs\u001b[0m\u001b[1;33m,\u001b[0m\u001b[0mfull_output\u001b[0m\u001b[1;33m,\u001b[0m\u001b[0mepsabs\u001b[0m\u001b[1;33m,\u001b[0m\u001b[0mepsrel\u001b[0m\u001b[1;33m,\u001b[0m\u001b[0mlimit\u001b[0m\u001b[1;33m)\u001b[0m\u001b[1;33m\u001b[0m\u001b[0m\n\u001b[0m\u001b[0;32m    320\u001b[0m         \u001b[1;32melse\u001b[0m\u001b[1;33m:\u001b[0m\u001b[1;33m\u001b[0m\u001b[0m\n\u001b[0;32m    321\u001b[0m             \u001b[1;32mreturn\u001b[0m \u001b[0m_quadpack\u001b[0m\u001b[1;33m.\u001b[0m\u001b[0m_qagie\u001b[0m\u001b[1;33m(\u001b[0m\u001b[0mfunc\u001b[0m\u001b[1;33m,\u001b[0m\u001b[0mbound\u001b[0m\u001b[1;33m,\u001b[0m\u001b[0minfbounds\u001b[0m\u001b[1;33m,\u001b[0m\u001b[0margs\u001b[0m\u001b[1;33m,\u001b[0m\u001b[0mfull_output\u001b[0m\u001b[1;33m,\u001b[0m\u001b[0mepsabs\u001b[0m\u001b[1;33m,\u001b[0m\u001b[0mepsrel\u001b[0m\u001b[1;33m,\u001b[0m\u001b[0mlimit\u001b[0m\u001b[1;33m)\u001b[0m\u001b[1;33m\u001b[0m\u001b[0m\n",
      "\u001b[1;32m/usr/lib/python2.7/dist-packages/scipy/integrate/quadpack.pyc\u001b[0m in \u001b[0;36mintegrate\u001b[1;34m(self, *args, **kwargs)\u001b[0m\n\u001b[0;32m    668\u001b[0m             \u001b[0mf\u001b[0m \u001b[1;33m=\u001b[0m \u001b[0mpartial\u001b[0m\u001b[1;33m(\u001b[0m\u001b[0mself\u001b[0m\u001b[1;33m.\u001b[0m\u001b[0mintegrate\u001b[0m\u001b[1;33m,\u001b[0m \u001b[0mdepth\u001b[0m\u001b[1;33m=\u001b[0m\u001b[0mdepth\u001b[0m\u001b[1;33m+\u001b[0m\u001b[1;36m1\u001b[0m\u001b[1;33m)\u001b[0m\u001b[1;33m\u001b[0m\u001b[0m\n\u001b[0;32m    669\u001b[0m \u001b[1;33m\u001b[0m\u001b[0m\n\u001b[1;32m--> 670\u001b[1;33m         \u001b[0mvalue\u001b[0m\u001b[1;33m,\u001b[0m \u001b[0mabserr\u001b[0m \u001b[1;33m=\u001b[0m \u001b[0mquad\u001b[0m\u001b[1;33m(\u001b[0m\u001b[0mf\u001b[0m\u001b[1;33m,\u001b[0m \u001b[0mlow\u001b[0m\u001b[1;33m,\u001b[0m \u001b[0mhigh\u001b[0m\u001b[1;33m,\u001b[0m \u001b[0margs\u001b[0m\u001b[1;33m=\u001b[0m\u001b[0margs\u001b[0m\u001b[1;33m,\u001b[0m \u001b[1;33m**\u001b[0m\u001b[0mopt\u001b[0m\u001b[1;33m)\u001b[0m\u001b[1;33m\u001b[0m\u001b[0m\n\u001b[0m\u001b[0;32m    671\u001b[0m         \u001b[0mself\u001b[0m\u001b[1;33m.\u001b[0m\u001b[0mabserr\u001b[0m \u001b[1;33m=\u001b[0m \u001b[0mmax\u001b[0m\u001b[1;33m(\u001b[0m\u001b[0mself\u001b[0m\u001b[1;33m.\u001b[0m\u001b[0mabserr\u001b[0m\u001b[1;33m,\u001b[0m \u001b[0mabserr\u001b[0m\u001b[1;33m)\u001b[0m\u001b[1;33m\u001b[0m\u001b[0m\n\u001b[0;32m    672\u001b[0m         \u001b[1;32mif\u001b[0m \u001b[0mdepth\u001b[0m \u001b[1;33m>\u001b[0m \u001b[1;36m0\u001b[0m\u001b[1;33m:\u001b[0m\u001b[1;33m\u001b[0m\u001b[0m\n",
      "\u001b[1;32m/usr/lib/python2.7/dist-packages/scipy/integrate/quadpack.pyc\u001b[0m in \u001b[0;36mquad\u001b[1;34m(func, a, b, args, full_output, epsabs, epsrel, limit, points, weight, wvar, wopts, maxp1, limlst)\u001b[0m\n\u001b[0;32m    252\u001b[0m         \u001b[0margs\u001b[0m \u001b[1;33m=\u001b[0m \u001b[1;33m(\u001b[0m\u001b[0margs\u001b[0m\u001b[1;33m,\u001b[0m\u001b[1;33m)\u001b[0m\u001b[1;33m\u001b[0m\u001b[0m\n\u001b[0;32m    253\u001b[0m     \u001b[1;32mif\u001b[0m \u001b[1;33m(\u001b[0m\u001b[0mweight\u001b[0m \u001b[1;32mis\u001b[0m \u001b[0mNone\u001b[0m\u001b[1;33m)\u001b[0m\u001b[1;33m:\u001b[0m\u001b[1;33m\u001b[0m\u001b[0m\n\u001b[1;32m--> 254\u001b[1;33m         \u001b[0mretval\u001b[0m \u001b[1;33m=\u001b[0m \u001b[0m_quad\u001b[0m\u001b[1;33m(\u001b[0m\u001b[0mfunc\u001b[0m\u001b[1;33m,\u001b[0m\u001b[0ma\u001b[0m\u001b[1;33m,\u001b[0m\u001b[0mb\u001b[0m\u001b[1;33m,\u001b[0m\u001b[0margs\u001b[0m\u001b[1;33m,\u001b[0m\u001b[0mfull_output\u001b[0m\u001b[1;33m,\u001b[0m\u001b[0mepsabs\u001b[0m\u001b[1;33m,\u001b[0m\u001b[0mepsrel\u001b[0m\u001b[1;33m,\u001b[0m\u001b[0mlimit\u001b[0m\u001b[1;33m,\u001b[0m\u001b[0mpoints\u001b[0m\u001b[1;33m)\u001b[0m\u001b[1;33m\u001b[0m\u001b[0m\n\u001b[0m\u001b[0;32m    255\u001b[0m     \u001b[1;32melse\u001b[0m\u001b[1;33m:\u001b[0m\u001b[1;33m\u001b[0m\u001b[0m\n\u001b[0;32m    256\u001b[0m         \u001b[0mretval\u001b[0m \u001b[1;33m=\u001b[0m \u001b[0m_quad_weight\u001b[0m\u001b[1;33m(\u001b[0m\u001b[0mfunc\u001b[0m\u001b[1;33m,\u001b[0m\u001b[0ma\u001b[0m\u001b[1;33m,\u001b[0m\u001b[0mb\u001b[0m\u001b[1;33m,\u001b[0m\u001b[0margs\u001b[0m\u001b[1;33m,\u001b[0m\u001b[0mfull_output\u001b[0m\u001b[1;33m,\u001b[0m\u001b[0mepsabs\u001b[0m\u001b[1;33m,\u001b[0m\u001b[0mepsrel\u001b[0m\u001b[1;33m,\u001b[0m\u001b[0mlimlst\u001b[0m\u001b[1;33m,\u001b[0m\u001b[0mlimit\u001b[0m\u001b[1;33m,\u001b[0m\u001b[0mmaxp1\u001b[0m\u001b[1;33m,\u001b[0m\u001b[0mweight\u001b[0m\u001b[1;33m,\u001b[0m\u001b[0mwvar\u001b[0m\u001b[1;33m,\u001b[0m\u001b[0mwopts\u001b[0m\u001b[1;33m)\u001b[0m\u001b[1;33m\u001b[0m\u001b[0m\n",
      "\u001b[1;32m/usr/lib/python2.7/dist-packages/scipy/integrate/quadpack.pyc\u001b[0m in \u001b[0;36m_quad\u001b[1;34m(func, a, b, args, full_output, epsabs, epsrel, limit, points)\u001b[0m\n\u001b[0;32m    319\u001b[0m             \u001b[1;32mreturn\u001b[0m \u001b[0m_quadpack\u001b[0m\u001b[1;33m.\u001b[0m\u001b[0m_qagse\u001b[0m\u001b[1;33m(\u001b[0m\u001b[0mfunc\u001b[0m\u001b[1;33m,\u001b[0m\u001b[0ma\u001b[0m\u001b[1;33m,\u001b[0m\u001b[0mb\u001b[0m\u001b[1;33m,\u001b[0m\u001b[0margs\u001b[0m\u001b[1;33m,\u001b[0m\u001b[0mfull_output\u001b[0m\u001b[1;33m,\u001b[0m\u001b[0mepsabs\u001b[0m\u001b[1;33m,\u001b[0m\u001b[0mepsrel\u001b[0m\u001b[1;33m,\u001b[0m\u001b[0mlimit\u001b[0m\u001b[1;33m)\u001b[0m\u001b[1;33m\u001b[0m\u001b[0m\n\u001b[0;32m    320\u001b[0m         \u001b[1;32melse\u001b[0m\u001b[1;33m:\u001b[0m\u001b[1;33m\u001b[0m\u001b[0m\n\u001b[1;32m--> 321\u001b[1;33m             \u001b[1;32mreturn\u001b[0m \u001b[0m_quadpack\u001b[0m\u001b[1;33m.\u001b[0m\u001b[0m_qagie\u001b[0m\u001b[1;33m(\u001b[0m\u001b[0mfunc\u001b[0m\u001b[1;33m,\u001b[0m\u001b[0mbound\u001b[0m\u001b[1;33m,\u001b[0m\u001b[0minfbounds\u001b[0m\u001b[1;33m,\u001b[0m\u001b[0margs\u001b[0m\u001b[1;33m,\u001b[0m\u001b[0mfull_output\u001b[0m\u001b[1;33m,\u001b[0m\u001b[0mepsabs\u001b[0m\u001b[1;33m,\u001b[0m\u001b[0mepsrel\u001b[0m\u001b[1;33m,\u001b[0m\u001b[0mlimit\u001b[0m\u001b[1;33m)\u001b[0m\u001b[1;33m\u001b[0m\u001b[0m\n\u001b[0m\u001b[0;32m    322\u001b[0m     \u001b[1;32melse\u001b[0m\u001b[1;33m:\u001b[0m\u001b[1;33m\u001b[0m\u001b[0m\n\u001b[0;32m    323\u001b[0m         \u001b[1;32mif\u001b[0m \u001b[0minfbounds\u001b[0m \u001b[1;33m!=\u001b[0m \u001b[1;36m0\u001b[0m\u001b[1;33m:\u001b[0m\u001b[1;33m\u001b[0m\u001b[0m\n",
      "\u001b[1;32m<ipython-input-411-bac48604f97a>\u001b[0m in \u001b[0;36mfunc\u001b[1;34m(u, y, D, rt)\u001b[0m\n\u001b[0;32m      5\u001b[0m \u001b[0mymin\u001b[0m\u001b[1;33m=\u001b[0m\u001b[0mcos\u001b[0m\u001b[1;33m(\u001b[0m\u001b[0mnp\u001b[0m\u001b[1;33m.\u001b[0m\u001b[0mradians\u001b[0m\u001b[1;33m(\u001b[0m\u001b[1;36m0.5\u001b[0m\u001b[1;33m)\u001b[0m\u001b[1;33m)\u001b[0m\u001b[1;33m\u001b[0m\u001b[0m\n\u001b[0;32m      6\u001b[0m \u001b[1;33m\u001b[0m\u001b[0m\n\u001b[1;32m----> 7\u001b[1;33m \u001b[1;32mdef\u001b[0m \u001b[0mfunc\u001b[0m\u001b[1;33m(\u001b[0m\u001b[0mu\u001b[0m\u001b[1;33m,\u001b[0m\u001b[0my\u001b[0m\u001b[1;33m,\u001b[0m \u001b[0mD\u001b[0m\u001b[1;33m,\u001b[0m \u001b[0mrt\u001b[0m\u001b[1;33m)\u001b[0m\u001b[1;33m:\u001b[0m\u001b[1;33m\u001b[0m\u001b[0m\n\u001b[0m\u001b[0;32m      8\u001b[0m     \u001b[1;32mreturn\u001b[0m \u001b[1;33m(\u001b[0m\u001b[1;36m1.\u001b[0m\u001b[1;33m+\u001b[0m\u001b[0mu\u001b[0m\u001b[1;33m)\u001b[0m\u001b[1;33m**\u001b[0m\u001b[1;33m(\u001b[0m\u001b[1;33m-\u001b[0m\u001b[1;36m4\u001b[0m\u001b[1;33m)\u001b[0m\u001b[1;33m/\u001b[0m\u001b[0mu\u001b[0m\u001b[1;33m/\u001b[0m\u001b[0msqrt\u001b[0m\u001b[1;33m(\u001b[0m\u001b[0mu\u001b[0m\u001b[1;33m*\u001b[0m\u001b[0mu\u001b[0m\u001b[1;33m-\u001b[0m\u001b[0mD\u001b[0m\u001b[1;33m**\u001b[0m\u001b[1;36m2\u001b[0m\u001b[1;33m*\u001b[0m\u001b[1;33m(\u001b[0m\u001b[1;36m1\u001b[0m\u001b[1;33m-\u001b[0m\u001b[0my\u001b[0m\u001b[1;33m*\u001b[0m\u001b[0my\u001b[0m\u001b[1;33m)\u001b[0m\u001b[1;33m)\u001b[0m\u001b[1;33m\u001b[0m\u001b[0m\n\u001b[0;32m      9\u001b[0m \u001b[1;33m\u001b[0m\u001b[0m\n",
      "\u001b[1;31mKeyboardInterrupt\u001b[0m: "
     ]
    }
   ],
   "source": [
    "rho0_array = np.logspace(6.,9.,100)\n",
    "\n",
    "Jgrid = np.empty([len(rho0_array),len(r0_array)])\n",
    "Lgrid = np.empty([len(rho0_array),len(r0_array)])\n",
    "for i,rho0 in enumerate(rho0_array):\n",
    "    for j,r0 in enumerate(r0_array):\n",
    "        Jgrid[i,j] = Jfactor(D,np.inf,r0,rho0,0.5)\n",
    "        Lgrid[i,j] = logLike(rho0*r0**3,j)\n",
    "#np.save('output/%s/Jgrid_%s'%(dwarf,dwarf),Jgrid)\n",
    "#np.save('output/%s/Lgrid_%s'%(dwarf,dwarf),Lgrid)"
   ]
  },
  {
   "cell_type": "code",
   "execution_count": null,
   "metadata": {
    "collapsed": false
   },
   "outputs": [],
   "source": [
    "Jgrid = np.load('output/%s/Jgrid_%s.npy'%(dwarf,dwarf))\n",
    "Lgrid = np.load('output/%s/Jgrid_%s.npy'%(dwarf,dwarf))\n",
    "#jplot = plt.pcolormesh(r0_array,rho0_array,np.log10(Jgrid))\n",
    "lplot = plt.pcolormesh(r0_array,rho0_array,Lgrid)\n",
    "ctJ = plt.contour(r0_array,rho0_array,np.log10(Jgrid),colors='k')\n",
    "ctL = plt.contour(r0_array,rho0_array,Lgrid,linestyles='dashed',colors='m')\n",
    "plt.clabel(ctJ,inline=1,fmt='%1.0f',colors='k')\n",
    "plt.clabel(ctL,inline=1,fmt='%1.0f',colors='m')\n",
    "cx = plt.colorbar(lplot,pad=0)\n",
    "cx.set_label(r'-log$Like(\\rho_0,r_0|\\vec v,\\vec \\sigma_v)$',fontsize=14)\n",
    "plt.semilogy()\n",
    "plt.ylabel(r'$\\rho_0 [M_\\odot$ kpc$^{-3}$]',fontsize=14)\n",
    "plt.xlabel(r'$r_0$ [kpc]',fontsize=14)\n",
    "plt.suptitle('Ursa Major 1',fontsize=16)\n",
    "plt.savefig('output/%s/gridLJ_%s.png'%(dwarf,dwarf),dpi=300,format='png')"
   ]
  },
  {
   "cell_type": "markdown",
   "metadata": {},
   "source": [
    "# Fitting scheme"
   ]
  },
  {
   "cell_type": "markdown",
   "metadata": {},
   "source": [
    "Given the degeneracy of $\\rho_0$ and $r_0$ in $\\cal L$ and $J$ and their comparable shape, a standard fitting procedure would not lead to stable, thus reliable results. A way to circumvent this is to evaluate $\\cal L$ of each $\\textrm{J}$ value. This can be achieved in the following way:\n",
    "* scan over a likely range of $\\mathrm{J}$;\n",
    "* for each $\\mathrm{J}_i$, scan over one of the two variables. We have chosen $r_0$\n",
    "* for each $r_{0j},$ find with a minimiser the $\\rho_{0j}$ for which $\\mathrm{J}_i - \\mathrm{J}(D,r_t,\\tilde r_{0},\\rho_{0i},\\theta_{max}) \\rightarrow 0$. Each examined $\\mathrm{J}_i$ should thus lead to a set of coordinates $(r_{0j},\\rho_{0j})$ from which the Likelihood can be mapped, giving $\\cal L(\\textrm{J}(r_{0j},\\rho_{0j}))$\n",
    "* interpolation gives $\\cal L_{\\textrm{J}_i}(r_0)$ and its minimum the highest likelihood value for $\\textrm{J}_i$\n",
    "* interpolating once again between the pairs $(\\textrm{J}_i,\\cal L_{\\textrm{J}_i}(r_0))$ yields $\\cal L(\\textrm{J})$ and finding its minimum gives the maximum likelihood J for the given dwarf."
   ]
  },
  {
   "cell_type": "code",
   "execution_count": 366,
   "metadata": {
    "collapsed": false
   },
   "outputs": [],
   "source": [
    "from scipy.interpolate import UnivariateSpline as spline\n",
    "def deltaJ(rho0,J,D,rt,r0,tmax):\n",
    "    return abs(J-np.log10(Jfactor(D,rt,r0,1.,tmax))-rho0*2.)"
   ]
  },
  {
   "cell_type": "markdown",
   "metadata": {},
   "source": [
    "Given the similarity of the solid and dashed contours in the previous plot, we better examine the value of the $\\cal L$ along a $\\mathrm{J}$ isocurve"
   ]
  },
  {
   "cell_type": "code",
   "execution_count": 367,
   "metadata": {
    "collapsed": false
   },
   "outputs": [],
   "source": [
    "tmax=0.5\n",
    "rt=np.inf\n",
    "Jtest=18.\n",
    "rho0j = np.zeros_like(r0_array)\n",
    "LikeJj = np.zeros_like(r0_array)\n",
    "for j,r0 in enumerate(r0_array):\n",
    "    min_deltaJj = sciopt.minimize_scalar(deltaJ,args=(Jtest,D,rt,r0,tmax),tol=1e-8)\n",
    "    rho0j[j] = min_deltaJj.x\n",
    "    LikeJj[j] = logLike(10.**min_deltaJj.x*r0**3.,j)"
   ]
  },
  {
   "cell_type": "code",
   "execution_count": 368,
   "metadata": {
    "collapsed": false
   },
   "outputs": [
    {
     "name": "stdout",
     "output_type": "stream",
     "text": [
      "0.262462792604 103.145789475\n"
     ]
    }
   ],
   "source": [
    "spline_LikeJ_r0 = spline(r0_array,LikeJj,s=0)\n",
    "min_LikeJ_r0 = sciopt.minimize_scalar(spline_LikeJ_r0)\n",
    "print min_LikeJ_r0.x,spline_LikeJ_r0(min_LikeJ_r0.x)"
   ]
  },
  {
   "cell_type": "markdown",
   "metadata": {},
   "source": [
    "as a function of $r_0$"
   ]
  },
  {
   "cell_type": "code",
   "execution_count": 382,
   "metadata": {
    "collapsed": false
   },
   "outputs": [
    {
     "data": {
      "image/png": "[encoded data removed]",
      "text/plain": [
       "<matplotlib.figure.Figure at 0x7fbe84beae10>"
      ]
     },
     "metadata": {},
     "output_type": "display_data"
    }
   ],
   "source": [
    "plt.plot(r0_array,LikeJj)\n",
    "plt.plot(min_LikeJ_r0.x,spline_LikeJ_r0(min_LikeJ_r0.x),'^',\n",
    "         label=r'$r_0$ = %.2f'%min_LikeJ_r0.x)\n",
    "plt.xlim(0,5)\n",
    "plt.xlabel(r'$r_0$ [kpc]',fontsize=14)\n",
    "plt.ylabel(r'$-log$Like(J=%i)'%Jtest,fontsize=14)\n",
    "plt.legend(numpoints=1,loc='upper right',fontsize=12)\n",
    "plt.suptitle('Ursa Major 1',fontsize=16)\n",
    "plt.savefig('output/%s/LikeJ%i_%s.png'%(dwarf,Jtest,dwarf),dpi=300,format='png')"
   ]
  },
  {
   "cell_type": "markdown",
   "metadata": {},
   "source": [
    "and as a function of the corresponding $\\rho_0$"
   ]
  },
  {
   "cell_type": "code",
   "execution_count": 370,
   "metadata": {
    "collapsed": false
   },
   "outputs": [
    {
     "data": {
      "text/plain": [
       "<matplotlib.text.Text at 0x7fbe8494e210>"
      ]
     },
     "execution_count": 370,
     "metadata": {},
     "output_type": "execute_result"
    },
    {
     "data": {
      "image/png": "[encoded data removed]",
      "text/plain": [
       "<matplotlib.figure.Figure at 0x7fbe87813f50>"
      ]
     },
     "metadata": {},
     "output_type": "display_data"
    }
   ],
   "source": [
    "plt.plot(rho0j,LikeJj)\n",
    "plt.xlabel(r'$\\rho_0$')\n",
    "plt.ylabel(r'$-log$Like(J=18)')"
   ]
  },
  {
   "cell_type": "markdown",
   "metadata": {},
   "source": [
    "We examine now the behaviour for neighbouring $\\mathrm{J}$ values"
   ]
  },
  {
   "cell_type": "code",
   "execution_count": 378,
   "metadata": {
    "collapsed": false
   },
   "outputs": [
    {
     "data": {
      "image/png": "[encoded data removed]",
      "text/plain": [
       "<matplotlib.figure.Figure at 0x7fbe86630ad0>"
      ]
     },
     "metadata": {},
     "output_type": "display_data"
    }
   ],
   "source": [
    "tmax=0.5\n",
    "rt=np.inf\n",
    "for J in (17,19):\n",
    "    LikeJ_values = np.zeros_like(r0_array)\n",
    "    for j,r0 in enumerate(r0_array):\n",
    "        min_deltaJ = sciopt.minimize_scalar(deltaJ,args=(J,D,rt,r0,tmax),tol=1e-8)\n",
    "        LikeJ_values[j] = logLike(10.**min_deltaJ.x*r0**3.,j)\n",
    "    spline_LikeJ = spline(r0_array,LikeJ_values,s=0)\n",
    "    min_LikeJ = sciopt.minimize_scalar(spline_LikeJ,bracket=(1e-3,2.),tol=1e-8)\n",
    "    plt.plot(r0_array,LikeJ_values,label='J=%i'%J)\n",
    "    plt.plot(min_LikeJ.x,spline_LikeJ(min_LikeJ.x),'^')\n",
    "plt.plot(r0_array,LikeJj,label='J=%i'%Jtest)\n",
    "plt.plot(min_LikeJ_r0.x,spline_LikeJ_r0(min_LikeJ_r0.x),'^')\n",
    "plt.xlim(0,5)\n",
    "plt.legend(numpoints=1,loc='upper right')\n",
    "plt.xlabel(r'$r_0$ [kpc]',fontsize=14)\n",
    "plt.ylabel(r'$-log$Like(J)',fontsize=14)\n",
    "plt.savefig('output/%s/LikeJmulti_%s.png'%(dwarf,dwarf),dpi=300,format='png')"
   ]
  },
  {
   "cell_type": "markdown",
   "metadata": {},
   "source": [
    "This indicates that there is a specific value of $\\textrm{J}$ at which there is a turn-around in the shape of $\\cal L$ as a function of $r_0$. This behaviour is consistent with contours shown in the colour map; compare $\\cal L$ = 120 and $\\textrm{J}$ = 20 with $\\cal L$ = 120 and $\\textrm{J}$ = 16.\n",
    "\n",
    "Below we test another a different approach: scan directly over $\\textrm{J}$, extrapolate $\\cal L$ for each at a fixed value $r_0$ = 1 kpc and find its minimum; then intepolate between the various minima and find the global minimum."
   ]
  },
  {
   "cell_type": "code",
   "execution_count": 291,
   "metadata": {
    "collapsed": false
   },
   "outputs": [],
   "source": [
    "J_array = np.linspace(17,19,20)\n",
    "r0 = r0_array[59]  #r0_array[j=59]~1 kpc \n",
    "rho0i = np.zeros(shape=len(J_array))\n",
    "LikeJi = np.zeros(shape=len(J_array))\n",
    "for i,J in enumerate(J_array):\n",
    "    min_deltaJi = sciopt.minimize_scalar(deltaJ,args=(J,D,rt,r0,tmax),tol=1e-8)\n",
    "    rho0i[i] = min_deltaJi.x\n",
    "    LikeJi[i] = logLike(10.**min_deltaJi.x*r0**3.,59)"
   ]
  },
  {
   "cell_type": "code",
   "execution_count": 292,
   "metadata": {
    "collapsed": false
   },
   "outputs": [
    {
     "name": "stdout",
     "output_type": "stream",
     "text": [
      "16.546674609 26.7737083411\n"
     ]
    }
   ],
   "source": [
    "spline_LikeJi = spline(J_array,LikeJi,s=0)\n",
    "min_LikeJ = sciopt.minimize_scalar(spline_LikeJi,bracket=(17.,19.),tol=1e-8)\n",
    "print min_LikeJ.x,spline_LikeJi(min_LikeJ.x)"
   ]
  },
  {
   "cell_type": "code",
   "execution_count": 293,
   "metadata": {
    "collapsed": false
   },
   "outputs": [
    {
     "data": {
      "image/png": "[encoded data removed]",
      "text/plain": [
       "<matplotlib.figure.Figure at 0x7fbe86fe5f50>"
      ]
     },
     "metadata": {},
     "output_type": "display_data"
    }
   ],
   "source": [
    "plt.plot(J_array,LikeJi)\n",
    "plt.plot(min_LikeJ.x,spline_LikeJi(min_LikeJ.x),'v',label=r'J = %.2f'%min_LikeJ.x)\n",
    "plt.legend(numpoints=1,loc='upper left',fontsize=12)\n",
    "plt.xlabel('J',fontsize=14)\n",
    "plt.ylabel(r'$-log$Like(J)',fontsize=14)\n",
    "plt.savefig('output/%s/LikeJ_1pkc_%s.png'%(dwarf,dwarf),dpi=300,format='png')"
   ]
  },
  {
   "cell_type": "markdown",
   "metadata": {},
   "source": [
    "This gives a reasonable result, although the minimum J is biased by the choice $r_0$ = 1 kpc. The existence of a minimum for the likelihood function along a J isocurve, indicates that the fitting scheme can be savely employed, with some expedient."
   ]
  },
  {
   "cell_type": "code",
   "execution_count": 379,
   "metadata": {
    "collapsed": false
   },
   "outputs": [],
   "source": [
    "tmax=0.5\n",
    "rt=np.inf\n",
    "#J_array = np.concatenate((np.linspace(17,18.5,10),np.linspace(19.5,21,10)))\n",
    "J_array = np.linspace(17,19,20)\n",
    "min_LikeJ = np.zeros_like(J_array)\n",
    "LikeJ_values = np.zeros_like(r0_array)\n",
    "for i,J in enumerate(J_array):\n",
    "    for j,r0 in enumerate(r0_array):\n",
    "        min_rho0 = sciopt.minimize_scalar(deltaJ,args=(J,D,rt,r0,tmax),tol=1e-8)\n",
    "        LikeJ_values[j] = logLike(10.**min_rho0.x*r0**3.,j)\n",
    "    spline_LikeJ = spline(r0_array,LikeJ_values,s=0)\n",
    "    min_r0 = sciopt.minimize_scalar(spline_LikeJ,bracket=(.1,2.),tol=1e-8)\n",
    "    neg_spline = lambda J : -spline_LikeJ(J)\n",
    "    if min_r0.x < 0:\n",
    "        min_LikeJ[i] = spline_LikeJ(sciopt.minimize_scalar(neg_spline,\n",
    "                                                           bracket=(.1,2.),tol=1e-8).x)\n",
    "    else:\n",
    "        min_LikeJ[i] = spline_LikeJ(min_r0.x)"
   ]
  },
  {
   "cell_type": "code",
   "execution_count": 389,
   "metadata": {
    "collapsed": false
   },
   "outputs": [
    {
     "name": "stdout",
     "output_type": "stream",
     "text": [
      "-0.242703274478 0.2218298914\n",
      "The Maximum Likelihood J for umaI is 18.14 +0.222 -0.243\n"
     ]
    }
   ],
   "source": [
    "spline_Like = spline(np.delete(J_array,np.where(np.isnan(min_LikeJ))[0]),\n",
    "                     np.delete(min_LikeJ,np.where(np.isnan(min_LikeJ))[0]))\n",
    "min_J = sciopt.minimize_scalar(spline_Like,bracket=(17.,19.),tol=1e-8)\n",
    "\n",
    "def one_sigmaJ(J):\n",
    "    return abs(spline_Like(J)-spline_Like(min_J.x)-0.5)\n",
    "\n",
    "err_l = sciopt.minimize_scalar(one_sigmaJ,bracket=(17.,min_J.x),tol=1e-8).x-min_J.x\n",
    "err_r = sciopt.minimize_scalar(one_sigmaJ,bracket=(min_J.x,19.),tol=1e-8).x-min_J.x\n",
    "print err_l,err_r\n",
    "print \"The Maximum Likelihood J for %s is %.2f +%.3f %.3f\"%(dwarf,min_J.x,err_r,err_l)"
   ]
  },
  {
   "cell_type": "code",
   "execution_count": 390,
   "metadata": {
    "collapsed": false,
    "scrolled": true
   },
   "outputs": [
    {
     "data": {
      "image/png": "[encoded data removed]",
      "text/plain": [
       "<matplotlib.figure.Figure at 0x7fbe9050bbd0>"
      ]
     },
     "metadata": {},
     "output_type": "display_data"
    }
   ],
   "source": [
    "plt.plot(J_array,spline_Like(J_array)-spline_Like(min_J.x))\n",
    "plt.plot(min_J.x,0.,'^',label='J = %.2f +%.2f %.2f'%(min_J.x,err_r,err_l))\n",
    "plt.hlines(0.,min(J_array),max(J_array),linestyles='dashed')\n",
    "plt.hlines(.5,min(J_array),max(J_array),colors=('r'),linestyles='dashed',label=r'$1-\\sigma$')\n",
    "plt.legend(numpoints=1,loc='upper center',fontsize=12)\n",
    "plt.ylabel(r'$-log\\Delta$Like(J)',fontsize=14)\n",
    "plt.xlabel('J [GeV cm$^{-5}$]',fontsize=14)\n",
    "plt.ylim(-1,10)\n",
    "#plt.xlim(18,20)\n",
    "plt.suptitle('Ursa Major 1',fontsize=16)\n",
    "plt.savefig('output/%s/LikeJ_%s.png'%(dwarf,dwarf),dpi=300,format='png')"
   ]
  },
  {
   "cell_type": "code",
   "execution_count": null,
   "metadata": {
    "collapsed": true
   },
   "outputs": [],
   "source": []
  }
 ],
 "metadata": {
  "kernelspec": {
   "display_name": "Python 2",
   "language": "python",
   "name": "python2"
  },
  "language_info": {
   "codemirror_mode": {
    "name": "ipython",
    "version": 2
   },
   "file_extension": ".py",
   "mimetype": "text/x-python",
   "name": "python",
   "nbconvert_exporter": "python",
   "pygments_lexer": "ipython2",
   "version": "2.7.6"
  }
 },
 "nbformat": 4,
 "nbformat_minor": 0
}
