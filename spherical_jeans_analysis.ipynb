{
 "cells": [
  {
   "cell_type": "markdown",
   "metadata": {},
   "source": [
    "# computation of the line-of-sight velocity dispersion of a stellar system\n",
    "\n",
    "This is a standard spherical Jeans analysis, that proceeds as follows :\n",
    "* choose a 2D surface brightness profile $I(R)$ for the stellar system. This defines the 3D stellar density $\\nu(r)$ as well.\n",
    "* Choose a sDM density rho(r), which also yields its integral mass within radius $s$ $M(s)$\n",
    "* Then apply the following two equations to obtain $\\sigma^2_{los}$:\n",
    "\\begin{align}\n",
    "\\sigma^2_{los} &= \\frac{2}{I(R)}\\int_R^\\infty \\left(1-\\beta\\frac{R^2}{r^2}\\right)\\nu(r)\\sigma^2(r)\\frac{r{\\rm d}r}{\\sqrt{r^2-R^2}}\\\\\n",
    "\\nu(r)\\sigma^2(r) &= \\int_r^\\infty \\left(\\frac{s}{r}\\right)^{2\\beta}\\nu(s)\\frac{GM(s)}{s^2}{\\rm d}s\n",
    "\\end{align}\n"
   ]
  },
  {
   "cell_type": "markdown",
   "metadata": {},
   "source": [
    "A common choice for the stellar density and surface brightness is the so-called Plummer profile :\n",
    "\\begin{align}\n",
    "\\nu(r) &= \\frac{\\rho_h}{\\left(1+(\\frac{r}{r_h})^2\\right)^{5/2}} \\\\\n",
    "I(R) &= \\frac{4}{3}\\frac{\\rho_h r_h}{\\left(1+(\\frac{r}{r_h})^2\\right)^2}\n",
    "\\end{align}"
   ]
  },
  {
   "cell_type": "code",
   "execution_count": 4,
   "metadata": {
    "collapsed": false
   },
   "outputs": [],
   "source": [
    "def nu(r,rh,rhoh):\n",
    "    return rhoh * (1 + (r/rh)**2)**(-5./2.)\n",
    "def I(R,rh,rhoh):\n",
    "    return 4./3. * rh*rhoh/(1+(r/rh)**2)**2"
   ]
  },
  {
   "cell_type": "markdown",
   "metadata": {},
   "source": [
    "For the spherical Dark Matter profile, we will use the generalized NFW profile :\n",
    "\\begin{equation}\n",
    "\\rho(r) = \\frac{\\rho_0}{\\left(\\frac{r}{r_0}\\right)^a\\left(1+(\\frac{r}{r_0})^b\\right)^\\frac{c-a}{b}}\n",
    "\\end{equation}\n",
    "with the standard NFW profile corresponding to $(a,b,c)=(1,1,3)$.\n",
    "La masse enclose peut être calculée analytiquement :\n",
    "\\begin{align}\n",
    "M(s) &= \\int_0^s 4\\pi r^2 \\rho(r){\\rm d}r \\\\\n",
    "     &= 4\\pi\\rho_0 r_0^3 \\int_0^{s/r_0} \\frac{x^{2-a}}{(1+x^b)^\\frac{c-a}{b}} {\\rm d}x \\\\\n",
    "     &= \\frac{4\\pi\\rho_0 r_0^3}{(3 - a)} x^{3 - a}{}_2F_1\\left[\\frac{3 - a}{b}, \\frac{-a + c}{b}, \\frac{3 - a + b}{b}, -x^b\\right]\\quad x=\\frac{s}{r_0}\\\\\n",
    "     &= \\mu_0\\;\\mu(x)\n",
    "\\end{align}\n",
    "\n",
    "This results in :\n",
    "\\begin{align}\n",
    "\\nu(r)\\sigma^2(r) &= G\\mu_0\\;r^{-2\\beta}\\;\\int_r^\\infty s^{2\\beta}\\nu(s)\\frac{\\mu(s/r_0)}{s^2}{\\rm d}s\\\\\n",
    "&= G\\mu_0\\rho_h\\;r^{-2\\beta}\\;\\int_r^\\infty \\frac{s^{2\\beta}}{\\left(1+(\\frac{r}{r_h})^2\\right)^{5/2}}\\frac{\\mu(s/r_0)}{s^2}{\\rm d}s\\\\\n",
    "&= G\\mu_0\\rho_hr_h^{-1}\\;(\\frac{r}{r_h})^{2\\beta}\\;\\int_\\frac{r}{r_h}^\\infty \\frac{y^{2\\beta-2}}{\\left(1+y^2\\right)^{5/2}}\\mu(y\\,r_h/r_0){\\rm d}y \\quad\\quad y=r/r_h\\\\\n",
    "\\sigma^2_{los}(R) &= \\frac{2G\\mu_0\\rho_hr_h^{-1}}{I(R)}\\int_R^\\infty \\left(1-\\beta\\frac{R^2}{r^2}\\right)\\frac{r{\\rm d}r}{\\sqrt{r^2-R^2}}(\\frac{r}{r_h})^{2\\beta}\\;\\int_\\frac{r}{r_h}^\\infty \\frac{y^{2\\beta-2}}{\\left(1+y^2\\right)^{5/2}}\\mu(y\\,r_h/r_0){\\rm d}y\\\\\n",
    "&= \\frac{2G\\mu_0\\rho_h}{I(R)}\\left(\\frac{R}{r_h}\\right)^{2\\beta+1}\\int_1^\\infty \\left(1-\\frac{\\beta}{z^2}\\right)\\frac{z^{2\\beta+1}{\\rm d}z}{\\sqrt{z^2-1}}\\;\\int_\\frac{zR}{r_h}^\\infty \\frac{y^{2\\beta-2}}{\\left(1+y^2\\right)^{5/2}}\\mu(y\\,r_h/r_0){\\rm d}y\n",
    "\\end{align}\n",
    "\n",
    "We can note the following :\n",
    "* $\\rho_h/I(R)$ is independent of $\\rho_h$, which thus can be set arbitrarily to 1;\n",
    "* if we neglect the dependency on $r_0$ of the double integral for a moment, we can immediately see that $\\rho_0$ and $r_0$ are quite degenerate, as they appear in $\\sigma_{los}$ as a product $\\rho_0r_0^3$. This fact also justifies that one may be better off using the parameter $M_0=\\rho_0r_0^3$ instead of $\\rho_0$;\n",
    "* a minimization procedure will be penalized if it requires recomputation of the double integral each time it changes $\\rho_0$ only. The easiest way out in case of a Likelihood formulation is to use a profiled likelihood method, where $\\rho_0$ is fitted (fast evaluations) while $r_s$ is scanned over (slow double integrand computation, but performed only once per $r_s$ value);\n",
    "* units are carried over to $\\sigma^2_{los}$ by the product $GM_0/r_h$, which usually is to be defined in km$^2$s$^{-2}$, while $r_h$ (together with $r_0$ and $R$) is given in kpc. Donc :\n",
    "\\begin{equation}\n",
    "\\frac{GM_0[\\rm kg]}{r_h[\\rm m]}\\; {\\rm m^2}{\\rm s}^{-2} = 4.3\\,10^{-6} \\frac{M[M_\\odot]}{r_h[\\rm kpc]} \\; {\\rm km^2}{\\rm s}^{-2} \n",
    "\\end{equation}\n",
    "\n",
    "which means that a galaxy with mass $10^6-10^8$ solar masses will result in a line-of-sight squared velocity dispersion of order $1-10^2 \\;{\\rm km}^2{\\rm s}^{-2} $\n"
   ]
  },
  {
   "cell_type": "code",
   "execution_count": 32,
   "metadata": {
    "collapsed": true
   },
   "outputs": [],
   "source": [
    "from scipy import special\n",
    "import numpy as np\n",
    "from matplotlib import pylab as plt\n",
    "from scipy.integrate import quad,quadrature\n",
    "%matplotlib inline"
   ]
  },
  {
   "cell_type": "code",
   "execution_count": 80,
   "metadata": {
    "collapsed": false
   },
   "outputs": [
    {
     "data": {
      "text/plain": [
       "[<matplotlib.lines.Line2D at 0xca2c9d0>]"
      ]
     },
     "execution_count": 80,
     "metadata": {},
     "output_type": "execute_result"
    },
    {
     "data": {
      "image/png": "[encoded data removed]",
      "text/plain": [
       "<matplotlib.figure.Figure at 0xca2c1d0>"
      ]
     },
     "metadata": {},
     "output_type": "display_data"
    }
   ],
   "source": [
    "# Contained mass of the DM halo : generalized NFW\n",
    "a=1.\n",
    "b=1.\n",
    "c=3.\n",
    "def mu(x):\n",
    "    return x**(3.-a)*special.hyp2f1((3.-a)/b, (c-a)/b, (-a+b+3.)/b,-x**b)\n",
    "\n",
    "def dmass(u,a,b,c):\n",
    "    #return pow( u, 2.-a)/pow(1. + pow(u,b), (c-a)/b )\n",
    "    return u/(1. + u)**2\n",
    "\n",
    "def get_M(x):\n",
    "    return quad(dmass, 0., x, args=(a,b,c))[0]\n",
    "\n",
    "def get_M_NFW(x):\n",
    "    #this is the analytic formula\n",
    "    #the constant is 4pi*rho0*rs^3\n",
    "    return np.log(1.+x)-x/(1.+x)\n",
    "    \n",
    "    \n",
    "x = np.linspace(0, 1000, 100)\n",
    "yy = [get_M(xx) for xx in x]\n",
    "plt.plot(x,mu(x)/(3.-a),'k')\n",
    "plt.plot(x,yy, 'b')\n",
    "plt.plot(x,get_M_NFW(x),'.r')\n",
    "# The special function breaks out at 10^14, before the quad integration start showing issues"
   ]
  },
  {
   "cell_type": "code",
   "execution_count": 111,
   "metadata": {
    "collapsed": false
   },
   "outputs": [
    {
     "data": {
      "text/plain": [
       "<matplotlib.legend.Legend at 0x13e90690>"
      ]
     },
     "execution_count": 111,
     "metadata": {},
     "output_type": "execute_result"
    },
    {
     "data": {
      "image/png": "[encoded data removed]",
      "text/plain": [
       "<matplotlib.figure.Figure at 0x1470aad0>"
      ]
     },
     "metadata": {},
     "output_type": "display_data"
    }
   ],
   "source": [
    "beta=-0.005\n",
    "def integrand1(y, alpha):\n",
    "    result = nu(y, 1, 1)*get_M_NFW(y*alpha)/y**(2.-2.*beta)\n",
    "    return result\n",
    "\n",
    "#alpha=rh/r0\n",
    "#start=zR/rh\n",
    "alpha=1\n",
    "start=1.e-5\n",
    "for alpha in [0.1,1,10]:\n",
    "    int1_y=np.linspace(1.e-5, 10, 1000)\n",
    "    plt.loglog(int1_y, integrand1(int1_y, alpha),label=\"rh/r0=%f\"%alpha)\n",
    "plt.legend(loc=3)\n",
    "\n"
   ]
  },
  {
   "cell_type": "markdown",
   "metadata": {},
   "source": [
    "One can see in the plot above that the first integrand scales at $\\alpha^2$ with $\\alpha=r_h/r_0$. This is due to the fact that $M(s)$ goes like $s^2$ at small $s$ for an NFW profile. \n",
    "Then the first integrand cuts off at large $y$ with a weak dependency on $\\alpha$ :  at large $y$, the integrand goes like $y^{-5}y^{2\\beta-2}\\log(\\alpha x)$ so the numerical integration to infinity should really be well-behaved."
   ]
  },
  {
   "cell_type": "code",
   "execution_count": 113,
   "metadata": {
    "collapsed": false
   },
   "outputs": [
    {
     "name": "stdout",
     "output_type": "stream",
     "text": [
      "(3.8682203342519355e-08, 1.2126092592770172e-08)\n"
     ]
    }
   ],
   "source": [
    "def integral1(ymin,alpha):\n",
    "    res,err = quad(integrand1, ymin, +np.inf, args=(alpha) )\n",
    "    return res, err\n",
    "\n",
    "ymin=10\n",
    "alpha=0.1\n",
    "print integral1(ymin,alpha)"
   ]
  }
 ],
 "metadata": {
  "kernelspec": {
   "display_name": "Python 2",
   "language": "python",
   "name": "python2"
  },
  "language_info": {
   "codemirror_mode": {
    "name": "ipython",
    "version": 2
   },
   "file_extension": ".py",
   "mimetype": "text/x-python",
   "name": "python",
   "nbconvert_exporter": "python",
   "pygments_lexer": "ipython2",
   "version": "2.7.3"
  }
 },
 "nbformat": 4,
 "nbformat_minor": 0
}
