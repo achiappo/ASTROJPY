{
 "cells": [
  {
   "cell_type": "markdown",
   "metadata": {},
   "source": [
    "The case of constant anisotropy in the velocity distribution of a dSphs stellar component is realised by the Charbonnier profile, which reads:\n",
    "\\begin{equation}\n",
    "\\beta(r)=\\beta\n",
    "\\end{equation}\n",
    "\n",
    "In this case, the projected line-of-sight velocity dispersion is given by:\n",
    "\\begin{equation}\n",
    "\\sigma^2_{l.o.s.}(R) = 2G\\mu_0\\frac{\\gamma^{1-2\\beta}}{I(R)} \\int^\\infty_1 \\left(1-\\frac{\\beta}{z^2}\\right)\\frac{z^{1-2\\beta}}{\\sqrt{z^2-1}}\\int^\\infty_{z\\gamma}y^{2\\beta-2}\\nu_\\ast(y)\\mu(y\\alpha)dydz\n",
    "\\end{equation}\n",
    "where $\\gamma = \\frac{R}{r_h}$ and $\\alpha = \\frac{r_h}{r_0}$"
   ]
  },
  {
   "cell_type": "code",
   "execution_count": 1,
   "metadata": {
    "collapsed": false
   },
   "outputs": [],
   "source": [
    "import yaml\n",
    "import numpy as np\n",
    "from os import mkdir\n",
    "from sys import argv\n",
    "from AT import get_data\n",
    "from scipy import special\n",
    "from matplotlib import pylab as plt\n",
    "from scipy.integrate import quad\n",
    "from math import sqrt,cos, log10, pi\n",
    "from scipy import optimize as sciopt\n",
    "from scipy.interpolate import UnivariateSpline as spline\n",
    "from scipy.interpolate import interp1d as interp\n",
    "from functions_simCA import integral2, Jfactor,nu\n",
    "from multiprocessing import Pool\n",
    "%matplotlib inline"
   ]
  },
  {
   "cell_type": "code",
   "execution_count": 2,
   "metadata": {
    "collapsed": true
   },
   "outputs": [],
   "source": [
    "# enter size of Mock dataset (options 100,1000,10000)\n",
    "MockSize = 100"
   ]
  },
  {
   "cell_type": "code",
   "execution_count": 3,
   "metadata": {
    "collapsed": true
   },
   "outputs": [],
   "source": [
    "# inverse hyperbolic cosecant (used for gamma* = 1 , non-Plum)\n",
    "def inv_csch(x):\n",
    "    return np.log(np.sqrt(1+x**-2.)+x**-1.)\n",
    "# integrand of I(R) (used for gamma* = 0.1 , Plum)\n",
    "def integrand_I(r,rh,R):\n",
    "    return nu(r/rh)*r/np.sqrt(r**2-R**2)\n",
    "\n",
    "# dwarf surface brightness profile\n",
    "def I(R,rh):\n",
    "    return rh**2*((2*rh**2+R**2)*inv_csch(R/rh)-rh*np.sqrt(rh**2+R**2))/(rh**2+R**2)**(3/2.) # for gamma*=1 , non-Plum\n",
    "    #return 2*quad(integrand_I,R,+np.inf,args=(rh,R))[0] # for gamma*=0.1 , Plum"
   ]
  },
  {
   "cell_type": "code",
   "execution_count": 4,
   "metadata": {
    "collapsed": false
   },
   "outputs": [],
   "source": [
    "# Mock data preparation\n",
    "homedir = '/home/andrea/Desktop/work/DWARF/Jvalue/test/'\n",
    "casedir = 'Isotrop_Cusp_nonPlum'\n",
    "data = '/gs100_bs050_rcrs025_rarcinf_cusp_0064mpc3_df_%i_0.dat'%MockSize\n",
    "err  = '/gs100_bs050_rcrs025_rarcinf_cusp_0064mpc3_df_%i_0_err.dat'%MockSize\n",
    "x,y,z,vx,vy,vz = np.loadtxt(homedir+casedir+data,unpack=True)\n",
    "R = np.sqrt(x**2+y**2) # assumed direction of observation along z-axis for simplicity (as suggested on the Gaia wiki)\n",
    "D=50.\n",
    "d = np.sqrt(x**2+y**2+(D-z)**2)\n",
    "v = (x*vx+y*vy+(D-z)*vz)/d\n",
    "# Errors (from mock data) preparation\n",
    "Evx,Evy,Evz = np.loadtxt(homedir+casedir+err,unpack=True,usecols=(3,4,5))\n",
    "Ex,Ey,Ez = np.absolute(Evx-vx),np.absolute(Evy-vy),np.absolute(Evz-vz)\n",
    "dv = (x*Ex+y*Ey+(D-z)*Ez)/d"
   ]
  },
  {
   "cell_type": "code",
   "execution_count": 5,
   "metadata": {
    "collapsed": false
   },
   "outputs": [],
   "source": [
    "u=0.\n",
    "rh=0.25\n",
    "nstars=np.size(R)"
   ]
  },
  {
   "cell_type": "code",
   "execution_count": 6,
   "metadata": {
    "collapsed": false
   },
   "outputs": [],
   "source": [
    "gamma_array = R/rh\n",
    "beta_array = np.linspace(-10,10,200)\n",
    "r0_array = np.logspace(-3,1,200)\n",
    "alpha_array = rh/r0_array\n",
    "A_array = np.array([[gamma_array[i]**(1-2*beta)/I(Ri,rh) for beta in beta_array] for i,Ri in enumerate(R)])\n",
    "I_array=np.zeros(shape=(len(A_array),len(beta_array),len(r0_array)))"
   ]
  },
  {
   "cell_type": "code",
   "execution_count": 7,
   "metadata": {
    "collapsed": false
   },
   "outputs": [],
   "source": [
    "def array_builder(gamma_array, beta_array, alpha_array):\n",
    "    for k,gamma in enumerate(gamma_array):\n",
    "        for i,beta in enumerate(beta_array):\n",
    "            for j,alpha in enumerate(alpha_array):\n",
    "                yield (k, i, j), (gamma,beta,alpha)\n",
    "\n",
    "def proxy(args):\n",
    "    return args[0], A_array[args[0][0],args[0][1]]*integral2(*args[1])"
   ]
  },
  {
   "cell_type": "code",
   "execution_count": null,
   "metadata": {
    "collapsed": false
   },
   "outputs": [],
   "source": [
    "pool = Pool(processes=4)\n",
    "results = pool.map(proxy, array_builder(gamma_array, beta_array, alpha_array))\n",
    "pool.close()\n",
    "pool.join()\n",
    "for idx,value in results:\n",
    "    I_array[idx] = value"
   ]
  },
  {
   "cell_type": "code",
   "execution_count": null,
   "metadata": {
    "collapsed": false
   },
   "outputs": [],
   "source": [
    "np.save('Iarray_CA_Cusp_nonPlum_100_31_10_200',I_array)"
   ]
  },
  {
   "cell_type": "code",
   "execution_count": 8,
   "metadata": {
    "collapsed": false
   },
   "outputs": [
    {
     "name": "stderr",
     "output_type": "stream",
     "text": [
      "/usr/lib/python2.7/dist-packages/scipy/integrate/quadpack.py:295: UserWarning: The integral is probably divergent, or slowly convergent.\n",
      "  warnings.warn(msg)\n",
      "/usr/lib/python2.7/dist-packages/scipy/integrate/quadpack.py:295: UserWarning: Extremely bad integrand behavior occurs at some points of the\n",
      "  integration interval.\n",
      "  warnings.warn(msg)\n",
      "/usr/lib/python2.7/dist-packages/scipy/integrate/quadpack.py:295: UserWarning: The algorithm does not converge.  Roundoff error is detected\n",
      "  in the extrapolation table.  It is assumed that the requested tolerance\n",
      "  cannot be achieved, and that the returned result (if full_output = 1) is \n",
      "  the best which can be obtained.\n",
      "  warnings.warn(msg)\n",
      "/usr/lib/python2.7/dist-packages/scipy/integrate/quadpack.py:295: UserWarning: The maximum number of subdivisions (50) has been achieved.\n",
      "  If increasing the limit yields no improvement it is advised to analyze \n",
      "  the integrand in order to determine the difficulties.  If the position of a \n",
      "  local difficulty can be determined (singularity, discontinuity) one will \n",
      "  probably gain from splitting up the interval and calling the integrator \n",
      "  on the subranges.  Perhaps a special-purpose integrator should be used.\n",
      "  warnings.warn(msg)\n"
     ]
    }
   ],
   "source": [
    "Jf = np.sqrt([Jfactor(D,np.inf,r0,1.,0.5) for r0 in r0_array])\n",
    "\n",
    "cst = 8.*np.pi*4.3e-6\n",
    "# Likelihood definition (for free beta)\n",
    "def logLike(J,i,j):\n",
    "    I = cst*sqrt(J)*r0_array[j]**3*I_array[:,i,j]/Jf[j]\n",
    "    S = dv**2.+I\n",
    "    res = (np.log(S) + (v-u)**2./S).sum()\n",
    "    return res/2."
   ]
  },
  {
   "cell_type": "code",
   "execution_count": 13,
   "metadata": {
    "collapsed": false
   },
   "outputs": [
    {
     "ename": "NameError",
     "evalue": "name 'logLike' is not defined",
     "output_type": "error",
     "traceback": [
      "\u001b[1;31m---------------------------------------------------------------------------\u001b[0m",
      "\u001b[1;31mNameError\u001b[0m                                 Traceback (most recent call last)",
      "\u001b[1;32m<ipython-input-13-22a72d01bc77>\u001b[0m in \u001b[0;36m<module>\u001b[1;34m()\u001b[0m\n\u001b[0;32m     15\u001b[0m         \u001b[0mmin_beta\u001b[0m \u001b[1;33m=\u001b[0m \u001b[0mnp\u001b[0m\u001b[1;33m.\u001b[0m\u001b[0mzeros\u001b[0m\u001b[1;33m(\u001b[0m\u001b[0mshape\u001b[0m\u001b[1;33m=\u001b[0m\u001b[1;33m(\u001b[0m\u001b[0mnum1\u001b[0m\u001b[1;33m,\u001b[0m\u001b[1;36m2\u001b[0m\u001b[1;33m)\u001b[0m\u001b[1;33m)\u001b[0m\u001b[1;33m\u001b[0m\u001b[0m\n\u001b[0;32m     16\u001b[0m         \u001b[0mLikeJ\u001b[0m \u001b[1;33m=\u001b[0m \u001b[0mnp\u001b[0m\u001b[1;33m.\u001b[0m\u001b[0mzeros_like\u001b[0m\u001b[1;33m(\u001b[0m\u001b[0mbeta_array\u001b[0m\u001b[1;33m)\u001b[0m\u001b[1;33m\u001b[0m\u001b[0m\n\u001b[1;32m---> 17\u001b[1;33m         \u001b[1;32mfor\u001b[0m \u001b[0mi\u001b[0m \u001b[1;32min\u001b[0m \u001b[0mrange\u001b[0m\u001b[1;33m(\u001b[0m\u001b[0mbeta_array\u001b[0m\u001b[1;33m.\u001b[0m\u001b[0msize\u001b[0m\u001b[1;33m)\u001b[0m\u001b[1;33m:\u001b[0m \u001b[0mLikeJ\u001b[0m\u001b[1;33m[\u001b[0m\u001b[0mi\u001b[0m\u001b[1;33m]\u001b[0m \u001b[1;33m=\u001b[0m \u001b[0mlogLike\u001b[0m\u001b[1;33m(\u001b[0m\u001b[1;36m10\u001b[0m\u001b[1;33m**\u001b[0m\u001b[0mJ\u001b[0m\u001b[1;33m,\u001b[0m\u001b[0mi\u001b[0m\u001b[1;33m,\u001b[0m\u001b[0mj\u001b[0m\u001b[1;33m)\u001b[0m \u001b[1;31m# likelihood evaluation for each (r0,rho0)\u001b[0m\u001b[1;33m\u001b[0m\u001b[0m\n\u001b[0m\u001b[0;32m     18\u001b[0m         \u001b[0minterp_LikeBeta\u001b[0m \u001b[1;33m=\u001b[0m \u001b[0minterp\u001b[0m\u001b[1;33m(\u001b[0m\u001b[0mbeta_array\u001b[0m\u001b[1;33m,\u001b[0m\u001b[0mLikeJ\u001b[0m\u001b[1;33m)\u001b[0m                     \u001b[1;31m# build the profile likelihood along ra\u001b[0m\u001b[1;33m\u001b[0m\u001b[0m\n\u001b[0;32m     19\u001b[0m \u001b[1;33m\u001b[0m\u001b[0m\n",
      "\u001b[1;31mNameError\u001b[0m: name 'logLike' is not defined"
     ]
    }
   ],
   "source": [
    "J_array = np.linspace(17,21,100)\n",
    "J_new = np.empty([0])\n",
    "min_LikeJ = np.empty([0])\n",
    "min_r0_arr = np.empty([0])\n",
    "min_beta_arr = np.empty([0])\n",
    "\n",
    "for J in J_array:                                                    # scan over an array of J values\n",
    "    LikeJr0 = np.empty([0])\n",
    "    r0_new = np.empty([0])\n",
    "    beta_new = np.empty([0])\n",
    "    for j,r0 in enumerate(r0_array):                                 # for each J scan over an array of r0 values\n",
    "        LikeJb = np.zeros_like(beta_array)\n",
    "        for i in range(beta_array.size): LikeJb[i] = logLike(10**J,i,j) # likelihood evaluation for each (r0,rho0)\n",
    "        interp_Like_beta = interp(beta_array,LikeJb)                     # build the profile likelihood along ra\n",
    "        \n",
    "        eval_Like_beta = np.linspace(beta_array.min(),beta_array.max(),1e3)\n",
    "        min_Like_beta = interp_Like_beta(eval_Like_beta).min()\n",
    "        min_beta = eval_Like_beta[np.where(interp_Like_beta(eval_Like_beta)==min_Like_beta)[0]]\n",
    "        \n",
    "        if beta_array[1]<min_beta<beta_array[-2]:\n",
    "            LikeJr0 = np.append(LikeJr0,min_Like_beta)\n",
    "            beta_new = np.append(beta_new,min_beta)\n",
    "            r0_new = np.append(r0_new,r0)\n",
    "    \n",
    "    if LikeJr0.size>3:\n",
    "        interp_beta = interp(r0_new,beta_new)\n",
    "        interp_Like_r0 = interp(r0_new,LikeJr0)                     # build the profile likelihood along r0\n",
    "        \n",
    "        eval_Like_r0 = np.logspace(log10(r0_new.min()),log10(r0_new.max()),1e3)\n",
    "        min_Like_r0 = interp_Like_r0(eval_Like_r0).min()\n",
    "        min_r0 = eval_Like_r0[np.where(interp_Like_r0(eval_Like_r0)==min_Like_r0)[0]]\n",
    "        \n",
    "        if r0_new[1]<min_r0<r0_new[-2]:\n",
    "            plt.semilogx(r0_new,interp_Like_r0(r0_new),label='J=%.2f'%J)\n",
    "            plt.plot(min_r0,min_Like_r0,'*',markersize=10,c='k')\n",
    "\n",
    "            min_beta_arr = np.append(min_beta_arr,interp_beta(min_r0))\n",
    "            min_LikeJ = np.append(min_LikeJ,min_Like_r0)\n",
    "            min_r0_arr = np.append(min_r0_arr,min_r0)\n",
    "            J_new = np.append(J_new,J)\n",
    "\n",
    "#plt.ylim(310,330)\n",
    "#plt.xlim(1e-2,1e0)\n",
    "#plt.legend(bbox_to_anchor=(1.4,1))"
   ]
  },
  {
   "cell_type": "code",
   "execution_count": 16,
   "metadata": {
    "collapsed": false
   },
   "outputs": [
    {
     "name": "stdout",
     "output_type": "stream",
     "text": [
      "min J =  19.12  , ra =  0.074  , r0 =  156.188\n"
     ]
    },
    {
     "data": {
      "text/plain": [
       "[<matplotlib.lines.Line2D at 0x7f8ba0c99e90>]"
      ]
     },
     "execution_count": 16,
     "metadata": {},
     "output_type": "execute_result"
    },
    {
     "data": {
      "image/png": "[encoded data removed]",
      "text/plain": [
       "<matplotlib.figure.Figure at 0x7f8ba167fe50>"
      ]
     },
     "metadata": {},
     "output_type": "display_data"
    }
   ],
   "source": [
    "interp_Like = spline(J_new,min_LikeJ,k=2)\n",
    "interp_Like_r0 = interp(J_new,min_r0_arr)\n",
    "interp_Like_beta = interp(J_new,min_beta_arr)\n",
    "min_J = sciopt.minimize_scalar(interp_Like,method='Bounded',bounds=(J_new[0],J_new[-1])).x\n",
    "min_beta = interp_Like_beta(min_J)\n",
    "J_r0 = interp_r0(min_J)\n",
    "print 'min J = ',round(min_J,2),' , beta = ',round(min_beta,3),' , r0 = ',round(J_r0,3)\n",
    "plt.plot(J_new,interp_Like(J_new))\n",
    "plt.plot(min_J,interp_Like(min_J),'b*')\n",
    "#plt.ylim(240,260)"
   ]
  },
  {
   "cell_type": "code",
   "execution_count": 17,
   "metadata": {
    "collapsed": false
   },
   "outputs": [],
   "source": [
    "def one_sigmaJ(J):\n",
    "    return np.abs(interp_Like(J)-interp_Like(min_J)-0.5)\n",
    "\n",
    "one_sigma_l = sciopt.minimize_scalar(one_sigmaJ,method='Bounded',bounds=(min_J-1,min_J)).x-min_J\n",
    "one_sigma_r = sciopt.minimize_scalar(one_sigmaJ,method='Bounded',bounds=(min_J,min_J+1)).x-min_J\n",
    "\n",
    "def two_sigmaJ(J):\n",
    "    return np.abs(interp_Like(J)-interp_Like(min_J)-2.)\n",
    "\n",
    "two_sigma_l = sciopt.minimize_scalar(two_sigmaJ,method='Bounded',bounds=(min_J-1,min_J)).x-min_J\n",
    "two_sigma_r = sciopt.minimize_scalar(two_sigmaJ,method='Bounded',bounds=(min_J,min_J+1)).x-min_J\n",
    "\n",
    "def three_sigmaJ(J):\n",
    "    return np.abs(interp_Like(J)-interp_Like(min_J)-4.)\n",
    "\n",
    "three_sigma_l = sciopt.minimize_scalar(three_sigmaJ,method='Bounded',bounds=(min_J-1,min_J)).x-min_J\n",
    "three_sigma_r = sciopt.minimize_scalar(three_sigmaJ,method='Bounded',bounds=(min_J,min_J+1)).x-min_J\n"
   ]
  },
  {
   "cell_type": "code",
   "execution_count": 18,
   "metadata": {
    "collapsed": false
   },
   "outputs": [
    {
     "name": "stdout",
     "output_type": "stream",
     "text": [
      "19.12 -0.14 0.17 -0.27 0.38 -0.37 0.51\n"
     ]
    }
   ],
   "source": [
    "print round(min_J,2),round(one_sigma_l,2),round(one_sigma_r,2),round(two_sigma_l,2),\\\n",
    "round(two_sigma_r,2),round(three_sigma_l,2),round(three_sigma_r,2)"
   ]
  },
  {
   "cell_type": "code",
   "execution_count": 19,
   "metadata": {
    "collapsed": false
   },
   "outputs": [
    {
     "name": "stdout",
     "output_type": "stream",
     "text": [
      "true J :  19.36 , obtained J :  19.12\n"
     ]
    }
   ],
   "source": [
    "trueJ = round(np.log10(Jfactor(D,np.inf,1.,6.4e7,0.5)),2)\n",
    "print 'true J : ',trueJ,', obtained J : ',round(min_J,2)"
   ]
  },
  {
   "cell_type": "code",
   "execution_count": 20,
   "metadata": {
    "collapsed": false
   },
   "outputs": [
    {
     "data": {
      "text/plain": [
       "<matplotlib.text.Text at 0x7f8ba0f94610>"
      ]
     },
     "execution_count": 20,
     "metadata": {},
     "output_type": "execute_result"
    },
    {
     "data": {
      "image/png": "[encoded data removed]",
      "text/plain": [
       "<matplotlib.figure.Figure at 0x7f8ba1615e50>"
      ]
     },
     "metadata": {},
     "output_type": "display_data"
    }
   ],
   "source": [
    "J_plt = np.linspace(min_J+three_sigma_l-0.5,min_J+three_sigma_r+0.5,100)\n",
    "plt.plot(J_plt,interp_Like(J_plt)-interp_Like(min_J))\n",
    "plt.plot(min_J,0,'b^',markersize=10,label='J$^{MLE}$ = %.2f'%min_J+r' , $\\beta^{MLE}$ = %.2f'%round(min_beta,3))\n",
    "plt.plot(trueJ,0,'r*',markersize=10,label='J$^{TRUE}$ = %.2f'%trueJ+r' , $\\beta^{TRUE}$ = %.2f'%rh)\n",
    "plt.hlines(0.,min(J_plt),max(J_plt),linestyles='dashed')\n",
    "plt.hlines(.5,min(J_plt),max(J_plt),colors=('r'),linestyles='dashed',\n",
    "           label=r'$1-\\sigma$'+'\\t'+'[%.2f,%+.2f]'%(one_sigma_l,one_sigma_r))\n",
    "plt.hlines(2,min(J_plt),max(J_plt),colors=('g'),linestyles='dashed',\n",
    "           label=r'$2-\\sigma$'+'\\t'+'[%.2f,%+.2f]'%(two_sigma_l,two_sigma_r))\n",
    "plt.hlines(4,min(J_plt),max(J_plt),colors=('c'),linestyles='dashed',\n",
    "           label=r'$3-\\sigma$'+'\\t'+'[%.2f,%+.2f]'%(three_sigma_l,three_sigma_r))\n",
    "plt.legend(numpoints=1,fontsize=14).get_frame().set_facecolor('w')\n",
    "plt.ylabel(r'$\\mathcal{L}$(J)',fontsize=14)\n",
    "plt.xlabel(r'log$_{10}$  J [GeV$^2$ cm$^{-5}$]',fontsize=14)\n",
    "plt.ylim(-0.5,12)\n",
    "plt.xlim(min_J+three_sigma_l-0.5,min_J+three_sigma_r+0.5)\n",
    "#plt.savefig(homedir+casedir+'/Sim%i_%s.png'%(nstars,casedir),dpi=300,format='png')\n",
    "plt.suptitle(r'Simulation (N$_{stars}$ = %i)'%nstars,fontsize=16)\n",
    "#plt.savefig(homedir+casedir+'/Sim%i_%s_title.png'%(nstars,casedir),dpi=300,format='png')"
   ]
  },
  {
   "cell_type": "code",
   "execution_count": 17,
   "metadata": {
    "collapsed": false
   },
   "outputs": [
    {
     "name": "stdout",
     "output_type": "stream",
     "text": [
      "           True        Best fit\n",
      "   r0       1.00        3726.440\n",
      " rho0   4.00e+08       9.405e+03\n"
     ]
    }
   ],
   "source": [
    "J_rho0 = sciopt.minimize_scalar(lambda log10rho0:abs(min_J-np.log10(Jfactor(D,np.inf,J_r0,1.,0.5))-2*log10rho0)).x\n",
    "print '%15s %15s'%('True','Best fit')\n",
    "print '%5s %10.2f %15.3f'%('r0',1.,J_r0)\n",
    "print '%5s %10.2e %15.3e'%('rho0',4e8,10**J_rho0)"
   ]
  }
 ],
 "metadata": {
  "kernelspec": {
   "display_name": "Python 2",
   "language": "python",
   "name": "python2"
  },
  "language_info": {
   "codemirror_mode": {
    "name": "ipython",
    "version": 2
   },
   "file_extension": ".py",
   "mimetype": "text/x-python",
   "name": "python",
   "nbconvert_exporter": "python",
   "pygments_lexer": "ipython2",
   "version": "2.7.6"
  }
 },
 "nbformat": 4,
 "nbformat_minor": 0
}
