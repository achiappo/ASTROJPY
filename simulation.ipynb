{
 "cells": [
  {
   "cell_type": "markdown",
   "metadata": {},
   "source": [
    "Testing the Gaia Challenge simulated data. The stellar profile adopted there reads:\n",
    "\\begin{equation}\n",
    "\\nu_\\ast(r) = \\rho_h \\left(\\frac{r}{r_h}\\right)^{-\\gamma_\\ast}\\left(1+\\left(\\frac{r}{r_h}\\right)^{\\alpha_\\ast}\\right)^\\frac{\\gamma_\\ast-\\beta_\\ast}{\\alpha_\\ast}\n",
    "\\end{equation}\n",
    "The adopted parameters are:\n",
    "* $\\gamma_\\ast$ = 1\n",
    "* $\\alpha_\\ast$ = 2\n",
    "* $\\beta_\\ast$ = 5\n",
    "* $r_h$ = 0.25 kpc\n",
    "\n",
    "leading to the simple expression\n",
    "\\begin{equation}\n",
    "\\nu_\\ast(r) = \\frac{\\rho_h}{\\frac{r}{r_h}\\left(1+\\left(\\frac{r}{r_h}\\right)^2\\right)^2}\n",
    "\\end{equation}\n",
    "From this, the surface brightness profile becomes:\n",
    "\\begin{equation}\n",
    "I(R) = 2 \\int^\\infty_R \\frac{\\nu_\\ast(r) r dr}{\\sqrt{r^2-R^2}} = \\rho_h \\frac{r_h^2\\left[(2r_h^2+R^2) csch^{-1}\\left(\\frac{R}{r_h}\\right) - r_h\\sqrt{r_h^2-R^2}\\right]}{(r_h^2+R^2)^{3/2}}\n",
    "\\end{equation}\n",
    "As a result, the $line-of-sight$ velocity dispersion $\\sigma^2(R)$ that enters the Likelihood has the following expression\n",
    "\\begin{equation}\n",
    "\\sigma^2_{l.o.s.}(R) = 2G\\mu_0\\frac{R}{I(R)}\\int^\\infty_1 \\frac{z}{\\sqrt{z^2-1}}\\int^\\infty_{zR}\\frac{\\nu_\\ast(s)\\mu(\\frac{s}{r_0})}{s^2}dsdz\n",
    "\\end{equation}\n",
    "Here $\\beta$ = 0."
   ]
  },
  {
   "cell_type": "code",
   "execution_count": 1,
   "metadata": {
    "collapsed": false
   },
   "outputs": [],
   "source": [
    "import yaml\n",
    "from scipy import special\n",
    "import numpy as np\n",
    "from os import mkdir\n",
    "from AT import get_data\n",
    "from sys import argv\n",
    "from matplotlib import pylab as plt\n",
    "from scipy.integrate import quad,quadrature,nquad\n",
    "from math import sqrt,cos, log, pi\n",
    "from scipy import optimize as sciopt\n",
    "from scipy.interpolate import UnivariateSpline as spline\n",
    "from functions_sim import integral2, Jfactor\n",
    "from multiprocessing import Pool\n",
    "%matplotlib inline"
   ]
  },
  {
   "cell_type": "code",
   "execution_count": 2,
   "metadata": {
    "collapsed": true
   },
   "outputs": [],
   "source": [
    "# inverse hyperbolic cosecant\n",
    "def inv_csch(x):\n",
    "    return np.log(np.sqrt(1+x**-2.)+x**-1.)\n",
    "# dwarf surface brightness profile\n",
    "def I(R,rh):\n",
    "    return rh**2*((2*rh**2+R**2)*inv_csch(R/rh)-rh*np.sqrt(rh**2+R**2))/(rh**2+R**2)**(3/2.)"
   ]
  },
  {
   "cell_type": "code",
   "execution_count": 49,
   "metadata": {
    "collapsed": true
   },
   "outputs": [],
   "source": [
    "# Mock data preparation\n",
    "workdir = '/home/andrea/Desktop/work/DWARF/Jvalue'\n",
    "x,y,z,vx,vy,vz = np.loadtxt(workdir+'/output/test/gs100_bs050_rcrs025_rarcinf_cusp_0064mpc3_df_100_0.dat',unpack=True)\n",
    "x *= 1e3\n",
    "y *= 1e3\n",
    "z *= 1e3\n",
    "d2 = x**2+y**2+z**2\n",
    "R = np.sqrt(d2-z**2) # assumed direction of observation along z-axis for simplicity (as suggested on the Gaia wiki)\n",
    "R /= 1e6\n",
    "v = (x*vx+y*vy+z*vz)*z/d2"
   ]
  },
  {
   "cell_type": "code",
   "execution_count": 50,
   "metadata": {
    "collapsed": true
   },
   "outputs": [],
   "source": [
    "u=0\n",
    "dv=np.zeros_like(R)\n",
    "D=50\n",
    "rh=0.25\n",
    "nstars=np.size(R)"
   ]
  },
  {
   "cell_type": "code",
   "execution_count": 90,
   "metadata": {
    "collapsed": false
   },
   "outputs": [],
   "source": [
    "A_array = np.array([Ri/I(Ri,rh) for Ri in R])\n",
    "r0_array = np.logspace(-3.,3.,50)\n",
    "I_array=np.zeros(shape=(len(A_array),len(r0_array)))"
   ]
  },
  {
   "cell_type": "code",
   "execution_count": 91,
   "metadata": {
    "collapsed": false
   },
   "outputs": [],
   "source": [
    "def array_builder(r_array, R_array):\n",
    "    for i,R in enumerate(R_array):\n",
    "        for j,r in enumerate(r_array):\n",
    "            yield (i, j), (r, rh, R)\n",
    "\n",
    "def proxy(args):\n",
    "    return args[0], integral2(*args[1])*A_array[args[0][0]]"
   ]
  },
  {
   "cell_type": "code",
   "execution_count": null,
   "metadata": {
    "collapsed": false
   },
   "outputs": [],
   "source": [
    "pool = Pool(processes=4)\n",
    "results = pool.map(proxy, array_builder(r0_array, R))\n",
    "pool.close()\n",
    "pool.join()\n",
    "for idx,value in results:\n",
    "    I_array[idx] = value"
   ]
  },
  {
   "cell_type": "code",
   "execution_count": null,
   "metadata": {
    "collapsed": true
   },
   "outputs": [],
   "source": [
    "cst = 8.*np.pi*4.3e-6\n",
    "# Likelihood definition (only for fixed beta!)\n",
    "def logLike(M0,j):\n",
    "    I = cst*M0*I_array[:,j]\n",
    "    S = dv**2.+I\n",
    "    res = (np.log(S) + (v-u)**2./S).sum()\n",
    "    return res/2."
   ]
  },
  {
   "cell_type": "code",
   "execution_count": null,
   "metadata": {
    "collapsed": false
   },
   "outputs": [],
   "source": [
    "log10Jrho1 = np.log10([Jfactor(D,np.inf,r0,1.,0.5) for r0 in r0_array])\n",
    "def deltaJ(log10rho0,log10J,j):\n",
    "    return abs(log10J-log10Jrho1[j]-2.*log10rho0)"
   ]
  },
  {
   "cell_type": "code",
   "execution_count": null,
   "metadata": {
    "collapsed": false
   },
   "outputs": [],
   "source": [
    "J_array = np.linspace(18.,20.,50)\n",
    "LikeJ = np.zeros_like(r0_array)\n",
    "J_new = np.empty([0])\n",
    "min_LikeJ = np.empty([0])\n",
    "for i,J in enumerate(J_array):\n",
    "    for j,r0 in enumerate(r0_array):\n",
    "        log10rho0 = sciopt.minimize_scalar(deltaJ,args=(J,j)).x\n",
    "        LikeJ[j] = logLike(10**log10rho0*r0**3,j)\n",
    "    spline_LikeJ = spline(r0_array,LikeJ,s=0)\n",
    "    min_r0 = sciopt.minimize_scalar(spline_LikeJ)\n",
    "    if r0_array[0]<min_r0.x<r0_array[-1]:\n",
    "        #print J,min_r0.x,min_r0.fun\n",
    "        J_new = np.append(J_new,J)\n",
    "        min_LikeJ = np.append(min_LikeJ,min_r0.fun)\n",
    "        plt.semilogx(r0_array,spline_LikeJ(r0_array),label='J=%.2f'%J)\n",
    "        plt.plot(min_r0.x,min_r0.fun,'*',markersize=10,c='k')\n",
    "plt.ylim(239,239.5)\n",
    "#plt.legend(bbox_to_anchor=(1.3, 1))"
   ]
  },
  {
   "cell_type": "code",
   "execution_count": 80,
   "metadata": {
    "collapsed": false
   },
   "outputs": [],
   "source": [
    "spline_Like = spline(J_new,min_LikeJ)\n",
    "min_J = sciopt.minimize_scalar(spline_Like,method='Bounded',bounds=(J_new[0],J_new[-1])).x"
   ]
  },
  {
   "cell_type": "code",
   "execution_count": 81,
   "metadata": {
    "collapsed": false
   },
   "outputs": [
    {
     "data": {
      "text/plain": [
       "[<matplotlib.lines.Line2D at 0x7f2d1f750250>]"
      ]
     },
     "execution_count": 81,
     "metadata": {},
     "output_type": "execute_result"
    },
    {
     "data": {
      "image/png": "[encoded data removed]",
      "text/plain": [
       "<matplotlib.figure.Figure at 0x7f2d2c0d3090>"
      ]
     },
     "metadata": {},
     "output_type": "display_data"
    }
   ],
   "source": [
    "plt.plot(J_new,spline_Like(J_new))"
   ]
  },
  {
   "cell_type": "code",
   "execution_count": 82,
   "metadata": {
    "collapsed": false
   },
   "outputs": [],
   "source": [
    "def one_sigmaJ(J):\n",
    "    return np.abs(spline_Like(J)-spline_Like(min_J)-0.5)\n",
    "\n",
    "err_l = sciopt.minimize_scalar(one_sigmaJ,method='Bounded',bounds=(J_new[0],min_J)).x-min_J\n",
    "err_r = sciopt.minimize_scalar(one_sigmaJ,method='Bounded',bounds=(min_J,J_new[-1])).x-min_J"
   ]
  },
  {
   "cell_type": "code",
   "execution_count": 83,
   "metadata": {
    "collapsed": false
   },
   "outputs": [
    {
     "name": "stdout",
     "output_type": "stream",
     "text": [
      "19.3332461086 -0.172844756802 0.298164758097\n"
     ]
    }
   ],
   "source": [
    "print min_J,err_l,err_r"
   ]
  },
  {
   "cell_type": "code",
   "execution_count": 84,
   "metadata": {
    "collapsed": false
   },
   "outputs": [
    {
     "data": {
      "image/png": "[encoded data removed]",
      "text/plain": [
       "<matplotlib.figure.Figure at 0x7f2d1f78dcd0>"
      ]
     },
     "metadata": {},
     "output_type": "display_data"
    }
   ],
   "source": [
    "J_plt = np.linspace(min_J-1,min_J+1,100)\n",
    "plt.plot(J_plt,spline_Like(J_plt)-spline_Like(min_J))\n",
    "plt.plot(min_J,0.,'^',label='J = %.2f %+.2f %.2f'%(min_J,err_r,err_l))\n",
    "plt.hlines(0.,min(J_plt),max(J_plt),linestyles='dashed')\n",
    "plt.hlines(.5,min(J_plt),max(J_plt),colors=('r'),linestyles='dashed',\n",
    "           label=r'$1-\\sigma$'+'\\t'+r'$N_{stars}$ = %i'%nstars)\n",
    "plt.legend(numpoints=1,loc='upper center',fontsize=12)\n",
    "plt.ylabel(r'$-\\Delta$$log$Like(J)',fontsize=14)\n",
    "plt.xlabel(r'$log_{10}$  J [GeV$^2$ cm$^{-5}$]',fontsize=14)\n",
    "plt.ylim(-1,10)\n",
    "plt.xlim(min_J-1,min_J+1)\n",
    "plt.suptitle('Simulation (N$_{stars}$ = %i)'%nstars,fontsize=16)\n",
    "plt.savefig('/home/andrea/Desktop/work/DWARF/Jvalue/output/test/Simulation100.png',dpi=300,format='png')"
   ]
  },
  {
   "cell_type": "code",
   "execution_count": 85,
   "metadata": {
    "collapsed": false
   },
   "outputs": [
    {
     "name": "stdout",
     "output_type": "stream",
     "text": [
      "true J :  19.36 , obtained J :  19.33\n"
     ]
    }
   ],
   "source": [
    "print 'true J : ',round(np.log10(Jfactor(D,np.inf,1.,6.4e7,0.5)),2),', obtained J : ',round(min_J,2)"
   ]
  },
  {
   "cell_type": "code",
   "execution_count": 86,
   "metadata": {
    "collapsed": false
   },
   "outputs": [
    {
     "name": "stdout",
     "output_type": "stream",
     "text": [
      "6.241151e+07\n"
     ]
    }
   ],
   "source": [
    "print '%e'%10**sciopt.minimize_scalar(lambda log10rho0:abs(min_J-np.log10(Jfactor(D,np.inf,1.,1.,0.5))-2*log10rho0)).x"
   ]
  }
 ],
 "metadata": {
  "kernelspec": {
   "display_name": "Python 2",
   "language": "python",
   "name": "python2"
  },
  "language_info": {
   "codemirror_mode": {
    "name": "ipython",
    "version": 2
   },
   "file_extension": ".py",
   "mimetype": "text/x-python",
   "name": "python",
   "nbconvert_exporter": "python",
   "pygments_lexer": "ipython2",
   "version": "2.7.6"
  }
 },
 "nbformat": 4,
 "nbformat_minor": 0
}
