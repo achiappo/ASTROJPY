{
 "cells": [
  {
   "cell_type": "markdown",
   "metadata": {},
   "source": [
    "Testing the Gaia Challenge simulated data. The stellar profile adopted here reads:\n",
    "\\begin{equation}\n",
    "\\nu_\\ast(r) = \\rho_h \\left(\\frac{r}{r_h}\\right)^{-\\gamma_\\ast}\\left(1+\\left(\\frac{r}{r_h}\\right)^{\\alpha_\\ast}\\right)^\\frac{\\gamma_\\ast-\\beta_\\ast}{\\alpha_\\ast}\n",
    "\\end{equation}\n",
    "with parameters values:\n",
    "* $\\alpha_\\ast$ = 2\n",
    "* $\\beta_\\ast$ = 5\n",
    "* $r_h$ = 0.1,0.25,1 kpc\n",
    "\n",
    "leading to the simple expression\n",
    "\\begin{equation}\n",
    "\\nu_\\ast(r) = \\frac{\\rho_h}{\\left(\\frac{r}{r_h}\\right)^{\\gamma_\\ast}\\left(1+\\left(\\frac{r}{r_h}\\right)^2\\right)^{\\frac{5-\\gamma_\\ast}{2}}}\n",
    "\\end{equation}\n",
    "\n",
    "for $\\gamma_\\ast = 0.1,1$ this is referred to as \"Plummer\" and \"non-Plummer\" stellar profile, respectively.\n",
    "\n",
    "In the non-Plummer profile case, the surface brightness profile has the following analytic expression:\n",
    "\\begin{equation}\n",
    "I(R) = 2 \\int^\\infty_R \\frac{\\nu_\\ast(r) r dr}{\\sqrt{r^2-R^2}} = \\rho_h \\frac{r_h^2\\left[(2r_h^2+R^2) csch^{-1}\\left(\\frac{R}{r_h}\\right) - r_h\\sqrt{r_h^2+R^2}\\right]}{(r_h^2+R^2)^{3/2}}\n",
    "\\end{equation}\n",
    "\n",
    "As a result, the $line-of-sight$ velocity dispersion $\\sigma^2(R)$ that enters the Likelihood has the following expression\n",
    "\\begin{equation}\n",
    "\\sigma^2_{l.o.s.}(R) = 2G\\mu_0\\frac{R}{I(R)}\\int^\\infty_1 \\frac{z}{\\sqrt{z^2-1}}\\int^\\infty_{zR}\\frac{\\nu_\\ast(s)\\mu(\\frac{s}{r_0})}{s^2}dsdz\n",
    "\\end{equation}\n",
    "Here $\\beta$ = 0."
   ]
  },
  {
   "cell_type": "code",
   "execution_count": 1,
   "metadata": {
    "collapsed": false
   },
   "outputs": [],
   "source": [
    "import yaml\n",
    "import numpy as np\n",
    "from os import mkdir\n",
    "from sys import argv\n",
    "from AT import get_data\n",
    "from scipy import special\n",
    "from matplotlib import pylab as plt\n",
    "from scipy.integrate import quad\n",
    "from math import sqrt,cos, log, pi\n",
    "from scipy import optimize as sciopt\n",
    "from scipy.interpolate import UnivariateSpline as spline\n",
    "from scipy.interpolate import interp1d as interp\n",
    "from functions_sim import integral2, Jfactor,nu\n",
    "from multiprocessing import Pool\n",
    "%matplotlib inline"
   ]
  },
  {
   "cell_type": "code",
   "execution_count": 2,
   "metadata": {
    "collapsed": true
   },
   "outputs": [],
   "source": [
    "# enter size of Mock dataset (options 100,1000,10000)\n",
    "MockSize = 1000\n",
    "include_err = 'no'"
   ]
  },
  {
   "cell_type": "code",
   "execution_count": 3,
   "metadata": {
    "collapsed": true
   },
   "outputs": [],
   "source": [
    "# inverse hyperbolic cosecant (used for gamma* = 1 , non-Plum)\n",
    "def inv_csch(x):\n",
    "    return np.log(np.sqrt(1+x**-2.)+x**-1.)\n",
    "# integrand of I(R) (used for gamma* = 0.1 , Plum)\n",
    "def integrand_I(r,rh,R):\n",
    "    return nu(r,rh)*r/np.sqrt(r**2-R**2)\n",
    "\n",
    "# dwarf surface brightness profile\n",
    "def I(R,rh):\n",
    "    #return rh**2*((2*rh**2+R**2)*inv_csch(R/rh)-rh*np.sqrt(rh**2+R**2))/(rh**2+R**2)**(3/2.) # for gamma*=1 , non-Plum\n",
    "    return 2*quad(integrand_I,R,+np.inf,args=(rh,R))[0] # for gamma*=0.1 , Plum"
   ]
  },
  {
   "cell_type": "code",
   "execution_count": 4,
   "metadata": {
    "collapsed": false
   },
   "outputs": [],
   "source": [
    "# Mock data preparation\n",
    "homedir = '/home/andrea/Desktop/work/DWARF/Jvalue/output/test/'\n",
    "casedir = 'Isotrop+Cusp+Plum'\n",
    "data = '/gs010_bs050_rcrs025_rarcinf_cusp_0064mpc3_df_%i_0.dat'%MockSize\n",
    "err  = '/gs010_bs050_rcrs025_rarcinf_cusp_0064mpc3_df_%i_0_err.dat'%MockSize\n",
    "x,y,z,vx,vy,vz = np.loadtxt(homedir+casedir+data,unpack=True)\n",
    "R = np.sqrt(x**2+y**2) # assumed direction of observation along z-axis for simplicity (as suggested on the Gaia wiki)\n",
    "D=50.\n",
    "d = np.sqrt(x**2+y**2+(D-z)**2)\n",
    "v = (x*vx+y*vy+(D-z)*vz)/d\n",
    "# Errors (from mock data) preparation\n",
    "Evx,Evy,Evz = np.loadtxt(homedir+casedir+err,unpack=True,usecols=(3,4,5))\n",
    "Ex,Ey,Ez = np.absolute(Evx-vx),np.absolute(Evy-vy),np.absolute(Evz-vz)\n",
    "Ev = (x*Ex+y*Ey+(D-z)*Ez)/d"
   ]
  },
  {
   "cell_type": "code",
   "execution_count": 8,
   "metadata": {
    "collapsed": false
   },
   "outputs": [],
   "source": [
    "u=0.\n",
    "rh=0.25\n",
    "nstars=np.size(R)\n",
    "errors = {'yes':True,'no':False}\n",
    "if errors[include_err]:\n",
    "    dv = Ev\n",
    "else:\n",
    "    dv = np.zeros_like(R)"
   ]
  },
  {
   "cell_type": "code",
   "execution_count": 9,
   "metadata": {
    "collapsed": false
   },
   "outputs": [],
   "source": [
    "A_array = np.array([Ri/I(Ri,rh) for Ri in R])\n",
    "r0_array = np.logspace(-2.,2.,100)\n",
    "I_array=np.zeros(shape=(len(A_array),len(r0_array)))"
   ]
  },
  {
   "cell_type": "code",
   "execution_count": 10,
   "metadata": {
    "collapsed": false
   },
   "outputs": [],
   "source": [
    "def array_builder(r_array, R_array):\n",
    "    for i,R in enumerate(R_array):\n",
    "        for j,r in enumerate(r_array):\n",
    "            yield (i, j), (r, rh, R)\n",
    "\n",
    "def proxy(args):\n",
    "    return args[0], integral2(*args[1])*A_array[args[0][0]]"
   ]
  },
  {
   "cell_type": "code",
   "execution_count": null,
   "metadata": {
    "collapsed": false
   },
   "outputs": [],
   "source": [
    "pool = Pool(processes=4)\n",
    "results = pool.map(proxy, array_builder(r0_array, R))\n",
    "pool.close()\n",
    "pool.join()\n",
    "for idx,value in results:\n",
    "    I_array[idx] = value"
   ]
  },
  {
   "cell_type": "code",
   "execution_count": null,
   "metadata": {
    "collapsed": true
   },
   "outputs": [],
   "source": [
    "cst = 8.*np.pi*4.3e-6\n",
    "# Likelihood definition (only for fixed beta!)\n",
    "def logLike(M0,j):\n",
    "    I = cst*M0*I_array[:,j]\n",
    "    S = dv**2.+I\n",
    "    res = (np.log(S) + (v-u)**2./S).sum()\n",
    "    return res/2."
   ]
  },
  {
   "cell_type": "code",
   "execution_count": null,
   "metadata": {
    "collapsed": false
   },
   "outputs": [],
   "source": [
    "# |J-J(rho0,r0)| for J inversion (in log scale)\n",
    "log10Jrho1 = np.log10([Jfactor(D,np.inf,r0,1.,0.5) for r0 in r0_array])\n",
    "def deltaJ(log10rho0,log10J,j):\n",
    "    return abs(log10J-log10Jrho1[j]-2*log10rho0)"
   ]
  },
  {
   "cell_type": "code",
   "execution_count": null,
   "metadata": {
    "collapsed": false
   },
   "outputs": [],
   "source": [
    "J_array = np.linspace(15.,25.,100)\n",
    "LikeJ = np.zeros_like(r0_array)\n",
    "J_new = np.empty([0])\n",
    "min_LikeJ = np.empty([0])\n",
    "for i,J in enumerate(J_array):\n",
    "    for j,r0 in enumerate(r0_array):\n",
    "        log10rho0 = sciopt.minimize_scalar(deltaJ,args=(J,j)).x\n",
    "        LikeJ[j] = logLike(10**log10rho0*r0**3,j)\n",
    "    spline_LikeJ = spline(r0_array,LikeJ,s=0)\n",
    "    min_r0R = sciopt.minimize_scalar(spline_LikeJ,method='Bounded',bounds=(r0_array[0],r0_array[50]))\n",
    "    min_r0L = sciopt.minimize_scalar(spline_LikeJ,method='Bounded',bounds=(r0_array[50],r0_array[-1]))\n",
    "    if min_r0R.fun>min_r0L.fun:\n",
    "        if r0_array[1]<min_r0L.x<r0_array[-2]:\n",
    "            plt.semilogx(r0_array,spline_LikeJ(r0_array),label='J=%.2f'%J)\n",
    "            plt.plot(min_r0L.x,min_r0L.fun,'*',markersize=10,c='k')\n",
    "            J_new = np.append(J_new,J)\n",
    "            min_LikeJ = np.append(min_LikeJ,min_r0L.fun)\n",
    "    else:\n",
    "        if r0_array[1]<min_r0R.x<r0_array[-2]:\n",
    "            plt.semilogx(r0_array,spline_LikeJ(r0_array),label='J=%.2f'%J)\n",
    "            plt.plot(min_r0R.x,min_r0R.fun,'*',markersize=10,c='k')\n",
    "            J_new = np.append(J_new,J)\n",
    "            min_LikeJ = np.append(min_LikeJ,min_r0R.fun)\n",
    "#plt.ylim(350,450)"
   ]
  },
  {
   "cell_type": "code",
   "execution_count": null,
   "metadata": {
    "collapsed": false
   },
   "outputs": [],
   "source": [
    "spline_Like = spline(J_new,min_LikeJ,s=0)\n",
    "min_J = sciopt.minimize_scalar(spline_Like,method='Bounded',bounds=(J_new[0],J_new[-1])).x"
   ]
  },
  {
   "cell_type": "code",
   "execution_count": null,
   "metadata": {
    "collapsed": false
   },
   "outputs": [],
   "source": [
    "plt.plot(J_new,spline_Like(J_new))"
   ]
  },
  {
   "cell_type": "code",
   "execution_count": null,
   "metadata": {
    "collapsed": false
   },
   "outputs": [],
   "source": [
    "def one_sigmaJ(J):\n",
    "    return np.abs(spline_Like(J)-spline_Like(min_J)-0.5)\n",
    "\n",
    "one_sigma_l = sciopt.minimize_scalar(one_sigmaJ,method='Bounded',bounds=(J_new[0],min_J)).x-min_J\n",
    "one_sigma_r = sciopt.minimize_scalar(one_sigmaJ,method='Bounded',bounds=(min_J,J_new[-1])).x-min_J\n",
    "\n",
    "def two_sigmaJ(J):\n",
    "    return np.abs(spline_Like(J)-spline_Like(min_J)-2.)\n",
    "\n",
    "two_sigma_l = sciopt.minimize_scalar(two_sigmaJ,method='Bounded',bounds=(J_new[0],min_J)).x-min_J\n",
    "two_sigma_r = sciopt.minimize_scalar(two_sigmaJ,method='Bounded',bounds=(min_J,J_new[-1])).x-min_J\n",
    "\n",
    "def three_sigmaJ(J):\n",
    "    return np.abs(spline_Like(J)-spline_Like(min_J)-4.)\n",
    "\n",
    "three_sigma_l = sciopt.minimize_scalar(three_sigmaJ,method='Bounded',bounds=(J_new[0],min_J)).x-min_J\n",
    "three_sigma_r = sciopt.minimize_scalar(three_sigmaJ,method='Bounded',bounds=(min_J,J_new[-1])).x-min_J"
   ]
  },
  {
   "cell_type": "code",
   "execution_count": null,
   "metadata": {
    "collapsed": false
   },
   "outputs": [],
   "source": [
    "print round(min_J,2),round(one_sigma_l,2),round(one_sigma_r,2),round(two_sigma_l,2),\\\n",
    "round(two_sigma_r,2),round(three_sigma_l,2),round(three_sigma_r,2)"
   ]
  },
  {
   "cell_type": "code",
   "execution_count": null,
   "metadata": {
    "collapsed": false
   },
   "outputs": [],
   "source": [
    "trueJ = round(np.log10(Jfactor(D,np.inf,1.,4e8,0.5)),2)\n",
    "print 'true J : ',trueJ,', obtained J : ',round(min_J,2)"
   ]
  },
  {
   "cell_type": "code",
   "execution_count": 104,
   "metadata": {
    "collapsed": false
   },
   "outputs": [
    {
     "data": {
      "image/png": "[encoded data removed]",
      "text/plain": [
       "<matplotlib.figure.Figure at 0x7f444835b2d0>"
      ]
     },
     "metadata": {},
     "output_type": "display_data"
    }
   ],
   "source": [
    "J_plt = np.linspace(min_J-1,min_J+1,100)\n",
    "plt.plot(J_plt,spline_Like(J_plt)-spline_Like(min_J))\n",
    "plt.plot(min_J,0,'b^',markersize=10,label='J$_{MLE}$ = %.2f'%min_J)\n",
    "plt.plot(trueJ,0,'r*',markersize=10,label='J$_{TRUE}$ = %.2f'%trueJ)\n",
    "plt.hlines(0.,min(J_plt),max(J_plt),linestyles='dashed')\n",
    "plt.hlines(.5,min(J_plt),max(J_plt),colors=('r'),linestyles='dashed',\n",
    "           label=r'$1-\\sigma$'+'\\t'+'[%.2f,%+.2f]'%(one_sigma_l,one_sigma_r))\n",
    "plt.hlines(2,min(J_plt),max(J_plt),colors=('g'),linestyles='dashed',\n",
    "           label=r'$2-\\sigma$'+'\\t'+'[%.2f,%+.2f]'%(two_sigma_l,two_sigma_r))\n",
    "plt.hlines(4,min(J_plt),max(J_plt),colors=('c'),linestyles='dashed',\n",
    "           label=r'$3-\\sigma$'+'\\t'+'[%.2f,%+.2f]'%(three_sigma_l,three_sigma_r))\n",
    "plt.legend(numpoints=1,fontsize=14)\n",
    "plt.ylabel(r'$-\\Delta$$log$Like(J)',fontsize=14)\n",
    "plt.xlabel(r'$log_{10}$  J [GeV$^2$ cm$^{-5}$]',fontsize=14)\n",
    "plt.ylim(-1,12)\n",
    "plt.xlim(min_J-1,min_J+1)\n",
    "if errors[include_err]:\n",
    "    plt.suptitle(r'Simulation with $\\epsilon_i \\neq 0$ (N$_{stars}$ = %i)'%nstars,fontsize=16)\n",
    "    plt.savefig(homedir+casedir+'/Sim%ierr_%s.png'%(nstars,casedir),dpi=300,format='png')\n",
    "else:\n",
    "    plt.suptitle(r'Simulation with $\\epsilon_i = 0$ (N$_{stars}$ = %i)'%nstars,fontsize=16)\n",
    "    plt.savefig(homedir+casedir+'/Sim%i_%s.png'%(nstars,casedir),dpi=300,format='png')"
   ]
  },
  {
   "cell_type": "code",
   "execution_count": 124,
   "metadata": {
    "collapsed": false
   },
   "outputs": [
    {
     "name": "stdout",
     "output_type": "stream",
     "text": [
      "6.43e+07\n"
     ]
    }
   ],
   "source": [
    "print '%.2e'%10**sciopt.minimize_scalar(lambda log10rho0:abs(min_J-\n",
    "                                                             np.log10(Jfactor(D,np.inf,1.,1.,0.5))-2*log10rho0)).x"
   ]
  }
 ],
 "metadata": {
  "kernelspec": {
   "display_name": "Python 2",
   "language": "python",
   "name": "python2"
  },
  "language_info": {
   "codemirror_mode": {
    "name": "ipython",
    "version": 2
   },
   "file_extension": ".py",
   "mimetype": "text/x-python",
   "name": "python",
   "nbconvert_exporter": "python",
   "pygments_lexer": "ipython2",
   "version": "2.7.6"
  }
 },
 "nbformat": 4,
 "nbformat_minor": 0
}
