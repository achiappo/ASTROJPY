{
 "cells": [
  {
   "cell_type": "markdown",
   "metadata": {},
   "source": [
    "Testing the Gaia Challenge simulated data in the case on a non costant or fixed anisotropy in the velocity of the stellar subcomponent. The profile adopted is the Osipkov-Merritt, which reads:\n",
    "\\begin{equation}\n",
    "\\beta(r)=\\frac{r^2}{r^2+r^2_a}\n",
    "\\end{equation}\n",
    "with $r_a = r_h$.\n",
    "\n",
    "The stellar profile adopted here reads:\n",
    "\\begin{equation}\n",
    "\\nu_\\ast(r) = \\rho_h \\left(\\frac{r}{r_h}\\right)^{-\\gamma_\\ast}\\left(1+\\left(\\frac{r}{r_h}\\right)^{\\alpha_\\ast}\\right)^\\frac{\\gamma_\\ast-\\beta_\\ast}{\\alpha_\\ast}\n",
    "\\end{equation}\n",
    "with parameters values:\n",
    "* $\\alpha_\\ast$ = 2\n",
    "* $\\beta_\\ast$ = 5\n",
    "* $r_h$ = 0.1,0.25,1 kpc\n",
    "\n",
    "leading to the simple expression\n",
    "\\begin{equation}\n",
    "\\nu_\\ast(r) = \\frac{\\rho_h}{\\left(\\frac{r}{r_h}\\right)^{\\gamma_\\ast}\\left(1+\\left(\\frac{r}{r_h}\\right)^2\\right)^{\\frac{5-\\gamma_\\ast}{2}}}\n",
    "\\end{equation}\n",
    "\n",
    "for $\\gamma_\\ast = 0.1,1$ this is referred to as \"Plummer\" and \"non-Plummer\" stellar profile, respectively.\n",
    "\n",
    "In the non-Plummer profile case, the surface brightness profile has the following analytic expression:\n",
    "\\begin{equation}\n",
    "I(R) = 2 \\int^\\infty_R \\frac{\\nu_\\ast(r) r dr}{\\sqrt{r^2-R^2}} = \\rho_h \\frac{r_h^2\\left[(2r_h^2+R^2) csch^{-1}\\left(\\frac{R}{r_h}\\right) - r_h\\sqrt{r_h^2+R^2}\\right]}{(r_h^2+R^2)^{3/2}}\n",
    "\\end{equation}\n",
    "\n",
    "The $line-of-sight$ velocity dispersion $\\sigma^2(R)$ that enters the Likelihood has the following expression\n",
    "\\begin{equation}\n",
    "\\sigma^2_{l.o.s.}(R) = 2G\\mu_0\\frac{R}{I(R)}\\int^\\infty_1 \\left(1+\\frac{\\beta(zR)}{z^2}\\right)\\frac{z}{\\sqrt{z^2-1}}\\int^\\infty_{zR}\\left(\\frac{s}{zR}\\right)^{2\\beta(s)}\\frac{\\nu_\\ast(s)\\mu(s/r_0)}{s^2}dsdz\n",
    "\\end{equation}"
   ]
  },
  {
   "cell_type": "code",
   "execution_count": 1,
   "metadata": {
    "collapsed": false
   },
   "outputs": [],
   "source": [
    "import yaml\n",
    "import numpy as np\n",
    "from os import mkdir\n",
    "from sys import argv\n",
    "from AT import get_data\n",
    "from scipy import special\n",
    "from matplotlib import pylab as plt\n",
    "from scipy.integrate import quad\n",
    "from math import sqrt,cos, log10, pi\n",
    "from scipy import optimize as sciopt\n",
    "from scipy.interpolate import UnivariateSpline as spline\n",
    "from scipy.interpolate import interp1d as interp\n",
    "from functions_simOM import integral2, Jfactor,nu\n",
    "from multiprocessing import Pool\n",
    "%matplotlib inline"
   ]
  },
  {
   "cell_type": "code",
   "execution_count": 2,
   "metadata": {
    "collapsed": true
   },
   "outputs": [],
   "source": [
    "# enter size of Mock dataset (options 100,1000,10000)\n",
    "MockSize = 100"
   ]
  },
  {
   "cell_type": "code",
   "execution_count": 15,
   "metadata": {
    "collapsed": true
   },
   "outputs": [],
   "source": [
    "# inverse hyperbolic cosecant (used for gamma* = 1 , non-Plum)\n",
    "def inv_csch(x):\n",
    "    return np.log(np.sqrt(1+x**-2.)+x**-1.)\n",
    "# integrand of I(R) (used for gamma* = 0.1 , Plum)\n",
    "def integrand_I(r,rh,R):\n",
    "    return nu(r,rh)*r/np.sqrt(r**2-R**2)\n",
    "\n",
    "# dwarf surface brightness profile\n",
    "def I(R,rh):\n",
    "    return rh**2*((2*rh**2+R**2)*inv_csch(R/rh)-rh*np.sqrt(rh**2+R**2))/(rh**2+R**2)**(3/2.) # for gamma*=1 , non-Plum\n",
    "    #return 2*quad(integrand_I,R,+np.inf,args=(rh,R))[0] # for gamma*=0.1 , Plum"
   ]
  },
  {
   "cell_type": "code",
   "execution_count": 16,
   "metadata": {
    "collapsed": false
   },
   "outputs": [],
   "source": [
    "# Mock data preparation\n",
    "homedir = '/home/andrea/Desktop/work/DWARF/Jvalue/output/test/'\n",
    "casedir = 'OsipkMerr_Cusp_nonPlum'\n",
    "data = '/gs100_bs050_rcrs010_rarc100_cusp_0064mpc3_df_%i_0.dat'%MockSize\n",
    "err  = '/gs100_bs050_rcrs010_rarc100_cusp_0064mpc3_df_%i_0_err.dat'%MockSize\n",
    "x,y,z,vx,vy,vz = np.loadtxt(homedir+casedir+data,unpack=True)\n",
    "R = np.sqrt(x**2+y**2) # assumed direction of observation along z-axis for simplicity (as suggested on the Gaia wiki)\n",
    "D=50.\n",
    "d = np.sqrt(x**2+y**2+(D-z)**2)\n",
    "v = (x*vx+y*vy+(D-z)*vz)/d\n",
    "# Errors (from mock data) preparation\n",
    "Evx,Evy,Evz = np.loadtxt(homedir+casedir+err,unpack=True,usecols=(3,4,5))\n",
    "Ex,Ey,Ez = np.absolute(Evx-vx),np.absolute(Evy-vy),np.absolute(Evz-vz)\n",
    "Ev = (x*Ex+y*Ey+(D-z)*Ez)/d"
   ]
  },
  {
   "cell_type": "code",
   "execution_count": 17,
   "metadata": {
    "collapsed": false
   },
   "outputs": [],
   "source": [
    "u=0.\n",
    "rh=0.25\n",
    "true_ra=rh\n",
    "nstars=np.size(R)\n",
    "dv = Ev"
   ]
  },
  {
   "cell_type": "code",
   "execution_count": 18,
   "metadata": {
    "collapsed": false
   },
   "outputs": [],
   "source": [
    "A_array = np.array([Ri/I(Ri,rh) for Ri in R])\n",
    "r0_array = np.logspace(-4,4,200)\n",
    "#ra_array = np.logspace(-4,4,100)\n",
    "#I_array=np.zeros(shape=(len(A_array),len(ra_array),len(r0_array)))\n",
    "I_array=np.zeros(shape=(len(A_array),len(r0_array)))"
   ]
  },
  {
   "cell_type": "code",
   "execution_count": 19,
   "metadata": {
    "collapsed": false
   },
   "outputs": [],
   "source": [
    "'''\n",
    "def array_builder(r0_array, ra_array, rh, R_array):\n",
    "    for i,R in enumerate(R_array):\n",
    "        for j,ra in enumerate(ra_array):\n",
    "            for k,r0 in enumerate(r0_array):\n",
    "                yield (i, j, k), (R, ra, rh, r0)\n",
    "'''\n",
    "def array_builder(r0_array, ra, rh, R_array):\n",
    "    for i,R in enumerate(R_array):\n",
    "        for j,r0 in enumerate(r0_array):\n",
    "            yield (i, j), (R, ra, rh, r0)\n",
    "\n",
    "def proxy(args):\n",
    "    return args[0], integral2(*args[1])*A_array[args[0][0]]"
   ]
  },
  {
   "cell_type": "code",
   "execution_count": 20,
   "metadata": {
    "collapsed": false
   },
   "outputs": [],
   "source": [
    "import time\n",
    "start = time.time()\n",
    "pool = Pool(processes=4)\n",
    "#results = pool.map(proxy, array_builder(r0_array, ra_array, rh, R))\n",
    "results = pool.map(proxy, array_builder(r0_array, true_ra, rh, R))\n",
    "pool.close()\n",
    "pool.join()\n",
    "for idx,value in results:\n",
    "    I_array[idx] = value\n",
    "end = time.time()"
   ]
  },
  {
   "cell_type": "code",
   "execution_count": 21,
   "metadata": {
    "collapsed": false
   },
   "outputs": [
    {
     "data": {
      "text/plain": [
       "1.6549039363861084"
      ]
     },
     "execution_count": 21,
     "metadata": {},
     "output_type": "execute_result"
    }
   ],
   "source": [
    "(end-start)/60."
   ]
  },
  {
   "cell_type": "code",
   "execution_count": 22,
   "metadata": {
    "collapsed": false
   },
   "outputs": [],
   "source": [
    "#np.save('IarrayOMCunP100_44',I_array)\n",
    "#I_array = np.load('IarrayOMCunP100_55.npy')"
   ]
  },
  {
   "cell_type": "code",
   "execution_count": 23,
   "metadata": {
    "collapsed": false
   },
   "outputs": [],
   "source": [
    "cst = 8.*np.pi*4.3e-6\n",
    "# Likelihood definition (for free beta)\n",
    "'''\n",
    "def logLike(M0,i,j):\n",
    "    I = cst*M0*I_array[:,i,j]\n",
    "    S = dv**2.+I\n",
    "    res = (np.log(S) + (v-u)**2./S).sum()\n",
    "    return res/2.\n",
    "'''\n",
    "def logLike(M0,i):\n",
    "    I = cst*M0*I_array[:,i]\n",
    "    S = dv**2.+I\n",
    "    res = (np.log(S) + (v-u)**2./S).sum()\n",
    "    return res/2."
   ]
  },
  {
   "cell_type": "code",
   "execution_count": 24,
   "metadata": {
    "collapsed": false
   },
   "outputs": [
    {
     "name": "stderr",
     "output_type": "stream",
     "text": [
      "/usr/lib/python2.7/dist-packages/scipy/integrate/quadpack.py:295: UserWarning: The integral is probably divergent, or slowly convergent.\n",
      "  warnings.warn(msg)\n",
      "/usr/lib/python2.7/dist-packages/scipy/integrate/quadpack.py:295: UserWarning: Extremely bad integrand behavior occurs at some points of the\n",
      "  integration interval.\n",
      "  warnings.warn(msg)\n",
      "/usr/lib/python2.7/dist-packages/scipy/integrate/quadpack.py:295: UserWarning: The algorithm does not converge.  Roundoff error is detected\n",
      "  in the extrapolation table.  It is assumed that the requested tolerance\n",
      "  cannot be achieved, and that the returned result (if full_output = 1) is \n",
      "  the best which can be obtained.\n",
      "  warnings.warn(msg)\n",
      "/usr/lib/python2.7/dist-packages/scipy/integrate/quadpack.py:295: UserWarning: The maximum number of subdivisions (50) has been achieved.\n",
      "  If increasing the limit yields no improvement it is advised to analyze \n",
      "  the integrand in order to determine the difficulties.  If the position of a \n",
      "  local difficulty can be determined (singularity, discontinuity) one will \n",
      "  probably gain from splitting up the interval and calling the integrator \n",
      "  on the subranges.  Perhaps a special-purpose integrator should be used.\n",
      "  warnings.warn(msg)\n"
     ]
    }
   ],
   "source": [
    "# |J-J(rho0,r0)| for J inversion (in log scale)\n",
    "log10Jrho1 = np.log10([Jfactor(D,np.inf,r0,1.,0.5) for r0 in r0_array])\n",
    "def deltaJ(log10rho0,log10J,j):\n",
    "    return abs(log10J-log10Jrho1[j]-2*log10rho0)"
   ]
  },
  {
   "cell_type": "code",
   "execution_count": 25,
   "metadata": {
    "collapsed": false
   },
   "outputs": [
    {
     "data": {
      "text/plain": [
       "(0.001, 1.0)"
      ]
     },
     "execution_count": 25,
     "metadata": {},
     "output_type": "execute_result"
    },
    {
     "data": {
      "image/png": "[encoded data removed]",
      "text/plain": [
       "<matplotlib.figure.Figure at 0x7fdf8850b210>"
      ]
     },
     "metadata": {},
     "output_type": "display_data"
    }
   ],
   "source": [
    "J_array = np.linspace(15.,25.,100)\n",
    "LikeJ = np.zeros_like(r0_array)\n",
    "J_new = np.empty([0])\n",
    "min_LikeJ = np.empty([0])\n",
    "div = np.size(r0_array)/10\n",
    "acc = 3#round(log10(np.size(R)),1)\n",
    "for J in J_array:\n",
    "    min_r0 = np.zeros(shape=(div,2))\n",
    "    for j,r0 in enumerate(r0_array):\n",
    "        log10rho0 = sciopt.minimize_scalar(deltaJ,args=(J,j)).x\n",
    "        LikeJ[j] = logLike(10**log10rho0*r0**3,j)\n",
    "    spline_LikeJ = interp(r0_array,LikeJ)\n",
    "    \n",
    "    a, b = 0, div-1\n",
    "    for i in range(10):\n",
    "        loc_min_r0 = sciopt.minimize_scalar(spline_LikeJ,method='Bounded',bounds=(r0_array[a],r0_array[b]))\n",
    "        if (r0_array[a]+r0_array[a+1])/acc<loc_min_r0.x<(r0_array[b-1]+r0_array[b])/acc: # for 1000 stars change to 3\n",
    "            min_r0[i,:] = (loc_min_r0.x,loc_min_r0.fun)\n",
    "        a = b\n",
    "        b += div\n",
    "        \n",
    "    min_r0 = np.delete(min_r0,np.where(min_r0==0.),axis=0)\n",
    "    new_min_r0 = np.array([min_r0[i] for i in sorted(range(len(min_r0)),key = lambda k : min_r0[k,1])])\n",
    "    if new_min_r0.size!=0:\n",
    "        plt.semilogx(r0_array,spline_LikeJ(r0_array),label='J=%.2f'%J)\n",
    "        plt.plot(new_min_r0[0,0],new_min_r0[0,1],'*',markersize=10,c='k')\n",
    "        min_LikeJ = np.append(min_LikeJ,new_min_r0[0,1])\n",
    "        J_new = np.append(J_new,J)\n",
    "plt.ylim(2e3,4e3)\n",
    "plt.xlim(1e-3,1e0)"
   ]
  },
  {
   "cell_type": "code",
   "execution_count": 26,
   "metadata": {
    "collapsed": false
   },
   "outputs": [
    {
     "data": {
      "text/plain": [
       "\"\\nJ_array = np.linspace(15,25,100)\\nLikeJ = np.zeros_like(ra_array)\\nJ_new = np.empty([0])\\nmin_LikeJ = np.empty([0])\\nmin_ra_arr = np.empty([0])\\ndiv = 10\\nfor J in J_array:                                                # scan over an array of J values\\n    LikeJbeta = np.empty([0])\\n    r0_new = np.empty([0])\\n    ra_new = np.empty([0])\\n    min_r0 = np.zeros(shape=(div,2))\\n    for j,r0 in enumerate(r0_array):                             # for each J, scan over an array of r0 values\\n        log10rho0 = sciopt.minimize_scalar(deltaJ,args=(J,j)).x  # for each r0, find the correspongin rho0 yielding J\\n        min_ra = np.zeros(shape=(div,2))\\n        for i,ra in enumerate(ra_array):                         # for each (r0,rho0), scan over ra parameter\\n            LikeJ[i] = logLike(10**log10rho0*r0**3,i,j)          # evaluate the likelihood\\n        spline_LikeBeta = interp(ra_array,LikeJ)                 # build the profile likelihood along ra\\n        \\n        a, b = 0, 9\\n        for i in range(div):                                     # adaptive minima finding routine along ra\\n            loc_min_ra = sciopt.minimize_scalar(spline_LikeBeta,method='Bounded',bounds=(ra_array[a],ra_array[b]))\\n            #if ra_array[a+1]/2.<loc_min_ra.x<ra_array[b-1]/2.: min_ra[i,:] = (loc_min_ra.x,loc_min_ra.fun)\\n            min_ra[i,:] = (loc_min_ra.x,loc_min_ra.fun)\\n            a = b\\n            b += 10\\n        \\n        min_ra = np.delete(min_ra,np.where(min_ra==0.),axis=0)\\n        new_min_ra = np.array([min_ra[i] for i in sorted(range(len(min_ra)),key = lambda k : min_ra[k,1])])\\n        cond, i = True, 0\\n        while cond and i<len(min_ra):                    # find the lowest minimum (in the ranges examined)\\n            if ra_array[1]<new_min_ra[i,0]<ra_array[-2]:\\n                #plt.semilogx(ra_array,spline_LikeBeta(ra_array),label='J=%.2f'%J)\\n                #plt.plot(new_min_ra[i,0],new_min_ra[i,1],'*',markersize=10,c='k')\\n                LikeJbeta = np.append(LikeJbeta,new_min_ra[i,1])\\n                ra_new = np.append(ra_new,new_min_ra[i,0])\\n                r0_new = np.append(r0_new,r0)\\n                cond = False\\n            else:\\n                i += 1\\n    \\n    if np.size(r0_new)>3:\\n        spline_ra = interp(r0_new,ra_new)\\n        spline_LikeJ = interp(r0_new,LikeJbeta)\\n        \\n        if np.size(r0_new)/10==10: div2=10\\n        else: div2=np.size(r0_new)/10+1\\n        c, d = 0, np.size(r0_new)/10\\n        for i in range(div2):                            # adaptive minima finding routine along r0\\n            if d>=np.size(r0_new): d=-1\\n            loc_min_r0 = sciopt.minimize_scalar(spline_LikeJ,method='Bounded',bounds=(r0_new[c],r0_new[d]))\\n            min_r0[i,:] = (loc_min_r0.x,loc_min_r0.fun)\\n            c = d\\n            d += 10\\n        \\n        new_min_r0 = np.array([min_r0[i] for i in sorted(range(div),key = lambda k : min_r0[k,1])])\\n        cond, j = True, 0\\n        while cond and j<div2:                                   # find the lowest minimum (in the ranges examined)\\n            if r0_new[1]<new_min_r0[j,0]<r0_new[-2]:\\n                plt.semilogx(r0_new,spline_LikeJ(r0_new),label='J=%.2f'%J)\\n                plt.plot(new_min_r0[j,0],new_min_r0[j,1],'*',markersize=10,c='k')\\n                min_ra_arr = np.append(min_ra_arr,spline_ra(new_min_r0[j,0]))\\n                min_LikeJ = np.append(min_LikeJ,new_min_r0[j,1])\\n                J_new = np.append(J_new,J)\\n                cond = False\\n            else:\\n                j += 1\\n\""
      ]
     },
     "execution_count": 26,
     "metadata": {},
     "output_type": "execute_result"
    }
   ],
   "source": [
    "'''\n",
    "J_array = np.linspace(15,25,100)\n",
    "LikeJ = np.zeros_like(ra_array)\n",
    "J_new = np.empty([0])\n",
    "min_LikeJ = np.empty([0])\n",
    "min_ra_arr = np.empty([0])\n",
    "div = 10\n",
    "for J in J_array:                                                # scan over an array of J values\n",
    "    LikeJbeta = np.empty([0])\n",
    "    r0_new = np.empty([0])\n",
    "    ra_new = np.empty([0])\n",
    "    min_r0 = np.zeros(shape=(div,2))\n",
    "    for j,r0 in enumerate(r0_array):                             # for each J, scan over an array of r0 values\n",
    "        log10rho0 = sciopt.minimize_scalar(deltaJ,args=(J,j)).x  # for each r0, find the correspongin rho0 yielding J\n",
    "        min_ra = np.zeros(shape=(div,2))\n",
    "        for i,ra in enumerate(ra_array):                         # for each (r0,rho0), scan over ra parameter\n",
    "            LikeJ[i] = logLike(10**log10rho0*r0**3,i,j)          # evaluate the likelihood\n",
    "        spline_LikeBeta = interp(ra_array,LikeJ)                 # build the profile likelihood along ra\n",
    "        \n",
    "        a, b = 0, 9\n",
    "        for i in range(div):                                     # adaptive minima finding routine along ra\n",
    "            loc_min_ra = sciopt.minimize_scalar(spline_LikeBeta,method='Bounded',bounds=(ra_array[a],ra_array[b]))\n",
    "            #if ra_array[a+1]/2.<loc_min_ra.x<ra_array[b-1]/2.: min_ra[i,:] = (loc_min_ra.x,loc_min_ra.fun)\n",
    "            min_ra[i,:] = (loc_min_ra.x,loc_min_ra.fun)\n",
    "            a = b\n",
    "            b += 10\n",
    "        \n",
    "        min_ra = np.delete(min_ra,np.where(min_ra==0.),axis=0)\n",
    "        new_min_ra = np.array([min_ra[i] for i in sorted(range(len(min_ra)),key = lambda k : min_ra[k,1])])\n",
    "        cond, i = True, 0\n",
    "        while cond and i<len(min_ra):                    # find the lowest minimum (in the ranges examined)\n",
    "            if ra_array[1]<new_min_ra[i,0]<ra_array[-2]:\n",
    "                #plt.semilogx(ra_array,spline_LikeBeta(ra_array),label='J=%.2f'%J)\n",
    "                #plt.plot(new_min_ra[i,0],new_min_ra[i,1],'*',markersize=10,c='k')\n",
    "                LikeJbeta = np.append(LikeJbeta,new_min_ra[i,1])\n",
    "                ra_new = np.append(ra_new,new_min_ra[i,0])\n",
    "                r0_new = np.append(r0_new,r0)\n",
    "                cond = False\n",
    "            else:\n",
    "                i += 1\n",
    "    \n",
    "    if np.size(r0_new)>3:\n",
    "        spline_ra = interp(r0_new,ra_new)\n",
    "        spline_LikeJ = interp(r0_new,LikeJbeta)\n",
    "        \n",
    "        if np.size(r0_new)/10==10: div2=10\n",
    "        else: div2=np.size(r0_new)/10+1\n",
    "        c, d = 0, np.size(r0_new)/10\n",
    "        for i in range(div2):                            # adaptive minima finding routine along r0\n",
    "            if d>=np.size(r0_new): d=-1\n",
    "            loc_min_r0 = sciopt.minimize_scalar(spline_LikeJ,method='Bounded',bounds=(r0_new[c],r0_new[d]))\n",
    "            min_r0[i,:] = (loc_min_r0.x,loc_min_r0.fun)\n",
    "            c = d\n",
    "            d += 10\n",
    "        \n",
    "        new_min_r0 = np.array([min_r0[i] for i in sorted(range(div),key = lambda k : min_r0[k,1])])\n",
    "        cond, j = True, 0\n",
    "        while cond and j<div2:                                   # find the lowest minimum (in the ranges examined)\n",
    "            if r0_new[1]<new_min_r0[j,0]<r0_new[-2]:\n",
    "                plt.semilogx(r0_new,spline_LikeJ(r0_new),label='J=%.2f'%J)\n",
    "                plt.plot(new_min_r0[j,0],new_min_r0[j,1],'*',markersize=10,c='k')\n",
    "                min_ra_arr = np.append(min_ra_arr,spline_ra(new_min_r0[j,0]))\n",
    "                min_LikeJ = np.append(min_LikeJ,new_min_r0[j,1])\n",
    "                J_new = np.append(J_new,J)\n",
    "                cond = False\n",
    "            else:\n",
    "                j += 1\n",
    "'''\n",
    "#plt.ylim(240,260)\n",
    "#plt.xlim(1e-3,1e2)\n",
    "#plt.legend(bbox_to_anchor=(1.4,1)"
   ]
  },
  {
   "cell_type": "code",
   "execution_count": 27,
   "metadata": {
    "collapsed": false
   },
   "outputs": [],
   "source": [
    "interp_like = interp(J_new,min_LikeJ)\n",
    "spline_LikeJ = spline(J_new,interp_like(J_new))\n",
    "min_J = sciopt.minimize_scalar(spline_LikeJ,method='Bounded',bounds=(J_new[0],J_new[-1])).x\n",
    "#spline_Like_ra = interp(J_new,min_ra_arr)\n",
    "#min_ra = spline_Like_ra(min_J)"
   ]
  },
  {
   "cell_type": "code",
   "execution_count": 28,
   "metadata": {
    "collapsed": false
   },
   "outputs": [
    {
     "name": "stdout",
     "output_type": "stream",
     "text": [
      "min J =  19.37\n"
     ]
    }
   ],
   "source": [
    "print 'min J = ',round(min_J,2)#,' , ra = ',round(min_ra,2)"
   ]
  },
  {
   "cell_type": "code",
   "execution_count": 29,
   "metadata": {
    "collapsed": false
   },
   "outputs": [
    {
     "data": {
      "text/plain": [
       "[<matplotlib.lines.Line2D at 0x7fdf88061d10>]"
      ]
     },
     "execution_count": 29,
     "metadata": {},
     "output_type": "execute_result"
    },
    {
     "data": {
      "image/png": "[encoded data removed]",
      "text/plain": [
       "<matplotlib.figure.Figure at 0x7fdf884db850>"
      ]
     },
     "metadata": {},
     "output_type": "display_data"
    }
   ],
   "source": [
    "plt.plot(J_new,spline_LikeJ(J_new))"
   ]
  },
  {
   "cell_type": "code",
   "execution_count": 30,
   "metadata": {
    "collapsed": false
   },
   "outputs": [],
   "source": [
    "def one_sigmaJ(J):\n",
    "    return np.abs(spline_LikeJ(J)-spline_LikeJ(min_J)-0.5)\n",
    "\n",
    "one_sigma_l = sciopt.minimize_scalar(one_sigmaJ,method='Bounded',bounds=(min_J-2,min_J)).x-min_J\n",
    "one_sigma_r = sciopt.minimize_scalar(one_sigmaJ,method='Bounded',bounds=(min_J,min_J+2)).x-min_J\n",
    "\n",
    "def two_sigmaJ(J):\n",
    "    return np.abs(spline_LikeJ(J)-spline_LikeJ(min_J)-2.)\n",
    "\n",
    "two_sigma_l = sciopt.minimize_scalar(two_sigmaJ,method='Bounded',bounds=(min_J-2,min_J)).x-min_J\n",
    "two_sigma_r = sciopt.minimize_scalar(two_sigmaJ,method='Bounded',bounds=(min_J,min_J+2)).x-min_J\n",
    "\n",
    "def three_sigmaJ(J):\n",
    "    return np.abs(spline_LikeJ(J)-spline_LikeJ(min_J)-4.)\n",
    "\n",
    "three_sigma_l = sciopt.minimize_scalar(three_sigmaJ,method='Bounded',bounds=(min_J-2,min_J)).x-min_J\n",
    "three_sigma_r = sciopt.minimize_scalar(three_sigmaJ,method='Bounded',bounds=(min_J,min_J+2)).x-min_J"
   ]
  },
  {
   "cell_type": "code",
   "execution_count": 31,
   "metadata": {
    "collapsed": false
   },
   "outputs": [
    {
     "name": "stdout",
     "output_type": "stream",
     "text": [
      "19.37 -0.13 0.14 -0.25 0.3 -0.35 0.45\n"
     ]
    }
   ],
   "source": [
    "print round(min_J,2),round(one_sigma_l,2),round(one_sigma_r,2),round(two_sigma_l,2),\\\n",
    "round(two_sigma_r,2),round(three_sigma_l,2),round(three_sigma_r,2)"
   ]
  },
  {
   "cell_type": "code",
   "execution_count": 32,
   "metadata": {
    "collapsed": false
   },
   "outputs": [
    {
     "name": "stdout",
     "output_type": "stream",
     "text": [
      "true J :  19.36 , obtained J :  19.37\n"
     ]
    }
   ],
   "source": [
    "trueJ = round(np.log10(Jfactor(D,np.inf,1.,6.4e7,0.5)),2)\n",
    "print 'true J : ',trueJ,', obtained J : ',round(min_J,2)"
   ]
  },
  {
   "cell_type": "code",
   "execution_count": 35,
   "metadata": {
    "collapsed": false
   },
   "outputs": [
    {
     "data": {
      "image/png": "[encoded data removed]",
      "text/plain": [
       "<matplotlib.figure.Figure at 0x7fdf88125e50>"
      ]
     },
     "metadata": {},
     "output_type": "display_data"
    }
   ],
   "source": [
    "J_plt = np.linspace(min_J+three_sigma_l-0.5,min_J+three_sigma_r+0.5,100)\n",
    "plt.plot(J_plt,spline_LikeJ(J_plt)-spline_LikeJ(min_J))\n",
    "plt.plot(min_J,0,'b^',markersize=10,label='J$_{MLE}$ = %.2f'%min_J)#+r' , $r^{MLE}_a$ = %.2f'%round(min_ra,2))\n",
    "plt.plot(trueJ,0,'r*',markersize=10,label='J$_{TRUE}$ = %.2f'%trueJ)#+r' , $r^{TRUE}_a$ = %.2f'%ra)\n",
    "plt.hlines(0.,min(J_plt),max(J_plt),linestyles='dashed')\n",
    "plt.hlines(.5,min(J_plt),max(J_plt),colors=('r'),linestyles='dashed',\n",
    "           label=r'$1-\\sigma$'+'\\t'+'[%.2f,%+.2f]'%(one_sigma_l,one_sigma_r))\n",
    "plt.hlines(2,min(J_plt),max(J_plt),colors=('g'),linestyles='dashed',\n",
    "           label=r'$2-\\sigma$'+'\\t'+'[%.2f,%+.2f]'%(two_sigma_l,two_sigma_r))\n",
    "plt.hlines(4,min(J_plt),max(J_plt),colors=('c'),linestyles='dashed',\n",
    "           label=r'$3-\\sigma$'+'\\t'+'[%.2f,%+.2f]'%(three_sigma_l,three_sigma_r))\n",
    "plt.legend(numpoints=1,fontsize=14).get_frame().set_facecolor('w')\n",
    "plt.ylabel(r'$\\mathcal{L}$(J)',fontsize=14)\n",
    "plt.xlabel(r'log$_{10}$  J [GeV$^2$ cm$^{-5}$]',fontsize=14)\n",
    "plt.ylim(-0.5,12)\n",
    "plt.xlim(min_J+three_sigma_l-0.5,min_J+three_sigma_r+0.5)\n",
    "#plt.savefig(homedir+casedir+'/Simulations%s.png'%nstars,dpi=300,format='png')\n",
    "plt.suptitle(r'Simulation (N$_{stars}$ = %i)'%nstars,fontsize=16)\n",
    "plt.savefig(homedir+casedir+'/Simulation%i_test.png'%nstars,dpi=300,format='png')"
   ]
  },
  {
   "cell_type": "code",
   "execution_count": 34,
   "metadata": {
    "collapsed": false
   },
   "outputs": [
    {
     "name": "stdout",
     "output_type": "stream",
     "text": [
      "6.51e+07\n"
     ]
    }
   ],
   "source": [
    "print '%.2e'%10**sciopt.minimize_scalar(lambda log10rho0:abs(min_J-\n",
    "                                                             np.log10(Jfactor(D,np.inf,1.,1.,0.5))-2*log10rho0)).x"
   ]
  }
 ],
 "metadata": {
  "kernelspec": {
   "display_name": "Python 2",
   "language": "python",
   "name": "python2"
  },
  "language_info": {
   "codemirror_mode": {
    "name": "ipython",
    "version": 2
   },
   "file_extension": ".py",
   "mimetype": "text/x-python",
   "name": "python",
   "nbconvert_exporter": "python",
   "pygments_lexer": "ipython2",
   "version": "2.7.6"
  }
 },
 "nbformat": 4,
 "nbformat_minor": 0
}
