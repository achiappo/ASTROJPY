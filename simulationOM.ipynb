{
 "cells": [
  {
   "cell_type": "markdown",
   "metadata": {},
   "source": [
    "Testing the Gaia Challenge simulated data in the case on a non costant or fixed anisotropy in the velocity of the stellar subcomponent. The profile adopted is the Osipkov-Merritt, which reads:\n",
    "\\begin{equation}\n",
    "\\beta(r)=\\frac{r^2}{r^2+r^2_a}\n",
    "\\end{equation}\n",
    "with $r_a = r_h$.\n",
    "\n",
    "The stellar profile adopted here reads:\n",
    "\\begin{equation}\n",
    "\\nu_\\ast(r) = \\rho_h \\left(\\frac{r}{r_h}\\right)^{-\\gamma_\\ast}\\left(1+\\left(\\frac{r}{r_h}\\right)^{\\alpha_\\ast}\\right)^\\frac{\\gamma_\\ast-\\beta_\\ast}{\\alpha_\\ast}\n",
    "\\end{equation}\n",
    "with parameters values:\n",
    "* $\\alpha_\\ast$ = 2\n",
    "* $\\beta_\\ast$ = 5\n",
    "* $r_h$ = 0.1,0.25,1 kpc\n",
    "\n",
    "leading to the simple expression\n",
    "\\begin{equation}\n",
    "\\nu_\\ast(r) = \\frac{\\rho_h}{\\left(\\frac{r}{r_h}\\right)^{\\gamma_\\ast}\\left(1+\\left(\\frac{r}{r_h}\\right)^2\\right)^{\\frac{5-\\gamma_\\ast}{2}}}\n",
    "\\end{equation}\n",
    "\n",
    "for $\\gamma_\\ast = 0.1,1$ this is referred to as \"Plummer\" and \"non-Plummer\" stellar profile, respectively.\n",
    "\n",
    "In the non-Plummer profile case, the surface brightness profile has the following analytic expression:\n",
    "\\begin{equation}\n",
    "I(R) = 2 \\int^\\infty_R \\frac{\\nu_\\ast(r) r dr}{\\sqrt{r^2-R^2}} = \\rho_h \\frac{r_h^2\\left[(2r_h^2+R^2) csch^{-1}\\left(\\frac{R}{r_h}\\right) - r_h\\sqrt{r_h^2+R^2}\\right]}{(r_h^2+R^2)^{3/2}}\n",
    "\\end{equation}\n",
    "\n",
    "The $line-of-sight$ velocity dispersion $\\sigma^2(R)$ that enters the Likelihood has the following expression\n",
    "\\begin{equation}\n",
    "\\sigma^2_{l.o.s.}(R) = 2G\\mu_0\\frac{R}{I(R)}\\int^\\infty_1 \\left(1+\\frac{\\beta(zR)}{z^2}\\right)\\frac{z}{\\sqrt{z^2-1}}\\int^\\infty_{zR}\\left(\\frac{s}{zR}\\right)^{2\\beta(s)}\\frac{\\nu_\\ast(s)\\mu(s/r_0)}{s^2}dsdz\n",
    "\\end{equation}"
   ]
  },
  {
   "cell_type": "code",
   "execution_count": 1,
   "metadata": {
    "collapsed": false
   },
   "outputs": [],
   "source": [
    "import yaml\n",
    "import numpy as np\n",
    "from os import mkdir\n",
    "from sys import argv\n",
    "from AT import get_data\n",
    "from scipy import special\n",
    "from matplotlib import pylab as plt\n",
    "from scipy.integrate import quad\n",
    "from math import sqrt,cos, log10, pi\n",
    "from scipy import optimize as sciopt\n",
    "from scipy.interpolate import UnivariateSpline as spline\n",
    "from scipy.interpolate import interp1d as interp\n",
    "from functions_simOM import integral2, Jfactor,nu\n",
    "from multiprocessing import Pool\n",
    "%matplotlib inline"
   ]
  },
  {
   "cell_type": "code",
   "execution_count": 2,
   "metadata": {
    "collapsed": true
   },
   "outputs": [],
   "source": [
    "# enter size of Mock dataset (options 100,1000,10000)\n",
    "MockSize = 100\n",
    "include_err = 'no'"
   ]
  },
  {
   "cell_type": "code",
   "execution_count": 3,
   "metadata": {
    "collapsed": true
   },
   "outputs": [],
   "source": [
    "# inverse hyperbolic cosecant (used for gamma* = 1 , non-Plum)\n",
    "def inv_csch(x):\n",
    "    return np.log(np.sqrt(1+x**-2.)+x**-1.)\n",
    "# integrand of I(R) (used for gamma* = 0.1 , Plum)\n",
    "def integrand_I(r,rh,R):\n",
    "    return nu(r,rh)*r/np.sqrt(r**2-R**2)\n",
    "\n",
    "# dwarf surface brightness profile\n",
    "def I(R,rh):\n",
    "    return rh**2*((2*rh**2+R**2)*inv_csch(R/rh)-rh*np.sqrt(rh**2+R**2))/(rh**2+R**2)**(3/2.) # for gamma*=1 , non-Plum\n",
    "    #return 2*quad(integrand_I,R,+np.inf,args=(rh,R))[0] # for gamma*=0.1 , Plum"
   ]
  },
  {
   "cell_type": "code",
   "execution_count": 4,
   "metadata": {
    "collapsed": false
   },
   "outputs": [],
   "source": [
    "# Mock data preparation\n",
    "homedir = '/home/andrea/Desktop/work/DWARF/Jvalue/output/test/'\n",
    "casedir = 'OsipkMerr+Core+nonPlum'\n",
    "data = '/gs100_bs050_rcrs025_rarc100_core_0400mpc3_df_%i_0.dat'%MockSize\n",
    "err  = '/gs100_bs050_rcrs025_rarc100_core_0400mpc3_df_%i_0_err.dat'%MockSize\n",
    "x,y,z,vx,vy,vz = np.loadtxt(homedir+casedir+data,unpack=True)\n",
    "R = np.sqrt(x**2+y**2) # assumed direction of observation along z-axis for simplicity (as suggested on the Gaia wiki)\n",
    "D=50.\n",
    "d = np.sqrt(x**2+y**2+(D-z)**2)\n",
    "v = (x*vx+y*vy+(D-z)*vz)/d\n",
    "# Errors (from mock data) preparation\n",
    "Evx,Evy,Evz = np.loadtxt(homedir+casedir+err,unpack=True,usecols=(3,4,5))\n",
    "Ex,Ey,Ez = np.absolute(Evx-vx),np.absolute(Evy-vy),np.absolute(Evz-vz)\n",
    "Ev = (x*Ex+y*Ey+(D-z)*Ez)/d"
   ]
  },
  {
   "cell_type": "code",
   "execution_count": 6,
   "metadata": {
    "collapsed": false
   },
   "outputs": [],
   "source": [
    "u=0.\n",
    "rh=0.25\n",
    "nstars=np.size(R)\n",
    "errors = {'yes':True,'no':False}\n",
    "if errors[include_err]:\n",
    "    dv = Ev\n",
    "else:\n",
    "    dv = np.zeros_like(R)"
   ]
  },
  {
   "cell_type": "code",
   "execution_count": 7,
   "metadata": {
    "collapsed": false
   },
   "outputs": [],
   "source": [
    "A_array = np.array([Ri/I(Ri,rh) for Ri in R])\n",
    "ra_array = np.logspace(-3.,1.,100)\n",
    "r0_array = np.logspace(-2.,2.,100)\n",
    "I_array=np.zeros(shape=(len(A_array),len(ra_array),len(r0_array)))"
   ]
  },
  {
   "cell_type": "code",
   "execution_count": 150,
   "metadata": {
    "collapsed": false
   },
   "outputs": [],
   "source": [
    "def array_builder(r0_array, ra_array, R_array):\n",
    "    for i,R in enumerate(R_array):\n",
    "        for j,ra in enumerate(ra_array):\n",
    "            for k,r0 in enumerate(r0_array):\n",
    "                yield (i, j, k), (R, ra, rh, r0)\n",
    "\n",
    "def proxy(args):\n",
    "    return args[0], integral2(*args[1])*A_array[args[0][0]]"
   ]
  },
  {
   "cell_type": "code",
   "execution_count": 151,
   "metadata": {
    "collapsed": false
   },
   "outputs": [],
   "source": [
    "pool = Pool(processes=4)\n",
    "results = pool.map(proxy, array_builder(r0_array, ra_array, R))\n",
    "pool.close()\n",
    "pool.join()\n",
    "for idx,value in results:\n",
    "    I_array[idx] = value"
   ]
  },
  {
   "cell_type": "code",
   "execution_count": 14,
   "metadata": {
    "collapsed": false
   },
   "outputs": [],
   "source": [
    "#np.save('Iarray_32',I_array)\n",
    "I_array = np.load('Iarray.npy')"
   ]
  },
  {
   "cell_type": "code",
   "execution_count": 15,
   "metadata": {
    "collapsed": false
   },
   "outputs": [],
   "source": [
    "cst = 8.*np.pi*4.3e-6\n",
    "# Likelihood definition (for free beta)\n",
    "def logLike(M0,i,j):\n",
    "    I = cst*M0*I_array[:,i,j]\n",
    "    S = dv**2.+I\n",
    "    res = (np.log(S) + (v-u)**2./S).sum()\n",
    "    return res/2."
   ]
  },
  {
   "cell_type": "code",
   "execution_count": 16,
   "metadata": {
    "collapsed": false
   },
   "outputs": [],
   "source": [
    "# |J-J(rho0,r0)| for J inversion (in log scale)\n",
    "log10Jrho1 = np.log10([Jfactor(D,np.inf,r0,1.,0.5) for r0 in r0_array])\n",
    "def deltaJ(log10rho0,log10J,j):\n",
    "    return abs(log10J-log10Jrho1[j]-2*log10rho0)"
   ]
  },
  {
   "cell_type": "code",
   "execution_count": 18,
   "metadata": {
    "collapsed": false
   },
   "outputs": [
    {
     "data": {
      "text/plain": [
       "(0.001, 100.0)"
      ]
     },
     "execution_count": 18,
     "metadata": {},
     "output_type": "execute_result"
    },
    {
     "data": {
      "image/png": "[encoded data removed]",
      "text/plain": [
       "<matplotlib.figure.Figure at 0x7fe50d62c850>"
      ]
     },
     "metadata": {},
     "output_type": "display_data"
    }
   ],
   "source": [
    "J_array = np.linspace(19,21,10)\n",
    "LikeJ = np.zeros_like(ra_array)\n",
    "J_new = np.empty([0])\n",
    "min_LikeJ = np.empty([0])\n",
    "min_ra_arr = np.empty([0])\n",
    "for J in [21]:#J_array:\n",
    "    LikeJbeta = np.empty([0])\n",
    "    r0_new = np.empty([0])\n",
    "    ra_new = np.empty([0])\n",
    "    #for j,r0 in enumerate(r0_array):\n",
    "    index = range(0,100,5)#[0,5,10,20,30,40,50,60,70,80,-1]\n",
    "    array = [r0_array[i] for i in index]\n",
    "    for j,r0 in zip(index,array):\n",
    "        log10rho0 = sciopt.minimize_scalar(deltaJ,args=(J,j)).x\n",
    "        for i,ra in enumerate(ra_array):\n",
    "            LikeJ[i] = logLike(10**log10rho0*r0**3,i,j)\n",
    "        spline_LikeBeta = spline(ra_array,LikeJ,s=0)\n",
    "        min_ra = sciopt.minimize_scalar(spline_LikeBeta,method='Bounded',bounds=(ra_array[0],ra_array[-1]))\n",
    "        if ra_array[1]<min_ra.x<ra_array[-2]:\n",
    "            r0_new = np.append(r0_new,r0)\n",
    "            ra_new = np.append(ra_new,min_ra.x)\n",
    "            LikeJbeta = np.append(LikeJbeta,min_ra.fun)\n",
    "            plt.semilogx(ra_array,spline_LikeBeta(ra_array),label=r'$r_0$=%.2f'%r0)\n",
    "            plt.plot(min_ra.x,min_ra.fun,'*',markersize=10)\n",
    "    '''\n",
    "    if len(r0_new)>3:\n",
    "        spline_ra = spline(r0_new,ra_new,s=0)\n",
    "        spline_LikeJ = spline(r0_new,LikeJbeta,s=0)\n",
    "        plt.semilogx(r0_new,spline_LikeJ(r0_new))\n",
    "        min_r0 = sciopt.minimize_scalar(spline_LikeJ)#,method='Bounded',\n",
    "                                         #bounds=(r0_new[0],r0_new[np.size(r0_new)/2]))\n",
    "        plt.plot(min_r0.x,min_r0.fun,'*',markersize=10,c='k')\n",
    "    \n",
    "        min_r0L = sciopt.minimize_scalar(spline_LikeJ,method='Bounded',\n",
    "                                         bounds=(r0_new[0],r0_new[np.size(r0_new)/2]))\n",
    "        min_r0R = sciopt.minimize_scalar(spline_LikeJ,method='Bounded',\n",
    "                                         bounds=(r0_new[np.size(r0_new)/2],r0_new[-1]))\n",
    "        if min_r0R.fun>min_r0L.fun:\n",
    "            if r0_new[1]<min_r0L.x<r0_new[-2]:\n",
    "                plt.semilogx(r0_new,spline_LikeJ(r0_new),label='J=%.4f'%J)\n",
    "                plt.plot(min_r0L.x,min_r0L.fun,'*',markersize=10,c='k')\n",
    "                J_new = np.append(J_new,J)\n",
    "                min_LikeJ = np.append(min_LikeJ,min_r0L.fun)\n",
    "                min_ra_arr = np.append(min_ra_arr,spline_ra(min_r0L.x))\n",
    "        else:\n",
    "            if r0_new[1]<min_r0R.x<r0_new[-2]:\n",
    "                plt.semilogx(r0_new,spline_LikeJ(r0_new),label='J=%.4f'%J)\n",
    "                plt.plot(min_r0R.x,min_r0R.fun,'*',markersize=10,c='k')\n",
    "                J_new = np.append(J_new,J)\n",
    "                min_LikeJ = np.append(min_LikeJ,min_r0R.fun)\n",
    "                min_ra_arr = np.append(min_ra_arr,spline_ra(min_r0R.x))\n",
    "        ''''''\n",
    "        min_r0L = sciopt.minimize_scalar(spline_LikeJ,method='Bounded',\n",
    "                                         bounds=(r0_new[0],r0_new[np.size(r0_new)/3]))\n",
    "        min_r0C = sciopt.minimize_scalar(spline_LikeJ,method='Bounded',\n",
    "                                         bounds=(r0_new[np.size(r0_new)/3],r0_new[np.size(r0_new)*2/3]))\n",
    "        min_r0R = sciopt.minimize_scalar(spline_LikeJ,method='Bounded',\n",
    "                                         bounds=(r0_new[np.size(r0_new)*2/3],r0_new[-1]))\n",
    "        if min_r0L.fun<min_r0C.fun and min_r0L.fun<min_r0R.fun:\n",
    "            if r0_new[1]<min_r0L.x<r0_new[-2]:\n",
    "                plt.semilogx(r0_new,spline_LikeJ(r0_new),label='J=%.4f'%J)\n",
    "                plt.plot(min_r0L.x,min_r0L.fun,'*',markersize=10,c='k')\n",
    "                J_new = np.append(J_new,J)\n",
    "                min_LikeJ = np.append(min_LikeJ,min_r0L.fun)\n",
    "                min_ra_arr = np.append(min_ra_arr,spline_ra(min_r0L.x))\n",
    "        if min_r0C.fun<min_r0L.fun and min_r0C.fun<min_r0R.fun:\n",
    "            if r0_new[1]<min_r0C.x<r0_new[-2]:\n",
    "                plt.semilogx(r0_new,spline_LikeJ(r0_new),label='J=%.4f'%J)\n",
    "                plt.plot(min_r0C.x,min_r0C.fun,'*',markersize=10,c='k')\n",
    "                J_new = np.append(J_new,J)\n",
    "                min_LikeJ = np.append(min_LikeJ,min_r0C.fun)\n",
    "                min_ra_arr = np.append(min_ra_arr,spline_ra(min_r0C.x))\n",
    "        if min_r0R.fun<min_r0L.fun and min_r0R.fun<min_r0C.fun:\n",
    "            if r0_new[1]<min_r0R.x<r0_new[-2]:\n",
    "                plt.semilogx(r0_new,spline_LikeJ(r0_new),label='J=%.4f'%J)\n",
    "                plt.plot(min_r0R.x,min_r0R.fun,'*',markersize=10,c='k')\n",
    "                J_new = np.append(J_new,J)\n",
    "                min_LikeJ = np.append(min_LikeJ,min_r0R.fun)\n",
    "                min_ra_arr = np.append(min_ra_arr,spline_ra(min_r0R.x))\n",
    "        '''\n",
    "plt.ylim(315,325)\n",
    "#plt.xlim(1e-3,1e2)\n",
    "#plt.legend(bbox_to_anchor=(1.4,1))"
   ]
  },
  {
   "cell_type": "code",
   "execution_count": 150,
   "metadata": {
    "collapsed": false
   },
   "outputs": [
    {
     "ename": "error",
     "evalue": "(m>k) failed for hidden m: fpcurf0:m=0",
     "output_type": "error",
     "traceback": [
      "\u001b[1;31m---------------------------------------------------------------------------\u001b[0m",
      "\u001b[1;31merror\u001b[0m                                     Traceback (most recent call last)",
      "\u001b[1;32m<ipython-input-150-3badb57d5155>\u001b[0m in \u001b[0;36m<module>\u001b[1;34m()\u001b[0m\n\u001b[1;32m----> 1\u001b[1;33m \u001b[0mspline_Like\u001b[0m \u001b[1;33m=\u001b[0m \u001b[0mspline\u001b[0m\u001b[1;33m(\u001b[0m\u001b[0mJ_new\u001b[0m\u001b[1;33m,\u001b[0m\u001b[0mmin_LikeJ\u001b[0m\u001b[1;33m)\u001b[0m\u001b[1;33m\u001b[0m\u001b[0m\n\u001b[0m\u001b[0;32m      2\u001b[0m \u001b[0mmin_J\u001b[0m \u001b[1;33m=\u001b[0m \u001b[0msciopt\u001b[0m\u001b[1;33m.\u001b[0m\u001b[0mminimize_scalar\u001b[0m\u001b[1;33m(\u001b[0m\u001b[0mspline_Like\u001b[0m\u001b[1;33m,\u001b[0m\u001b[0mmethod\u001b[0m\u001b[1;33m=\u001b[0m\u001b[1;34m'Bounded'\u001b[0m\u001b[1;33m,\u001b[0m\u001b[0mbounds\u001b[0m\u001b[1;33m=\u001b[0m\u001b[1;33m(\u001b[0m\u001b[0mJ_new\u001b[0m\u001b[1;33m[\u001b[0m\u001b[1;36m0\u001b[0m\u001b[1;33m]\u001b[0m\u001b[1;33m,\u001b[0m\u001b[0mJ_new\u001b[0m\u001b[1;33m[\u001b[0m\u001b[1;33m-\u001b[0m\u001b[1;36m1\u001b[0m\u001b[1;33m]\u001b[0m\u001b[1;33m)\u001b[0m\u001b[1;33m)\u001b[0m\u001b[1;33m.\u001b[0m\u001b[0mx\u001b[0m\u001b[1;33m\u001b[0m\u001b[0m\n\u001b[0;32m      3\u001b[0m \u001b[0mspline_Like_ra\u001b[0m \u001b[1;33m=\u001b[0m \u001b[0mspline\u001b[0m\u001b[1;33m(\u001b[0m\u001b[0mJ_new\u001b[0m\u001b[1;33m,\u001b[0m\u001b[0mmin_ra_arr\u001b[0m\u001b[1;33m)\u001b[0m\u001b[1;33m\u001b[0m\u001b[0m\n\u001b[0;32m      4\u001b[0m \u001b[0mmin_ra\u001b[0m \u001b[1;33m=\u001b[0m \u001b[0mspline_Like_ra\u001b[0m\u001b[1;33m(\u001b[0m\u001b[0mmin_J\u001b[0m\u001b[1;33m)\u001b[0m\u001b[1;33m\u001b[0m\u001b[0m\n",
      "\u001b[1;32m/usr/lib/python2.7/dist-packages/scipy/interpolate/fitpack2.pyc\u001b[0m in \u001b[0;36m__init__\u001b[1;34m(self, x, y, w, bbox, k, s)\u001b[0m\n\u001b[0;32m    146\u001b[0m         \u001b[1;31m# _data == x,y,w,xb,xe,k,s,n,t,c,fp,fpint,nrdata,ier\u001b[0m\u001b[1;33m\u001b[0m\u001b[1;33m\u001b[0m\u001b[0m\n\u001b[0;32m    147\u001b[0m         data = dfitpack.fpcurf0(x,y,k,w=w,\n\u001b[1;32m--> 148\u001b[1;33m                                 xb=bbox[0],xe=bbox[1],s=s)\n\u001b[0m\u001b[0;32m    149\u001b[0m         \u001b[1;32mif\u001b[0m \u001b[0mdata\u001b[0m\u001b[1;33m[\u001b[0m\u001b[1;33m-\u001b[0m\u001b[1;36m1\u001b[0m\u001b[1;33m]\u001b[0m \u001b[1;33m==\u001b[0m \u001b[1;36m1\u001b[0m\u001b[1;33m:\u001b[0m\u001b[1;33m\u001b[0m\u001b[0m\n\u001b[0;32m    150\u001b[0m             \u001b[1;31m# nest too small, setting to maximum bound\u001b[0m\u001b[1;33m\u001b[0m\u001b[1;33m\u001b[0m\u001b[0m\n",
      "\u001b[1;31merror\u001b[0m: (m>k) failed for hidden m: fpcurf0:m=0"
     ]
    }
   ],
   "source": [
    "spline_Like = spline(J_new,min_LikeJ)\n",
    "min_J = sciopt.minimize_scalar(spline_Like,method='Bounded',bounds=(J_new[0],J_new[-1])).x\n",
    "spline_Like_ra = spline(J_new,min_ra_arr)\n",
    "min_ra = spline_Like_ra(min_J)"
   ]
  },
  {
   "cell_type": "code",
   "execution_count": null,
   "metadata": {
    "collapsed": false
   },
   "outputs": [],
   "source": [
    "print 'min J = ',round(min_J,2),'ra = ',round(min_ra,2)"
   ]
  },
  {
   "cell_type": "code",
   "execution_count": 83,
   "metadata": {
    "collapsed": false
   },
   "outputs": [
    {
     "data": {
      "text/plain": [
       "[<matplotlib.lines.Line2D at 0x7f54b05bb210>]"
      ]
     },
     "execution_count": 83,
     "metadata": {},
     "output_type": "execute_result"
    },
    {
     "data": {
      "image/png": "[encoded data removed]",
      "text/plain": [
       "<matplotlib.figure.Figure at 0x7f54b20b91d0>"
      ]
     },
     "metadata": {},
     "output_type": "display_data"
    }
   ],
   "source": [
    "plt.plot(J_new,spline_Like(J_new))\n",
    "#plt.xlim(19.1,19.4)"
   ]
  },
  {
   "cell_type": "code",
   "execution_count": 84,
   "metadata": {
    "collapsed": false
   },
   "outputs": [],
   "source": [
    "def one_sigmaJ(J):\n",
    "    return np.abs(spline_Like(J)-spline_Like(min_J)-0.5)\n",
    "\n",
    "one_sigma_l = sciopt.minimize_scalar(one_sigmaJ,method='Bounded',bounds=(J_new[0],min_J)).x-min_J\n",
    "one_sigma_r = sciopt.minimize_scalar(one_sigmaJ,method='Bounded',bounds=(min_J,J_new[-1])).x-min_J\n",
    "\n",
    "def two_sigmaJ(J):\n",
    "    return np.abs(spline_Like(J)-spline_Like(min_J)-2.)\n",
    "\n",
    "two_sigma_l = sciopt.minimize_scalar(two_sigmaJ,method='Bounded',bounds=(J_new[0],min_J)).x-min_J\n",
    "two_sigma_r = sciopt.minimize_scalar(two_sigmaJ,method='Bounded',bounds=(min_J,J_new[-1])).x-min_J\n",
    "\n",
    "def three_sigmaJ(J):\n",
    "    return np.abs(spline_Like(J)-spline_Like(min_J)-4.)\n",
    "\n",
    "three_sigma_l = sciopt.minimize_scalar(three_sigmaJ,method='Bounded',bounds=(J_new[0],min_J)).x-min_J\n",
    "three_sigma_r = sciopt.minimize_scalar(three_sigmaJ,method='Bounded',bounds=(min_J,J_new[-1])).x-min_J"
   ]
  },
  {
   "cell_type": "code",
   "execution_count": 85,
   "metadata": {
    "collapsed": false
   },
   "outputs": [
    {
     "name": "stdout",
     "output_type": "stream",
     "text": [
      "20.89 -0.35 0.11 -0.7 0.11 -0.89 0.11\n"
     ]
    }
   ],
   "source": [
    "print round(min_J,2),round(one_sigma_l,2),round(one_sigma_r,2),round(two_sigma_l,2),\\\n",
    "round(two_sigma_r,2),round(three_sigma_l,2),round(three_sigma_r,2)"
   ]
  },
  {
   "cell_type": "code",
   "execution_count": 86,
   "metadata": {
    "collapsed": false
   },
   "outputs": [
    {
     "name": "stdout",
     "output_type": "stream",
     "text": [
      "true J :  20.95 , obtained J :  20.89\n"
     ]
    }
   ],
   "source": [
    "trueJ = round(np.log10(Jfactor(D,np.inf,1.,4e8,0.5)),2)\n",
    "print 'true J : ',trueJ,', obtained J : ',round(min_J,2)"
   ]
  },
  {
   "cell_type": "code",
   "execution_count": 87,
   "metadata": {
    "collapsed": false
   },
   "outputs": [
    {
     "data": {
      "image/png": "[encoded data removed]",
      "text/plain": [
       "<matplotlib.figure.Figure at 0x7f54b2ec4f10>"
      ]
     },
     "metadata": {},
     "output_type": "display_data"
    }
   ],
   "source": [
    "J_plt = np.linspace(min_J-1,min_J+1,100)\n",
    "plt.plot(J_plt,spline_Like(J_plt)-spline_Like(min_J))\n",
    "plt.plot(min_J,0,'b^',markersize=10,label='J$_{MLE}$ = %.2f'%min_J)\n",
    "plt.plot(trueJ,0,'r*',markersize=10,label='J$_{TRUE}$ = %.2f'%trueJ)\n",
    "plt.hlines(0.,min(J_plt),max(J_plt),linestyles='dashed')\n",
    "plt.hlines(.5,min(J_plt),max(J_plt),colors=('r'),linestyles='dashed',\n",
    "           label=r'$1-\\sigma$'+'\\t'+'[%.2f,%+.2f]'%(one_sigma_l,one_sigma_r))\n",
    "plt.hlines(2,min(J_plt),max(J_plt),colors=('g'),linestyles='dashed',\n",
    "           label=r'$2-\\sigma$'+'\\t'+'[%.2f,%+.2f]'%(two_sigma_l,two_sigma_r))\n",
    "plt.hlines(4,min(J_plt),max(J_plt),colors=('c'),linestyles='dashed',\n",
    "           label=r'$3-\\sigma$'+'\\t'+'[%.2f,%+.2f]'%(three_sigma_l,three_sigma_r))\n",
    "plt.legend(numpoints=1,fontsize=14)\n",
    "plt.ylabel(r'$-\\Delta$$log$Like(J)',fontsize=14)\n",
    "plt.xlabel(r'$log_{10}$  J [GeV$^2$ cm$^{-5}$]',fontsize=14)\n",
    "plt.ylim(-1,12)\n",
    "plt.xlim(min_J-1,min_J+1)\n",
    "if errors[include_err]:\n",
    "    plt.suptitle(r'Simulation with $\\epsilon_i \\neq 0$ (N$_{stars}$ = %i)'%nstars,fontsize=16)\n",
    "    plt.savefig('/home/andrea/Desktop/work/DWARF/Jvalue/output/test/OsipkMerr+Cusp+nonPlum/Simulation%ierr.png'%nstars,\n",
    "                dpi=300,format='png')\n",
    "else:\n",
    "    plt.suptitle(r'Simulation with $\\epsilon_i = 0$ (N$_{stars}$ = %i)'%nstars,fontsize=16)\n",
    "    plt.savefig('/home/andrea/Desktop/work/DWARF/Jvalue/output/test/OsipkMerr+Cusp+nonPlum/Simulation%i.png'%nstars,\n",
    "                dpi=300,format='png')"
   ]
  },
  {
   "cell_type": "code",
   "execution_count": 96,
   "metadata": {
    "collapsed": false
   },
   "outputs": [
    {
     "name": "stdout",
     "output_type": "stream",
     "text": [
      "8.08e+07\n"
     ]
    }
   ],
   "source": [
    "print '%.2e'%10**sciopt.minimize_scalar(lambda log10rho0:abs(min_J-\n",
    "                                                             np.log10(Jfactor(D,np.inf,1.,1.,0.5))-2*log10rho0)).x"
   ]
  },
  {
   "cell_type": "code",
   "execution_count": null,
   "metadata": {
    "collapsed": true
   },
   "outputs": [],
   "source": []
  }
 ],
 "metadata": {
  "kernelspec": {
   "display_name": "Python 2",
   "language": "python",
   "name": "python2"
  },
  "language_info": {
   "codemirror_mode": {
    "name": "ipython",
    "version": 2
   },
   "file_extension": ".py",
   "mimetype": "text/x-python",
   "name": "python",
   "nbconvert_exporter": "python",
   "pygments_lexer": "ipython2",
   "version": "2.7.6"
  }
 },
 "nbformat": 4,
 "nbformat_minor": 0
}
