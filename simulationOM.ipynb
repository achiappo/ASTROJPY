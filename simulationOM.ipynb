{
 "cells": [
  {
   "cell_type": "markdown",
   "metadata": {},
   "source": [
    "Testing the Gaia Challenge simulated data in the case on a non costant or fixed anisotropy in the velocity of the stellar subcomponent. The profile adopted is the Osipkov-Merritt, which reads:\n",
    "\\begin{equation}\n",
    "\\beta(r)=\\frac{r^2}{r^2+r^2_a}\n",
    "\\end{equation}\n",
    "with $r_a = r_h$.\n",
    "\n",
    "The stellar profile adopted here reads:\n",
    "\\begin{equation}\n",
    "\\nu_\\ast(r) = \\rho_h \\left(\\frac{r}{r_h}\\right)^{-\\gamma_\\ast}\\left(1+\\left(\\frac{r}{r_h}\\right)^{\\alpha_\\ast}\\right)^\\frac{\\gamma_\\ast-\\beta_\\ast}{\\alpha_\\ast}\n",
    "\\end{equation}\n",
    "with parameters values:\n",
    "* $\\alpha_\\ast$ = 2\n",
    "* $\\beta_\\ast$ = 5\n",
    "* $r_h$ = 0.1,0.25,1 kpc\n",
    "\n",
    "leading to the simple expression\n",
    "\\begin{equation}\n",
    "\\nu_\\ast(r) = \\frac{\\rho_h}{\\left(\\frac{r}{r_h}\\right)^{\\gamma_\\ast}\\left(1+\\left(\\frac{r}{r_h}\\right)^2\\right)^{\\frac{5-\\gamma_\\ast}{2}}}\n",
    "\\end{equation}\n",
    "\n",
    "for $\\gamma_\\ast = 0.1,1$ this is referred to as \"Plummer\" and \"non-Plummer\" stellar profile, respectively.\n",
    "\n",
    "In the non-Plummer profile case, the surface brightness profile has the following analytic expression:\n",
    "\\begin{equation}\n",
    "I(R) = 2 \\int^\\infty_R \\frac{\\nu_\\ast(r) r dr}{\\sqrt{r^2-R^2}} = \\rho_h \\frac{r_h^2\\left[(2r_h^2+R^2) csch^{-1}\\left(\\frac{R}{r_h}\\right) - r_h\\sqrt{r_h^2+R^2}\\right]}{(r_h^2+R^2)^{3/2}}\n",
    "\\end{equation}\n",
    "\n",
    "The $line-of-sight$ velocity dispersion $\\sigma^2(R)$ that enters the Likelihood has the following expression\n",
    "\\begin{equation}\n",
    "\\sigma^2_{l.o.s.}(R) = 2G\\mu_0\\frac{R}{I(R)}\\int^\\infty_1 \\left(1-\\frac{\\beta(zR)}{z^2}\\right)\\frac{z}{\\sqrt{z^2-1}}\\frac{1}{z^2R^2+r^2_a}\\int^\\infty_{zR}\\left(1+\\left(\\frac{r_a}{s}\\right)^2\\right)\\nu_\\ast(s)\\mu(s/r_0)dsdz\n",
    "\\end{equation}"
   ]
  },
  {
   "cell_type": "code",
   "execution_count": 1,
   "metadata": {
    "collapsed": false
   },
   "outputs": [],
   "source": [
    "import yaml\n",
    "import numpy as np\n",
    "from os import mkdir\n",
    "from sys import argv\n",
    "from AT import get_data\n",
    "from scipy import special\n",
    "from matplotlib import pylab as plt\n",
    "from scipy.integrate import quad\n",
    "from math import sqrt,cos, log10, pi\n",
    "from scipy import optimize as sciopt\n",
    "from scipy.interpolate import UnivariateSpline as spline\n",
    "from scipy.interpolate import interp1d as interp\n",
    "from functions_simOM import integral2, Jfactor,nu\n",
    "from multiprocessing import Pool\n",
    "%matplotlib inline"
   ]
  },
  {
   "cell_type": "code",
   "execution_count": 2,
   "metadata": {
    "collapsed": true
   },
   "outputs": [],
   "source": [
    "# enter size of Mock dataset (options 100,1000,10000)\n",
    "MockSize = 100"
   ]
  },
  {
   "cell_type": "code",
   "execution_count": 3,
   "metadata": {
    "collapsed": true
   },
   "outputs": [],
   "source": [
    "# inverse hyperbolic cosecant (used for gamma* = 1 , non-Plum)\n",
    "def inv_csch(x):\n",
    "    return np.log(np.sqrt(1+x**-2.)+x**-1.)\n",
    "# integrand of I(R) (used for gamma* = 0.1 , Plum)\n",
    "def integrand_I(r,rh,R):\n",
    "    return nu(r/rh)*r/np.sqrt(r**2-R**2)\n",
    "\n",
    "# dwarf surface brightness profile\n",
    "def I(R,rh):\n",
    "    return rh**2*((2*rh**2+R**2)*inv_csch(R/rh)-rh*np.sqrt(rh**2+R**2))/(rh**2+R**2)**(3/2.) # for gamma*=1 , non-Plum\n",
    "    #return 2*quad(integrand_I,R,+np.inf,args=(rh,R))[0] # for gamma*=0.1 , Plum"
   ]
  },
  {
   "cell_type": "code",
   "execution_count": 4,
   "metadata": {
    "collapsed": false
   },
   "outputs": [],
   "source": [
    "# Mock data preparation\n",
    "homedir = '/home/andrea/Desktop/work/DWARF/Jvalue/output/test/'\n",
    "casedir = 'OsipkMerr_Cusp_nonPlum'\n",
    "data = '/gs100_bs050_rcrs010_rarc100_cusp_0064mpc3_df_%i_0.dat'%MockSize\n",
    "err  = '/gs100_bs050_rcrs010_rarc100_cusp_0064mpc3_df_%i_0_err.dat'%MockSize\n",
    "x,y,z,vx,vy,vz = np.loadtxt(homedir+casedir+data,unpack=True)\n",
    "R = np.sqrt(x**2+y**2) # assumed direction of observation along z-axis for simplicity (as suggested on the Gaia wiki)\n",
    "D=50.\n",
    "d = np.sqrt(x**2+y**2+(D-z)**2)\n",
    "v = (x*vx+y*vy+(D-z)*vz)/d\n",
    "# Errors (from mock data) preparation\n",
    "Evx,Evy,Evz = np.loadtxt(homedir+casedir+err,unpack=True,usecols=(3,4,5))\n",
    "Ex,Ey,Ez = np.absolute(Evx-vx),np.absolute(Evy-vy),np.absolute(Evz-vz)\n",
    "dv = (x*Ex+y*Ey+(D-z)*Ez)/d"
   ]
  },
  {
   "cell_type": "code",
   "execution_count": 5,
   "metadata": {
    "collapsed": false
   },
   "outputs": [],
   "source": [
    "u=0.\n",
    "rh=0.1\n",
    "nstars=np.size(R)"
   ]
  },
  {
   "cell_type": "code",
   "execution_count": 6,
   "metadata": {
    "collapsed": false
   },
   "outputs": [],
   "source": [
    "A_array = np.array([Ri/I(Ri,rh) for Ri in R])\n",
    "r0_array = np.logspace(-4,4,200)\n",
    "ra_array = np.logspace(-4,4,200)\n",
    "I_array=np.zeros(shape=(len(A_array),len(ra_array),len(r0_array)))"
   ]
  },
  {
   "cell_type": "code",
   "execution_count": 22,
   "metadata": {
    "collapsed": false
   },
   "outputs": [],
   "source": [
    "def array_builder(r0_array, ra_array, rh, R_array):\n",
    "    for i,R in enumerate(R_array):\n",
    "        for j,ra in enumerate(ra_array):\n",
    "            for k,r0 in enumerate(r0_array):\n",
    "                yield (i, j, k), (R, ra, rh, r0)\n",
    "\n",
    "def proxy(args):\n",
    "    return args[0], A_array[args[0][0]]*integral2(*args[1])"
   ]
  },
  {
   "cell_type": "code",
   "execution_count": 8,
   "metadata": {
    "collapsed": false
   },
   "outputs": [],
   "source": [
    "pool = Pool(processes=4)\n",
    "results = pool.map(proxy, array_builder(r0_array, ra_array, rh, R))\n",
    "pool.close()\n",
    "pool.join()\n",
    "for idx,value in results:\n",
    "    I_array[idx] = value"
   ]
  },
  {
   "cell_type": "code",
   "execution_count": 7,
   "metadata": {
    "collapsed": false
   },
   "outputs": [],
   "source": [
    "I_array = np.load('Iarray100_44_200.npy')"
   ]
  },
  {
   "cell_type": "code",
   "execution_count": 9,
   "metadata": {
    "collapsed": false
   },
   "outputs": [],
   "source": [
    "Jf = np.sqrt([Jfactor(D,np.inf,r0,1.,0.5) for r0 in r0_array])\n",
    "\n",
    "cst = 8.*np.pi*4.3e-6\n",
    "# Likelihood definition (for free beta)\n",
    "def logLike(J,i,j):\n",
    "    I = cst*sqrt(J)*r0_array[j]**3*I_array[:,i,j]/Jf[j]\n",
    "    S = dv**2.+I\n",
    "    res = (np.log(S) + (v-u)**2./S).sum()\n",
    "    return res/2."
   ]
  },
  {
   "cell_type": "code",
   "execution_count": null,
   "metadata": {
    "collapsed": false
   },
   "outputs": [],
   "source": [
    "J_array = np.linspace(15,25,200)\n",
    "J_new = np.empty([0])\n",
    "min_LikeJ = np.empty([0])\n",
    "min_ra_arr = np.empty([0])\n",
    "min_r0_arr = np.empty([0])\n",
    "num1 = 10\n",
    "div = ra_array.size/num1\n",
    "for J in J_array:                                                    # scan over an array of J values\n",
    "    num2 = 10\n",
    "    LikeJbeta = np.empty([0])\n",
    "    r0_new = np.empty([0])\n",
    "    ra_new = np.empty([0])\n",
    "    min_r0 = np.zeros(shape=(num2+1,2))\n",
    "    for j,r0 in enumerate(r0_array):                                 # for each J scan over an array of r0 values\n",
    "        min_ra = np.zeros(shape=(num1,2))\n",
    "        LikeJ = np.zeros_like(ra_array)\n",
    "        for i in range(ra_array.size): LikeJ[i]=logLike(10**J,i,j) # likelihood evaluation for each (r0,rho0)\n",
    "        interp_LikeBeta = interp(ra_array,LikeJ)                     # build the profile likelihood along ra\n",
    "        \n",
    "        a, b = 0, div-1\n",
    "        for i in range(num1):                                       # adaptive minima finding routine along ra\n",
    "            loc_min_ra = sciopt.minimize_scalar(interp_LikeBeta,method='Bounded',bounds=(ra_array[a],ra_array[b]))\n",
    "            if ra_array[a+1]<loc_min_ra.x<ra_array[b-1]: min_ra[i,:] = (loc_min_ra.x,loc_min_ra.fun)\n",
    "            a = b\n",
    "            b += div\n",
    "        \n",
    "        min_ra = np.delete(min_ra,np.where(min_ra[:,1]==0.),axis=0) # find the lowest minimum (in the range examined)\n",
    "        new_min_ra = np.array([min_ra[i] for i in sorted(range(len(min_ra)),key = lambda k : min_ra[k,1])])\n",
    "        if new_min_ra.size!=0:\n",
    "            #plt.semilogx(ra_array,interp_LikeBeta(ra_array),label='j=%i'%j)\n",
    "            #plt.plot(new_min_ra[0,0],new_min_ra[0,1],'*',markersize=10,c='k')\n",
    "            LikeJbeta = np.append(LikeJbeta,new_min_ra[0,1])\n",
    "            ra_new = np.append(ra_new,new_min_ra[0,0])\n",
    "            r0_new = np.append(r0_new,r0)\n",
    "    \n",
    "    if np.size(r0_new)>num2*4:    # this condition guarantees that in the minimum-finding part c /= c+1 /= d-1 /= c\n",
    "        interp_ra = interp(r0_new,ra_new)\n",
    "        interp_LikeJ = interp(r0_new,LikeJbeta)                     # build the profile likelihood along r0\n",
    "        \n",
    "        div2 = r0_new.size/num2\n",
    "        c, d = 0, div2-1\n",
    "        if r0_new.size%num2!=0: num2+=1\n",
    "        for i in range(num2):                                       # adaptive minima finding routine along r0\n",
    "            if d>=r0_new.size: d=-1\n",
    "            loc_min_r0 = sciopt.minimize_scalar(interp_LikeJ,method='Bounded',bounds=(r0_new[c],r0_new[d]))\n",
    "            if r0_new[c+1]<loc_min_r0.x<r0_new[d-1]: min_r0[i,:] = (loc_min_r0.x,loc_min_r0.fun)\n",
    "            c = d\n",
    "            d += div2\n",
    "        \n",
    "        min_r0 = np.delete(min_r0,np.where(min_r0[:,1]==0.),axis=0) # find the lowest minimum (in the range examined)\n",
    "        new_min_r0 = np.array([min_r0[i] for i in sorted(range(len(min_r0)),key = lambda k : min_r0[k,1])])\n",
    "        if new_min_r0.size!=0:\n",
    "            plt.semilogx(r0_new,interp_LikeJ(r0_new),label='J=%.2f'%J)\n",
    "            plt.plot(new_min_r0[0,0],new_min_r0[0,1],'*',markersize=10,c='k')\n",
    "            min_ra_arr = np.append(min_ra_arr,interp_ra(new_min_r0[0,0]))\n",
    "            min_r0_arr = np.append(min_r0_arr,new_min_r0[0,0])\n",
    "            min_LikeJ = np.append(min_LikeJ,new_min_r0[0,1])\n",
    "            J_new = np.append(J_new,J)\n",
    "\n",
    "#plt.ylim(248,255)\n",
    "#plt.xlim(1e-3,1e-1)\n",
    "#plt.legend(bbox_to_anchor=(1.4,1))"
   ]
  },
  {
   "cell_type": "code",
   "execution_count": 57,
   "metadata": {
    "collapsed": false
   },
   "outputs": [
    {
     "name": "stdout",
     "output_type": "stream",
     "text": [
      "min J =  19.15  , ra =  0.114  , r0 =  0.238\n"
     ]
    },
    {
     "data": {
      "text/plain": [
       "[<matplotlib.lines.Line2D at 0x7f2ccbe7c950>]"
      ]
     },
     "execution_count": 57,
     "metadata": {},
     "output_type": "execute_result"
    },
    {
     "data": {
      "image/png": "[encoded data removed]",
      "text/plain": [
       "<matplotlib.figure.Figure at 0x7f2ccbe7cd90>"
      ]
     },
     "metadata": {},
     "output_type": "display_data"
    }
   ],
   "source": [
    "interp_Like = spline(J_new,min_LikeJ)\n",
    "interp_Like_ra = interp(J_new,min_ra_arr)\n",
    "interp_r0 = interp(J_new,min_r0_arr)\n",
    "min_J = sciopt.minimize_scalar(interp_Like,method='Bounded',bounds=(J_new[0],J_new[-1])).x\n",
    "min_ra = interp_Like_ra(min_J)\n",
    "J_r0 = interp_r0(min_J)\n",
    "print 'min J = ',round(min_J,2),' , ra = ',round(min_ra,3),' , r0 = ',round(J_r0,3)\n",
    "plt.plot(J_new,interp_Like(J_new))\n",
    "plt.plot(min_J,interp_Like(min_J),'b*')\n",
    "#plt.ylim(240,260)"
   ]
  },
  {
   "cell_type": "code",
   "execution_count": 38,
   "metadata": {
    "collapsed": false
   },
   "outputs": [],
   "source": [
    "def one_sigmaJ(J):\n",
    "    return np.abs(interp_Like(J)-interp_Like(min_J)-0.5)\n",
    "\n",
    "one_sigma_l = sciopt.minimize_scalar(one_sigmaJ,method='Bounded',bounds=(min_J-1,min_J)).x-min_J\n",
    "one_sigma_r = sciopt.minimize_scalar(one_sigmaJ,method='Bounded',bounds=(min_J,min_J+1)).x-min_J\n",
    "\n",
    "def two_sigmaJ(J):\n",
    "    return np.abs(interp_Like(J)-interp_Like(min_J)-2.)\n",
    "\n",
    "two_sigma_l = sciopt.minimize_scalar(two_sigmaJ,method='Bounded',bounds=(min_J-1,min_J)).x-min_J\n",
    "two_sigma_r = sciopt.minimize_scalar(two_sigmaJ,method='Bounded',bounds=(min_J,min_J+1)).x-min_J\n",
    "\n",
    "def three_sigmaJ(J):\n",
    "    return np.abs(interp_Like(J)-interp_Like(min_J)-4.)\n",
    "\n",
    "three_sigma_l = sciopt.minimize_scalar(three_sigmaJ,method='Bounded',bounds=(min_J-1,min_J)).x-min_J\n",
    "three_sigma_r = sciopt.minimize_scalar(three_sigmaJ,method='Bounded',bounds=(min_J,min_J+1)).x-min_J\n"
   ]
  },
  {
   "cell_type": "code",
   "execution_count": 39,
   "metadata": {
    "collapsed": false
   },
   "outputs": [
    {
     "name": "stdout",
     "output_type": "stream",
     "text": [
      "19.23 -0.17 0.19 -0.32 0.42 -0.43 0.68\n"
     ]
    }
   ],
   "source": [
    "print round(min_J,2),round(one_sigma_l,2),round(one_sigma_r,2),round(two_sigma_l,2),\\\n",
    "round(two_sigma_r,2),round(three_sigma_l,2),round(three_sigma_r,2)"
   ]
  },
  {
   "cell_type": "code",
   "execution_count": 40,
   "metadata": {
    "collapsed": false
   },
   "outputs": [
    {
     "name": "stdout",
     "output_type": "stream",
     "text": [
      "true J :  19.36 , obtained J :  19.23\n"
     ]
    }
   ],
   "source": [
    "trueJ = round(np.log10(Jfactor(D,np.inf,1.,6.4e7,0.5)),2)\n",
    "print 'true J : ',trueJ,', obtained J : ',round(min_J,2)"
   ]
  },
  {
   "cell_type": "code",
   "execution_count": 41,
   "metadata": {
    "collapsed": false
   },
   "outputs": [
    {
     "data": {
      "text/plain": [
       "<matplotlib.text.Text at 0x7f2cc80d0450>"
      ]
     },
     "execution_count": 41,
     "metadata": {},
     "output_type": "execute_result"
    },
    {
     "data": {
      "image/png": "[encoded data removed]",
      "text/plain": [
       "<matplotlib.figure.Figure at 0x7f2ccb63bf10>"
      ]
     },
     "metadata": {},
     "output_type": "display_data"
    }
   ],
   "source": [
    "J_plt = np.linspace(min_J+three_sigma_l-0.5,min_J+three_sigma_r+0.5,100)\n",
    "plt.plot(J_plt,interp_Like(J_plt)-interp_Like(min_J))\n",
    "plt.plot(min_J,0,'b^',markersize=10,label='J$_{MLE}$ = %.2f'%min_J+r' , $r^{MLE}_a$ = %.2f'%round(min_ra,3))\n",
    "plt.plot(trueJ,0,'r*',markersize=10,label='J$_{TRUE}$ = %.2f'%trueJ+r' , $r^{TRUE}_a$ = %.2f'%rh)\n",
    "plt.hlines(0.,min(J_plt),max(J_plt),linestyles='dashed')\n",
    "plt.hlines(.5,min(J_plt),max(J_plt),colors=('r'),linestyles='dashed',\n",
    "           label=r'$1-\\sigma$'+'\\t'+'[%.2f,%+.2f]'%(one_sigma_l,one_sigma_r))\n",
    "plt.hlines(2,min(J_plt),max(J_plt),colors=('g'),linestyles='dashed',\n",
    "           label=r'$2-\\sigma$'+'\\t'+'[%.2f,%+.2f]'%(two_sigma_l,two_sigma_r))\n",
    "plt.hlines(4,min(J_plt),max(J_plt),colors=('c'),linestyles='dashed',\n",
    "           label=r'$3-\\sigma$'+'\\t'+'[%.2f,%+.2f]'%(three_sigma_l,three_sigma_r))\n",
    "plt.legend(numpoints=1,fontsize=14).get_frame().set_facecolor('w')\n",
    "plt.ylabel(r'$\\mathcal{L}$(J)',fontsize=14)\n",
    "plt.xlabel(r'log$_{10}$  J [GeV$^2$ cm$^{-5}$]',fontsize=14)\n",
    "plt.ylim(-0.5,12)\n",
    "plt.xlim(min_J+three_sigma_l-0.5,min_J+three_sigma_r+0.5)\n",
    "#plt.savefig(homedir+casedir+'/Sim%i_%s.png'%(nstars,casedir),dpi=300,format='png')\n",
    "plt.suptitle(r'Simulation (N$_{stars}$ = %i)'%nstars,fontsize=16)\n",
    "#plt.savefig(homedir+casedir+'/Sim%i_%s_title.png'%(nstars,casedir),dpi=300,format='png')"
   ]
  },
  {
   "cell_type": "code",
   "execution_count": 165,
   "metadata": {
    "collapsed": false
   },
   "outputs": [
    {
     "name": "stdout",
     "output_type": "stream",
     "text": [
      "           True        Best fit\n",
      "   r0       1.00           0.324\n",
      " rho0   4.00e+08       3.342e+08\n"
     ]
    }
   ],
   "source": [
    "J_rho0 = sciopt.minimize_scalar(lambda log10rho0:abs(min_J-np.log10(Jfactor(D,np.inf,J_r0,1.,0.5))-2*log10rho0)).x\n",
    "print '%15s %15s'%('True','Best fit')\n",
    "print '%5s %10.2f %15.3f'%('r0',1.,J_r0)\n",
    "print '%5s %10.2e %15.3e'%('rho0',4e8,10**J_rho0)"
   ]
  }
 ],
 "metadata": {
  "kernelspec": {
   "display_name": "Python 2",
   "language": "python",
   "name": "python2"
  },
  "language_info": {
   "codemirror_mode": {
    "name": "ipython",
    "version": 2
   },
   "file_extension": ".py",
   "mimetype": "text/x-python",
   "name": "python",
   "nbconvert_exporter": "python",
   "pygments_lexer": "ipython2",
   "version": "2.7.6"
  }
 },
 "nbformat": 4,
 "nbformat_minor": 0
}
