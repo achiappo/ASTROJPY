{
 "cells": [
  {
   "cell_type": "code",
   "execution_count": 3,
   "metadata": {
    "collapsed": true
   },
   "outputs": [],
   "source": [
    "from os import getcwd\n",
    "import numpy as np\n",
    "import pylab as plt\n",
    "from math import log10\n",
    "from emcee import EnsembleSampler\n",
    "\n",
    "from scipy.interpolate import interp1d as interp\n",
    "from scipy.optimize import brentq, minimize_scalar\n",
    "\n",
    "from profiles import build_profile, build_kernel\n",
    "from dispersion import SphericalJeansDispersion\n",
    "from likelihood import GaussianLikelihood\n",
    "\n",
    "%matplotlib inline"
   ]
  },
  {
   "cell_type": "code",
   "execution_count": null,
   "metadata": {
    "collapsed": true
   },
   "outputs": [],
   "source": [
    "rh = 0.04\n",
    "D = 39.81\n",
    "theta = 2*rh/D\n",
    "\n",
    "dm = build_profile('NFW')           # NFW profile for DM\n",
    "st = build_profile('plummer',rh=rh) # Plummer Stellar profile\n",
    "kr = build_kernel('iso')            # isotropic kernel\n",
    "dwarf_props = {'D':D, 'theta':theta, 'rt':np.inf, 'with_errs':False}\n",
    "Sigma = SphericalJeansDispersion(dm, st, kr, dwarf_props)\n",
    "\n",
    "directory = '/home/andrea/Desktop/work/DWARF/'\n",
    "R, v = np.loadtxt(directory+'dsphsim/Ret2_data/dsph_001.txt',usecols=(5, 7),unpack=True)\n",
    "vnan = np.isnan(v)\n",
    "v = v[:10]#[~vnan]\n",
    "R = R[:10]#[~vnan]\n",
    "dv = np.zeros_like(v)\n",
    "\n",
    "LL = GaussianLikelihood([R, v, dv, 0.], Sigma)\n",
    "LL.set_free('dm_a')\n",
    "LL.set_free('dm_b')\n",
    "LL.set_free('dm_c')\n",
    "LL.set_free('dm_r0')"
   ]
  },
  {
   "cell_type": "code",
   "execution_count": null,
   "metadata": {
    "collapsed": true
   },
   "outputs": [],
   "source": [
    "def lnprior(theta, freeJ=False):\n",
    "    if freeJ:\n",
    "        J, r, a, b, c = theta\n",
    "        if -3. < r < 2. and 0.5 < a < 3. and 2. < b < 6. and .0 < c < 1.2 and 12 < J < 22:\n",
    "            return 0.0\n",
    "        return -np.inf\n",
    "    r, a, b, c = theta\n",
    "    if -3. < r < 2. and 0.5 < a < 3. and 2. < b < 6. and .0 < c < 1.2:\n",
    "        return 0.0\n",
    "    return -np.inf\n",
    "\n",
    "def loglike(theta, *args, freeJ=False):\n",
    "    if freeJ:\n",
    "        J, r, a, b, c = theta\n",
    "        return LL(a, b, J, 10**r, c)\n",
    "    J, = args\n",
    "    r, a, b, c = theta\n",
    "    return LL(a, b, J, 10**r, c)\n",
    "\n",
    "def lnprob(theta, *args, freeJ=False):\n",
    "    if freeJ:\n",
    "        lp = lnprior(theta)\n",
    "        if not np.isfinite(lp):\n",
    "            return -np.inf\n",
    "        return lp + loglike(theta, J)\n",
    "    lp = lnprior(theta)\n",
    "    if not np.isfinite(lp):\n",
    "        return -np.inf\n",
    "    return lp + loglike(theta, J)"
   ]
  },
  {
   "cell_type": "code",
   "execution_count": null,
   "metadata": {
    "collapsed": true
   },
   "outputs": [],
   "source": [
    "ndim = len(LL.free_pars)-1\n",
    "nwalkers = ndim*4\n",
    "\n",
    "p0 = [-1., 1., 3., 1.]\n",
    "pos = [ p0 + 0.1*np.random.randn(ndim) for i in range(nwalkers)]\n",
    "\n",
    "J = 16.72\n",
    "\n",
    "# Initialize the MPI-based pool used for parallelization.\n",
    "pool = MPIPool()\n",
    "\n",
    "if not pool.is_master():\n",
    "    # Wait for instructions from the master process.\n",
    "    pool.wait()\n",
    "    sys.exit(0)\n",
    "\n",
    "sampler = EnsembleSampler(nwalkers, ndim, lnprob, args=(J,), pool=pool)\n",
    "\n",
    "# Run 100 steps as a burn-in.\n",
    "pos, prob, state = sampler.run_mcmc(pos, 100)\n",
    "\n",
    "# Reset the chain to remove the burn-in samples.\n",
    "sampler.reset()\n",
    "\n",
    "# Starting from the final position in the burn-in chain, \n",
    "# sample for 1000 steps.\n",
    "sampler.run_mcmc(pos, 1000, rstate0=state)\n",
    "\n",
    "np.save('samples', sampler.chain)\n",
    "np.save('lnprobs', sampler.lnprobability)"
   ]
  }
 ],
 "metadata": {
  "kernelspec": {
   "display_name": "Python 2",
   "language": "python",
   "name": "python2"
  },
  "language_info": {
   "codemirror_mode": {
    "name": "ipython",
    "version": 2
   },
   "file_extension": ".py",
   "mimetype": "text/x-python",
   "name": "python",
   "nbconvert_exporter": "python",
   "pygments_lexer": "ipython2",
   "version": "2.7.6"
  }
 },
 "nbformat": 4,
 "nbformat_minor": 1
}
