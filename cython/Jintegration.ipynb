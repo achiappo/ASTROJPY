{
 "cells": [
  {
   "cell_type": "code",
   "execution_count": 1,
   "metadata": {
    "collapsed": true
   },
   "outputs": [],
   "source": [
    "import numpy as np\n",
    "from math import *\n",
    "from scipy import integrate\n",
    "from cyfuncs import zhao_func\n",
    "from exceptions import Exception, ValueError, OverflowError, ZeroDivisionError"
   ]
  },
  {
   "cell_type": "markdown",
   "metadata": {},
   "source": [
    "In this notebook I integrate the DM squared density (to obtain the *J-factor*) using the same strategy as in CLUMPY:  \n",
    "I split the integral into three regions:  \n",
    "- the \"front\" part of the Halo, zone 1   \n",
    "- the \"rear\" part of the Halo, zone 2  \n",
    "- the inner cusp/core, zone 3  "
   ]
  },
  {
   "cell_type": "raw",
   "metadata": {},
   "source": [
    "from IPython.display import Image\n",
    "Image(\"SKM_C30817040512000.png\", width=800, height=500)"
   ]
  },
  {
   "cell_type": "code",
   "execution_count": 2,
   "metadata": {
    "collapsed": true
   },
   "outputs": [],
   "source": [
    "# physical parameters as in Alex's simulations (except rt)\n",
    "rh = 0.04\n",
    "D = 40.\n",
    "r0 = 0.35\n",
    "rho0 = 7.55e7\n",
    "rt = 2.#np.inf\n",
    "rc = 0.01\n",
    "theta = 2*rh/D\n",
    "rhosat = 1e19\n",
    "\n",
    "theta = 0.5\n",
    "Dprime = D/r0\n",
    "rtprime = rt/r0\n",
    "rcprime = rc/r0\n",
    "ymin = cos( np.radians(theta) )\n",
    "Amin = cos( np.radians( atan( rc/D ) ) )\n",
    "\n",
    "a = 1.\n",
    "b = 3.\n",
    "c = 1."
   ]
  },
  {
   "cell_type": "raw",
   "metadata": {},
   "source": [
    "import pylab as plt\n",
    "%matplotlib inline\n",
    "r_arr = np.logspace(-3, 3)\n",
    "rho_arr = np.array([density(r) for r in r_arr])\n",
    "plt.semilogx( r_arr, rho_arr );"
   ]
  },
  {
   "cell_type": "markdown",
   "metadata": {},
   "source": [
    "These functions implement the generalised NFW (as in the module `cyfuncs.pyx`)"
   ]
  },
  {
   "cell_type": "raw",
   "metadata": {},
   "source": [
    "def density(x):\n",
    "    return zhao_func(x, a, b, c)\n",
    "\n",
    "def radius(x, y):\n",
    "    try:\n",
    "        return sqrt( x*x + Dprime*Dprime - 2*x*Dprime*y )\n",
    "    except (OverflowError, ZeroDivisionError, ValueError):\n",
    "        return np.nan\n",
    "\n",
    "def integrand(x, y, ymin, rc, rt, D):\n",
    "    try:\n",
    "        return density( radius(x, y) )**2\n",
    "    except (OverflowError, ZeroDivisionError):\n",
    "        return np.nan\n",
    "\n",
    "# l.o.s. integration-variable l boundaries for zone 1\n",
    "def lim_l1(y, ymin, rc, rt, D):\n",
    "    alpha = atan( rc/D )\n",
    "    A = cos( np.radians(alpha) )\n",
    "    l1_min = D*y - sqrt( rt*rt - D*D * (1. - y*y) )\n",
    "    l1_max = D*y if y<A else D*y - sqrt( rc*rc - D*D * (1. - y*y) )\n",
    "    return [l1_min, l1_max]\n",
    "\n",
    "# l.o.s. integration-variable l boundaries for zone 2\n",
    "def lim_l2(y, ymin, rc, rt, D):\n",
    "    alpha = atan( rc/D )\n",
    "    A = cos( np.radians(alpha) )\n",
    "    l2_min = D*y if y<A else D*y + sqrt( rc*rc - D*D * (1. - y*y) )\n",
    "    l2_max = D*y + sqrt( rt*rt - D*D * (1. - y*y) )\n",
    "    return [l2_min, l2_max]\n",
    "\n",
    "# l.o.s. integration-variable l boundaries for zone 3\n",
    "def lim_l3(y, ymin, rc, rt, D):\n",
    "    l3_min = D*y - sqrt( rc*rc - D*D * (1. - y*y) )\n",
    "    l3_max = D*y + sqrt( rc*rc - D*D * (1. - y*y) )\n",
    "    return [l3_min, l3_max]\n",
    "\n",
    "def lim_y(ymin, rc, rt, D):\n",
    "    return [ymin, 1.]"
   ]
  },
  {
   "cell_type": "raw",
   "metadata": {},
   "source": [
    "# here I evaluate the two integrals separately\n",
    "\n",
    "I1 = integrate.nquad(integrand, ranges=[lim_l1, lim_y], args=(ymin, rcprime, rtprime, Dprime), \\\n",
    "                    opts=[{'limit':1000, 'epsabs':1.e-8, 'epsrel':1.e-8},\\\n",
    "                          {'limit':1000, 'epsabs':1.e-8, 'epsrel':1.e-8}])\n",
    "\n",
    "I2 = integrate.nquad(integrand, ranges=[lim_l2, lim_y], args=(ymin, rcprime, rtprime, Dprime), \\\n",
    "                    opts=[{'limit':1000, 'epsabs':1.e-8, 'epsrel':1.e-8},\\\n",
    "                          {'limit':1000, 'epsabs':1.e-8, 'epsrel':1.e-8}])\n",
    "\n",
    "I3 = integrate.nquad(integrand, ranges=[lim_l3, lim_y], args=(Amin, rcprime, rtprime, Dprime), \\\n",
    "                    opts=[{'limit':1000, 'epsabs':1.e-8, 'epsrel':1.e-8},\\\n",
    "                          {'limit':1000, 'epsabs':1.e-8, 'epsrel':1.e-8}])\n",
    "\n",
    "I1, I2, I3, I1[0] + I2[0] + I3[0]"
   ]
  },
  {
   "cell_type": "raw",
   "metadata": {},
   "source": [
    "# I examine the impact of the size of the critical radius rc on the result of the integration\n",
    "\n",
    "for i in range(-1, -12, -1):\n",
    "    I = integrate.nquad(integrand, ranges=[lim_l1, lim_y], args=(ymin, rcprime, rtprime, Dprime), \\\n",
    "                    #opts=[{'limit':1000, 'epsabs':1.e-10, 'epsrel':1.e-10},\\\n",
    "                    #      {'limit':1000, 'epsabs':1.e-10, 'epsrel':1.e-10}])\n",
    "                    opts=[{'limit':1000, 'epsabs':10**i, 'epsrel':10**i},\\\n",
    "                          {'limit':1000, 'epsabs':10**i, 'epsrel':10**i}])\n",
    "    \n",
    "    print '%10g %20.20g %20.20g'%(10**i, I[0], I[1])"
   ]
  },
  {
   "cell_type": "raw",
   "metadata": {},
   "source": [
    "# I compare the result of the NQUAD integration routine with ROMBERG method\n",
    "\n",
    "def integrand_y(y, ymin, rc, rt, D):\n",
    "    return integrate.romberg(integrand, a=lim_l1(y, ymin, rc, rt, D)[0], b=lim_l1(y, ymin, rc, rt, D)[1], \n",
    "                             args=(y, ymin, rc, rt, D), tol=1.e-10, divmax=100)\n",
    "\n",
    "Iromb = integrate.romberg(integrand_y, a=lim_y(Amin, rcprime, rtprime, Dprime)[0], b=lim_y(Amin, rcprime, rtprime, Dprime)[1],\n",
    "                          args=(ymin, rcprime, rtprime, Dprime), tol=1.e-10, divmax=100 )\n",
    "\n",
    "Iromb"
   ]
  },
  {
   "cell_type": "raw",
   "metadata": {},
   "source": [
    "# SIMPSON method\n",
    "# to use this, I sample the function in both l and y\n",
    "\n",
    "def integrand_y(y, ymin, rt, D):\n",
    "    xmin = D*y - sqrt( rt*rt - D*D * (1. - y*y) )\n",
    "    xmax = D*y + sqrt( rt*rt - D*D * (1. - y*y) )\n",
    "    x_arr = np.linspace( xmin, xmax, 10000 )\n",
    "    Ix_arr = np.array( [integrand(x, y, ymin, rc, rt, D) for x in x_arr] )\n",
    "    return integrate.simps( Ix_arr, x=x_arr )\n",
    "\n",
    "y_arr = np.linspace(ymin, 1, 1000)\n",
    "\n",
    "Iy_arr = np.array([integrand_y(y, ymin, rtprime, Dprime) for y in y_arr])\n",
    "Isimps = integrate.simps( Iy_arr, x=y_arr )\n",
    "\n",
    "Isimps"
   ]
  },
  {
   "cell_type": "raw",
   "metadata": {},
   "source": [
    "# in this cell I compare to the calculation performed on ASTROJPY\n",
    "\n",
    "from profiles import build_profile, build_kernel\n",
    "dm_true = build_profile('NFW')\n",
    "dwarf_props = {'D':D, 'theta':theta, 'rt':np.inf, 'with_errs':True}\n",
    "dm_true.r0 = 0.35\n",
    "print dm_true.Jreduced(**dwarf_props)"
   ]
  },
  {
   "cell_type": "raw",
   "metadata": {
    "collapsed": true
   },
   "source": [
    "# here I use the same definition of the density function rho\n",
    "# as in CLUMPY: returning a fixed value for small r\n",
    "\n",
    "a = 1.\n",
    "b = 3.\n",
    "c = 1.\n",
    "\n",
    "rc = r0*(rho0/rhosat)**(1/c)\n",
    "\n",
    "def density(x, a=a, b=b, c=c):\n",
    "    if c>1e-5:\n",
    "        if x > rc/r0:\n",
    "            return zhao_func(x, a, b, c)\n",
    "        else:\n",
    "            return rhosat\n",
    "    else:\n",
    "        return zhao_func(x, a, b, 0.)\n",
    "\n",
    "def radius(z, y):\n",
    "    try:\n",
    "        return sqrt( z*z + Dprime*Dprime * (1 - y*y ) )\n",
    "    except (OverflowError, ZeroDivisionError, ValueError):\n",
    "        return np.nan\n",
    "\n",
    "def integrand(x, y, ymin, rt, D):\n",
    "    try:\n",
    "        return density( radius(x, y) )**2\n",
    "    except (OverflowError, ZeroDivisionError):\n",
    "        return np.nan\n",
    "\n",
    "# with the modified version of the density function\n",
    "# I don't need to split the integration range\n",
    "\n",
    "def lim_l(y, ymin, rt, D):\n",
    "    l_min = 0#- sqrt( rt*rt - D*D * (1. - y*y) )\n",
    "    l_max = + sqrt( rt*rt - D*D * (1. - y*y) )\n",
    "    return [l_min, l_max]\n",
    "\n",
    "def lim_y(ymin, rt, D):\n",
    "    return [ymin, 1.]"
   ]
  },
  {
   "cell_type": "raw",
   "metadata": {},
   "source": [
    "I = integrate.nquad(integrand, ranges=[lim_l, lim_y], args=(ymin, np.inf, Dprime), \\\n",
    "                        opts=[{'limit':1000, 'epsabs':1.e-8, 'epsrel':1.e-8},\\\n",
    "                              {'limit':1000, 'epsabs':1.e-8, 'epsrel':1.e-8}])\n",
    "\n",
    "print I, I[0]>I[1]"
   ]
  },
  {
   "cell_type": "raw",
   "metadata": {},
   "source": [
    "# Uniform prior ranges as in Sameth-Geringer et al. 2015\n",
    "# same as in Charbonnier et al. 2011\n",
    "N = 20\n",
    "a = np.random.uniform(low=0.5, high=3., size=N)\n",
    "b = np.random.uniform(low=2., high=5., size=N)\n",
    "c = np.random.uniform(low=0., high=1.2, size=N)\n",
    "\n",
    "def density(x, a, b, c):\n",
    "    if c>1e-5:\n",
    "        if x > rc/r0:\n",
    "            return 2*zhao_func(x, a, b, c)\n",
    "        else:\n",
    "            return rhosat\n",
    "    else:\n",
    "        return 2*zhao_func(x, a, b, 0.)\n",
    "\n",
    "def integrand(x, y, ymin, rt, D, a, b, c):\n",
    "    try:\n",
    "        return density( radius(x, y), a, b, c )**2\n",
    "    except (OverflowError, ZeroDivisionError):\n",
    "        return np.nan\n",
    "\n",
    "def lim_l(y, ymin, rt, D, a, b, c):\n",
    "    l_min = 0#- sqrt( rt*rt - D*D * (1. - y*y) )\n",
    "    l_max = + sqrt( rt*rt - D*D * (1. - y*y) )\n",
    "    return [l_min, l_max]\n",
    "\n",
    "\n",
    "def lim_y(ymin, rt, D, a, b, c):\n",
    "    return [ymin, 1.]\n",
    "\n",
    "for i in range(N):\n",
    "    I = integrate.nquad(integrand, ranges=[lim_l, lim_y], \n",
    "                        args=(ymin, np.inf, Dprime, a[i] ,b[i] ,c[i]), \\\n",
    "                        opts=[{'limit':1000, 'epsabs':1.e-6, 'epsrel':1.e-8},\\\n",
    "                              {'limit':1000, 'epsabs':1.e-6, 'epsrel':1.e-8}])\n",
    "    print '%5.2f %5.2f %5.2f'%(a[i], b[i], c[i]), I, I[0]>I[1], round(I[1]/I[0],3)"
   ]
  },
  {
   "cell_type": "code",
   "execution_count": 3,
   "metadata": {
    "collapsed": true
   },
   "outputs": [],
   "source": [
    "from itertools import product"
   ]
  },
  {
   "cell_type": "code",
   "execution_count": 4,
   "metadata": {
    "collapsed": true
   },
   "outputs": [],
   "source": [
    "r0 = [-3, 2]\n",
    "a = [0.5, 3]\n",
    "b = [2, 6]\n",
    "c = [0, 1.2]\n",
    "\n",
    "def density(x, a, b, c, r0):\n",
    "    if c>1e-5:\n",
    "        if x > rc/r0:\n",
    "            return 2*zhao_func(x, a, b, c)\n",
    "        else:\n",
    "            return rhosat\n",
    "    else:\n",
    "        return 2*zhao_func(x, a, b, 0.)\n",
    "\n",
    "def radius(z, y):\n",
    "    try:\n",
    "        return sqrt( z*z + Dprime*Dprime * (1 - y*y ) )\n",
    "    except (OverflowError, ZeroDivisionError, ValueError):\n",
    "        return np.nan\n",
    "\n",
    "\n",
    "def integrand(x, y, ymin, rt, D, a, b, c, r0):\n",
    "    try:\n",
    "        return density( radius(x, y), a, b, c, r0 )**2\n",
    "    except (OverflowError, ZeroDivisionError):\n",
    "        return np.nan\n",
    "\n",
    "def lim_l(y, ymin, rt, D, a, b, c, r0):\n",
    "    l_min = 0#- sqrt( rt*rt - D*D * (1. - y*y) )\n",
    "    l_max = + sqrt( rt*rt - D*D * (1. - y*y) )\n",
    "    return [l_min, l_max]\n",
    "\n",
    "\n",
    "def lim_y(ymin, rt, D, a, b, c, r0):\n",
    "    return [ymin, 1.]"
   ]
  },
  {
   "cell_type": "code",
   "execution_count": 20,
   "metadata": {},
   "outputs": [
    {
     "name": "stdout",
     "output_type": "stream",
     "text": [
      "    a     b     c    r0          I       Ierr   I>Ierr    DIerr\n",
      "-3.00  0.50  2.00  0.00   1.44e-06   5.21e-07     True  3.600e-01\n",
      "-3.00  0.50  2.00  1.20   1.71e-04   1.38e-05     True  8.100e-02\n",
      "-3.00  0.50  6.00  0.00   9.68e-10   3.86e-07    False  3.990e+02\n",
      "-3.00  0.50  6.00  1.20   1.72e-05   3.39e-04    False  1.967e+01\n",
      "-3.00  3.00  2.00  0.00   1.02e-04   9.68e-07     True  9.000e-03\n",
      "-3.00  3.00  2.00  1.20   5.30e-04   1.98e-06     True  4.000e-03\n",
      "-3.00  3.00  6.00  0.00   3.19e-05   6.40e-07     True  2.000e-02\n",
      "-3.00  3.00  6.00  1.20   3.84e-04   1.94e-06     True  5.000e-03\n",
      " 2.00  0.50  2.00  0.00   1.44e-06   5.21e-07     True  3.600e-01\n",
      " 2.00  0.50  2.00  1.20   1.70e-04   9.64e+26    False  5.663e+30\n",
      " 2.00  0.50  6.00  0.00   9.68e-10   3.86e-07    False  3.990e+02\n",
      " 2.00  0.50  6.00  1.20   3.18e+26   4.61e+27    False  1.451e+01\n",
      " 2.00  3.00  2.00  0.00   1.02e-04   9.68e-07     True  9.000e-03\n",
      " 2.00  3.00  2.00  1.20   5.30e-04   1.98e-06     True  4.000e-03\n",
      " 2.00  3.00  6.00  0.00   3.19e-05   6.40e-07     True  2.000e-02\n",
      " 2.00  3.00  6.00  1.20   3.84e-04   1.94e-06     True  5.000e-03\n"
     ]
    }
   ],
   "source": [
    "print '%5s %5s %5s %5s %10s %10s %8s %8s'%('a', 'b', 'c', 'r0', 'I', 'Ierr', 'I>Ierr', 'DIerr')\n",
    "\n",
    "for p in product( range(2), repeat=4 ):\n",
    "    I = integrate.nquad(integrand, ranges=[lim_l, lim_y], \n",
    "                        args=(ymin, np.inf, D/r0[p[0]], a[p[1]], b[p[2]], c[p[3]], r0[p[0]]), \n",
    "                        opts=[{'limit':1000, 'epsabs':1.e-6, 'epsrel':1.e-8},\n",
    "                              {'limit':1000, 'epsabs':1.e-6, 'epsrel':1.e-8}])\n",
    "\n",
    "    print '%5.2f %5.2f %5.2f %5.2f %10.2e %10.2e %8s %10.3e'%(r0[p[0]], a[p[1]], b[p[2]], c[p[3]], I[0], I[1], I[0]>I[1], round(I[1]/I[0],3))"
   ]
  },
  {
   "cell_type": "code",
   "execution_count": null,
   "metadata": {
    "collapsed": true
   },
   "outputs": [],
   "source": []
  }
 ],
 "metadata": {
  "kernelspec": {
   "display_name": "Python 2",
   "language": "python",
   "name": "python2"
  },
  "language_info": {
   "codemirror_mode": {
    "name": "ipython",
    "version": 2
   },
   "file_extension": ".py",
   "mimetype": "text/x-python",
   "name": "python",
   "nbconvert_exporter": "python",
   "pygments_lexer": "ipython2",
   "version": "2.7.6"
  }
 },
 "nbformat": 4,
 "nbformat_minor": 1
}
