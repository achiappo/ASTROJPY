{
 "cells": [
  {
   "cell_type": "code",
   "execution_count": 1,
   "metadata": {
    "collapsed": false,
    "deletable": true,
    "editable": true
   },
   "outputs": [],
   "source": [
    "import numpy as np\n",
    "from math import *\n",
    "from scipy import integrate\n",
    "from cyfuncs import zhao_func\n",
    "from exceptions import Exception, ValueError, OverflowError, ZeroDivisionError"
   ]
  },
  {
   "cell_type": "markdown",
   "metadata": {
    "deletable": true,
    "editable": true
   },
   "source": [
    "In this notebook I integrate the DM squared density (to obtain the *J-factor*) using the same strategy as in CLUMPY:  \n",
    "I split the integral into three regions:  \n",
    "- the \"front\" part of the Halo, zone 1   \n",
    "- the \"rear\" part of the Halo, zone 2  \n",
    "- the inner cusp/core, zone 3  "
   ]
  },
  {
   "cell_type": "code",
   "execution_count": 2,
   "metadata": {
    "collapsed": false,
    "deletable": true,
    "editable": true
   },
   "outputs": [],
   "source": [
    "# physical parameters as in Alex's simulations (except rt)\n",
    "D = 40.\n",
    "r0 = 0.35\n",
    "rt = np.inf\n",
    "\n",
    "theta = 0.5\n",
    "Dprime = D/r0\n",
    "rtprime = rt/r0\n",
    "ymin = cos( np.radians(theta) )\n",
    "\n",
    "def density(x):\n",
    "    return zhao_func(x, 1., 3., 0.)\n",
    "\n",
    "def radius(z, y, Dprime):\n",
    "    try:\n",
    "        return sqrt( z*z + Dprime*Dprime*(1-y*y) )\n",
    "    except (OverflowError, ZeroDivisionError):\n",
    "        return np.nan"
   ]
  },
  {
   "cell_type": "markdown",
   "metadata": {},
   "source": [
    "These functions implement the generalised NFW (as in the module `cyfuncs.pyx`)"
   ]
  },
  {
   "cell_type": "code",
   "execution_count": 3,
   "metadata": {
    "collapsed": false,
    "deletable": true,
    "editable": true
   },
   "outputs": [],
   "source": [
    "def integrand(z, y, ymin, rc):\n",
    "    try:\n",
    "        return density( radius(z, y, Dprime) )**2\n",
    "    except (OverflowError, ZeroDivisionError):\n",
    "        return np.nan\n",
    "\n",
    "rc = 0.001\n",
    "\n",
    "# l.o.s. integration-variable l boundaries for zone 1\n",
    "def lim_l1(y, ymin, rc):\n",
    "    alpha = atan( rc/D )\n",
    "    A = cos( np.radians(alpha) )\n",
    "    l1_min = D*y - sqrt( rt*rt - D*D* (1. - y*y) )\n",
    "    l1_max = D*y if y<A else D*A - sqrt( rc*rc - D*D * (1. - A*A) )\n",
    "    return [l1_min, l1_max]\n",
    "\n",
    "# l.o.s. integration-variable l boundaries for zone 2\n",
    "def lim_l2(y, ymin, rc):\n",
    "    alpha = atan( rc/D )\n",
    "    A = cos( np.radians(alpha) )\n",
    "    l2_min = D*y if y<A else D*A + sqrt( rc*rc - D*D * (1. - A*A) )\n",
    "    l2_max = D*y + sqrt( rt*rt - D*D * (1. - y*y) )\n",
    "    return [l2_min, l2_max]\n",
    "\n",
    "# l.o.s. integration-variable l boundaries for zone 3\n",
    "def lim_l3(A, ymin, rc):\n",
    "    l3_min = D*A - sqrt( rc*rc - D*D * (1. - A*A) )\n",
    "    l3_max = D*A + sqrt( rc*rc - D*D * (1. - A*A) )\n",
    "    return [l3_min, l3_max]\n",
    "\n",
    "def lim_y(ymin, rc):\n",
    "    return [ymin, 1.]"
   ]
  },
  {
   "cell_type": "code",
   "execution_count": 35,
   "metadata": {
    "collapsed": false,
    "deletable": true,
    "editable": true
   },
   "outputs": [
    {
     "data": {
      "text/plain": [
       "((3.1540608084866464e-06, 4.9939011011331466e-15),\n",
       " (6.569491689401453e-14, 2.9524398816015757e-19))"
      ]
     },
     "execution_count": 35,
     "metadata": {},
     "output_type": "execute_result"
    }
   ],
   "source": [
    "# here I evaluate the two integrals separately\n",
    "\n",
    "I1 = integrate.nquad(integrand, ranges=[lim_l1, lim_y], args=(ymin, rc), \\\n",
    "                    opts=[{'limit':1000, 'epsabs':1.e-16, 'epsrel':1.e-16},\\\n",
    "                          {'limit':1000, 'epsabs':1.e-16, 'epsrel':1.e-16}])\n",
    "\n",
    "I2 = integrate.nquad(integrand, ranges=[lim_l2, lim_y], args=(ymin, rc), \\\n",
    "                    opts=[{'limit':1000, 'epsabs':1.e-16, 'epsrel':1.e-16},\\\n",
    "                          {'limit':1000, 'epsabs':1.e-16, 'epsrel':1.e-16}])\n",
    "\n",
    "I1,I2 "
   ]
  },
  {
   "cell_type": "raw",
   "metadata": {
    "collapsed": false,
    "deletable": true,
    "editable": true
   },
   "source": [
    "# I examine the impact of the size of the critical radius rc on the result of the integration\n",
    "for i in range(-1, -10, -1):\n",
    "    I = integrate.nquad(integrand, ranges=[lim_l1, lim_y], args=(ymin, 10**i), \\\n",
    "                    opts=[{'limit':1000, 'epsabs':1.e-10, 'epsrel':1.e-10},\\\n",
    "                          {'limit':1000, 'epsabs':1.e-10, 'epsrel':1.e-10}])\n",
    "    \n",
    "    print '%20.20g %20.20g'%I"
   ]
  },
  {
   "cell_type": "code",
   "execution_count": 36,
   "metadata": {
    "collapsed": false
   },
   "outputs": [
    {
     "data": {
      "text/plain": [
       "(4.0057596480735347e-26, 4.6745198661020834e-27)"
      ]
     },
     "execution_count": 36,
     "metadata": {},
     "output_type": "execute_result"
    }
   ],
   "source": [
    "# here I evaluate the integral over the inner cusp/core region\n",
    "Amin = cos( np.radians( atan( rc/D ) ) )\n",
    "I3 = integrate.nquad(integrand, ranges=[lim_l3, lim_y], args=(Amin, rc), \\\n",
    "                    opts=[{'limit':1000, 'epsabs':1.e-16, 'epsrel':1.e-16},\\\n",
    "                          {'limit':1000, 'epsabs':1.e-16, 'epsrel':1.e-16}])\n",
    "\n",
    "I3"
   ]
  },
  {
   "cell_type": "code",
   "execution_count": 37,
   "metadata": {
    "collapsed": false,
    "deletable": true,
    "editable": true
   },
   "outputs": [
    {
     "data": {
      "text/plain": [
       "4.0057595294703211e-26"
      ]
     },
     "execution_count": 37,
     "metadata": {},
     "output_type": "execute_result"
    }
   ],
   "source": [
    "# finally, I compare the result of the NQUAD integration routine with ROMBERG method\n",
    "def integrand_y(y, ymin, rc):\n",
    "    return integrate.romberg( integrand, a=lim_l3(y, ymin, rc)[0], b=lim_l3(y, ymin, rc)[1], args=(y, ymin, rc), tol=1.e-16 )\n",
    "\n",
    "Iromb = integrate.romberg( integrand_y, a=lim_y(Amin, rc)[0], b=lim_y(Amin, rc)[1], tol=1.e-10, args=(ymin, rc) )\n",
    "\n",
    "Iromb"
   ]
  },
  {
   "cell_type": "code",
   "execution_count": 38,
   "metadata": {
    "collapsed": false
   },
   "outputs": [
    {
     "data": {
      "text/plain": [
       "3.1540608741815634e-06"
      ]
     },
     "execution_count": 38,
     "metadata": {},
     "output_type": "execute_result"
    }
   ],
   "source": [
    "I1[0] + I2[0] + I3[0]"
   ]
  }
 ],
 "metadata": {
  "kernelspec": {
   "display_name": "Python 2",
   "language": "python",
   "name": "python2"
  }
 },
 "nbformat": 4,
 "nbformat_minor": 0
}
