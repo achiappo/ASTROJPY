{
 "cells": [
  {
   "cell_type": "code",
   "execution_count": 1,
   "metadata": {
    "collapsed": false,
    "deletable": true,
    "editable": true
   },
   "outputs": [],
   "source": [
    "import numpy as np\n",
    "import pylab as plt\n",
    "from math import *\n",
    "from scipy import integrate\n",
    "from cyfuncs import *\n",
    "from exceptions import Exception, ValueError, OverflowError, ZeroDivisionError\n",
    "%matplotlib inline"
   ]
  },
  {
   "cell_type": "code",
   "execution_count": 51,
   "metadata": {
    "collapsed": false,
    "deletable": true,
    "editable": true
   },
   "outputs": [],
   "source": [
    "D = 40.\n",
    "r0 = 0.35\n",
    "rt = 2.#np.inf\n",
    "\n",
    "theta = 0.5\n",
    "Dprime = D/r0\n",
    "rtprime = rt/r0\n",
    "ymin = cos( np.radians(theta) )\n",
    "\n",
    "def density(x):\n",
    "    return zhao_func(x, 1., 3., 0.)\n",
    "\n",
    "def radius(z, y, Dprime):\n",
    "    try:\n",
    "        return sqrt( z*z + Dprime*Dprime*(1-y*y) )\n",
    "    except (OverflowError, ZeroDivisionError):\n",
    "        return np.nan"
   ]
  },
  {
   "cell_type": "code",
   "execution_count": 52,
   "metadata": {
    "collapsed": false,
    "deletable": true,
    "editable": true
   },
   "outputs": [],
   "source": [
    "def integrand(z, y, ymin, rc):\n",
    "    try:\n",
    "        return density( radius(z, y, Dprime) )**2\n",
    "    except (OverflowError, ZeroDivisionError):\n",
    "        return np.nan\n",
    "\n",
    "rc = 0.001\n",
    "\n",
    "def lim_z1(y, ymin, rc):\n",
    "    alpha = atan( rc/D )\n",
    "    A = cos( np.radians(alpha) )\n",
    "    l1_min = D*y - sqrt( rt*rt - D*D* (1. - y*y) )\n",
    "    l1_max = D*y if y<A else D*A - sqrt( rc*rc - D*D * (1. - A*A) )\n",
    "    return [l1_min, l1_max]\n",
    "\n",
    "def lim_z2(y, ymin, rc):\n",
    "    alpha = atan( rc/D )\n",
    "    A = cos( np.radians(alpha) )\n",
    "    l2_min = D*y if y<A else D*A + sqrt( rc*rc - D*D * (1. - A*A) )\n",
    "    l2_max = D*y + sqrt( rt*rt - D*D * (1. - y*y) )\n",
    "    return [l2_min, l2_max]\n",
    "\n",
    "def lim_z3(A, ymin, rc):\n",
    "    l3_min = D*A - sqrt( rc*rc - D*D * (1. - A*A) )\n",
    "    l3_max = D*A + sqrt( rc*rc - D*D * (1. - A*A) )\n",
    "    return [l3_min, l3_max]\n",
    "\n",
    "def lim_y(ymin, rc):\n",
    "    return [ymin, 1.]"
   ]
  },
  {
   "cell_type": "raw",
   "metadata": {
    "collapsed": false,
    "deletable": true,
    "editable": true
   },
   "source": [
    "I1 = integrate.nquad(integrand, ranges=[lim_z1, lim_y], \\\n",
    "                    opts=[{'limit':1000, 'epsabs':1.e-1\n",
    "                           0, 'epsrel':1.e-10},\\\n",
    "                          {'limit':1000, 'epsabs':1.e-10, 'epsrel':1.e-10}])\n",
    "\n",
    "I2 = integrate.nquad(integrand, ranges=[lim_z2, lim_y], \\\n",
    "                    opts=[{'limit':1000, 'epsabs':1.e-10, 'epsrel':1.e-10},\\\n",
    "                          {'limit':1000, 'epsabs':1.e-10, 'epsrel':1.e-10}])\n",
    "\n",
    "I1,I2 "
   ]
  },
  {
   "cell_type": "code",
   "execution_count": 53,
   "metadata": {
    "collapsed": false,
    "deletable": true,
    "editable": true
   },
   "outputs": [
    {
     "name": "stdout",
     "output_type": "stream",
     "text": [
      "1.8492806996510759138e-14 5.4445525542679528284e-24\n",
      "1.8492806996510759138e-14 5.4445525542679528284e-24\n",
      "1.8492806996510759138e-14 5.4445525542679528284e-24\n",
      "1.8492806996510759138e-14 5.4445525542679528284e-24\n",
      "1.8492806996510759138e-14 5.4445525542679528284e-24\n",
      "1.8492806996510759138e-14 5.4445525542679528284e-24\n",
      "1.8492806996510759138e-14 5.4445525542679528284e-24\n",
      "1.8492806996510759138e-14 5.4445525542679528284e-24\n",
      "1.8492806996510759138e-14 5.4445525542679528284e-24\n"
     ]
    }
   ],
   "source": [
    "for i in range(-1, -10, -1):\n",
    "    I1 = integrate.nquad(integrand, ranges=[lim_z1, lim_y], args=(ymin, 10**i), \\\n",
    "                    opts=[{'limit':1000, 'epsabs':1.e-10, 'epsrel':1.e-10},\\\n",
    "                          {'limit':1000, 'epsabs':1.e-10, 'epsrel':1.e-10}])\n",
    "    \n",
    "    print '%20.20g %20.20g'%I1"
   ]
  },
  {
   "cell_type": "code",
   "execution_count": 54,
   "metadata": {
    "collapsed": false
   },
   "outputs": [],
   "source": [
    "Amin = cos( np.radians( atan( rc/D ) ) )\n",
    "I3 = integrate.nquad(integrand, ranges=[lim_z3, lim_y], args=(Amin, 0.01), \\\n",
    "                    opts=[{'limit':1000, 'epsabs':1.e-10, 'epsrel':1.e-10},\\\n",
    "                          {'limit':1000, 'epsabs':1.e-10, 'epsrel':1.e-10}])    "
   ]
  },
  {
   "cell_type": "code",
   "execution_count": 55,
   "metadata": {
    "collapsed": false
   },
   "outputs": [
    {
     "data": {
      "text/plain": [
       "(4.006062842650701e-25, 4.674522615263226e-26)"
      ]
     },
     "execution_count": 55,
     "metadata": {},
     "output_type": "execute_result"
    }
   ],
   "source": [
    "I3"
   ]
  },
  {
   "cell_type": "code",
   "execution_count": 56,
   "metadata": {
    "collapsed": true,
    "deletable": true,
    "editable": true
   },
   "outputs": [],
   "source": [
    "rc = 0.01\n",
    "def integrand_y(y):\n",
    "    return integrate.romberg(integrand, a=lim_z3(y, ymin, rc)[0], b=lim_z3(y, ymin, rc)[1], args=(y, ymin, rc), tol=1.e-10)"
   ]
  },
  {
   "cell_type": "code",
   "execution_count": 57,
   "metadata": {
    "collapsed": false,
    "deletable": true,
    "editable": true
   },
   "outputs": [],
   "source": [
    "I1romb = integrate.romberg( integrand_y, a=lim_y(Amin, rc)[0], b=lim_y(Amin, rc)[1], tol=1.e-10)"
   ]
  },
  {
   "cell_type": "code",
   "execution_count": 58,
   "metadata": {
    "collapsed": false,
    "deletable": true,
    "editable": true
   },
   "outputs": [
    {
     "data": {
      "text/plain": [
       "4.0060628414653311e-25"
      ]
     },
     "execution_count": 58,
     "metadata": {},
     "output_type": "execute_result"
    }
   ],
   "source": [
    "I1romb"
   ]
  }
 ],
 "metadata": {
  "kernelspec": {
   "display_name": "Python 2",
   "language": "python",
   "name": "python2"
  },
  "language_info": {
   "codemirror_mode": {
    "name": "ipython",
    "version": 2
   },
   "file_extension": ".py",
   "mimetype": "text/x-python",
   "name": "python",
   "nbconvert_exporter": "python",
   "pygments_lexer": "ipython2",
   "version": "2.7.6"
  }
 },
 "nbformat": 4,
 "nbformat_minor": 0
}
