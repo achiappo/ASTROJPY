{
 "cells": [
  {
   "cell_type": "raw",
   "metadata": {
    "collapsed": true,
    "deletable": true,
    "editable": true
   },
   "source": [
    "import os\n",
    "import yaml\n",
    "import numpy as np\n",
    "\n",
    "import pylab as plt\n",
    "\n",
    "from scipy.optimize import brentq, fmin\n",
    "from scipy.interpolate import interp1d as interp\n",
    "from scipy.interpolate import UnivariateSpline as spline\n",
    "\n",
    "from pymc import gelman_rubin\n",
    "\n",
    "from corner import corner, hist2d\n",
    "\n",
    "#from sklearn.model_selection import LeaveOneOut\n",
    "%matplotlib inline"
   ]
  },
  {
   "cell_type": "markdown",
   "metadata": {
    "deletable": true,
    "editable": true
   },
   "source": [
    "### script to extract results from log.txt file"
   ]
  },
  {
   "cell_type": "raw",
   "metadata": {
    "deletable": true,
    "editable": true
   },
   "source": [
    "with open('../results/mcmc/logs/log_cov1000_10.txt') as f:\n",
    "    lines = f.readlines()"
   ]
  },
  {
   "cell_type": "raw",
   "metadata": {
    "deletable": true,
    "editable": true
   },
   "source": [
    "from os import listdir\n",
    "import numpy as np\n",
    "path = '../results/mcmc/logs/'\n",
    "list_files = sorted([f for f in listdir(path) if '1000_' in f])\n",
    "\n",
    "for logfile in list_files:\n",
    "    N, n = logfile.split('_')[1].strip('cov'), logfile.split('_')[2].split('.')[0]\n",
    "    \n",
    "    with open(path + logfile) as f:\n",
    "        lines = f.readlines()\n",
    "    \n",
    "    if len(lines)<1000:\n",
    "        continue\n",
    "    samples, lnprobs = [], []\n",
    "    add = False\n",
    "    iter_lines = iter( lines )\n",
    "    for l,line in enumerate(iter_lines):\n",
    "        if line.startswith('Traceback') or line.startswith('Mean acceptance fraction'):\n",
    "            break\n",
    "        if line.startswith('results'):\n",
    "            add = True\n",
    "            continue\n",
    "        if add:\n",
    "            if len(line.split()) > 6:\n",
    "                params = list(eval(\" ,\".join([par.strip(']') for par in line.split()[1:-1]])))\n",
    "                ll = line.split()[-1]\n",
    "            if 3 < len(line.split()) < 6:\n",
    "                J, r, a, b = eval(\" ,\".join(line.split()[1:]))\n",
    "                rest = next(iter_lines)\n",
    "                c, ll = eval(\" ,\".join([par.strip(']') for par in rest.split()]))\n",
    "                params = [J, r, a, b, c]\n",
    "            \n",
    "            try:\n",
    "                L = eval(ll)\n",
    "            except:\n",
    "                L = -np.inf\n",
    "            samples.append( params )\n",
    "            lnprobs.append( L )\n",
    "    \n",
    "    if samples and lnprobs:\n",
    "        samples = np.asanyarray(samples)\n",
    "        lnprobs = np.asanyarray(lnprobs)\n",
    "        np.save('../results/mcmc/cov/samples_cov%s_%s'%(N, n), samples)\n",
    "        np.save('../results/mcmc/cov/lnprobs_cov%s_%s'%(N, n), lnprobs)\n",
    "        #print n, samples.shape, lnprobs.size"
   ]
  },
  {
   "cell_type": "markdown",
   "metadata": {
    "deletable": true,
    "editable": true
   },
   "source": [
    "# emcee"
   ]
  },
  {
   "cell_type": "markdown",
   "metadata": {
    "deletable": true,
    "editable": true
   },
   "source": [
    "## all params"
   ]
  },
  {
   "cell_type": "raw",
   "metadata": {
    "collapsed": true,
    "deletable": true,
    "editable": true
   },
   "source": [
    "samples = np.load('../results/mcmc/samples_equiR_J1672_N1000.npy')\n",
    "lnprobs = np.load('../results/mcmc/lnprobs_equiR_J1672_N1000.npy')\n",
    "parameters = ['r', 'a', 'b', 'c']"
   ]
  },
  {
   "cell_type": "raw",
   "metadata": {
    "deletable": true,
    "editable": true
   },
   "source": [
    "fig, axes = plt.subplots(ncols=1, nrows=4, sharex=True, figsize=(10,20))\n",
    "steps = range(len(samples[0]))\n",
    "for p,(par,ax) in enumerate(zip(parameters,axes)):\n",
    "    for nw in range(len(samples)):\n",
    "        vals = [samples[nw][i][p] for i in steps]\n",
    "        ax.plot(steps, vals)\n",
    "        ax.set_ylabel(par, fontsize=12);\n",
    "#plt.savefig('../results/mcmc/chains_J1672_N10000.png', dpi=300)"
   ]
  },
  {
   "cell_type": "raw",
   "metadata": {
    "collapsed": true,
    "deletable": true,
    "editable": true
   },
   "source": [
    "flatsamples = samples[:, :, :].reshape((-1, len(samples[0][0])))\n",
    "L = -lnprobs.reshape(-1)\n",
    "\n",
    "notinfL = np.where(~np.isinf(L))[0]\n",
    "flatsamples = flatsamples[notinfL]\n",
    "L = L[notinfL]"
   ]
  },
  {
   "cell_type": "raw",
   "metadata": {
    "collapsed": true,
    "deletable": true,
    "editable": true
   },
   "source": [
    "#flatsamples = samples[:, :, :].reshape((-1, len(samples[0][0])))\n",
    "#L = -lnprobs.reshape(-1)\n",
    "\n",
    "Lmin = min(L)\n",
    "indLmin = np.where( L==Lmin )[0][-1]\n",
    "for p,(par,R) in enumerate( zip( parameters, gelman_rubin(samples) ) ):\n",
    "    exec( '{0}_R = {1}'.format(par, R) )\n",
    "    exec( \"{} = flatsamples[:,p]\".format(par) )\n",
    "    exec( \"{0}_min = {0}[indLmin]\".format(par) )"
   ]
  },
  {
   "cell_type": "raw",
   "metadata": {
    "deletable": true,
    "editable": true
   },
   "source": [
    "truep = [-0.46, 1, 3, 1]\n",
    "minp = [r_min, a_min, b_min, c_min]\n",
    "Rvals = '\\n '.join(  ['par    R'] + [ p + '    ' + str(eval( 'round({}_R,3)'.format(p) )) for p in parameters] )\n",
    "\n",
    "fig = corner(flatsamples, labels=[\"$r$\", \"$a$\", \"$b$\", \"$c$\"], truths=truep)\n",
    "#plt.suptitle('J = %.2f'%J[0], fontsize=14);\n",
    "plt.suptitle('J = 16.72', fontsize=14);\n",
    "plt.annotate(Rvals, xy=(0, 3), xycoords='axes fraction', fontsize=14);\n",
    "#plt.savefig('../results/mcmc/corner_equiR_J1672_N1000.png', dpi=300);"
   ]
  },
  {
   "cell_type": "raw",
   "metadata": {
    "deletable": true,
    "editable": true
   },
   "source": [
    "fig, axes = plt.subplots(nrows=2, ncols=2, figsize=(10,10), sharey=True)\n",
    "for i,(par, ax) in enumerate(zip(parameters, axes.flat)):\n",
    "    ax.plot( eval('{}'.format(par)), L, 'bo', alpha=0.2  );\n",
    "    exec( 'parmin = {}_min'.format(par) )\n",
    "    ax.plot( parmin, Lmin, 'r*', ms=10, label= '%s = %.2f'%(par, parmin) );\n",
    "    ax.vlines(x=truep[i], ymin=0, ymax=2000, label='true params: %.2f'%truep[i]);\n",
    "    ax.set_xlabel(par);\n",
    "    if i%2 == 0: \n",
    "        ax.set_ylabel('logLike', fontsize=12)\n",
    "    ax.set_ylim(1194, 1210);\n",
    "    ax.legend(numpoints=1, loc='upper right');\n",
    "#plt.tight_layout()\n",
    "plt.suptitle('J = 15.04', fontsize=14);\n",
    "#plt.savefig('../results/mcmc/plots/Like_params_J1500_N5000.png', dpi=300);"
   ]
  },
  {
   "cell_type": "raw",
   "metadata": {
    "deletable": true,
    "editable": true
   },
   "source": [
    "for par,R in zip(['r', 'a', 'b', 'c'], gelman_rubin(samples)):\n",
    "    print par, round(R,3)"
   ]
  },
  {
   "cell_type": "markdown",
   "metadata": {
    "deletable": true,
    "editable": true
   },
   "source": [
    "### J included in the MCMC scan alongside the nuisance parameters"
   ]
  },
  {
   "cell_type": "raw",
   "metadata": {
    "collapsed": true,
    "deletable": true,
    "editable": true
   },
   "source": [
    "import os\n",
    "import yaml\n",
    "import numpy as np\n",
    "\n",
    "import pylab as plt\n",
    "\n",
    "from scipy.optimize import brentq, fmin\n",
    "from scipy.interpolate import interp1d as interp\n",
    "from scipy.interpolate import UnivariateSpline as spline\n",
    "\n",
    "from pymc import gelman_rubin\n",
    "\n",
    "from corner import corner, hist2d\n",
    "\n",
    "#from sklearn.model_selection import LeaveOneOut\n",
    "%matplotlib inline"
   ]
  },
  {
   "cell_type": "raw",
   "metadata": {
    "collapsed": true,
    "deletable": true,
    "editable": true
   },
   "source": [
    "samples = np.load('../results/mcmc/emc_results/samples_J_N5000.npy')\n",
    "lnprobs = np.load('../results/mcmc/emc_results/lnprobs_J_N5000.npy')\n",
    "parameters = ['J', 'r', 'a', 'b', 'c']"
   ]
  },
  {
   "cell_type": "raw",
   "metadata": {
    "deletable": true,
    "editable": true
   },
   "source": [
    "fig, axes = plt.subplots(ncols=1, nrows=5, sharex=True, figsize=(10,20))\n",
    "steps = range(len(samples[0]))\n",
    "for p,(par,ax) in enumerate(zip(parameters,axes)):\n",
    "    for nw in range(len(samples)):\n",
    "        vals = [samples[nw][i][p] for i in steps]\n",
    "        ax.plot(steps, vals)\n",
    "        ax.set_ylabel(par, fontsize=12);\n",
    "#plt.savefig('../results/mcmc/chains_J1672_N10000.png', dpi=300)"
   ]
  },
  {
   "cell_type": "raw",
   "metadata": {
    "deletable": true,
    "editable": true
   },
   "source": [
    "flatsamples = samples[:, :, :].reshape((-1, len(samples[0][0])))\n",
    "L = -lnprobs.reshape(-1)\n",
    "\n",
    "Lmin = min(L)\n",
    "indLmin = np.where( L==Lmin )[0][-1]\n",
    "for p,(par,R) in enumerate( zip( parameters, gelman_rubin(samples) ) ):\n",
    "    exec( '{0}_R = {1}'.format(par, R) )\n",
    "    exec( \"{} = flatsamples[:,p]\".format(par) )\n",
    "    exec( \"{0}_min = {0}[indLmin]\".format(par) )\n",
    "    #print par, eval( '{}_R'.format(par) ), eval( '{}_min'.format(par) )"
   ]
  },
  {
   "cell_type": "raw",
   "metadata": {
    "deletable": true,
    "editable": true
   },
   "source": [
    "truep = [16.72, -0.46, 1, 3, 1]\n",
    "Rvals = '\\n '.join(  ['par    R'] + [ p + '    ' + str(eval( 'round({}_R,3)'.format(p) )) for p in parameters] )\n",
    "\n",
    "fig = corner(flatsamples, labels=[r\"$\\mathcal{J}$\", \"$r$\", \"$a$\", \"$b$\", \"$c$\"], truths=truep)\n",
    "#plt.suptitle('J = %.2f'%J[0], fontsize=14);\n",
    "plt.suptitle('J = 16.72', fontsize=14);\n",
    "plt.annotate(Rvals, xy=(0, 3), xycoords='axes fraction', fontsize=14);\n",
    "#plt.savefig('../results/mcmc/corner_equiR_J1672_N1000.png', dpi=300);"
   ]
  },
  {
   "cell_type": "raw",
   "metadata": {
    "deletable": true,
    "editable": true
   },
   "source": [
    "fig, axes = plt.subplots(nrows=2, ncols=3, figsize=(10,10), sharey=True)\n",
    "for i,(par, ax) in enumerate( zip(parameters, axes.flat) ):\n",
    "    ax.plot( eval('{}'.format(par)), L, 'bo', alpha=0.2  );\n",
    "    exec( 'parmin = {}_min'.format(par) )\n",
    "    ax.plot( parmin, Lmin, 'r*', ms=10, label= '%s = %.2f'%(par, parmin) );\n",
    "    ax.vlines(x=truep[i], ymin=0, ymax=2000, label='true params: %.2f'%truep[i]);\n",
    "    ax.set_xlabel(par);\n",
    "    if i%2 == 0: \n",
    "        ax.set_ylabel('logLike', fontsize=12)\n",
    "    ax.set_ylim(1194, 1210);\n",
    "    ax.legend(numpoints=1, loc='upper right');\n",
    "#plt.tight_layout()\n",
    "plt.suptitle('J = 15.04', fontsize=14);\n",
    "#plt.savefig('../results/mcmc/plots/Like_params_J1500_N5000.png', dpi=300);"
   ]
  },
  {
   "cell_type": "raw",
   "metadata": {
    "deletable": true,
    "editable": true
   },
   "source": [
    "Jmc = J\n",
    "Lmc = L"
   ]
  },
  {
   "cell_type": "raw",
   "metadata": {
    "deletable": true,
    "editable": true
   },
   "source": [
    "Jenv, Lenv = [], []\n",
    "hist, binsedges = np.histogram(Jmc, bins=35)\n",
    "for Jl,Jr in zip( binsedges[:-1], binsedges[1:] ):\n",
    "    indbin = np.where( np.logical_and( Jl<Jmc, Jmc<Jr ) )[0]\n",
    "    if any(indbin):\n",
    "        Lbin, Jbin = Lmc[indbin], Jmc[indbin]\n",
    "        indLmin = np.where( Lbin==min(Lbin) )[0][0]\n",
    "        Jenv.append( Jbin[indLmin] )\n",
    "        Lenv.append( Lbin[indLmin] )"
   ]
  },
  {
   "cell_type": "raw",
   "metadata": {
    "deletable": true,
    "editable": true
   },
   "source": [
    "plt.plot(Jmc, Lmc, 'bo', label='MCMC scan points');\n",
    "plt.plot(Jenv, Lenv, 'c', lw=3, label='MCMC envelope');\n",
    "plt.plot(Jprof, Lprof, 'r', lw=2, label='manual profiling');\n",
    "plt.xlim(14.5, 18);\n",
    "plt.ylim(1194, 1204);\n",
    "plt.legend();\n",
    "plt.suptitle('profile-vs-mcmc', fontsize=14);\n",
    "#plt.savefig(path + 'profile-vs-mcmc.png', dpi=300);"
   ]
  },
  {
   "cell_type": "markdown",
   "metadata": {
    "deletable": true,
    "editable": true
   },
   "source": [
    "## coverage "
   ]
  },
  {
   "cell_type": "code",
   "execution_count": 1,
   "metadata": {
    "collapsed": true,
    "deletable": true,
    "editable": true
   },
   "outputs": [],
   "source": [
    "from os import listdir\n",
    "import numpy as np\n",
    "import pylab as plt\n",
    "\n",
    "from scipy.interpolate import interp1d as interp\n",
    "from scipy.optimize import brentq\n",
    "\n",
    "%matplotlib inline"
   ]
  },
  {
   "cell_type": "code",
   "execution_count": 21,
   "metadata": {
    "collapsed": false,
    "deletable": true,
    "editable": true
   },
   "outputs": [
    {
     "data": {
      "image/png": "[encoded data removed]",
      "text/plain": [
       "<matplotlib.figure.Figure at 0x7f6193877e50>"
      ]
     },
     "metadata": {},
     "output_type": "display_data"
    }
   ],
   "source": [
    "Jtrue = 16.72\n",
    "path = '../results/mcmc/cov/'\n",
    "\n",
    "S=1000\n",
    "samples_list = sorted([f for f in listdir(path) if 'samples_cov%i_'%S in f])\n",
    "lnprobs_list = sorted([f for f in listdir(path) if 'lnprobs_cov%i_'%S in f])\n",
    "\n",
    "fig, axes = plt.subplots(nrows=2, ncols=5, sharex=True, figsize=(18,8) )\n",
    "\n",
    "Jmins = []\n",
    "in1s,in2s,in3s = 0,0,0\n",
    "for j,( (samples, lnprobs), ax) in enumerate( zip( zip(samples_list[:10], lnprobs_list[:10]), axes.flat) ):\n",
    "    try:\n",
    "        samples = np.load(path+samples)\n",
    "        lnprobs = np.load(path+lnprobs)\n",
    "    except:\n",
    "        continue\n",
    "    \n",
    "    Jmc = samples[:,0]\n",
    "    Lmc = -lnprobs\n",
    "    Lmin = min(Lmc)\n",
    "    \n",
    "    Jenv, Lenv = [], []\n",
    "\n",
    "    hist, binsedges = np.histogram(Jmc, bins=30)\n",
    "    for Jl,Jr in zip( binsedges[:-1], binsedges[1:] ):\n",
    "        indbin = np.where( np.logical_and( Jl<Jmc, Jmc<Jr ) )[0]\n",
    "        if any(indbin):\n",
    "            Lbin, Jbin = Lmc[indbin], Jmc[indbin]\n",
    "            indLmin = np.where( Lbin==min(Lbin) )[0][0]\n",
    "            Jenv.append( Jbin[indLmin] )\n",
    "            Lenv.append( Lbin[indLmin] )\n",
    "    \n",
    "    interpLenv = interp(Jenv, Lenv)\n",
    "    eval_Like_J = np.linspace(min(Jenv), max(Jenv), 100)\n",
    "    min_Like_J = min(interpLenv(eval_Like_J))\n",
    "    Jmin = eval_Like_J[ np.where( interpLenv(eval_Like_J) == min_Like_J )[0][0] ]\n",
    "    Jmins.append( Jmin )\n",
    "    \n",
    "    ax.plot(Jenv, interpLenv(Jenv));\n",
    "    ax.plot(Jmin, Lmin, 'r*', ms=8);\n",
    "    ax.set_ylim(Lmin-1, Lmin+6);\n",
    "    ax.vlines(Jtrue, Lmin-1, Lmin+6);\n",
    "    '''for i,c in enumerate([0.5, 2.0, 4.5]):\n",
    "        try:\n",
    "            exec('J%ssL = %.2f'%(i+1, brentq(lambda j : interpLenv(j)-min_Like_J-c, min(Jenv), Jmin) - Jmin))\n",
    "            exec('J%ssR = %.2f'%(i+1, brentq(lambda j : interpLenv(j)-min_Like_J-c, Jmin, max(Jenv)) - Jmin))\n",
    "        except:\n",
    "            pass\n",
    "    \n",
    "    if Jmin+J1sL < Jtrue < Jmin+J1sR: in1s +=1 \n",
    "    if Jmin+J2sL < Jtrue < Jmin+J2sR: in2s +=1 \n",
    "    #if Jmin+J3sL < Jtrue < Jmin+J3sR: in3s +=1 \n",
    "Jmins = np.asarray( Jmins )\n",
    "relbias = (Jtrue-Jmins.mean())/Jtrue'''\n",
    "plt.tight_layout()\n",
    "#plt.savefig('../results/mcmc/some_cov1000.png', dpi=300);"
   ]
  },
  {
   "cell_type": "code",
   "execution_count": 117,
   "metadata": {
    "collapsed": false,
    "deletable": true,
    "editable": true
   },
   "outputs": [
    {
     "data": {
      "image/png": "[encoded data removed]",
      "text/plain": [
       "<matplotlib.figure.Figure at 0x7f46959c3290>"
      ]
     },
     "metadata": {},
     "output_type": "display_data"
    }
   ],
   "source": [
    "Jtrue = 16.72\n",
    "path = '../results/mcmc/cov/'\n",
    "sizes = [10, 100, 1000]\n",
    "for s,S in enumerate( sizes ):\n",
    "    samples_list = sorted([f for f in listdir(path) if 'samples_cov%i_'%S in f])\n",
    "    lnprobs_list = sorted([f for f in listdir(path) if 'lnprobs_cov%i_'%S in f])\n",
    "    \n",
    "    Jmins = []\n",
    "    in1s,in2s,in3s = 0,0,0\n",
    "    for j,(samples, lnprobs) in enumerate( zip(samples_list, lnprobs_list) ):\n",
    "        try:\n",
    "            samples = np.load(path+samples)\n",
    "            lnprobs = np.load(path+lnprobs)\n",
    "        except:\n",
    "            continue\n",
    "        \n",
    "        Jmc = samples[:,0]\n",
    "        Lmc = -lnprobs\n",
    "        Lmin = min(Lmc)\n",
    "        \n",
    "        Jenv, Lenv = [], []\n",
    "\n",
    "        hist, binsedges = np.histogram(Jmc, bins=30)\n",
    "        for Jl,Jr in zip( binsedges[:-1], binsedges[1:] ):\n",
    "            indbin = np.where( np.logical_and( Jl<Jmc, Jmc<Jr ) )[0]\n",
    "            if any(indbin):\n",
    "                Lbin, Jbin = Lmc[indbin], Jmc[indbin]\n",
    "                indLmin = np.where( Lbin==min(Lbin) )[0][0]\n",
    "                Jenv.append( Jbin[indLmin] )\n",
    "                Lenv.append( Lbin[indLmin] )\n",
    "        \n",
    "        interpLenv = interp(Jenv, Lenv)\n",
    "        eval_Like_J = np.linspace(min(Jenv), max(Jenv), 100)\n",
    "        min_Like_J = min(interpLenv(eval_Like_J))\n",
    "        Jmin = eval_Like_J[ np.where( interpLenv(eval_Like_J) == min_Like_J )[0][0] ]\n",
    "        Jmins.append( Jmin )\n",
    "        \n",
    "        for i,c in enumerate([0.5, 2.0, 4.5]):\n",
    "            try:\n",
    "                exec('J%ssL = %.2f'%(i+1, brentq(lambda j : interpLenv(j)-min_Like_J-c, min(Jenv), Jmin) - Jmin))\n",
    "                exec('J%ssR = %.2f'%(i+1, brentq(lambda j : interpLenv(j)-min_Like_J-c, Jmin, max(Jenv)) - Jmin))\n",
    "            except:\n",
    "                pass\n",
    "        \n",
    "        if Jmin+J1sL < Jtrue < Jmin+J1sR: in1s +=1 \n",
    "        if Jmin+J2sL < Jtrue < Jmin+J2sR: in2s +=1 \n",
    "        #if Jmin+J3sL < Jtrue < Jmin+J3sR: in3s +=1 \n",
    "    Jmins = np.asarray( Jmins )\n",
    "\n",
    "    relbias = (Jtrue-Jmins.mean())/Jtrue\n",
    "    plt.errorbar(x=Jmins.mean(), \n",
    "                 y=s+1, \n",
    "                 xerr=Jmins.std()/np.sqrt(Jmins.size),\n",
    "                 linestyle='', \n",
    "                 marker='d', \n",
    "                 markersize=10, \n",
    "                 linewidth=2, \n",
    "                 capsize=5, \n",
    "                 label=r'$\\left<\\mathcal{J}_{MLE}\\right>$ = %.2f'%Jmins.mean() + ' , bias = %.3f'%relbias);\n",
    "    plt.text(s=\"2$\\sigma$ = %i\"%in2s + '%' + \"\\n\" + r\"1$\\sigma$ = %i\"%in1s + '%', \n",
    "            x=Jtrue+0.2,\n",
    "            y=s+1);\n",
    "    plt.text(s=r\"(N$_{samples}$ = %i)\"%len(lnprobs_list), \n",
    "            x=Jtrue+1,\n",
    "            y=s+1);\n",
    "\n",
    "plt.vlines(x=Jtrue, ymin=0, ymax=4.2, label=r'$\\mathcal{J}_{TRUE}$ = 16.72');\n",
    "plt.yticks(range(1,4),[r'N$_\\star$ = %i'%s for s in sizes]);\n",
    "plt.xlim(Jtrue-2, Jtrue+2);\n",
    "plt.ylim(0, 7);\n",
    "plt.legend(fontsize=12, loc='upper center').set_zorder(100);\n",
    "plt.tight_layout();\n",
    "#plt.savefig('../results/mcmc/bias.png', dpi=300);"
   ]
  },
  {
   "cell_type": "markdown",
   "metadata": {
    "deletable": true,
    "editable": true
   },
   "source": [
    "plt.plot(Jmc, Lmc, 'bo', label='MCMC scan points');\n",
    "plt.plot(Jenv, Lenv, 'c', lw=3, label='MCMC envelope');\n",
    "plt.xlim(10, 30);\n",
    "plt.ylim(Lmin-1, Lmin+10);\n",
    "plt.legend();\n",
    "plt.suptitle('profile-vs-mcmc', fontsize=14);\n",
    "#plt.savefig(path + 'profile-vs-mcmc.png', dpi=300);"
   ]
  },
  {
   "cell_type": "markdown",
   "metadata": {
    "deletable": true,
    "editable": true
   },
   "source": [
    "## manual coverage"
   ]
  },
  {
   "cell_type": "code",
   "execution_count": 36,
   "metadata": {
    "collapsed": true,
    "deletable": true,
    "editable": true
   },
   "outputs": [],
   "source": [
    "from os import listdir\n",
    "import numpy as np\n",
    "import pylab as plt\n",
    "\n",
    "from scipy.interpolate import interp1d as interp\n",
    "from scipy.optimize import brentq\n",
    "\n",
    "%matplotlib inline"
   ]
  },
  {
   "cell_type": "code",
   "execution_count": 37,
   "metadata": {
    "collapsed": false,
    "deletable": true,
    "editable": true
   },
   "outputs": [
    {
     "data": {
      "text/plain": [
       "array([  1.21552150e+01,   1.73983856e+01,  -8.70613146e-01,\n",
       "         3.98241649e+00,   7.23333715e+00,   5.05792540e-04])"
      ]
     },
     "execution_count": 37,
     "metadata": {},
     "output_type": "execute_result"
    }
   ],
   "source": [
    "results = np.load('../results/mcmc/cov/manu_cov10_n100.npy')\n",
    "results[0]"
   ]
  },
  {
   "cell_type": "code",
   "execution_count": 38,
   "metadata": {
    "collapsed": true,
    "deletable": true,
    "editable": true
   },
   "outputs": [],
   "source": [
    "J_array = results[:,0]\n",
    "Likes = results[:,1]\n",
    "params = results[:,1:]\n",
    "\n",
    "Lmin_man = min(Likes)\n",
    "indLmin = np.where( Likes==Lmin_man )[0][0]\n",
    "Jmin_man = J_array[ indLmin ]"
   ]
  },
  {
   "cell_type": "code",
   "execution_count": 39,
   "metadata": {
    "collapsed": true,
    "deletable": true,
    "editable": true
   },
   "outputs": [],
   "source": [
    "samples = np.load('../results/mcmc/cov/samples_cov10_n100.npy')\n",
    "lnprobs = np.load('../results/mcmc/cov/lnprobs_cov10_n100.npy')"
   ]
  },
  {
   "cell_type": "code",
   "execution_count": 42,
   "metadata": {
    "collapsed": true,
    "deletable": true,
    "editable": true
   },
   "outputs": [],
   "source": [
    "Jmc = samples[:,0]\n",
    "Lmc = -lnprobs\n",
    "Lmin_mc = min(Lmc)\n",
    "\n",
    "Jenv, Lenv = [], []\n",
    "\n",
    "hist, binsedges = np.histogram(Jmc, bins=30)\n",
    "for Jl,Jr in zip( binsedges[:-1], binsedges[1:] ):\n",
    "    indbin = np.where( np.logical_and( Jl<Jmc, Jmc<Jr ) )[0]\n",
    "    if any(indbin):\n",
    "        Lbin, Jbin = Lmc[indbin], Jmc[indbin]\n",
    "        indLmin = np.where( Lbin==min(Lbin) )[0][0]\n",
    "        Jenv.append( Jbin[indLmin] )\n",
    "        Lenv.append( Lbin[indLmin] )\n",
    "        \n",
    "interpLenv = interp(Jenv, Lenv)\n",
    "eval_Like_J = np.linspace(min(Jenv), max(Jenv), 100)\n",
    "min_Like_J = min(interpLenv(eval_Like_J))\n",
    "Jmin_mc = eval_Like_J[ np.where( interpLenv(eval_Like_J) == min_Like_J )[0][0] ]"
   ]
  },
  {
   "cell_type": "code",
   "execution_count": 47,
   "metadata": {
    "collapsed": false,
    "deletable": true,
    "editable": true
   },
   "outputs": [
    {
     "data": {
      "image/png": "[encoded data removed]",
      "text/plain": [
       "<matplotlib.figure.Figure at 0x7f46956ef0d0>"
      ]
     },
     "metadata": {},
     "output_type": "display_data"
    }
   ],
   "source": [
    "#plt.plot(Jmc, Lmc, 'bo', alpha=0.5);\n",
    "plt.plot(J_array, Likes, 'r-', label='manual profile');\n",
    "plt.plot(Jenv, interpLenv(Jenv), 'b-', label='envelope mcmc');\n",
    "plt.plot(Jmin_man, Lmin_man, 'm*', Jmin_mc, Lmin_mc, 'c*');\n",
    "plt.legend();"
   ]
  },
  {
   "cell_type": "code",
   "execution_count": 66,
   "metadata": {
    "collapsed": false,
    "deletable": true,
    "editable": true
   },
   "outputs": [],
   "source": [
    "Jtrue = 16.72\n",
    "path = '../results/mcmc/cov/'\n",
    "\n",
    "S=10\n",
    "manu_list = sorted([f for f in listdir(path) if 'manu_cov%i_n'%S in f])\n",
    "\n",
    "Jmins = []\n",
    "in1s,in2s,in3s = 0,0,0\n",
    "for j,samples in enumerate( manu_list ):\n",
    "    results = np.load(path+samples)\n",
    "    \n",
    "    J_array = results[:,0]\n",
    "    Likes = results[:,1]\n",
    "    params = results[:,1:]\n",
    "\n",
    "    Lmin_man = min(Likes)\n",
    "    indLmin = np.where( Likes==Lmin_man )[0][0]\n",
    "    Jmin_man = J_array[ indLmin ]\n",
    "    \n",
    "    Jmins.append( Jmin_man )\n",
    "Jmins = np.array(Jmins)"
   ]
  },
  {
   "cell_type": "markdown",
   "metadata": {
    "deletable": true,
    "editable": true
   },
   "source": [
    "### convergence check with Gelman-Rubin criterion for coverage/bias tests results"
   ]
  },
  {
   "cell_type": "raw",
   "metadata": {
    "deletable": true,
    "editable": true
   },
   "source": [
    "import numpy as np\n",
    "from os import listdir\n",
    "from pymc import gelman_rubin\n",
    "\n",
    "path = '../results/mcmc/cov/'\n",
    "parameters = parameters = ['J', 'r', 'a', 'b', 'c']\n",
    "\n",
    "Sams = []\n",
    "\n",
    "for s,S in enumerate( [10, 100] ):\n",
    "    print 'Nstars = ', S\n",
    "    samples_list = sorted([f for f in listdir(path) if 'samples_cov%i_n'%S in f])\n",
    "    lnprobs_list = sorted([f for f in listdir(path) if 'lnprobs_cov%i_n'%S in f])\n",
    "    \n",
    "    for j,(samples, lnprobs) in enumerate( zip(samples_list, lnprobs_list) ):\n",
    "        samples = np.load(path+samples)\n",
    "        Sams.append( samples )\n",
    "    \n",
    "    for p,(par,R) in enumerate( zip( parameters, gelman_rubin(Sams) ) ):\n",
    "        exec( '{0}_R = {1}'.format(par, R) )\n",
    "    \n",
    "    Rvals = '\\n '.join(  ['par    R'] + [ p + '    ' + str(eval( 'round({}_R,3)'.format(p) )) for p in parameters] )\n",
    "    print Rvals, '\\n'"
   ]
  },
  {
   "cell_type": "markdown",
   "metadata": {
    "deletable": true,
    "editable": true
   },
   "source": [
    "### 2D histogram of peak"
   ]
  },
  {
   "cell_type": "raw",
   "metadata": {
    "collapsed": true,
    "deletable": true,
    "editable": true
   },
   "source": [
    "import numpy as np\n",
    "import pylab as plt\n",
    "from corner import hist2d\n",
    "\n",
    "%matplotlib inline"
   ]
  },
  {
   "cell_type": "raw",
   "metadata": {
    "collapsed": true,
    "deletable": true,
    "editable": true
   },
   "source": [
    "samples = np.load('../results/mcmc/samples_Lrc_J1672_N10000.npy')\n",
    "lnprobs = np.load('../results/mcmc/lnprobs_Lrc_J1672_N10000.npy')\n",
    "parameters = ['r', 'c'] #['r', 'a', 'b', 'c']"
   ]
  },
  {
   "cell_type": "raw",
   "metadata": {
    "collapsed": true,
    "deletable": true,
    "editable": true
   },
   "source": [
    "N = 5\n",
    "samples = np.array( [samples[i*N] for i in range(len(samples)/N)] )\n",
    "lnprobs = np.array( [lnprobs[i*N] for i in range(len(samples)/N) ] )"
   ]
  },
  {
   "cell_type": "raw",
   "metadata": {
    "deletable": true,
    "editable": true
   },
   "source": [
    "Lmax = max(lnprobs)\n",
    "indLmax = np.where( lnprobs==Lmax )[0][0]\n",
    "ind2Dhist = np.where( lnprobs>Lmax-0.2 )[0]\n",
    "for p,param in enumerate( parameters ):\n",
    "    values = samples[:,p]\n",
    "    exec( \"{} = values\".format(param) )\n",
    "    exec( \"{}_min = values[indLmax]\".format(param) )\n",
    "    #print param, values[indLmax]"
   ]
  },
  {
   "cell_type": "raw",
   "metadata": {
    "deletable": true,
    "editable": true
   },
   "source": [
    "truevals = [-0.46, 1, 3, 1]\n",
    "hist2d(x=samples[ind2Dhist, 0], y=samples[ind2Dhist, 1])\n",
    "plt.xlabel(parameters[0], fontsize=12);\n",
    "plt.ylabel(parameters[1], fontsize=12);\n",
    "plt.vlines(x=eval( '{}_min'.format(parameters[0]) ), \n",
    "           ymin=eval( 'min({})'.format(parameters[1]) ),\n",
    "           ymax=eval( 'max({})'.format(parameters[1]) ),\n",
    "           color='r')\n",
    "plt.hlines(y=eval( '{}_min'.format(parameters[1]) ), \n",
    "           xmin=eval( 'min({})'.format(parameters[0]) ),\n",
    "           xmax=eval( 'max({})'.format(parameters[0]) ),\n",
    "           color='r')\n",
    "plt.ylim(1.19, 1.201);\n",
    "#ax.plot(truevals[i], truevals[j], 'c*', ms=10)\n",
    "#plt.tight_layout();\n",
    "#plt.suptitle(r'$\\mathcal{J}$ = 16.72 , N$_\\star$ = 712 , N$_{steps}$ = 10000', fontsize=14);\n",
    "#plt.savefig('../results/mcmc/2Dhists/2dhist_712s_J1672_N10000.png', dpi=300)\n",
    "#plt.suptitle(r'$\\mathcal{J}$ = 16.72 , N$_\\star$ = 712 , N$_{steps}$ = 10000 , thinning = %i'%N, fontsize=14);\n",
    "#plt.savefig('../results/mcmc/2Dhists/2dhist_712s_J1672_N10000_thin%i.png'%N, dpi=300)"
   ]
  },
  {
   "cell_type": "raw",
   "metadata": {
    "deletable": true,
    "editable": true
   },
   "source": [
    "truevals = [-0.46, 1, 3, 1]\n",
    "combs = combinations(range(4), 2)\n",
    "fig, axes = plt.subplots(ncols=3, nrows=2, figsize=(14,8) )\n",
    "for n,((i,j), ax) in enumerate( zip(combs, axes.flat) ):\n",
    "    hist2d(x=flatsamples[ind2Dhist, i], y=flatsamples[ind2Dhist, j], ax=ax)\n",
    "    ax.set_xlabel(parameters[i], fontsize=12);\n",
    "    ax.set_ylabel(parameters[j], fontsize=12);\n",
    "    ax.vlines(x=eval( '{}_min'.format(parameters[i]) ), \n",
    "              ymin=eval( 'min({})'.format(parameters[j]) ),\n",
    "              ymax=eval( 'max({})'.format(parameters[j]) ),\n",
    "              color='r')\n",
    "    ax.hlines(y=eval( '{}_min'.format(parameters[j]) ), \n",
    "              xmin=eval( 'min({})'.format(parameters[i]) ),\n",
    "              xmax=eval( 'max({})'.format(parameters[i]) ),\n",
    "              color='r')\n",
    "    '''ax.set_xlim(eval( '{}_min'.format(parameters[i]) ) - 0.05,\n",
    "                eval( '{}_min'.format(parameters[i]) ) + 0.05)\n",
    "    ax.set_ylim(eval( '{}_min'.format(parameters[j]) ) - 0.05,\n",
    "                eval( '{}_min'.format(parameters[j]) ) + 0.05)'''\n",
    "    #ax.plot(truevals[i], truevals[j], 'c*', ms=10)\n",
    "#plt.tight_layout();\n",
    "#plt.suptitle(r'$\\mathcal{J}$ = 16.72 , N$_\\star$ = 712 , N$_{steps}$ = 10000', fontsize=14);\n",
    "#plt.savefig('../results/mcmc/2Dhists/2dhist_712s_J1672_N10000.png', dpi=300)\n",
    "plt.suptitle(r'$\\mathcal{J}$ = 16.72 , N$_\\star$ = 712 , N$_{steps}$ = 10000 , thinning = %i'%N, fontsize=14);\n",
    "#plt.savefig('../results/mcmc/2Dhists/2dhist_712s_J1672_N10000_thin%i.png'%N, dpi=300)"
   ]
  },
  {
   "cell_type": "raw",
   "metadata": {
    "deletable": true,
    "editable": true
   },
   "source": [
    "Js = [14, 15, 16.01, 17.02]\n",
    "parameters = ['r', 'a', 'b', 'c']\n",
    "for J in Js:\n",
    "    samples = np.load('../results/mcmc/emc_results/samples_J%i_N5000.npy'%(J*100))\n",
    "    lnprobs = np.load('../results/mcmc/emc_results/lnprobs_J%i_N5000.npy'%(J*100))\n",
    "    \n",
    "    flatsamples = samples[:, :, :].reshape( (-1, len(samples[0][0])) )\n",
    "    L = lnprobs.reshape(-1)\n",
    "    Lmax = max(L)\n",
    "    indLmax = np.where( L==Lmax )[0][0]\n",
    "    ind2Dhist = np.where( L>Lmax-0.2 )[0]\n",
    "    for p,par in enumerate( parameters ):\n",
    "        values = flatsamples[:,p]\n",
    "        exec( \"{} = values\".format(par) )\n",
    "        exec( \"{}_min = values[indLmax]\".format(par) )\n",
    "        #print param, min(values), max(values)\n",
    "    \n",
    "    combs = combinations(range(4), 2)\n",
    "    fig, axes = plt.subplots(ncols=3, nrows=2, figsize=(14,8) )\n",
    "    for n,((i,j), ax) in enumerate( zip(combs, axes.flat) ):\n",
    "        hist2d(x=flatsamples[ind2Dhist, i], y=flatsamples[ind2Dhist, j], ax=ax)\n",
    "        ax.set_xlabel(parameters[i], fontsize=12);\n",
    "        ax.set_ylabel(parameters[j], fontsize=12);\n",
    "        ax.vlines(x=eval( '{}_min'.format(parameters[i]) ), \n",
    "                  ymin=eval( 'min({})'.format(parameters[j]) ),\n",
    "                  ymax=eval( 'max({})'.format(parameters[j]) ),\n",
    "                  color='r')\n",
    "        ax.hlines(y=eval( '{}_min'.format(parameters[j]) ), \n",
    "                  xmin=eval( 'min({})'.format(parameters[i]) ),\n",
    "                  xmax=eval( 'max({})'.format(parameters[i]) ),\n",
    "                  color='r')\n",
    "    #plt.tight_layout();\n",
    "    plt.suptitle(r'$\\mathcal{J}$ = %.2f , N$_\\star$ = 712 , N$_{steps}$ = 5000'%J, fontsize=14);\n",
    "    plt.savefig('../results/mcmc/2Dhists/2Dhist_712s_J%i_N5000.png'%(J*100), dpi=300)\n",
    "    plt.clf()\n",
    "    plt.close()\n",
    "    '''print J\n",
    "    for p,param in enumerate( parameters ):\n",
    "        print param, [eval( '{}[ind]'.format(param) ) for ind in np.where( L==Lmax )[0]]'''"
   ]
  },
  {
   "cell_type": "markdown",
   "metadata": {
    "deletable": true,
    "editable": true
   },
   "source": [
    "## test convergence - via Geman-Rubin criteria - as a function of Nsteps"
   ]
  },
  {
   "cell_type": "raw",
   "metadata": {
    "collapsed": true,
    "deletable": true,
    "editable": true
   },
   "source": [
    "path = '/home/andrea/Desktop/work/DWARF/ASTROJPY/results/mcmc/'\n",
    "files = os.listdir(path+'emc_results/')\n",
    "#samples_list = sorted( [f for f in files if 'samples_100' in f and 'N10000.npy' in f] )\n",
    "#lnprobs_list = sorted( [f for f in files if 'lnprobs_100' in f and 'N10000.npy' in f] )\n",
    "samples_list = sorted( [f for f in files if 'samples' in f and 'N5000.npy' in f] )\n",
    "lnprobs_list = sorted( [f for f in files if 'lnprobs' in f and 'N5000.npy' in f] )\n",
    "\n",
    "indJ = np.where(['J' in s for s in samples_list[1].split('_')])[0][0]\n",
    "\n",
    "J = [float( j.split('_')[indJ].strip('J') )/100 for j in samples_list]\n",
    "parameters = ['r', 'a', 'b', 'c']"
   ]
  },
  {
   "cell_type": "raw",
   "metadata": {
    "deletable": true,
    "editable": true
   },
   "source": [
    "n = 3000\n",
    "for j,samples in enumerate( samples_list ):\n",
    "    # parameters\n",
    "    params = np.load(path+'emc_results/'+samples)\n",
    "    red_samples = params[:, :n, :]\n",
    "    for p,(param,R) in enumerate( zip( parameters, gelman_rubin(red_samples) ) ):\n",
    "        exec( '{0}_R = {1}'.format(param, R) )\n",
    "    Rvals = '\\n '.join(  ['par    R'] + [ p + '    ' + str(eval( 'round({}_R,3)'.format(p) )) for p in parameters] )\n",
    "    print J[j]\n",
    "    print Rvals, '\\n'"
   ]
  },
  {
   "cell_type": "markdown",
   "metadata": {
    "deletable": true,
    "editable": true
   },
   "source": [
    "For  \n",
    "- N$_\\star$ = 10, $\\sim$ 1000 steps in the chain suffice\n",
    "- N$_\\star$ = 100, $\\sim$ 2000 steps it's a better choice\n",
    "- N$_\\star$ = 712, $\\sim$ 3000 steps should suffice to given $R\\approx1$"
   ]
  },
  {
   "cell_type": "markdown",
   "metadata": {
    "deletable": true,
    "editable": true
   },
   "source": [
    "## plot all plots for all Js"
   ]
  },
  {
   "cell_type": "raw",
   "metadata": {
    "collapsed": true,
    "deletable": true,
    "editable": true
   },
   "source": [
    "def myround(x, base=5):\n",
    "    return int(base * round(float(x)/base))"
   ]
  },
  {
   "cell_type": "raw",
   "metadata": {
    "deletable": true,
    "editable": true
   },
   "source": [
    "path = '../results/mcmc/'\n",
    "parameters = ['r', 'a', 'b', 'c']\n",
    "files = os.listdir(path+'emc_results')\n",
    "samples_list = sorted( [f for f in files if 'samples_100' in f and 'N10000.npy' in f] )\n",
    "lnprobs_list = sorted( [f for f in files if 'lnprobs_100' in f and 'N10000.npy' in f] )\n",
    "J = [float( j.split('_')[2].strip('J') )/100 for j in samples_list]\n",
    "\n",
    "for j,(samples, lnprobs) in enumerate( zip(samples_list, lnprobs_list) ):\n",
    "    # extract samples and lnprobabilities from npy files and build arrays\n",
    "    samples = np.load(path+'emc_results/'+samples)\n",
    "    lnprobs = np.load(path+'emc_results/'+lnprobs)\n",
    "    L = -lnprobs.reshape(-1)\n",
    "    Lmin = min(L)\n",
    "    roundLmin = myround(Lmin)\n",
    "    indLmin = np.where( L==Lmin )[0][-1]\n",
    "    flatsamples = samples[:, :, :].reshape((-1, len(samples[0][0])))\n",
    "    for p,(par,R) in enumerate( zip( parameters, gelman_rubin(samples) ) ):\n",
    "        exec( \"{} = flatsamples[:,p]\".format(param) )\n",
    "        exec( \"{0}_min = {0}[indLmin]\".format(param) )\n",
    "        exec( '{0}_R = {1}'.format(par, R) )\n",
    "    \n",
    "    # plot corner plot only if not already present\n",
    "    if not os.path.isfile( path+'plots_100s/corner_100s_J%.2f_N10000.png'%J[j] ):\n",
    "        #fig, axes = plt.subplots(ncols=1, nrows=4, sharex=True, figsize=(10,20))\n",
    "        #steps = range(len(samples[0]))\n",
    "        #for p,(par,ax) in enumerate(zip(parameters,axes)):\n",
    "        #    for nw in range(len(samples)):\n",
    "        #        vals = [samples[nw][i][p] for i in steps]\n",
    "        #        ax.plot(steps, vals)\n",
    "        #        ax.set_ylabel(par, fontsize=12);\n",
    "        #plt.savefig(path+'plots/chains_J%g_N5000.png'%J[j], dpi=300)\n",
    "        #plt.clf()\n",
    "        #plt.close()\n",
    "        \n",
    "        truep = [-0.46, 1., 3, 1]\n",
    "        minp = [r_min, a_min, b_min, c_min]\n",
    "        Rvals = '\\n '.join(  ['par    R'] + [ p + '    ' + str(eval( 'round({}_R,3)'.format(p))) for p in parameters] )\n",
    "        fig = corner(flatsamples, labels=[\"$r$\", \"$a$\", \"$b$\", \"$c$\"], truths=truep)\n",
    "        plt.suptitle('J = %.2f'%J[j], fontsize=14);\n",
    "        plt.annotate(Rvals, xy=(0, 3), xycoords='axes fraction', fontsize=14);\n",
    "        plt.savefig(path+'plots_100s/corner_100s_J%.2f_N10000.png'%J[j], dpi=300)\n",
    "        plt.clf()\n",
    "        plt.close()\n",
    "    \n",
    "    # plot parameters lnlikelihood plots only if not already present\n",
    "    if not os.path.isfile(path+'plots_100s/Like_params_100s_J%.2f_N10000.png'%J[j]):\n",
    "        fig, axes = plt.subplots(nrows=2, ncols=2, figsize=(10,10), sharey=True)\n",
    "        for i,(par, ax) in enumerate(zip(parameters, axes.flat)):\n",
    "            ax.plot( eval('{}'.format(par)), L, 'bo', alpha=0.2  );\n",
    "            exec( 'parmin = {}_min'.format(par) )\n",
    "            ax.plot( parmin, Lmin, 'r*', ms=10, label= '%s = %.2f'%(par, parmin) );\n",
    "            ax.vlines(x=truep[i], ymin=0, ymax=2000, label='true params: %.2f'%truep[i]);\n",
    "            ax.set_xlabel(par);\n",
    "            if i%2 == 0: \n",
    "                ax.set_ylabel('logLike', fontsize=12)\n",
    "            ax.set_ylim(roundLmin-5, roundLmin+15);\n",
    "            ax.legend(numpoints=1, loc='upper right');\n",
    "        #plt.tight_layout()\n",
    "        plt.suptitle('J = %.2f'%J[j], fontsize=14);\n",
    "        plt.savefig(path+'plots_100s/Like_params_100s_J%.2f_N10000.png'%J[j], dpi=300)\n",
    "        plt.clf()\n",
    "        plt.close()"
   ]
  },
  {
   "cell_type": "markdown",
   "metadata": {
    "deletable": true,
    "editable": true
   },
   "source": [
    "## build profile"
   ]
  },
  {
   "cell_type": "raw",
   "metadata": {
    "deletable": true,
    "editable": true
   },
   "source": [
    "path = '/home/andrea/Desktop/work/DWARF/ASTROJPY/results/mcmc/'\n",
    "files = os.listdir(path+'emc_results/')\n",
    "#samples_list = sorted( [f for f in files if 'samples_100' in f and 'N10000.npy' in f] )\n",
    "#lnprobs_list = sorted( [f for f in files if 'lnprobs_100' in f and 'N10000.npy' in f] )\n",
    "samples_list = sorted( [f for f in files if 'samples' in f and 'N5000.npy' in f] )\n",
    "lnprobs_list = sorted( [f for f in files if 'lnprobs' in f and 'N5000.npy' in f] )\n",
    "\n",
    "indJ = np.where(['J' in s for s in samples_list[1].split('_')])[0][0]\n",
    "\n",
    "J = [float( j.split('_')[indJ].strip('J') )/100 for j in samples_list]"
   ]
  },
  {
   "cell_type": "raw",
   "metadata": {
    "collapsed": true,
    "deletable": true,
    "editable": true
   },
   "source": [
    "for var in ['L', 'r', 'a', 'b', 'c']:\n",
    "    exec( '{}_min = []'.format(var) )\n",
    "\n",
    "for j,(pars_file, lnprobs_file) in enumerate( zip(samples_list, lnprobs_list) ):\n",
    "    # open loglikelihoods\n",
    "    llikes = np.load(path+'emc_results/'+lnprobs_file)\n",
    "    L = -llikes.reshape(-1)\n",
    "    Lmin = min(L)\n",
    "    indLmin = np.where( L==Lmin )[0][-1]\n",
    "    L_min.append( Lmin )\n",
    "    \n",
    "    # parameters\n",
    "    params = np.load(path+'emc_results/'+pars_file)\n",
    "    flatparams = params[:, :, :].reshape((-1, len(params[0][0])))\n",
    "    for p,(par,R) in enumerate( zip( ['r', 'a', 'b', 'c'], gelman_rubin(params) ) ):\n",
    "        #print par, round(R,3)\n",
    "        values = [flatparams[i][p] for i in range(len(flatparams))]\n",
    "        exec( \"{} = np.asarray(values)\".format(par) )\n",
    "        exec( \"{0}_min.append( {0}[indLmin] )\".format(par) )"
   ]
  },
  {
   "cell_type": "raw",
   "metadata": {
    "collapsed": true,
    "deletable": true,
    "editable": true
   },
   "source": [
    "interpL = interp(J, L_min)\n",
    "eval_Like_J = np.linspace(min(J), max(J), 1000)\n",
    "min_Like_J = interpL(eval_Like_J).min()\n",
    "Jmin = eval_Like_J[ np.where( interpL(eval_Like_J) == min_Like_J )[0][0] ]"
   ]
  },
  {
   "cell_type": "raw",
   "metadata": {
    "deletable": true,
    "editable": true
   },
   "source": [
    "for i,c in enumerate([0.5, 2.0, 4.5]):\n",
    "    exec('J%ssL = %.2f'%(i+1, brentq(lambda j : interpL(j)-interpL(J).min()-c, min(J), Jmin) - Jmin))\n",
    "    exec('J%ssR = %.2f'%(i+1, brentq(lambda j : interpL(j)-interpL(J).min()-c, Jmin, max(J)) - Jmin))"
   ]
  },
  {
   "cell_type": "raw",
   "metadata": {
    "deletable": true,
    "editable": true
   },
   "source": [
    "plt.plot(J, L_min-min(L_min));\n",
    "plt.plot(Jmin, 0, 'b^', ms=10, label=r'$\\mathcal{J}_{MLE}$ = %.2f'%Jmin);\n",
    "plt.plot(16.72, 0, 'r*', ms=10, label=r'$\\mathcal{J}_{TRUE}$ = 16.72');\n",
    "plt.hlines(0, 14, 27, linestyles='dashed', colors='k');\n",
    "for i,(c,h) in enumerate(zip(['r','g','c'],[0.5, 2.0, 4.5])):\n",
    "    s = i+1\n",
    "    JL, JR = eval( 'J{}sL'.format(s) ), eval( 'J{}sR'.format(s) )\n",
    "    plt.hlines(h, 14, 27, linestyles='dashed', colors=c,\n",
    "              label=r'$%i-\\sigma$'%s+'\\t'+'[%.2f,%.2f]'%(JL, JR))\n",
    "plt.ylim(-0.5, 10);\n",
    "plt.xlim(14, 27);\n",
    "plt.xlabel(r'$\\mathcal{J}$ [GeV$^2$  cm$^5$]', fontsize=14);\n",
    "plt.ylabel(r'$\\mathcal{L}$ ($\\mathcal{J}$)', fontsize=14);\n",
    "plt.legend(loc='upper right').get_frame().set_facecolor('w');\n",
    "plt.suptitle(r'$\\mathcal{J}$ profile likelihood using N$_\\star = 10$');\n",
    "#plt.savefig(path+'profileJ_10s.png', dpi=300);"
   ]
  },
  {
   "cell_type": "raw",
   "metadata": {
    "deletable": true,
    "editable": true
   },
   "source": [
    "Jprof = J\n",
    "Lprof = L_min"
   ]
  },
  {
   "cell_type": "raw",
   "metadata": {
    "deletable": true,
    "editable": true
   },
   "source": [
    "indmin = np.where( L_min==min(L_min) )[0][0]\n",
    "fig, axes = plt.subplots(nrows=1, ncols=4, sharey=True, figsize=(10,6))\n",
    "for par, ax in zip( ['r', 'a', 'b', 'c'], axes):\n",
    "    exec('par_mle = {}_min[indmin]'.format(par) )\n",
    "    ax.plot(J, eval( '{}_min'.format(par) ));\n",
    "    \n",
    "    #exec( 'spline_par = spline(J, {}_min)'.format(par) )\n",
    "    #exec('par_mle = spline_par(Jmin)'.format(par) )\n",
    "    #ax.plot(J, spline_par(J));\n",
    "    \n",
    "    ax.plot(Jmin, par_mle, 'r*' , ms=10, label=r'$%s_{MLE}$ = %.2f'%(par,par_mle));\n",
    "    ax.legend();"
   ]
  },
  {
   "cell_type": "markdown",
   "metadata": {
    "deletable": true,
    "editable": true
   },
   "source": [
    "# brute force"
   ]
  },
  {
   "cell_type": "raw",
   "metadata": {
    "deletable": true,
    "editable": true
   },
   "source": [
    "data = np.load('../results/mcmc/LikeBF.npy')\n",
    "\n",
    "grid = data[2]\n",
    "like = data[3]\n",
    "\n",
    "bf_a_arr = [grid[0][i][0] for i in range(100)]\n",
    "bf_c_arr = [grid[1][0][i] for i in range(100)]\n",
    "\n",
    "bf_La_arr = [min(like[i]) for i in range(100)]\n",
    "bf_Lc_arr = [min(np.transpose(like)[i]) for i in range(100)]"
   ]
  },
  {
   "cell_type": "raw",
   "metadata": {
    "collapsed": true,
    "deletable": true,
    "editable": true
   },
   "source": [
    "plt.plot(bf_a_arr, bf_La_arr);\n",
    "plt.ylim(1195, 1210);"
   ]
  },
  {
   "cell_type": "markdown",
   "metadata": {
    "deletable": true,
    "editable": true
   },
   "source": [
    "## L - r , a"
   ]
  },
  {
   "cell_type": "raw",
   "metadata": {
    "collapsed": true,
    "deletable": true,
    "editable": true
   },
   "source": [
    "samples = np.load('../results/mcmc/samples_Lra_J1672_N1000.npy')\n",
    "lnprobs = np.load('../results/mcmc/lnprobs_Lra_J1672_N1000.npy')"
   ]
  },
  {
   "cell_type": "raw",
   "metadata": {
    "deletable": true,
    "editable": true
   },
   "source": [
    "fig, axes = plt.subplots(ncols=1, nrows=2, sharex=True, figsize=(10,10))\n",
    "steps = range(len(samples[0]))\n",
    "for p,(par,ax) in enumerate(zip(['r', 'a'],axes)):\n",
    "    for nw in range(len(samples)):\n",
    "        vals = [samples[nw][i][p] for i in steps]\n",
    "        ax.plot(steps, vals)\n",
    "        ax.set_ylabel(par, fontsize=12);\n",
    "#plt.savefig('../results/mcmc/chains_J1672_N10000.png', dpi=300)"
   ]
  },
  {
   "cell_type": "raw",
   "metadata": {
    "collapsed": true,
    "deletable": true,
    "editable": true
   },
   "source": [
    "pltsamples = samples[:, :, :].reshape((-1, len(samples[0][0])))"
   ]
  },
  {
   "cell_type": "raw",
   "metadata": {
    "collapsed": true,
    "deletable": true,
    "editable": true
   },
   "source": [
    "L = -lnprobs.reshape(-1)\n",
    "Lmin = min(L)\n",
    "indLmin = np.where( L==Lmin )[0][-1]\n",
    "for p,par in enumerate(['r', 'a']):\n",
    "    exec( \"emc_{} = np.asarray([pltsamples[i][p] for i in range(len(pltsamples))])\".format(par) )\n",
    "    exec( '{0}_min = emc_{0}[indLmin]'.format(par) )"
   ]
  },
  {
   "cell_type": "raw",
   "metadata": {
    "deletable": true,
    "editable": true
   },
   "source": [
    "import corner\n",
    "truep = [-0.55, 0.86]\n",
    "minp = [r_min, a_min]\n",
    "fig = corner.corner(pltsamples, labels=[\"$r$\", \"$a$\"], truths=truep)\n",
    "#plt.savefig('../results/mcmc/corner_Lra_J1672_N1000.png', dpi=300)"
   ]
  },
  {
   "cell_type": "raw",
   "metadata": {
    "deletable": true,
    "editable": true
   },
   "source": [
    "fig, axes = plt.subplots(nrows=1, ncols=2, figsize=(10,6), sharey=True)\n",
    "for i,(par, ax) in enumerate(zip(['r', 'a'], axes.flat)):\n",
    "    ax.plot( eval('emc_{}'.format(par)), L, 'bo', alpha=0.2  );\n",
    "    exec( 'parmin = {}_min'.format(par) )\n",
    "    ax.plot( parmin, Lmin, 'r*', ms=10, label= '%s = %.2f'%(par, parmin) );\n",
    "    ax.vlines(x=truep[i], ymin=0, ymax=2000, label='true params: %.2f'%truep[i]);\n",
    "    \n",
    "    ax.plot( eval('bf_{}_arr'.format(par)), eval('bf_L{}_arr'.format(par)), c='r' )\n",
    "    ax.set_xlabel(par);\n",
    "    if i%2 == 0: \n",
    "        ax.set_ylabel('logLike', fontsize=12)\n",
    "    ax.set_ylim(1194, 1210);\n",
    "    ax.legend(numpoints=1, loc='upper right');\n",
    "#plt.tight_layout()\n",
    "plt.suptitle(r'MCMC scan vs true -loglike for r$_0$ and $a$ free', fontsize=14);\n",
    "#plt.savefig('../results/mcmc/Lra100.png', dpi=300);"
   ]
  },
  {
   "cell_type": "markdown",
   "metadata": {
    "deletable": true,
    "editable": true
   },
   "source": [
    "# PyMC"
   ]
  },
  {
   "cell_type": "raw",
   "metadata": {
    "collapsed": true,
    "deletable": true,
    "editable": true
   },
   "source": [
    "L, a, b, c, r = np.load('../results/mcmc/MCtest_1e4.npy')"
   ]
  },
  {
   "cell_type": "raw",
   "metadata": {
    "deletable": true,
    "editable": true
   },
   "source": [
    "Lnan = np.logical_or(np.isnan(L), np.isinf(L))\n",
    "for par in ['L', 'a', 'b', 'c', 'r']:\n",
    "    exec( \"{p} = {p}[~Lnan]\".format(p=par) )"
   ]
  },
  {
   "cell_type": "raw",
   "metadata": {
    "collapsed": true,
    "deletable": true,
    "editable": true
   },
   "source": [
    "sortL = np.argsort(L)[::-1]\n",
    "for par in ['L', 'a', 'b', 'c', 'r']:\n",
    "    exec( \"{p} = {p}[sortL]\".format(p=par) )\n",
    "\n",
    "indLmin = np.where( L==min(L) )[0]\n",
    "Lmin = L[indLmin][0]\n",
    "\n",
    "cutL = L < int(Lmin)+20\n",
    "for par in ['L', 'a', 'b', 'c', 'r']:\n",
    "    exec( \"{p} = {p}[cutL]\".format(p=par) )\n",
    "indLmin = np.where( L==min(L) )[0][0]"
   ]
  },
  {
   "cell_type": "raw",
   "metadata": {
    "deletable": true,
    "editable": true
   },
   "source": [
    "cm = plt.cm.get_cmap('RdYlBu')\n",
    "pairs = [('a','b'), ('a','c'), ('a','r'), ('b','c'), ('b','r'), ('c','r')]\n",
    "fig, axes = plt.subplots(nrows=2, ncols=3, figsize=(15,7))\n",
    "for dat, ax in zip(pairs, axes.flat):\n",
    "    # The vmin and vmax arguments specify the color limits\n",
    "    exec('xvalues = {}'.format(dat[0]) )\n",
    "    exec('yvalues = {}'.format(dat[1]) )\n",
    "    sc = ax.scatter( xvalues, yvalues, c=L-min(L), cmap=cm, lw=0 );\n",
    "    ax.set_xlabel(dat[0], fontsize=12);\n",
    "    ax.set_ylabel(dat[1], fontsize=12);\n",
    "    cax = fig.add_axes([0.91, 0.1, 0.02, 0.8])\n",
    "    cbar = fig.colorbar(sc, cax=cax);\n",
    "    cbar.ax.set_ylabel('- log Likelihood', fontsize=14)\n",
    "#plt.savefig('results/Like_Mc_scatterplots.png', dpi=300, format='png');"
   ]
  },
  {
   "cell_type": "raw",
   "metadata": {
    "deletable": true,
    "editable": true
   },
   "source": [
    "from mpl_toolkits.mplot3d import Axes3D\n",
    "cm = plt.cm.get_cmap('RdYlBu')\n",
    "pairs = [('a','b','c'), ('a','b','r'), ('b','c','r'), ('a','c','r')]\n",
    "fig = plt.figure(figsize=(15,7))\n",
    "for d,dat in enumerate(pairs):\n",
    "    # The vmin and vmax arguments specify the color limits\n",
    "    exec('xvalues = {}'.format(dat[0]) )\n",
    "    exec('yvalues = {}'.format(dat[1]) )\n",
    "    exec('zvalues = {}'.format(dat[2]) )\n",
    "    ax = fig.add_subplot(1, 4, d+1, projection='3d')\n",
    "    sc = ax.scatter( xvalues, yvalues, zvalues, c=L-min(L), cmap=cm, lw=0 );\n",
    "    ax.set_xlabel(dat[0], fontsize=12);\n",
    "    ax.set_ylabel(dat[1], fontsize=12);\n",
    "    ax.set_zlabel(dat[2], fontsize=12);\n",
    "    cax = fig.add_axes([0.91, 0.1, 0.02, 0.7])\n",
    "    cbar = fig.colorbar(sc, cax=cax);\n",
    "    cbar.ax.set_ylabel('- log Likelihood', fontsize=14)\n",
    "#plt.savefig('results/Like_Mc_3Dscatterplots.png', dpi=300, format='png');"
   ]
  },
  {
   "cell_type": "raw",
   "metadata": {
    "deletable": true,
    "editable": true
   },
   "source": [
    "fig = plt.figure(figsize=(8,8))\n",
    "for i,par in enumerate(['a', 'b', 'c', 'r']):\n",
    "    ax = fig.add_subplot(2,2,i+1)\n",
    "    ax.plot( eval('{}'.format(par)), L, 'bo', alpha=0.2  );\n",
    "    exec( 'parmin = {}[indLmin]'.format(par) )\n",
    "    ax.plot( parmin, Lmin, 'r*', ms=10, label= '%s = %.2f'%(par, parmin) );\n",
    "    ax.set_xlabel(par);\n",
    "    if i%2 == 0: \n",
    "        ax.set_ylabel('- logLike')\n",
    "    ax.set_ylim(1190, 1220);\n",
    "    ax.legend(numpoints=1);\n",
    "plt.suptitle('J = 16 , 10000 points', fontsize=14);\n",
    "#plt.savefig('../results/mcmc/Like_Mc10000_16_zoom.png', dpi=300, format='png');"
   ]
  },
  {
   "cell_type": "raw",
   "metadata": {
    "deletable": true,
    "editable": true
   },
   "source": [
    "samples = np.array([a, b, c, r]).T\n",
    "from corner import corner\n",
    "tmp = corner(samples, labels=['a', 'b', 'c', 'r'], color='red',\n",
    "            truths=[a[indLmin], b[indLmin], c[indLmin], r[indLmin]])\n",
    "plt.suptitle('corner plots J = 16 , 10000 points', fontsize=14);\n",
    "#plt.savefig('../results/mcmc/corner_J16_1e4_zoom.png', dpi=300);"
   ]
  },
  {
   "cell_type": "markdown",
   "metadata": {
    "deletable": true,
    "editable": true
   },
   "source": [
    "## determination of smoothing order via Leave-one-out cross-validation"
   ]
  },
  {
   "cell_type": "raw",
   "metadata": {
    "collapsed": true,
    "deletable": true,
    "editable": true
   },
   "source": [
    "LOOCV = LeaveOneOut()\n",
    "smoothing = range(10,101)\n",
    "\n",
    "RSS = []\n",
    "for s in smoothing:\n",
    "    score = []\n",
    "    for train, test in LOOCV.split(J, L):\n",
    "        spline_L = spline(J[train], L[train], s=s)\n",
    "        score.append( (J[test] - spline_L(J[test]))**2 )\n",
    "    RSS.append( sum(score) )\n",
    "\n",
    "mins = np.where( RSS==min(RSS) )[0][0]\n",
    "\n",
    "def rss(s, X, Y):\n",
    "    score = 0\n",
    "    for train, test in LOOCV.split(X, Y):\n",
    "        spl = spline(X[train], Y[train], s=s)\n",
    "        score += (X[test] - spl(X[test]))**2\n",
    "    return score"
   ]
  },
  {
   "cell_type": "raw",
   "metadata": {
    "deletable": true,
    "editable": true
   },
   "source": [
    "plt.plot(smoothing, RSS);\n",
    "plt.plot(smoothing[mins], RSS[mins], 'r*', ms=8);"
   ]
  },
  {
   "cell_type": "raw",
   "metadata": {
    "deletable": true,
    "editable": true
   },
   "source": [
    "#s = smoothing[mins]\n",
    "s = res\n",
    "linear_L = interp(J, L)\n",
    "spline_L = spline(J, L, s=s)\n",
    "\n",
    "eval_Like_J = np.linspace(min(J), max(J), 1e3)\n",
    "min_Like_J = spline_L(eval_Like_J).min()\n",
    "Jmin = eval_Like_J[ np.where( spline_L(eval_Like_J) == min_Like_J )[0][0] ]\n",
    "J_plt = np.linspace(min(J),max(J))"
   ]
  },
  {
   "cell_type": "raw",
   "metadata": {
    "deletable": true,
    "editable": true
   },
   "source": [
    "for par in ['a', 'b', 'c', 'r']:\n",
    "    exec( 'pars = fmin(rss, x0=70, args=(J,{}))'.format(par))\n",
    "    exec( 'spl_{par} = spline(J, {par}, s=pars)'.format(par=par))\n",
    "    exec( 'J{0} = float(spl_{0}(Jmin))'.format(par) )\n",
    "\n",
    "print 'r = %.2f, a = %.2f, b = %.2f, c = %.2f'%(Jr, Ja, Jb, Jc)"
   ]
  },
  {
   "cell_type": "raw",
   "metadata": {
    "deletable": true,
    "editable": true
   },
   "source": [
    "fig = plt.figure(figsize=(8,8))\n",
    "for i,p in enumerate(['a', 'b', 'c', 'r']):\n",
    "    ax = fig.add_subplot(2,2,i+1)\n",
    "    ax.plot(J, eval( '{}'.format(p) ) );\n",
    "    ax.plot(J, eval( 'spl_{}(J)'.format(p) ) );\n",
    "    ax.set_title(p, fontsize=14);"
   ]
  },
  {
   "cell_type": "raw",
   "metadata": {
    "deletable": true,
    "editable": true
   },
   "source": [
    "fig = plt.figure(figsize=(8,8))\n",
    "for i,par in enumerate(['a', 'b', 'c', 'r']):\n",
    "    #exec( 'interp_L{0} = spline({0}, L, s=500)'.format(par))\n",
    "    ax = fig.add_subplot(2,2,i+1)\n",
    "    #ax.plot(eval('{}'.format(par)), eval( 'interp_L{0}({0})'.format(par) ) );\n",
    "    ax.plot(eval('{}'.format(par)), L, 'bo', alpha=0.6  );\n",
    "    ax.plot(eval('J{}'.format(par)), min(L), 'r*', ms=10 );\n",
    "    ax.set_xlabel(par);\n",
    "#plt.savefig('results/Like_Mc_abcr_100p_dots.png', dpi=300, format='png');"
   ]
  },
  {
   "cell_type": "raw",
   "metadata": {
    "collapsed": true,
    "deletable": true,
    "editable": true
   },
   "source": [
    "for i,c in enumerate([0.5,2.0,4.5]):\n",
    "    exec('J%ssL = %.2f'%(i+1, brentq(lambda j : spline_L(j)-spline_L(J).min()-c, min(J), Jmin) - Jmin))\n",
    "    exec('J%ssR = %.2f'%(i+1, brentq(lambda j : spline_L(j)-spline_L(J).min()-c, Jmin, max(J)) - Jmin))"
   ]
  },
  {
   "cell_type": "raw",
   "metadata": {
    "deletable": true,
    "editable": true
   },
   "source": [
    "lin = linear_L(J)\n",
    "spl = spline_L(J)\n",
    "plt.plot(J, L-L.min(), 'ro', ms=5);\n",
    "#plt.plot(J, lin-lin.min(), 'bo', ms=5);\n",
    "plt.plot(J, spl-spl.min(), 'g', lw=2);\n",
    "\n",
    "plt.hlines(0, min(J), max(J), linestyles='dashed')\n",
    "plt.plot(Jmin, 0, 'b^', markersize=10, label=r'$\\mathcal{J}_{MLE}$ = %.2f'%Jmin)\n",
    "plt.plot(16.72, 0, 'rd', markersize=6, label=r'$\\mathcal{J}_{TRUE}$ = 16.72')\n",
    "for i,(c,h) in enumerate(zip(['r','g','c'],[0.5,2.0,4.5])):\n",
    "    JL, JR = eval('J%ssL'%str(i+1)), eval('J%ssR'%str(i+1))\n",
    "    plt.hlines(h, J_plt.min(), J_plt.max(), linestyles='dashed', colors=c,\n",
    "              label=r'$%i-\\sigma$'%(i+1)+'\\t'+'[%2s,%2s]'%(str(JL),str(JR)))\n",
    "plt.legend(numpoints=1,fontsize=14).get_frame().set_facecolor('w')\n",
    "plt.text(15.5, 8,'a = %.2f (1)'%Ja +'\\n'+\n",
    "                 'b = %.2f (3)'%Jb +'\\n'+\n",
    "                 'c = %.2f (1)'%Jc +'\\n'+\n",
    "                 r'$r_s$ = %.2f (0.35)'%Jr)\n",
    "\n",
    "plt.ylim(-0.5,12);\n",
    "plt.suptitle(\"Mcmc, 100 Js, 10000 Mc points, s=%i\"%s);\n",
    "#plt.savefig('results/LikeJ_Mc10000_rabc_100p_CVs.png',format='png',dpi=300);"
   ]
  },
  {
   "cell_type": "raw",
   "metadata": {
    "collapsed": true,
    "deletable": true,
    "editable": true
   },
   "source": [
    "from scipy.stats import binned_statistic\n",
    "\n",
    "Lmins = binned_statistic(J, L, statistic='min', bins=20)[0]\n",
    "\n",
    "indxmins = np.where( [L==lm for lm in Lmins] )[1]\n",
    "\n",
    "RSS = []\n",
    "for s in smoothing:\n",
    "    score = []\n",
    "    for train, test in LOOCV.split(J[indxmins], L[indxmins]):\n",
    "        spline_L = spline(J[train], L[train], s=s)\n",
    "        score.append( (J[test] - spline_L(J[test]))**2 )\n",
    "    RSS.append( sum(score) )\n",
    "\n",
    "mins = np.where( RSS==min(RSS) )[0][0]\n",
    "\n",
    "plt.plot(smoothing, RSS);\n",
    "plt.plot(smoothing[mins], RSS[mins], 'r*', ms=8);"
   ]
  },
  {
   "cell_type": "raw",
   "metadata": {
    "deletable": true,
    "editable": true
   },
   "source": [
    "spline_mins = spline(J[indxmins], L[indxmins], s=smoothing[mins])\n",
    "splminsL = spline_mins( J[indxmins] )\n",
    "plt.plot(J[indxmins], L[indxmins]-min(L[indxmins]), label='L bins minima' );\n",
    "plt.plot(J[indxmins], splminsL-min(splminsL), label='spline s=%g'%smoothing[mins] );\n",
    "plt.legend();\n",
    "#plt.savefig('results/envelope.png', dpi=300, format='png');"
   ]
  },
  {
   "cell_type": "raw",
   "metadata": {
    "collapsed": true,
    "deletable": true,
    "editable": true
   },
   "source": [
    "min_splnmins = spline_mins(eval_Like_J).min()\n",
    "Jminspl = eval_Like_J[ np.where( spline_mins(eval_Like_J) == min_splnmins )[0][0] ]"
   ]
  },
  {
   "cell_type": "raw",
   "metadata": {
    "deletable": true,
    "editable": true
   },
   "source": [
    "splmins = spline_mins(J)\n",
    "plt.plot(J, L-L.min(), 'ro', ms=5);\n",
    "#plt.plot(J, lin-min(lin), 'bo', ms=5);\n",
    "plt.plot(J, spl-min(spl), 'b', lw=1);\n",
    "plt.plot(J, splmins-min(splmins), 'g', lw=2);\n",
    "\n",
    "plt.hlines(0, min(J), max(J), linestyles='dashed')\n",
    "plt.plot(Jmin, 0, 'bd', markersize=10, label=r'$\\mathcal{J}_{MLE}$ = %.2f'%Jmin)\n",
    "plt.plot(Jminspl, 0, 'gd', markersize=10, label=r'$\\mathcal{J}_{MLE}$ = %.2f'%Jminspl)\n",
    "plt.plot(16.72, 0, 'rd', markersize=10, label=r'$\\mathcal{J}_{TRUE}$ = 16.72')\n",
    "for i,(c,h) in enumerate(zip(['r','g','c'],[0.5,2.0,4.5])):\n",
    "    JL, JR = eval('J%ssL'%str(i+1)), eval('J%ssR'%str(i+1))\n",
    "    plt.hlines(h, J_plt.min(), J_plt.max(), linestyles='dashed', colors=c,)\n",
    "              #label=r'$%i-\\sigma$'%(i+1)+'\\t'+'[%2s,%2s]'%(str(JL),str(JR)))\n",
    "plt.legend(numpoints=1,fontsize=14).get_frame().set_facecolor('w')\n",
    "'''plt.text(15.5, 8,'a = %.2f (1)'%Ja +'\\n'+\n",
    "                 'b = %.2f (3)'%Jb +'\\n'+\n",
    "                 'c = %.2f (1)'%Jc +'\\n'+\n",
    "                 r'$r_s$ = %.2f (0.35)'%Jr)\n",
    "'''\n",
    "plt.ylim(-0.5,12);\n",
    "plt.suptitle(\"Mcmc, 100 Js, 10000 Mc points, s=%i\"%res);\n",
    "#plt.savefig('results/LikeJ_Mc_envelope2.png',format='png',dpi=300);"
   ]
  },
  {
   "cell_type": "raw",
   "metadata": {
    "deletable": true,
    "editable": true
   },
   "source": [
    "## plotting the true likelihood curve"
   ]
  },
  {
   "cell_type": "raw",
   "metadata": {
    "collapsed": true,
    "deletable": true,
    "editable": true
   },
   "source": [
    "Jtrue, Ltrue = np.load('results/trueLikeJ.npy')"
   ]
  },
  {
   "cell_type": "raw",
   "metadata": {
    "deletable": true,
    "editable": true
   },
   "source": [
    "plt.plot(Jmc, Lmc-min(Lmc), 'bo', ms=5, label='MCMC');\n",
    "plt.plot(Jmi, Lmi-min(Lmi), 'rd', ms=5, label='Minuit');\n",
    "plt.plot(Jtrue, Ltrue-min(Ltrue), 'g', label='true Like J');\n",
    "\n",
    "plt.hlines(0, min(J), max(J), linestyles='dashed')\n",
    "plt.plot(16.72, 0, 'yd', markersize=8, label=r'$\\mathcal{J}_{TRUE}$ = 16.72')\n",
    "\n",
    "plt.legend(numpoints=1);\n",
    "plt.ylim(-0.5,12);\n",
    "#plt.savefig('results/LikeJ_comparison_wl.png',format='png',dpi=300);"
   ]
  },
  {
   "cell_type": "markdown",
   "metadata": {
    "deletable": true,
    "editable": true
   },
   "source": [
    "# Minuit"
   ]
  },
  {
   "cell_type": "raw",
   "metadata": {
    "collapsed": true,
    "deletable": true,
    "editable": true
   },
   "source": [
    "J, L, a, b, c, r = np.load('../results/Minuit.npy')\n",
    "linear_L = interp(J, L)"
   ]
  },
  {
   "cell_type": "raw",
   "metadata": {
    "deletable": true,
    "editable": true
   },
   "source": [
    "#cell needed to extract the results from the log file\n",
    "with open('../results/logmin.txt') as f:\n",
    "    log = f.readlines()\n",
    "\n",
    "L_min = []; J_min = []; a_min = []; b_min = []; c_min = []; r_min = []\n",
    "\n",
    "for i in range(len(log)):\n",
    "    if log[i].startswith('|          Valid |'):\n",
    "        if eval(log[i+2].split()[1]) and not eval(log[i+6].split()[5]):\n",
    "            L_min.append( float(log[i-3].split()[2]) )\n",
    "            for j,par in zip(range(12,16), ['a', 'b', 'J', 'c', 'r']):\n",
    "                exec( '{}_min.append( float(log[i+j].split()[5]) )'.format(par) )\n",
    "\n",
    "J_min = np.asarray(J_min)\n",
    "L_min = np.asarray(L_min)"
   ]
  },
  {
   "cell_type": "raw",
   "metadata": {
    "deletable": true,
    "editable": true
   },
   "source": [
    "plt.plot(J, L-min(L));\n",
    "plt.ylim(-0.5, 12);"
   ]
  },
  {
   "cell_type": "raw",
   "metadata": {
    "collapsed": true,
    "deletable": true,
    "editable": true
   },
   "source": [
    "eval_Like_J = np.linspace(J.min(), J.max(), 100)\n",
    "min_Like_J = linear_L(eval_Like_J).min()\n",
    "Jmin = eval_Like_J[ np.where( linear_L(eval_Like_J) == min_Like_J )[0][0] ]"
   ]
  },
  {
   "cell_type": "raw",
   "metadata": {
    "collapsed": true,
    "deletable": true,
    "editable": true
   },
   "source": [
    "for par in ['a', 'b', 'c', 'r']:\n",
    "    exec( 'spl_{par} = interp(J, {par})'.format(par=par))\n",
    "    exec( 'J{0} = float(spl_{0}(Jmin))'.format(par) )"
   ]
  },
  {
   "cell_type": "raw",
   "metadata": {
    "collapsed": true,
    "deletable": true,
    "editable": true
   },
   "source": [
    "for i,c in enumerate([0.5,2.0,4.5]):\n",
    "    exec('J%ssL = %.2f'%(i+1, brentq(lambda j : linear_L(j)-linear_L(J).min()-c, J.min(), Jmin) - Jmin))\n",
    "    exec('J%ssR = %.2f'%(i+1, brentq(lambda j : linear_L(j)-linear_L(J).min()-c, Jmin, J.max()) - Jmin))"
   ]
  },
  {
   "cell_type": "raw",
   "metadata": {
    "deletable": true,
    "editable": true
   },
   "source": [
    "lin = linear_L(J)\n",
    "plt.plot(J, lin-lin.min(), 'b');\n",
    "\n",
    "plt.hlines(0, J.min(), J.max(), linestyles='dashed')\n",
    "plt.plot(Jmin, 0, 'b^', markersize=10, label=r'$\\mathcal{J}_{MLE}$ = %.2f'%Jmin)\n",
    "plt.plot(16.72, 0, 'rd', markersize=6, label=r'$\\mathcal{J}_{TRUE}$ = 16.72')\n",
    "for i,(c,h) in enumerate(zip(['r','g','c'],[0.5,2.0,4.5])):\n",
    "    JL, JR = eval('J%ssL'%str(i+1)), eval('J%ssR'%str(i+1))\n",
    "    plt.hlines(h, J.min(), J.max(), linestyles='dashed', colors=c,\n",
    "              label=r'$%i-\\sigma$'%(i+1)+'\\t'+'[%2s,%2s]'%(str(JL),str(JR)))\n",
    "plt.legend(numpoints=1,fontsize=14).get_frame().set_facecolor('w')\n",
    "plt.text(15.7, 8,'a = %.2f (1)'%Ja +'\\n'+\n",
    "                 'b = %.2f (3)'%Jb +'\\n'+\n",
    "                 'c = %.2f (1)'%Jc +'\\n'+\n",
    "                 r'$r_s$ = %.2f (0.35)'%Jr)\n",
    "\n",
    "plt.ylim(-0.5,12);\n",
    "plt.xlim(15, 19);\n",
    "plt.suptitle('Minuit, 100 Js, True initial guesses');\n",
    "#plt.savefig('results/LikeJ_Min_rabc_100p_Tini_lin.png',format='png',dpi=300);"
   ]
  }
 ],
 "metadata": {
  "anaconda-cloud": {},
  "kernelspec": {
   "display_name": "Python 2",
   "language": "python",
   "name": "python2"
  },
  "language_info": {
   "codemirror_mode": {
    "name": "ipython",
    "version": 2
   },
   "file_extension": ".py",
   "mimetype": "text/x-python",
   "name": "python",
   "nbconvert_exporter": "python",
   "pygments_lexer": "ipython2",
   "version": "2.7.12"
  }
 },
 "nbformat": 4,
 "nbformat_minor": 1
}
