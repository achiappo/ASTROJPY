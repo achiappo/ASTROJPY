{
 "cells": [
  {
   "cell_type": "markdown",
   "metadata": {},
   "source": [
    "# PyMC"
   ]
  },
  {
   "cell_type": "raw",
   "metadata": {
    "collapsed": true
   },
   "source": [
    "L, a, b, c, r = np.load('../results/mcmc/MCtest_1e4.npy')"
   ]
  },
  {
   "cell_type": "raw",
   "metadata": {},
   "source": [
    "Lnan = np.logical_or(np.isnan(L), np.isinf(L))\n",
    "for par in ['L', 'a', 'b', 'c', 'r']:\n",
    "    exec( \"{p} = {p}[~Lnan]\".format(p=par) )"
   ]
  },
  {
   "cell_type": "raw",
   "metadata": {
    "collapsed": true
   },
   "source": [
    "sortL = np.argsort(L)[::-1]\n",
    "for par in ['L', 'a', 'b', 'c', 'r']:\n",
    "    exec( \"{p} = {p}[sortL]\".format(p=par) )\n",
    "\n",
    "indLmin = np.where( L==min(L) )[0]\n",
    "Lmin = L[indLmin][0]\n",
    "\n",
    "cutL = L < int(Lmin)+20\n",
    "for par in ['L', 'a', 'b', 'c', 'r']:\n",
    "    exec( \"{p} = {p}[cutL]\".format(p=par) )\n",
    "indLmin = np.where( L==min(L) )[0][0]"
   ]
  },
  {
   "cell_type": "raw",
   "metadata": {},
   "source": [
    "cm = plt.cm.get_cmap('RdYlBu')\n",
    "pairs = [('a','b'), ('a','c'), ('a','r'), ('b','c'), ('b','r'), ('c','r')]\n",
    "fig, axes = plt.subplots(nrows=2, ncols=3, figsize=(15,7))\n",
    "for dat, ax in zip(pairs, axes.flat):\n",
    "    # The vmin and vmax arguments specify the color limits\n",
    "    exec('xvalues = {}'.format(dat[0]) )\n",
    "    exec('yvalues = {}'.format(dat[1]) )\n",
    "    sc = ax.scatter( xvalues, yvalues, c=L-min(L), cmap=cm, lw=0 );\n",
    "    ax.set_xlabel(dat[0], fontsize=12);\n",
    "    ax.set_ylabel(dat[1], fontsize=12);\n",
    "    cax = fig.add_axes([0.91, 0.1, 0.02, 0.8])\n",
    "    cbar = fig.colorbar(sc, cax=cax);\n",
    "    cbar.ax.set_ylabel('- log Likelihood', fontsize=14)\n",
    "#plt.savefig('results/Like_Mc_scatterplots.png', dpi=300, format='png');"
   ]
  },
  {
   "cell_type": "raw",
   "metadata": {},
   "source": [
    "from mpl_toolkits.mplot3d import Axes3D\n",
    "cm = plt.cm.get_cmap('RdYlBu')\n",
    "pairs = [('a','b','c'), ('a','b','r'), ('b','c','r'), ('a','c','r')]\n",
    "fig = plt.figure(figsize=(15,7))\n",
    "for d,dat in enumerate(pairs):\n",
    "    # The vmin and vmax arguments specify the color limits\n",
    "    exec('xvalues = {}'.format(dat[0]) )\n",
    "    exec('yvalues = {}'.format(dat[1]) )\n",
    "    exec('zvalues = {}'.format(dat[2]) )\n",
    "    ax = fig.add_subplot(1, 4, d+1, projection='3d')\n",
    "    sc = ax.scatter( xvalues, yvalues, zvalues, c=L-min(L), cmap=cm, lw=0 );\n",
    "    ax.set_xlabel(dat[0], fontsize=12);\n",
    "    ax.set_ylabel(dat[1], fontsize=12);\n",
    "    ax.set_zlabel(dat[2], fontsize=12);\n",
    "    cax = fig.add_axes([0.91, 0.1, 0.02, 0.7])\n",
    "    cbar = fig.colorbar(sc, cax=cax);\n",
    "    cbar.ax.set_ylabel('- log Likelihood', fontsize=14)\n",
    "#plt.savefig('results/Like_Mc_3Dscatterplots.png', dpi=300, format='png');"
   ]
  },
  {
   "cell_type": "raw",
   "metadata": {},
   "source": [
    "fig = plt.figure(figsize=(8,8))\n",
    "for i,par in enumerate(['a', 'b', 'c', 'r']):\n",
    "    ax = fig.add_subplot(2,2,i+1)\n",
    "    ax.plot( eval('{}'.format(par)), L, 'bo', alpha=0.2  );\n",
    "    exec( 'parmin = {}[indLmin]'.format(par) )\n",
    "    ax.plot( parmin, Lmin, 'r*', ms=10, label= '%s = %.2f'%(par, parmin) );\n",
    "    ax.set_xlabel(par);\n",
    "    if i%2 == 0: \n",
    "        ax.set_ylabel('- logLike')\n",
    "    ax.set_ylim(1190, 1220);\n",
    "    ax.legend(numpoints=1);\n",
    "plt.suptitle('J = 16 , 10000 points', fontsize=14);\n",
    "#plt.savefig('../results/mcmc/Like_Mc10000_16_zoom.png', dpi=300, format='png');"
   ]
  },
  {
   "cell_type": "raw",
   "metadata": {},
   "source": [
    "samples = np.array([a, b, c, r]).T\n",
    "from corner import corner\n",
    "tmp = corner(samples, labels=['a', 'b', 'c', 'r'], color='red',\n",
    "            truths=[a[indLmin], b[indLmin], c[indLmin], r[indLmin]])\n",
    "plt.suptitle('corner plots J = 16 , 10000 points', fontsize=14);\n",
    "#plt.savefig('../results/mcmc/corner_J16_1e4_zoom.png', dpi=300);"
   ]
  },
  {
   "cell_type": "markdown",
   "metadata": {},
   "source": [
    "## determination of smoothing order via Leave-one-out cross-validation"
   ]
  },
  {
   "cell_type": "raw",
   "metadata": {
    "collapsed": true
   },
   "source": [
    "LOOCV = LeaveOneOut()\n",
    "smoothing = range(10,101)\n",
    "\n",
    "RSS = []\n",
    "for s in smoothing:\n",
    "    score = []\n",
    "    for train, test in LOOCV.split(J, L):\n",
    "        spline_L = spline(J[train], L[train], s=s)\n",
    "        score.append( (J[test] - spline_L(J[test]))**2 )\n",
    "    RSS.append( sum(score) )\n",
    "\n",
    "mins = np.where( RSS==min(RSS) )[0][0]\n",
    "\n",
    "def rss(s, X, Y):\n",
    "    score = 0\n",
    "    for train, test in LOOCV.split(X, Y):\n",
    "        spl = spline(X[train], Y[train], s=s)\n",
    "        score += (X[test] - spl(X[test]))**2\n",
    "    return score"
   ]
  },
  {
   "cell_type": "raw",
   "metadata": {},
   "source": [
    "plt.plot(smoothing, RSS);\n",
    "plt.plot(smoothing[mins], RSS[mins], 'r*', ms=8);"
   ]
  },
  {
   "cell_type": "raw",
   "metadata": {},
   "source": [
    "#s = smoothing[mins]\n",
    "s = res\n",
    "linear_L = interp(J, L)\n",
    "spline_L = spline(J, L, s=s)\n",
    "\n",
    "eval_Like_J = np.linspace(min(J), max(J), 1e3)\n",
    "min_Like_J = spline_L(eval_Like_J).min()\n",
    "Jmin = eval_Like_J[ np.where( spline_L(eval_Like_J) == min_Like_J )[0][0] ]\n",
    "J_plt = np.linspace(min(J),max(J))"
   ]
  },
  {
   "cell_type": "raw",
   "metadata": {},
   "source": [
    "for par in ['a', 'b', 'c', 'r']:\n",
    "    exec( 'pars = fmin(rss, x0=70, args=(J,{}))'.format(par))\n",
    "    exec( 'spl_{par} = spline(J, {par}, s=pars)'.format(par=par))\n",
    "    exec( 'J{0} = float(spl_{0}(Jmin))'.format(par) )\n",
    "\n",
    "print 'r = %.2f, a = %.2f, b = %.2f, c = %.2f'%(Jr, Ja, Jb, Jc)"
   ]
  },
  {
   "cell_type": "raw",
   "metadata": {},
   "source": [
    "fig = plt.figure(figsize=(8,8))\n",
    "for i,p in enumerate(['a', 'b', 'c', 'r']):\n",
    "    ax = fig.add_subplot(2,2,i+1)\n",
    "    ax.plot(J, eval( '{}'.format(p) ) );\n",
    "    ax.plot(J, eval( 'spl_{}(J)'.format(p) ) );\n",
    "    ax.set_title(p, fontsize=14);"
   ]
  },
  {
   "cell_type": "raw",
   "metadata": {},
   "source": [
    "fig = plt.figure(figsize=(8,8))\n",
    "for i,par in enumerate(['a', 'b', 'c', 'r']):\n",
    "    #exec( 'interp_L{0} = spline({0}, L, s=500)'.format(par))\n",
    "    ax = fig.add_subplot(2,2,i+1)\n",
    "    #ax.plot(eval('{}'.format(par)), eval( 'interp_L{0}({0})'.format(par) ) );\n",
    "    ax.plot(eval('{}'.format(par)), L, 'bo', alpha=0.6  );\n",
    "    ax.plot(eval('J{}'.format(par)), min(L), 'r*', ms=10 );\n",
    "    ax.set_xlabel(par);\n",
    "#plt.savefig('results/Like_Mc_abcr_100p_dots.png', dpi=300, format='png');"
   ]
  },
  {
   "cell_type": "raw",
   "metadata": {
    "collapsed": true
   },
   "source": [
    "for i,c in enumerate([0.5,2.0,4.5]):\n",
    "    exec('J%ssL = %.2f'%(i+1, brentq(lambda j : spline_L(j)-spline_L(J).min()-c, min(J), Jmin) - Jmin))\n",
    "    exec('J%ssR = %.2f'%(i+1, brentq(lambda j : spline_L(j)-spline_L(J).min()-c, Jmin, max(J)) - Jmin))"
   ]
  },
  {
   "cell_type": "raw",
   "metadata": {},
   "source": [
    "lin = linear_L(J)\n",
    "spl = spline_L(J)\n",
    "plt.plot(J, L-L.min(), 'ro', ms=5);\n",
    "#plt.plot(J, lin-lin.min(), 'bo', ms=5);\n",
    "plt.plot(J, spl-spl.min(), 'g', lw=2);\n",
    "\n",
    "plt.hlines(0, min(J), max(J), linestyles='dashed')\n",
    "plt.plot(Jmin, 0, 'b^', markersize=10, label=r'$\\mathcal{J}_{MLE}$ = %.2f'%Jmin)\n",
    "plt.plot(16.72, 0, 'rd', markersize=6, label=r'$\\mathcal{J}_{TRUE}$ = 16.72')\n",
    "for i,(c,h) in enumerate(zip(['r','g','c'],[0.5,2.0,4.5])):\n",
    "    JL, JR = eval('J%ssL'%str(i+1)), eval('J%ssR'%str(i+1))\n",
    "    plt.hlines(h, J_plt.min(), J_plt.max(), linestyles='dashed', colors=c,\n",
    "              label=r'$%i-\\sigma$'%(i+1)+'\\t'+'[%2s,%2s]'%(str(JL),str(JR)))\n",
    "plt.legend(numpoints=1,fontsize=14).get_frame().set_facecolor('w')\n",
    "plt.text(15.5, 8,'a = %.2f (1)'%Ja +'\\n'+\n",
    "                 'b = %.2f (3)'%Jb +'\\n'+\n",
    "                 'c = %.2f (1)'%Jc +'\\n'+\n",
    "                 r'$r_s$ = %.2f (0.35)'%Jr)\n",
    "\n",
    "plt.ylim(-0.5,12);\n",
    "plt.suptitle(\"Mcmc, 100 Js, 10000 Mc points, s=%i\"%s);\n",
    "#plt.savefig('results/LikeJ_Mc10000_rabc_100p_CVs.png',format='png',dpi=300);"
   ]
  },
  {
   "cell_type": "raw",
   "metadata": {
    "collapsed": true
   },
   "source": [
    "from scipy.stats import binned_statistic\n",
    "\n",
    "Lmins = binned_statistic(J, L, statistic='min', bins=20)[0]\n",
    "\n",
    "indxmins = np.where( [L==lm for lm in Lmins] )[1]\n",
    "\n",
    "RSS = []\n",
    "for s in smoothing:\n",
    "    score = []\n",
    "    for train, test in LOOCV.split(J[indxmins], L[indxmins]):\n",
    "        spline_L = spline(J[train], L[train], s=s)\n",
    "        score.append( (J[test] - spline_L(J[test]))**2 )\n",
    "    RSS.append( sum(score) )\n",
    "\n",
    "mins = np.where( RSS==min(RSS) )[0][0]\n",
    "\n",
    "plt.plot(smoothing, RSS);\n",
    "plt.plot(smoothing[mins], RSS[mins], 'r*', ms=8);"
   ]
  },
  {
   "cell_type": "raw",
   "metadata": {},
   "source": [
    "spline_mins = spline(J[indxmins], L[indxmins], s=smoothing[mins])\n",
    "splminsL = spline_mins( J[indxmins] )\n",
    "plt.plot(J[indxmins], L[indxmins]-min(L[indxmins]), label='L bins minima' );\n",
    "plt.plot(J[indxmins], splminsL-min(splminsL), label='spline s=%g'%smoothing[mins] );\n",
    "plt.legend();\n",
    "#plt.savefig('results/envelope.png', dpi=300, format='png');"
   ]
  },
  {
   "cell_type": "raw",
   "metadata": {
    "collapsed": true
   },
   "source": [
    "min_splnmins = spline_mins(eval_Like_J).min()\n",
    "Jminspl = eval_Like_J[ np.where( spline_mins(eval_Like_J) == min_splnmins )[0][0] ]"
   ]
  },
  {
   "cell_type": "raw",
   "metadata": {},
   "source": [
    "splmins = spline_mins(J)\n",
    "plt.plot(J, L-L.min(), 'ro', ms=5);\n",
    "#plt.plot(J, lin-min(lin), 'bo', ms=5);\n",
    "plt.plot(J, spl-min(spl), 'b', lw=1);\n",
    "plt.plot(J, splmins-min(splmins), 'g', lw=2);\n",
    "\n",
    "plt.hlines(0, min(J), max(J), linestyles='dashed')\n",
    "plt.plot(Jmin, 0, 'bd', markersize=10, label=r'$\\mathcal{J}_{MLE}$ = %.2f'%Jmin)\n",
    "plt.plot(Jminspl, 0, 'gd', markersize=10, label=r'$\\mathcal{J}_{MLE}$ = %.2f'%Jminspl)\n",
    "plt.plot(16.72, 0, 'rd', markersize=10, label=r'$\\mathcal{J}_{TRUE}$ = 16.72')\n",
    "for i,(c,h) in enumerate(zip(['r','g','c'],[0.5,2.0,4.5])):\n",
    "    JL, JR = eval('J%ssL'%str(i+1)), eval('J%ssR'%str(i+1))\n",
    "    plt.hlines(h, J_plt.min(), J_plt.max(), linestyles='dashed', colors=c,)\n",
    "              #label=r'$%i-\\sigma$'%(i+1)+'\\t'+'[%2s,%2s]'%(str(JL),str(JR)))\n",
    "plt.legend(numpoints=1,fontsize=14).get_frame().set_facecolor('w')\n",
    "'''plt.text(15.5, 8,'a = %.2f (1)'%Ja +'\\n'+\n",
    "                 'b = %.2f (3)'%Jb +'\\n'+\n",
    "                 'c = %.2f (1)'%Jc +'\\n'+\n",
    "                 r'$r_s$ = %.2f (0.35)'%Jr)\n",
    "'''\n",
    "plt.ylim(-0.5,12);\n",
    "plt.suptitle(\"Mcmc, 100 Js, 10000 Mc points, s=%i\"%res);\n",
    "#plt.savefig('results/LikeJ_Mc_envelope2.png',format='png',dpi=300);"
   ]
  },
  {
   "cell_type": "raw",
   "metadata": {},
   "source": [
    "## plotting the true likelihood curve"
   ]
  },
  {
   "cell_type": "raw",
   "metadata": {
    "collapsed": true
   },
   "source": [
    "Jtrue, Ltrue = np.load('results/trueLikeJ.npy')"
   ]
  },
  {
   "cell_type": "raw",
   "metadata": {},
   "source": [
    "plt.plot(Jmc, Lmc-min(Lmc), 'bo', ms=5, label='MCMC');\n",
    "plt.plot(Jmi, Lmi-min(Lmi), 'rd', ms=5, label='Minuit');\n",
    "plt.plot(Jtrue, Ltrue-min(Ltrue), 'g', label='true Like J');\n",
    "\n",
    "plt.hlines(0, min(J), max(J), linestyles='dashed')\n",
    "plt.plot(16.72, 0, 'yd', markersize=8, label=r'$\\mathcal{J}_{TRUE}$ = 16.72')\n",
    "\n",
    "plt.legend(numpoints=1);\n",
    "plt.ylim(-0.5,12);\n",
    "#plt.savefig('results/LikeJ_comparison_wl.png',format='png',dpi=300);"
   ]
  }
 ],
 "metadata": {
  "anaconda-cloud": {},
  "kernelspec": {
   "display_name": "Python 2",
   "language": "python",
   "name": "python2"
  },
  "language_info": {
   "codemirror_mode": {
    "name": "ipython",
    "version": 2
   },
   "file_extension": ".py",
   "mimetype": "text/x-python",
   "name": "python",
   "nbconvert_exporter": "python",
   "pygments_lexer": "ipython2",
   "version": "2.7.6"
  }
 },
 "nbformat": 4,
 "nbformat_minor": 1
}
