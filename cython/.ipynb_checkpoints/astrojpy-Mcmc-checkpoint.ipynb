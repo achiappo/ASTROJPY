{
 "cells": [
  {
   "cell_type": "code",
   "execution_count": 1,
   "metadata": {
    "collapsed": false
   },
   "outputs": [],
   "source": [
    "import numpy as np\n",
    "from math import log10\n",
    "import pylab as plt\n",
    "from scipy.interpolate import interp1d as interp\n",
    "from scipy.optimize import brentq, minimize_scalar\n",
    "from profiles import build_profile, build_kernel\n",
    "from dispersion import SphericalJeansDispersion\n",
    "from likelihood import GaussianLikelihood\n",
    "from fitter import MinuitFitter\n",
    "\n",
    "%matplotlib inline"
   ]
  },
  {
   "cell_type": "code",
   "execution_count": 2,
   "metadata": {
    "collapsed": false
   },
   "outputs": [],
   "source": [
    "directory = '/home/andrea/Desktop/work/DWARF/dsphsim/'\n",
    "rh = 0.04\n",
    "D = 39.81\n",
    "theta = 2*rh/D"
   ]
  },
  {
   "cell_type": "code",
   "execution_count": 3,
   "metadata": {
    "collapsed": false
   },
   "outputs": [],
   "source": [
    "dm = build_profile('NFW')\n",
    "st = build_profile('plummer',**{'rh':rh}) # non-Plummer Stellar profile\n",
    "kr = build_kernel('iso') # isotropic kernel\n",
    "dwarf_props = {'D':D, 'theta':theta, 'rt':np.inf, 'with_errs':False}\n",
    "Sigma = SphericalJeansDispersion(dm, st, kr, dwarf_props)"
   ]
  },
  {
   "cell_type": "code",
   "execution_count": null,
   "metadata": {
    "collapsed": true
   },
   "outputs": [],
   "source": [
    "R, v = np.loadtxt(directory+'Ret2_data/dsph_001.txt',usecols=(5, 7),unpack=True)\n",
    "dv = np.zeros_like(v)"
   ]
  },
  {
   "cell_type": "code",
   "execution_count": 4,
   "metadata": {
    "collapsed": false
   },
   "outputs": [],
   "source": [
    "LL = GaussianLikelihood([R, v, dv, 0.], Sigma)\n",
    "LL.set_free('dm_r0')\n",
    "global global_loglike\n",
    "global_loglike = LL\n",
    "M = MinuitFitter(LL)"
   ]
  },
  {
   "cell_type": "code",
   "execution_count": 5,
   "metadata": {
    "collapsed": false
   },
   "outputs": [
    {
     "name": "stdout",
     "output_type": "stream",
     "text": [
      "rs = 0.35, rhos = 7.55e+07, J = 16.72\n"
     ]
    }
   ],
   "source": [
    "dm_true = build_profile('NFW')\n",
    "rvmax = 0.757\n",
    "vmax = 10.4\n",
    "rs = rvmax/2.163\n",
    "rhos = 4.625 * (vmax/rs)**2 / (4*np.pi*4.302e-6)\n",
    "dm_true.r0 = rs\n",
    "dm_true.rho0 = rhos\n",
    "Jtrue = log10(dm_true.Jfactor(**dwarf_props))\n",
    "print 'rs = %.2f, rhos = %.2e, J = %.2f'%(rs,rhos,Jtrue)"
   ]
  },
  {
   "cell_type": "code",
   "execution_count": 6,
   "metadata": {
    "collapsed": true
   },
   "outputs": [],
   "source": [
    "# J\n",
    "M.set_value('J',18)\n",
    "M.set_error('J',0.01)\n",
    "#M.set_fixed('J')\n",
    "#M.set_bound('J',(15,22))\n",
    "# r0\n",
    "M.set_value('dm_r0',rh*4.)\n",
    "M.set_error('dm_r0',0.01)\n",
    "#M.set_bound('dm_r0',(R.min(),R.max()*100))\n",
    "M.settings['print_level'] = 1"
   ]
  },
  {
   "cell_type": "code",
   "execution_count": 7,
   "metadata": {
    "collapsed": true
   },
   "outputs": [],
   "source": [
    "LL.set_free('dm_a')\n",
    "LL.set_free('dm_b')\n",
    "LL.set_free('dm_c')\n",
    "\n",
    "# a\n",
    "M.set_value('dm_a',1.)\n",
    "M.set_error('dm_a',0.01)\n",
    "#M.set_bound('dm_a',(1e-10,10))\n",
    "# b\n",
    "M.set_value('dm_b',3.)\n",
    "M.set_error('dm_b',0.01)\n",
    "#M.set_bound('dm_b',(1e-10,10))\n",
    "# c\n",
    "M.set_value('dm_c',1.)\n",
    "M.set_error('dm_c',0.01)\n",
    "#M.set_bound('dm_c',(1e-10,10))"
   ]
  },
  {
   "cell_type": "code",
   "execution_count": 8,
   "metadata": {
    "collapsed": false
   },
   "outputs": [
    {
     "data": {
      "text/plain": [
       "{'J': 18,\n",
       " 'dm_a': 1.0,\n",
       " 'dm_b': 3.0,\n",
       " 'dm_c': 1.0,\n",
       " 'dm_r0': 0.16,\n",
       " 'error_J': 0.01,\n",
       " 'error_dm_a': 0.01,\n",
       " 'error_dm_b': 0.01,\n",
       " 'error_dm_c': 0.01,\n",
       " 'error_dm_r0': 0.01,\n",
       " 'errordef': 0.5,\n",
       " 'pedantic': False,\n",
       " 'print_level': 1}"
      ]
     },
     "execution_count": 8,
     "metadata": {},
     "output_type": "execute_result"
    }
   ],
   "source": [
    "M.settings"
   ]
  },
  {
   "cell_type": "code",
   "execution_count": 9,
   "metadata": {
    "collapsed": false
   },
   "outputs": [
    {
     "name": "stderr",
     "output_type": "stream",
     "text": [
      "/usr/lib/python2.7/dist-packages/scipy/integrate/quadpack.py:295: UserWarning: The algorithm does not converge.  Roundoff error is detected\n",
      "  in the extrapolation table.  It is assumed that the requested tolerance\n",
      "  cannot be achieved, and that the returned result (if full_output = 1) is \n",
      "  the best which can be obtained.\n",
      "  warnings.warn(msg)\n",
      "/usr/lib/python2.7/dist-packages/scipy/integrate/quadpack.py:295: UserWarning: The integral is probably divergent, or slowly convergent.\n",
      "  warnings.warn(msg)\n"
     ]
    },
    {
     "data": {
      "text/html": [
       "<hr>"
      ]
     },
     "metadata": {},
     "output_type": "display_data"
    },
    {
     "data": {
      "text/html": [
       "\n",
       "        <table>\n",
       "            <tr>\n",
       "                <td title=\"Minimum value of function\">FCN = 1195.72852398</td>\n",
       "                <td title=\"Total number of call to FCN so far\">TOTAL NCALL = 154</td>\n",
       "                <td title=\"Number of call in last migrad\">NCALLS = 154</td>\n",
       "            </tr>\n",
       "            <tr>\n",
       "                <td title=\"Estimated distance to minimum\">EDM = 0.0452130306947</td>\n",
       "                <td title=\"Maximum EDM definition of convergence\">GOAL EDM = 0.05</td>\n",
       "                <td title=\"Error def. Amount of increase in FCN to be defined as 1 standard deviation\">\n",
       "                UP = 0.5</td>\n",
       "            </tr>\n",
       "        </table>\n",
       "        \n",
       "        <table>\n",
       "            <tr>\n",
       "                <td align=\"center\" title=\"Validity of the migrad call\">Valid</td>\n",
       "                <td align=\"center\" title=\"Validity of parameters\">Valid Param</td>\n",
       "                <td align=\"center\" title=\"Is Covariance matrix accurate?\">Accurate Covar</td>\n",
       "                <td align=\"center\" title=\"Positive definiteness of covariance matrix\">PosDef</td>\n",
       "                <td align=\"center\" title=\"Was covariance matrix made posdef by adding diagonal element\">Made PosDef</td>\n",
       "            </tr>\n",
       "            <tr>\n",
       "                <td align=\"center\" style=\"background-color:#92CCA6\">True</td>\n",
       "                <td align=\"center\" style=\"background-color:#92CCA6\">True</td>\n",
       "                <td align=\"center\" style=\"background-color:#92CCA6\">True</td>\n",
       "                <td align=\"center\" style=\"background-color:#92CCA6\">True</td>\n",
       "                <td align=\"center\" style=\"background-color:#92CCA6\">False</td>\n",
       "            </tr>\n",
       "            <tr>\n",
       "                <td align=\"center\" title=\"Was last hesse call fail?\">Hesse Fail</td>\n",
       "                <td align=\"center\" title=\"Validity of covariance\">HasCov</td>\n",
       "                <td align=\"center\" title=\"Is EDM above goal EDM?\">Above EDM</td>\n",
       "                <td align=\"center\"></td>\n",
       "                <td align=\"center\" title=\"Did last migrad call reach max call limit?\">Reach calllim</td>\n",
       "            </tr>\n",
       "            <tr>\n",
       "                <td align=\"center\" style=\"background-color:#92CCA6\">False</td>\n",
       "                <td align=\"center\" style=\"background-color:#92CCA6\">True</td>\n",
       "                <td align=\"center\" style=\"background-color:#92CCA6\">False</td>\n",
       "                <td align=\"center\"></td>\n",
       "                <td align=\"center\" style=\"background-color:#92CCA6\">False</td>\n",
       "            </tr>\n",
       "        </table>\n",
       "        "
      ]
     },
     "metadata": {},
     "output_type": "display_data"
    },
    {
     "data": {
      "text/html": [
       "\n",
       "        <table>\n",
       "            <tr>\n",
       "                <td><a href=\"#\" onclick=\"$('#ibuWRNsNuG').toggle()\">+</a></td>\n",
       "                <td title=\"Variable name\">Name</td>\n",
       "                <td title=\"Value of parameter\">Value</td>\n",
       "                <td title=\"Parabolic error\">Parab Error</td>\n",
       "                <td title=\"Minos lower error\">Minos Error-</td>\n",
       "                <td title=\"Minos upper error\">Minos Error+</td>\n",
       "                <td title=\"Lower limit of the parameter\">Limit-</td>\n",
       "                <td title=\"Upper limit of the parameter\">Limit+</td>\n",
       "                <td title=\"Is the parameter fixed in the fit\">FIXED</td>\n",
       "            </tr>\n",
       "        \n",
       "            <tr>\n",
       "                <td>1</td>\n",
       "                <td>dm_a</td>\n",
       "                <td>2.932608e-01</td>\n",
       "                <td>2.913206e-01</td>\n",
       "                <td>0.000000e+00</td>\n",
       "                <td>0.000000e+00</td>\n",
       "                <td></td>\n",
       "                <td></td>\n",
       "                <td></td>\n",
       "            </tr>\n",
       "            \n",
       "            <tr>\n",
       "                <td>2</td>\n",
       "                <td>dm_b</td>\n",
       "                <td>1.722603e+00</td>\n",
       "                <td>4.176905e-01</td>\n",
       "                <td>0.000000e+00</td>\n",
       "                <td>0.000000e+00</td>\n",
       "                <td></td>\n",
       "                <td></td>\n",
       "                <td></td>\n",
       "            </tr>\n",
       "            \n",
       "            <tr>\n",
       "                <td>3</td>\n",
       "                <td>J</td>\n",
       "                <td>1.703085e+01</td>\n",
       "                <td>3.089631e-01</td>\n",
       "                <td>0.000000e+00</td>\n",
       "                <td>0.000000e+00</td>\n",
       "                <td></td>\n",
       "                <td></td>\n",
       "                <td></td>\n",
       "            </tr>\n",
       "            \n",
       "            <tr>\n",
       "                <td>4</td>\n",
       "                <td>dm_c</td>\n",
       "                <td>1.029988e+00</td>\n",
       "                <td>1.868389e-01</td>\n",
       "                <td>0.000000e+00</td>\n",
       "                <td>0.000000e+00</td>\n",
       "                <td></td>\n",
       "                <td></td>\n",
       "                <td></td>\n",
       "            </tr>\n",
       "            \n",
       "            <tr>\n",
       "                <td>5</td>\n",
       "                <td>dm_r0</td>\n",
       "                <td>3.293441e-01</td>\n",
       "                <td>1.365426e+00</td>\n",
       "                <td>0.000000e+00</td>\n",
       "                <td>0.000000e+00</td>\n",
       "                <td></td>\n",
       "                <td></td>\n",
       "                <td></td>\n",
       "            </tr>\n",
       "            \n",
       "            </table>\n",
       "        \n",
       "            <pre id=\"ibuWRNsNuG\" style=\"display:none;\">\n",
       "            <textarea rows=\"16\" cols=\"50\" onclick=\"this.select()\" readonly>\\begin{tabular}{|c|r|r|r|r|r|r|r|c|}\n",
       "\\hline\n",
       " & Name & Value & Para Error & Error+ & Error- & Limit+ & Limit- & FIXED\\\\\n",
       "\\hline\n",
       "1 & $dm_{a}$ & 2.933e-01 & 2.913e-01 &  &  &  &  & \\\\\n",
       "\\hline\n",
       "2 & $dm_{b}$ & 1.723e+00 & 4.177e-01 &  &  &  &  & \\\\\n",
       "\\hline\n",
       "3 & J & 1.703e+01 & 3.090e-01 &  &  &  &  & \\\\\n",
       "\\hline\n",
       "4 & $dm_{c}$ & 1.030e+00 & 1.868e-01 &  &  &  &  & \\\\\n",
       "\\hline\n",
       "5 & $dm_{r0}$ & 3.293e-01 & 1.365e+00 &  &  &  &  & \\\\\n",
       "\\hline\n",
       "\\end{tabular}</textarea>\n",
       "            </pre>\n",
       "            "
      ]
     },
     "metadata": {},
     "output_type": "display_data"
    },
    {
     "data": {
      "text/html": [
       "<hr>"
      ]
     },
     "metadata": {},
     "output_type": "display_data"
    }
   ],
   "source": [
    "M.set_minuit(**{'tol':1e3,'strategy':1})\n",
    "BF = M.migrad_min()"
   ]
  },
  {
   "cell_type": "code",
   "execution_count": 10,
   "metadata": {
    "collapsed": false
   },
   "outputs": [
    {
     "data": {
      "text/html": [
       "\n",
       "        <table>\n",
       "            <tr>\n",
       "                <td><a href=\"#\" onclick=\"$('#nqDgBSFSrf').toggle()\">+</a></td>\n",
       "                <td title=\"Variable name\">Name</td>\n",
       "                <td title=\"Value of parameter\">Value</td>\n",
       "                <td title=\"Parabolic error\">Parab Error</td>\n",
       "                <td title=\"Minos lower error\">Minos Error-</td>\n",
       "                <td title=\"Minos upper error\">Minos Error+</td>\n",
       "                <td title=\"Lower limit of the parameter\">Limit-</td>\n",
       "                <td title=\"Upper limit of the parameter\">Limit+</td>\n",
       "                <td title=\"Is the parameter fixed in the fit\">FIXED</td>\n",
       "            </tr>\n",
       "        \n",
       "            <tr>\n",
       "                <td>1</td>\n",
       "                <td>dm_a</td>\n",
       "                <td>2.932608e-01</td>\n",
       "                <td>3.119804e-01</td>\n",
       "                <td>0.000000e+00</td>\n",
       "                <td>0.000000e+00</td>\n",
       "                <td></td>\n",
       "                <td></td>\n",
       "                <td></td>\n",
       "            </tr>\n",
       "            \n",
       "            <tr>\n",
       "                <td>2</td>\n",
       "                <td>dm_b</td>\n",
       "                <td>1.722603e+00</td>\n",
       "                <td>4.195947e-01</td>\n",
       "                <td>0.000000e+00</td>\n",
       "                <td>0.000000e+00</td>\n",
       "                <td></td>\n",
       "                <td></td>\n",
       "                <td></td>\n",
       "            </tr>\n",
       "            \n",
       "            <tr>\n",
       "                <td>3</td>\n",
       "                <td>J</td>\n",
       "                <td>1.703085e+01</td>\n",
       "                <td>3.292709e-01</td>\n",
       "                <td>0.000000e+00</td>\n",
       "                <td>0.000000e+00</td>\n",
       "                <td></td>\n",
       "                <td></td>\n",
       "                <td></td>\n",
       "            </tr>\n",
       "            \n",
       "            <tr>\n",
       "                <td>4</td>\n",
       "                <td>dm_c</td>\n",
       "                <td>1.029988e+00</td>\n",
       "                <td>2.049589e-01</td>\n",
       "                <td>0.000000e+00</td>\n",
       "                <td>0.000000e+00</td>\n",
       "                <td></td>\n",
       "                <td></td>\n",
       "                <td></td>\n",
       "            </tr>\n",
       "            \n",
       "            <tr>\n",
       "                <td>5</td>\n",
       "                <td>dm_r0</td>\n",
       "                <td>3.293441e-01</td>\n",
       "                <td>1.289600e+00</td>\n",
       "                <td>0.000000e+00</td>\n",
       "                <td>0.000000e+00</td>\n",
       "                <td></td>\n",
       "                <td></td>\n",
       "                <td></td>\n",
       "            </tr>\n",
       "            \n",
       "            </table>\n",
       "        \n",
       "            <pre id=\"nqDgBSFSrf\" style=\"display:none;\">\n",
       "            <textarea rows=\"16\" cols=\"50\" onclick=\"this.select()\" readonly>\\begin{tabular}{|c|r|r|r|r|r|r|r|c|}\n",
       "\\hline\n",
       " & Name & Value & Para Error & Error+ & Error- & Limit+ & Limit- & FIXED\\\\\n",
       "\\hline\n",
       "1 & $dm_{a}$ & 2.933e-01 & 3.120e-01 &  &  &  &  & \\\\\n",
       "\\hline\n",
       "2 & $dm_{b}$ & 1.723e+00 & 4.196e-01 &  &  &  &  & \\\\\n",
       "\\hline\n",
       "3 & J & 1.703e+01 & 3.293e-01 &  &  &  &  & \\\\\n",
       "\\hline\n",
       "4 & $dm_{c}$ & 1.030e+00 & 2.050e-01 &  &  &  &  & \\\\\n",
       "\\hline\n",
       "5 & $dm_{r0}$ & 3.293e-01 & 1.290e+00 &  &  &  &  & \\\\\n",
       "\\hline\n",
       "\\end{tabular}</textarea>\n",
       "            </pre>\n",
       "            "
      ]
     },
     "metadata": {},
     "output_type": "display_data"
    },
    {
     "data": {
      "text/html": [
       "\n",
       "            <table>\n",
       "                <tr>\n",
       "                    <td><a onclick=\"$('#ZpQmtYrnie').toggle()\" href=\"#\">+</a></td>\n",
       "        \n",
       "            <td>\n",
       "            <div style=\"width:20px;position:relative; width: -moz-fit-content;\">\n",
       "            <div style=\"display:inline-block;-webkit-writing-mode:vertical-rl;-moz-writing-mode: vertical-rl;writing-mode: vertical-rl;\">\n",
       "            dm_a\n",
       "            </div>\n",
       "            </div>\n",
       "            </td>\n",
       "            \n",
       "            <td>\n",
       "            <div style=\"width:20px;position:relative; width: -moz-fit-content;\">\n",
       "            <div style=\"display:inline-block;-webkit-writing-mode:vertical-rl;-moz-writing-mode: vertical-rl;writing-mode: vertical-rl;\">\n",
       "            dm_b\n",
       "            </div>\n",
       "            </div>\n",
       "            </td>\n",
       "            \n",
       "            <td>\n",
       "            <div style=\"width:20px;position:relative; width: -moz-fit-content;\">\n",
       "            <div style=\"display:inline-block;-webkit-writing-mode:vertical-rl;-moz-writing-mode: vertical-rl;writing-mode: vertical-rl;\">\n",
       "            J\n",
       "            </div>\n",
       "            </div>\n",
       "            </td>\n",
       "            \n",
       "            <td>\n",
       "            <div style=\"width:20px;position:relative; width: -moz-fit-content;\">\n",
       "            <div style=\"display:inline-block;-webkit-writing-mode:vertical-rl;-moz-writing-mode: vertical-rl;writing-mode: vertical-rl;\">\n",
       "            dm_c\n",
       "            </div>\n",
       "            </div>\n",
       "            </td>\n",
       "            \n",
       "            <td>\n",
       "            <div style=\"width:20px;position:relative; width: -moz-fit-content;\">\n",
       "            <div style=\"display:inline-block;-webkit-writing-mode:vertical-rl;-moz-writing-mode: vertical-rl;writing-mode: vertical-rl;\">\n",
       "            dm_r0\n",
       "            </div>\n",
       "            </div>\n",
       "            </td>\n",
       "            \n",
       "                </tr>\n",
       "                \n",
       "            <tr>\n",
       "                <td>dm_a</td>\n",
       "            \n",
       "                <td style=\"background-color:rgb(255,117,117)\">\n",
       "                1.00\n",
       "                </td>\n",
       "                \n",
       "                <td style=\"background-color:rgb(173,240,179)\">\n",
       "                -0.10\n",
       "                </td>\n",
       "                \n",
       "                <td style=\"background-color:rgb(212,181,149)\">\n",
       "                -0.53\n",
       "                </td>\n",
       "                \n",
       "                <td style=\"background-color:rgb(181,228,173)\">\n",
       "                0.19\n",
       "                </td>\n",
       "                \n",
       "                <td style=\"background-color:rgb(212,182,150)\">\n",
       "                -0.53\n",
       "                </td>\n",
       "                \n",
       "            </tr>\n",
       "            \n",
       "            <tr>\n",
       "                <td>dm_b</td>\n",
       "            \n",
       "                <td style=\"background-color:rgb(173,240,179)\">\n",
       "                -0.10\n",
       "                </td>\n",
       "                \n",
       "                <td style=\"background-color:rgb(255,117,117)\">\n",
       "                1.00\n",
       "                </td>\n",
       "                \n",
       "                <td style=\"background-color:rgb(175,236,177)\">\n",
       "                -0.13\n",
       "                </td>\n",
       "                \n",
       "                <td style=\"background-color:rgb(202,196,157)\">\n",
       "                -0.43\n",
       "                </td>\n",
       "                \n",
       "                <td style=\"background-color:rgb(203,194,156)\">\n",
       "                0.44\n",
       "                </td>\n",
       "                \n",
       "            </tr>\n",
       "            \n",
       "            <tr>\n",
       "                <td>J</td>\n",
       "            \n",
       "                <td style=\"background-color:rgb(212,181,149)\">\n",
       "                -0.53\n",
       "                </td>\n",
       "                \n",
       "                <td style=\"background-color:rgb(175,236,177)\">\n",
       "                -0.13\n",
       "                </td>\n",
       "                \n",
       "                <td style=\"background-color:rgb(255,117,117)\">\n",
       "                1.00\n",
       "                </td>\n",
       "                \n",
       "                <td style=\"background-color:rgb(206,190,154)\">\n",
       "                0.46\n",
       "                </td>\n",
       "                \n",
       "                <td style=\"background-color:rgb(191,212,165)\">\n",
       "                0.30\n",
       "                </td>\n",
       "                \n",
       "            </tr>\n",
       "            \n",
       "            <tr>\n",
       "                <td>dm_c</td>\n",
       "            \n",
       "                <td style=\"background-color:rgb(181,228,173)\">\n",
       "                0.19\n",
       "                </td>\n",
       "                \n",
       "                <td style=\"background-color:rgb(202,196,157)\">\n",
       "                -0.43\n",
       "                </td>\n",
       "                \n",
       "                <td style=\"background-color:rgb(206,190,154)\">\n",
       "                0.46\n",
       "                </td>\n",
       "                \n",
       "                <td style=\"background-color:rgb(255,117,117)\">\n",
       "                1.00\n",
       "                </td>\n",
       "                \n",
       "                <td style=\"background-color:rgb(191,212,165)\">\n",
       "                0.30\n",
       "                </td>\n",
       "                \n",
       "            </tr>\n",
       "            \n",
       "            <tr>\n",
       "                <td>dm_r0</td>\n",
       "            \n",
       "                <td style=\"background-color:rgb(212,182,150)\">\n",
       "                -0.53\n",
       "                </td>\n",
       "                \n",
       "                <td style=\"background-color:rgb(203,194,156)\">\n",
       "                0.44\n",
       "                </td>\n",
       "                \n",
       "                <td style=\"background-color:rgb(191,212,165)\">\n",
       "                0.30\n",
       "                </td>\n",
       "                \n",
       "                <td style=\"background-color:rgb(191,212,165)\">\n",
       "                0.30\n",
       "                </td>\n",
       "                \n",
       "                <td style=\"background-color:rgb(255,117,117)\">\n",
       "                1.00\n",
       "                </td>\n",
       "                \n",
       "            </tr>\n",
       "            </table>\n",
       "\n",
       "            <pre id=\"ZpQmtYrnie\" style=\"display:none;\">\n",
       "            <textarea rows=\"19\" cols=\"50\" onclick=\"this.select()\" readonly>%\\usepackage[table]{xcolor} % include this for color\n",
       "%\\usepackage{rotating} % include this for rotate header\n",
       "%\\documentclass[xcolor=table]{beamer} % for beamer\n",
       "\\begin{tabular}{|c|c|c|c|c|c|}\n",
       "\\hline\n",
       "\\rotatebox{90}{} & \\rotatebox{90}{$dm_{a}$} & \\rotatebox{90}{$dm_{b}$} & \\rotatebox{90}{J} & \\rotatebox{90}{$dm_{c}$} & \\rotatebox{90}{$dm_{r0}$}\\\\\n",
       "\\hline\n",
       "$dm_{a}$ & \\cellcolor[RGB]{255,117,117} 1.00 & \\cellcolor[RGB]{173,240,179} -0.10 & \\cellcolor[RGB]{212,181,149} -0.53 & \\cellcolor[RGB]{181,228,173} 0.19 & \\cellcolor[RGB]{212,182,150} -0.53\\\\\n",
       "\\hline\n",
       "$dm_{b}$ & \\cellcolor[RGB]{173,240,179} -0.10 & \\cellcolor[RGB]{255,117,117} 1.00 & \\cellcolor[RGB]{175,236,177} -0.13 & \\cellcolor[RGB]{202,196,157} -0.43 & \\cellcolor[RGB]{203,194,156} 0.44\\\\\n",
       "\\hline\n",
       "J & \\cellcolor[RGB]{212,181,149} -0.53 & \\cellcolor[RGB]{175,236,177} -0.13 & \\cellcolor[RGB]{255,117,117} 1.00 & \\cellcolor[RGB]{206,190,154} 0.46 & \\cellcolor[RGB]{191,212,165} 0.30\\\\\n",
       "\\hline\n",
       "$dm_{c}$ & \\cellcolor[RGB]{181,228,173} 0.19 & \\cellcolor[RGB]{202,196,157} -0.43 & \\cellcolor[RGB]{206,190,154} 0.46 & \\cellcolor[RGB]{255,117,117} 1.00 & \\cellcolor[RGB]{191,212,165} 0.30\\\\\n",
       "\\hline\n",
       "$dm_{r0}$ & \\cellcolor[RGB]{212,182,150} -0.53 & \\cellcolor[RGB]{203,194,156} 0.44 & \\cellcolor[RGB]{191,212,165} 0.30 & \\cellcolor[RGB]{191,212,165} 0.30 & \\cellcolor[RGB]{255,117,117} 1.00\\\\\n",
       "\\hline\n",
       "\\end{tabular}</textarea>\n",
       "            </pre>\n",
       "            "
      ]
     },
     "metadata": {},
     "output_type": "display_data"
    },
    {
     "data": {
      "text/plain": [
       "[{'is_const': False, 'name': 'dm_a', 'has_limits': False, 'value': 0.29326081762833556, 'number': 0, 'has_lower_limit': False, 'upper_limit': 0.0, 'lower_limit': 0.0, 'has_upper_limit': False, 'error': 0.3119804071149764, 'is_fixed': False},\n",
       " {'is_const': False, 'name': 'dm_b', 'has_limits': False, 'value': 1.7226029754873562, 'number': 1, 'has_lower_limit': False, 'upper_limit': 0.0, 'lower_limit': 0.0, 'has_upper_limit': False, 'error': 0.4195947025622503, 'is_fixed': False},\n",
       " {'is_const': False, 'name': 'J', 'has_limits': False, 'value': 17.030847026627324, 'number': 2, 'has_lower_limit': False, 'upper_limit': 0.0, 'lower_limit': 0.0, 'has_upper_limit': False, 'error': 0.3292708512499371, 'is_fixed': False},\n",
       " {'is_const': False, 'name': 'dm_c', 'has_limits': False, 'value': 1.0299879730844048, 'number': 3, 'has_lower_limit': False, 'upper_limit': 0.0, 'lower_limit': 0.0, 'has_upper_limit': False, 'error': 0.2049589231109348, 'is_fixed': False},\n",
       " {'is_const': False, 'name': 'dm_r0', 'has_limits': False, 'value': 0.3293440984002307, 'number': 4, 'has_lower_limit': False, 'upper_limit': 0.0, 'lower_limit': 0.0, 'has_upper_limit': False, 'error': 1.2896003781811145, 'is_fixed': False}]"
      ]
     },
     "execution_count": 10,
     "metadata": {},
     "output_type": "execute_result"
    }
   ],
   "source": [
    "M.minuit.hesse()"
   ]
  },
  {
   "cell_type": "code",
   "execution_count": 13,
   "metadata": {
    "collapsed": false
   },
   "outputs": [
    {
     "name": "stdout",
     "output_type": "stream",
     "text": [
      "17.0308 0.329344 1.40105e+08\n"
     ]
    }
   ],
   "source": [
    "J_min = BF[1][2]['value']\n",
    "J_r0 = BF[1][4]['value']\n",
    "minrho = lambda rho : abs(J_min-log10(dm.Jfactor(D, theta, np.inf, False))-2*rho)\n",
    "J_rho0 = 10**minimize_scalar(minrho).x\n",
    "print '%g %g %g'%(J_min,J_r0,J_rho0)"
   ]
  },
  {
   "cell_type": "code",
   "execution_count": 46,
   "metadata": {
    "collapsed": false
   },
   "outputs": [
    {
     "name": "stdout",
     "output_type": "stream",
     "text": [
      "dm_a\n",
      "dm_b\n",
      "J\n",
      "dm_c\n",
      "dm_r0\n"
     ]
    }
   ],
   "source": [
    "for j in range(5):\n",
    "    print BF[1][j]['name']"
   ]
  },
  {
   "cell_type": "raw",
   "metadata": {
    "collapsed": true
   },
   "source": [
    "M.minuit.tol = 1e4\n",
    "J, L = M.minos_profile('J',**{'bound':2, 'bins':10, 'subtract_min':True})"
   ]
  },
  {
   "cell_type": "code",
   "execution_count": 50,
   "metadata": {
    "collapsed": true
   },
   "outputs": [],
   "source": [
    "J_array = np.linspace(15,18,10)\n",
    "J_new = np.empty([0])\n",
    "L_arr  = np.empty([0])\n",
    "a_arr  = np.empty([0])\n",
    "b_arr  = np.empty([0])\n",
    "c_arr  = np.empty([0])\n",
    "r_arr = np.empty([0])"
   ]
  },
  {
   "cell_type": "code",
   "execution_count": 51,
   "metadata": {
    "collapsed": true
   },
   "outputs": [],
   "source": [
    "LL = GaussianLikelihood([R, v, dv, 0.], Sigma)\n",
    "LL.set_free('dm_r0')\n",
    "LL.set_free('dm_a')\n",
    "LL.set_free('dm_b')\n",
    "LL.set_free('dm_c')\n",
    "global global_loglike\n",
    "global_loglike = LL"
   ]
  },
  {
   "cell_type": "raw",
   "metadata": {
    "collapsed": false
   },
   "source": [
    "for J in J_array:\n",
    "    M = MinuitFitter(LL)\n",
    "    # J\n",
    "    M.set_value('J',J)\n",
    "    M.set_fixed('J')\n",
    "    # r0\n",
    "    M.set_value('dm_r0',rh*4.)\n",
    "    M.set_error('dm_r0',0.01)\n",
    "    # a\n",
    "    M.set_value('dm_a',1.)\n",
    "    M.set_error('dm_a',0.01)\n",
    "    # b\n",
    "    M.set_value('dm_b',3.)\n",
    "    M.set_error('dm_b',0.01)\n",
    "    # c\n",
    "    M.set_value('dm_c',1.)\n",
    "    M.set_error('dm_c',0.01)\n",
    "    \n",
    "    M.settings['print_level'] = 1\n",
    "    M.set_minuit(**{'tol':1e6,'strategy':1})\n",
    "    valid = True\n",
    "    while valid:\n",
    "        BF = M.migrad_min()\n",
    "        valid = BF[0]['is_valid']\n",
    "        if valid:\n",
    "            J_new = np.append(J_new,J)\n",
    "            L_arr  = np.append(min_LikeJ,BF[0]['fval'])\n",
    "            a_arr  = np.append(min_b_arr,BF[1][0]['value'])\n",
    "            b_arr = np.append(min_r0_arr,BF[1][1]['value'])\n",
    "            c_arr = np.append(min_r0_arr,BF[1][3]['value'])\n",
    "            r_arr = np.append(min_r0_arr,BF[1][4]['value'])\n",
    "        else"
   ]
  },
  {
   "cell_type": "code",
   "execution_count": null,
   "metadata": {
    "collapsed": false
   },
   "outputs": [],
   "source": [
    "for J in J_array:\n",
    "    M = MinuitFitter(LL)\n",
    "    # J\n",
    "    M.set_value('J',J)\n",
    "    M.set_fixed('J')\n",
    "    # r0\n",
    "    M.set_value('dm_r0',rh*4.)\n",
    "    M.set_error('dm_r0',0.01)\n",
    "    # a\n",
    "    M.set_value('dm_a',1.)\n",
    "    M.set_error('dm_a',0.01)\n",
    "    # b\n",
    "    M.set_value('dm_b',3.)\n",
    "    M.set_error('dm_b',0.01)\n",
    "    # c\n",
    "    M.set_value('dm_c',1.)\n",
    "    M.set_error('dm_c',0.01)\n",
    "    \n",
    "    M.settings['print_level'] = 1\n",
    "    M.set_minuit(**{'tol':1e6,'strategy':1})\n",
    "    BF = M.migrad_min()\n",
    "    if BF[0]['is_valid']:\n",
    "        J_new = np.append(J_new,J)\n",
    "        L_arr = np.append(L_arr,BF[0]['fval'])\n",
    "        a_arr = np.append(a_arr,BF[1][0]['value'])\n",
    "        b_arr = np.append(b_arr,BF[1][1]['value'])\n",
    "        c_arr = np.append(c_arr,BF[1][3]['value'])\n",
    "        r_arr = np.append(r_arr,BF[1][4]['value'])"
   ]
  },
  {
   "cell_type": "code",
   "execution_count": 16,
   "metadata": {
    "collapsed": true
   },
   "outputs": [],
   "source": [
    "J_array = np.asarray(J)\n",
    "Like_array = np.asarray(L)\n",
    "new_Like = interp(J_array,Like_array)"
   ]
  },
  {
   "cell_type": "code",
   "execution_count": 23,
   "metadata": {
    "collapsed": false
   },
   "outputs": [],
   "source": [
    "eval_Like_J = np.linspace(J_array.min(),J_array.max(),1e3)\n",
    "min_Like_J  = new_Like(eval_Like_J).min()\n",
    "J_min       = eval_Like_J[np.where(new_Like(eval_Like_J)==min_Like_J)[0][0]]"
   ]
  },
  {
   "cell_type": "code",
   "execution_count": 25,
   "metadata": {
    "collapsed": false
   },
   "outputs": [
    {
     "data": {
      "image/png": "[encoded data removed]",
      "text/plain": [
       "<matplotlib.figure.Figure at 0x7f1cedb4cad0>"
      ]
     },
     "metadata": {},
     "output_type": "display_data"
    }
   ],
   "source": [
    "new_J = np.linspace(J_array.min(),J_array.max())\n",
    "plt.plot(new_J, new_Like(new_J))\n",
    "plt.plot(J_min,0,'r*')\n",
    "plt.ylim(-0.5,12);"
   ]
  },
  {
   "cell_type": "raw",
   "metadata": {
    "collapsed": true
   },
   "source": [
    "err = BF[1][0]['error']\n",
    "J_array = np.linspace(J_min-err*3,J_min+err*3)\n",
    "for J in J_array:\n",
    "    \n",
    "M.minuit.draw_mnprofile('J', bound=(17,22), subtract_min=True, text=False);\n",
    "plt.plot([], [], label=r'M$_{true}$ = %.2e'%Mtrue + '\\n' +\n",
    "                         r'M$_{mle}$ = %.2e'%Mmle + '\\n' + \n",
    "                         r'J$_{min}$ = %.2f'%J_min + '\\n' +\n",
    "                         r'$\\rho_0$ = %.2e'%J_rho0 + '\\n' + \n",
    "                         r'$r_0$ = %.2f'%J_r0)\n",
    "plt.ylim(-0.5,6);\n",
    "name = 'dsphsim_100_2p_Core_Plum_IS_wstaterr'\n",
    "plt.suptitle(name)\n",
    "plt.legend(numpoints=1, fontsize=12);\n",
    "#plt.savefig('../plots/%s.png'%name,format='png',dpi=300)"
   ]
  },
  {
   "cell_type": "code",
   "execution_count": null,
   "metadata": {
    "collapsed": true
   },
   "outputs": [],
   "source": []
  }
 ],
 "metadata": {
  "kernelspec": {
   "display_name": "Python 2",
   "language": "python",
   "name": "python2"
  },
  "language_info": {
   "codemirror_mode": {
    "name": "ipython",
    "version": 2
   },
   "file_extension": ".py",
   "mimetype": "text/x-python",
   "name": "python",
   "nbconvert_exporter": "python",
   "pygments_lexer": "ipython2",
   "version": "2.7.6"
  }
 },
 "nbformat": 4,
 "nbformat_minor": 0
}
