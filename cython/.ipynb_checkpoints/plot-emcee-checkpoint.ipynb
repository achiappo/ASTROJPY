{
 "cells": [
  {
   "cell_type": "markdown",
   "metadata": {},
   "source": [
    "### all emcee scan"
   ]
  },
  {
   "cell_type": "code",
   "execution_count": 50,
   "metadata": {
    "collapsed": true
   },
   "outputs": [],
   "source": [
    "samples = np.load('../results/mcmc/cov/samples_cov10_n1.npy')\n",
    "lnprobs = np.load('../results/mcmc/cov/lnprobs_cov10_n1.npy')"
   ]
  },
  {
   "cell_type": "code",
   "execution_count": 57,
   "metadata": {},
   "outputs": [
    {
     "data": {
      "text/plain": [
       "15.237344954567579"
      ]
     },
     "execution_count": 57,
     "metadata": {},
     "output_type": "execute_result"
    }
   ],
   "source": [
    "Jmc = samples[:,0]\n",
    "Lmc = -lnprobs\n",
    "Lmin = min(Lmc)\n",
    "\n",
    "Jenv, Lenv = [], []\n",
    "hist, binsedges = np.histogram(Jmc, bins=30)\n",
    "for Jl,Jr in zip( binsedges[:-1], binsedges[1:] ):\n",
    "    indbin = np.where( np.logical_and( Jl<Jmc, Jmc<Jr ) )[0]\n",
    "    if any(indbin):\n",
    "        Lbin, Jbin = Lmc[indbin], Jmc[indbin]\n",
    "        indLmin = np.where( Lbin==min(Lbin) )[0][0]\n",
    "        Jenv.append( Jbin[indLmin] )\n",
    "        Lenv.append( Lbin[indLmin] )\n",
    "\n",
    "interpLenv = interp(Jenv, Lenv)\n",
    "eval_Like_J = np.linspace(min(Jenv), max(Jenv), 100)\n",
    "min_Like_J = min(interpLenv(eval_Like_J))\n",
    "Jmin = eval_Like_J[ np.where( interpLenv(eval_Like_J) == min_Like_J )[0][0] ]\n",
    "Jmin"
   ]
  },
  {
   "cell_type": "markdown",
   "metadata": {},
   "source": [
    "### manual emcee profiling"
   ]
  },
  {
   "cell_type": "code",
   "execution_count": 59,
   "metadata": {
    "collapsed": true
   },
   "outputs": [],
   "source": [
    "results = np.load('../results/mcmc/cov/manu_cov10_n1.npy')"
   ]
  },
  {
   "cell_type": "code",
   "execution_count": 61,
   "metadata": {},
   "outputs": [
    {
     "data": {
      "text/plain": [
       "15.866067560912636"
      ]
     },
     "execution_count": 61,
     "metadata": {},
     "output_type": "execute_result"
    }
   ],
   "source": [
    "J_array = results[:,0]\n",
    "Likes = results[:,1]\n",
    "params = results[:,1:]\n",
    "\n",
    "Lmin_man = min(Likes)\n",
    "indLmin = np.where( Likes==Lmin_man )[0][0]\n",
    "Jmin_man = J_array[ indLmin ]\n",
    "Jmin_man"
   ]
  },
  {
   "cell_type": "code",
   "execution_count": 63,
   "metadata": {},
   "outputs": [
    {
     "data": {
      "image/png": "[encoded data removed]",
      "text/plain": [
       "<matplotlib.figure.Figure at 0x7f95a6a720d0>"
      ]
     },
     "metadata": {},
     "output_type": "display_data"
    }
   ],
   "source": [
    "plt.plot(J_array, Likes);"
   ]
  },
  {
   "cell_type": "markdown",
   "metadata": {},
   "source": [
    "# emcee"
   ]
  },
  {
   "cell_type": "markdown",
   "metadata": {},
   "source": [
    "## all params"
   ]
  },
  {
   "cell_type": "raw",
   "metadata": {
    "collapsed": true
   },
   "source": [
    "samples = np.load('../results/mcmc/samples_equiR_J1672_N1000.npy')\n",
    "lnprobs = np.load('../results/mcmc/lnprobs_equiR_J1672_N1000.npy')\n",
    "parameters = ['r', 'a', 'b', 'c']"
   ]
  },
  {
   "cell_type": "raw",
   "metadata": {},
   "source": [
    "fig, axes = plt.subplots(ncols=1, nrows=4, sharex=True, figsize=(10,20))\n",
    "steps = range(len(samples[0]))\n",
    "for p,(par,ax) in enumerate(zip(parameters,axes)):\n",
    "    for nw in range(len(samples)):\n",
    "        vals = [samples[nw][i][p] for i in steps]\n",
    "        ax.plot(steps, vals)\n",
    "        ax.set_ylabel(par, fontsize=12);\n",
    "#plt.savefig('../results/mcmc/chains_J1672_N10000.png', dpi=300)"
   ]
  },
  {
   "cell_type": "raw",
   "metadata": {
    "collapsed": true
   },
   "source": [
    "flatsamples = samples[:, :, :].reshape((-1, len(samples[0][0])))\n",
    "L = -lnprobs.reshape(-1)\n",
    "\n",
    "notinfL = np.where(~np.isinf(L))[0]\n",
    "flatsamples = flatsamples[notinfL]\n",
    "L = L[notinfL]"
   ]
  },
  {
   "cell_type": "raw",
   "metadata": {
    "collapsed": true
   },
   "source": [
    "#flatsamples = samples[:, :, :].reshape((-1, len(samples[0][0])))\n",
    "#L = -lnprobs.reshape(-1)\n",
    "\n",
    "Lmin = min(L)\n",
    "indLmin = np.where( L==Lmin )[0][-1]\n",
    "for p,(par,R) in enumerate( zip( parameters, gelman_rubin(samples) ) ):\n",
    "    exec( '{0}_R = {1}'.format(par, R) )\n",
    "    exec( \"{} = flatsamples[:,p]\".format(par) )\n",
    "    exec( \"{0}_min = {0}[indLmin]\".format(par) )"
   ]
  },
  {
   "cell_type": "raw",
   "metadata": {},
   "source": [
    "truep = [-0.46, 1, 3, 1]\n",
    "minp = [r_min, a_min, b_min, c_min]\n",
    "Rvals = '\\n '.join(  ['par    R'] + [ p + '    ' + str(eval( 'round({}_R,3)'.format(p) )) for p in parameters] )\n",
    "\n",
    "fig = corner(flatsamples, labels=[\"$r$\", \"$a$\", \"$b$\", \"$c$\"], truths=truep)\n",
    "#plt.suptitle('J = %.2f'%J[0], fontsize=14);\n",
    "plt.suptitle('J = 16.72', fontsize=14);\n",
    "plt.annotate(Rvals, xy=(0, 3), xycoords='axes fraction', fontsize=14);\n",
    "#plt.savefig('../results/mcmc/corner_equiR_J1672_N1000.png', dpi=300);"
   ]
  },
  {
   "cell_type": "raw",
   "metadata": {},
   "source": [
    "fig, axes = plt.subplots(nrows=2, ncols=2, figsize=(10,10), sharey=True)\n",
    "for i,(par, ax) in enumerate(zip(parameters, axes.flat)):\n",
    "    ax.plot( eval('{}'.format(par)), L, 'bo', alpha=0.2  );\n",
    "    exec( 'parmin = {}_min'.format(par) )\n",
    "    ax.plot( parmin, Lmin, 'r*', ms=10, label= '%s = %.2f'%(par, parmin) );\n",
    "    ax.vlines(x=truep[i], ymin=0, ymax=2000, label='true params: %.2f'%truep[i]);\n",
    "    ax.set_xlabel(par);\n",
    "    if i%2 == 0: \n",
    "        ax.set_ylabel('logLike', fontsize=12)\n",
    "    ax.set_ylim(1194, 1210);\n",
    "    ax.legend(numpoints=1, loc='upper right');\n",
    "#plt.tight_layout()\n",
    "plt.suptitle('J = 15.04', fontsize=14);\n",
    "#plt.savefig('../results/mcmc/plots/Like_params_J1500_N5000.png', dpi=300);"
   ]
  },
  {
   "cell_type": "raw",
   "metadata": {},
   "source": [
    "for par,R in zip(['r', 'a', 'b', 'c'], gelman_rubin(samples)):\n",
    "    print par, round(R,3)"
   ]
  },
  {
   "cell_type": "markdown",
   "metadata": {},
   "source": [
    "### J included in the MCMC scan alongside the nuisance parameters"
   ]
  },
  {
   "cell_type": "raw",
   "metadata": {
    "collapsed": true
   },
   "source": [
    "import os\n",
    "import yaml\n",
    "import numpy as np\n",
    "\n",
    "import pylab as plt\n",
    "\n",
    "from scipy.optimize import brentq, fmin\n",
    "from scipy.interpolate import interp1d as interp\n",
    "from scipy.interpolate import UnivariateSpline as spline\n",
    "\n",
    "from pymc import gelman_rubin\n",
    "\n",
    "from corner import corner, hist2d\n",
    "\n",
    "#from sklearn.model_selection import LeaveOneOut\n",
    "%matplotlib inline"
   ]
  },
  {
   "cell_type": "raw",
   "metadata": {
    "collapsed": true
   },
   "source": [
    "samples = np.load('../results/mcmc/emc_results/samples_J_N5000.npy')\n",
    "lnprobs = np.load('../results/mcmc/emc_results/lnprobs_J_N5000.npy')\n",
    "parameters = ['J', 'r', 'a', 'b', 'c']"
   ]
  },
  {
   "cell_type": "raw",
   "metadata": {},
   "source": [
    "fig, axes = plt.subplots(ncols=1, nrows=5, sharex=True, figsize=(10,20))\n",
    "steps = range(len(samples[0]))\n",
    "for p,(par,ax) in enumerate(zip(parameters,axes)):\n",
    "    for nw in range(len(samples)):\n",
    "        vals = [samples[nw][i][p] for i in steps]\n",
    "        ax.plot(steps, vals)\n",
    "        ax.set_ylabel(par, fontsize=12);\n",
    "#plt.savefig('../results/mcmc/chains_J1672_N10000.png', dpi=300)"
   ]
  },
  {
   "cell_type": "raw",
   "metadata": {},
   "source": [
    "flatsamples = samples[:, :, :].reshape((-1, len(samples[0][0])))\n",
    "L = -lnprobs.reshape(-1)\n",
    "\n",
    "Lmin = min(L)\n",
    "indLmin = np.where( L==Lmin )[0][-1]\n",
    "for p,(par,R) in enumerate( zip( parameters, gelman_rubin(samples) ) ):\n",
    "    exec( '{0}_R = {1}'.format(par, R) )\n",
    "    exec( \"{} = flatsamples[:,p]\".format(par) )\n",
    "    exec( \"{0}_min = {0}[indLmin]\".format(par) )\n",
    "    #print par, eval( '{}_R'.format(par) ), eval( '{}_min'.format(par) )"
   ]
  },
  {
   "cell_type": "raw",
   "metadata": {},
   "source": [
    "truep = [16.72, -0.46, 1, 3, 1]\n",
    "Rvals = '\\n '.join(  ['par    R'] + [ p + '    ' + str(eval( 'round({}_R,3)'.format(p) )) for p in parameters] )\n",
    "\n",
    "fig = corner(flatsamples, labels=[r\"$\\mathcal{J}$\", \"$r$\", \"$a$\", \"$b$\", \"$c$\"], truths=truep)\n",
    "#plt.suptitle('J = %.2f'%J[0], fontsize=14);\n",
    "plt.suptitle('J = 16.72', fontsize=14);\n",
    "plt.annotate(Rvals, xy=(0, 3), xycoords='axes fraction', fontsize=14);\n",
    "#plt.savefig('../results/mcmc/corner_equiR_J1672_N1000.png', dpi=300);"
   ]
  },
  {
   "cell_type": "raw",
   "metadata": {},
   "source": [
    "fig, axes = plt.subplots(nrows=2, ncols=3, figsize=(10,10), sharey=True)\n",
    "for i,(par, ax) in enumerate( zip(parameters, axes.flat) ):\n",
    "    ax.plot( eval('{}'.format(par)), L, 'bo', alpha=0.2  );\n",
    "    exec( 'parmin = {}_min'.format(par) )\n",
    "    ax.plot( parmin, Lmin, 'r*', ms=10, label= '%s = %.2f'%(par, parmin) );\n",
    "    ax.vlines(x=truep[i], ymin=0, ymax=2000, label='true params: %.2f'%truep[i]);\n",
    "    ax.set_xlabel(par);\n",
    "    if i%2 == 0: \n",
    "        ax.set_ylabel('logLike', fontsize=12)\n",
    "    ax.set_ylim(1194, 1210);\n",
    "    ax.legend(numpoints=1, loc='upper right');\n",
    "#plt.tight_layout()\n",
    "plt.suptitle('J = 15.04', fontsize=14);\n",
    "#plt.savefig('../results/mcmc/plots/Like_params_J1500_N5000.png', dpi=300);"
   ]
  },
  {
   "cell_type": "raw",
   "metadata": {},
   "source": [
    "Jmc = J\n",
    "Lmc = L"
   ]
  },
  {
   "cell_type": "raw",
   "metadata": {},
   "source": [
    "Jenv, Lenv = [], []\n",
    "hist, binsedges = np.histogram(Jmc, bins=35)\n",
    "for Jl,Jr in zip( binsedges[:-1], binsedges[1:] ):\n",
    "    indbin = np.where( np.logical_and( Jl<Jmc, Jmc<Jr ) )[0]\n",
    "    if any(indbin):\n",
    "        Lbin, Jbin = Lmc[indbin], Jmc[indbin]\n",
    "        indLmin = np.where( Lbin==min(Lbin) )[0][0]\n",
    "        Jenv.append( Jbin[indLmin] )\n",
    "        Lenv.append( Lbin[indLmin] )"
   ]
  },
  {
   "cell_type": "raw",
   "metadata": {},
   "source": [
    "plt.plot(Jmc, Lmc, 'bo', label='MCMC scan points');\n",
    "plt.plot(Jenv, Lenv, 'c', lw=3, label='MCMC envelope');\n",
    "plt.plot(Jprof, Lprof, 'r', lw=2, label='manual profiling');\n",
    "plt.xlim(14.5, 18);\n",
    "plt.ylim(1194, 1204);\n",
    "plt.legend();\n",
    "plt.suptitle('profile-vs-mcmc', fontsize=14);\n",
    "#plt.savefig(path + 'profile-vs-mcmc.png', dpi=300);"
   ]
  },
  {
   "cell_type": "markdown",
   "metadata": {},
   "source": [
    "## plot all plots for all Js"
   ]
  },
  {
   "cell_type": "raw",
   "metadata": {
    "collapsed": true
   },
   "source": [
    "def myround(x, base=5):\n",
    "    return int(base * round(float(x)/base))"
   ]
  },
  {
   "cell_type": "raw",
   "metadata": {},
   "source": [
    "path = '../results/mcmc/'\n",
    "parameters = ['r', 'a', 'b', 'c']\n",
    "files = os.listdir(path+'emc_results')\n",
    "samples_list = sorted( [f for f in files if 'samples_100' in f and 'N10000.npy' in f] )\n",
    "lnprobs_list = sorted( [f for f in files if 'lnprobs_100' in f and 'N10000.npy' in f] )\n",
    "J = [float( j.split('_')[2].strip('J') )/100 for j in samples_list]\n",
    "\n",
    "for j,(samples, lnprobs) in enumerate( zip(samples_list, lnprobs_list) ):\n",
    "    # extract samples and lnprobabilities from npy files and build arrays\n",
    "    samples = np.load(path+'emc_results/'+samples)\n",
    "    lnprobs = np.load(path+'emc_results/'+lnprobs)\n",
    "    L = -lnprobs.reshape(-1)\n",
    "    Lmin = min(L)\n",
    "    roundLmin = myround(Lmin)\n",
    "    indLmin = np.where( L==Lmin )[0][-1]\n",
    "    flatsamples = samples[:, :, :].reshape((-1, len(samples[0][0])))\n",
    "    for p,(par,R) in enumerate( zip( parameters, gelman_rubin(samples) ) ):\n",
    "        exec( \"{} = flatsamples[:,p]\".format(param) )\n",
    "        exec( \"{0}_min = {0}[indLmin]\".format(param) )\n",
    "        exec( '{0}_R = {1}'.format(par, R) )\n",
    "    \n",
    "    # plot corner plot only if not already present\n",
    "    if not os.path.isfile( path+'plots_100s/corner_100s_J%.2f_N10000.png'%J[j] ):\n",
    "        #fig, axes = plt.subplots(ncols=1, nrows=4, sharex=True, figsize=(10,20))\n",
    "        #steps = range(len(samples[0]))\n",
    "        #for p,(par,ax) in enumerate(zip(parameters,axes)):\n",
    "        #    for nw in range(len(samples)):\n",
    "        #        vals = [samples[nw][i][p] for i in steps]\n",
    "        #        ax.plot(steps, vals)\n",
    "        #        ax.set_ylabel(par, fontsize=12);\n",
    "        #plt.savefig(path+'plots/chains_J%g_N5000.png'%J[j], dpi=300)\n",
    "        #plt.clf()\n",
    "        #plt.close()\n",
    "        \n",
    "        truep = [-0.46, 1., 3, 1]\n",
    "        minp = [r_min, a_min, b_min, c_min]\n",
    "        Rvals = '\\n '.join(  ['par    R'] + [ p + '    ' + str(eval( 'round({}_R,3)'.format(p))) for p in parameters] )\n",
    "        fig = corner(flatsamples, labels=[\"$r$\", \"$a$\", \"$b$\", \"$c$\"], truths=truep)\n",
    "        plt.suptitle('J = %.2f'%J[j], fontsize=14);\n",
    "        plt.annotate(Rvals, xy=(0, 3), xycoords='axes fraction', fontsize=14);\n",
    "        plt.savefig(path+'plots_100s/corner_100s_J%.2f_N10000.png'%J[j], dpi=300)\n",
    "        plt.clf()\n",
    "        plt.close()\n",
    "    \n",
    "    # plot parameters lnlikelihood plots only if not already present\n",
    "    if not os.path.isfile(path+'plots_100s/Like_params_100s_J%.2f_N10000.png'%J[j]):\n",
    "        fig, axes = plt.subplots(nrows=2, ncols=2, figsize=(10,10), sharey=True)\n",
    "        for i,(par, ax) in enumerate(zip(parameters, axes.flat)):\n",
    "            ax.plot( eval('{}'.format(par)), L, 'bo', alpha=0.2  );\n",
    "            exec( 'parmin = {}_min'.format(par) )\n",
    "            ax.plot( parmin, Lmin, 'r*', ms=10, label= '%s = %.2f'%(par, parmin) );\n",
    "            ax.vlines(x=truep[i], ymin=0, ymax=2000, label='true params: %.2f'%truep[i]);\n",
    "            ax.set_xlabel(par);\n",
    "            if i%2 == 0: \n",
    "                ax.set_ylabel('logLike', fontsize=12)\n",
    "            ax.set_ylim(roundLmin-5, roundLmin+15);\n",
    "            ax.legend(numpoints=1, loc='upper right');\n",
    "        #plt.tight_layout()\n",
    "        plt.suptitle('J = %.2f'%J[j], fontsize=14);\n",
    "        plt.savefig(path+'plots_100s/Like_params_100s_J%.2f_N10000.png'%J[j], dpi=300)\n",
    "        plt.clf()\n",
    "        plt.close()"
   ]
  },
  {
   "cell_type": "markdown",
   "metadata": {},
   "source": [
    "## build profile"
   ]
  },
  {
   "cell_type": "raw",
   "metadata": {},
   "source": [
    "path = '/home/andrea/Desktop/work/DWARF/ASTROJPY/results/mcmc/'\n",
    "files = os.listdir(path+'emc_results/')\n",
    "#samples_list = sorted( [f for f in files if 'samples_100' in f and 'N10000.npy' in f] )\n",
    "#lnprobs_list = sorted( [f for f in files if 'lnprobs_100' in f and 'N10000.npy' in f] )\n",
    "samples_list = sorted( [f for f in files if 'samples' in f and 'N5000.npy' in f] )\n",
    "lnprobs_list = sorted( [f for f in files if 'lnprobs' in f and 'N5000.npy' in f] )\n",
    "\n",
    "indJ = np.where(['J' in s for s in samples_list[1].split('_')])[0][0]\n",
    "\n",
    "J = [float( j.split('_')[indJ].strip('J') )/100 for j in samples_list]"
   ]
  },
  {
   "cell_type": "raw",
   "metadata": {
    "collapsed": true
   },
   "source": [
    "for var in ['L', 'r', 'a', 'b', 'c']:\n",
    "    exec( '{}_min = []'.format(var) )\n",
    "\n",
    "for j,(pars_file, lnprobs_file) in enumerate( zip(samples_list, lnprobs_list) ):\n",
    "    # open loglikelihoods\n",
    "    llikes = np.load(path+'emc_results/'+lnprobs_file)\n",
    "    L = -llikes.reshape(-1)\n",
    "    Lmin = min(L)\n",
    "    indLmin = np.where( L==Lmin )[0][-1]\n",
    "    L_min.append( Lmin )\n",
    "    \n",
    "    # parameters\n",
    "    params = np.load(path+'emc_results/'+pars_file)\n",
    "    flatparams = params[:, :, :].reshape((-1, len(params[0][0])))\n",
    "    for p,(par,R) in enumerate( zip( ['r', 'a', 'b', 'c'], gelman_rubin(params) ) ):\n",
    "        #print par, round(R,3)\n",
    "        values = [flatparams[i][p] for i in range(len(flatparams))]\n",
    "        exec( \"{} = np.asarray(values)\".format(par) )\n",
    "        exec( \"{0}_min.append( {0}[indLmin] )\".format(par) )"
   ]
  },
  {
   "cell_type": "raw",
   "metadata": {
    "collapsed": true
   },
   "source": [
    "interpL = interp(J, L_min)\n",
    "eval_Like_J = np.linspace(min(J), max(J), 1000)\n",
    "min_Like_J = interpL(eval_Like_J).min()\n",
    "Jmin = eval_Like_J[ np.where( interpL(eval_Like_J) == min_Like_J )[0][0] ]"
   ]
  },
  {
   "cell_type": "raw",
   "metadata": {},
   "source": [
    "for i,c in enumerate([0.5, 2.0, 4.5]):\n",
    "    exec('J%ssL = %.2f'%(i+1, brentq(lambda j : interpL(j)-interpL(J).min()-c, min(J), Jmin) - Jmin))\n",
    "    exec('J%ssR = %.2f'%(i+1, brentq(lambda j : interpL(j)-interpL(J).min()-c, Jmin, max(J)) - Jmin))"
   ]
  },
  {
   "cell_type": "raw",
   "metadata": {},
   "source": [
    "plt.plot(J, L_min-min(L_min));\n",
    "plt.plot(Jmin, 0, 'b^', ms=10, label=r'$\\mathcal{J}_{MLE}$ = %.2f'%Jmin);\n",
    "plt.plot(16.72, 0, 'r*', ms=10, label=r'$\\mathcal{J}_{TRUE}$ = 16.72');\n",
    "plt.hlines(0, 14, 27, linestyles='dashed', colors='k');\n",
    "for i,(c,h) in enumerate(zip(['r','g','c'],[0.5, 2.0, 4.5])):\n",
    "    s = i+1\n",
    "    JL, JR = eval( 'J{}sL'.format(s) ), eval( 'J{}sR'.format(s) )\n",
    "    plt.hlines(h, 14, 27, linestyles='dashed', colors=c,\n",
    "              label=r'$%i-\\sigma$'%s+'\\t'+'[%.2f,%.2f]'%(JL, JR))\n",
    "plt.ylim(-0.5, 10);\n",
    "plt.xlim(14, 27);\n",
    "plt.xlabel(r'$\\mathcal{J}$ [GeV$^2$  cm$^5$]', fontsize=14);\n",
    "plt.ylabel(r'$\\mathcal{L}$ ($\\mathcal{J}$)', fontsize=14);\n",
    "plt.legend(loc='upper right').get_frame().set_facecolor('w');\n",
    "plt.suptitle(r'$\\mathcal{J}$ profile likelihood using N$_\\star = 10$');\n",
    "#plt.savefig(path+'profileJ_10s.png', dpi=300);"
   ]
  },
  {
   "cell_type": "raw",
   "metadata": {},
   "source": [
    "Jprof = J\n",
    "Lprof = L_min"
   ]
  },
  {
   "cell_type": "raw",
   "metadata": {},
   "source": [
    "indmin = np.where( L_min==min(L_min) )[0][0]\n",
    "fig, axes = plt.subplots(nrows=1, ncols=4, sharey=True, figsize=(10,6))\n",
    "for par, ax in zip( ['r', 'a', 'b', 'c'], axes):\n",
    "    exec('par_mle = {}_min[indmin]'.format(par) )\n",
    "    ax.plot(J, eval( '{}_min'.format(par) ));\n",
    "    \n",
    "    #exec( 'spline_par = spline(J, {}_min)'.format(par) )\n",
    "    #exec('par_mle = spline_par(Jmin)'.format(par) )\n",
    "    #ax.plot(J, spline_par(J));\n",
    "    \n",
    "    ax.plot(Jmin, par_mle, 'r*' , ms=10, label=r'$%s_{MLE}$ = %.2f'%(par,par_mle));\n",
    "    ax.legend();"
   ]
  }
 ],
 "metadata": {
  "anaconda-cloud": {},
  "kernelspec": {
   "display_name": "Python 2",
   "language": "python",
   "name": "python2"
  },
  "language_info": {
   "codemirror_mode": {
    "name": "ipython",
    "version": 2
   },
   "file_extension": ".py",
   "mimetype": "text/x-python",
   "name": "python",
   "nbconvert_exporter": "python",
   "pygments_lexer": "ipython2",
   "version": "2.7.6"
  }
 },
 "nbformat": 4,
 "nbformat_minor": 1
}
