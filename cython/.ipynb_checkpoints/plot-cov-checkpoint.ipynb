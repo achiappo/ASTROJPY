{
 "cells": [
  {
   "cell_type": "markdown",
   "metadata": {},
   "source": [
    "## coverage "
   ]
  },
  {
   "cell_type": "code",
   "execution_count": 1,
   "metadata": {
    "collapsed": true
   },
   "outputs": [],
   "source": [
    "from os import listdir\n",
    "import numpy as np\n",
    "import pylab as plt\n",
    "\n",
    "from scipy.interpolate import interp1d as interp\n",
    "from scipy.optimize import brentq\n",
    "\n",
    "%matplotlib inline"
   ]
  },
  {
   "cell_type": "code",
   "execution_count": 2,
   "metadata": {},
   "outputs": [
    {
     "ename": "NameError",
     "evalue": "name 'J2sR' is not defined",
     "output_type": "error",
     "traceback": [
      "\u001b[0;31m---------------------------------------------------------------------------\u001b[0m",
      "\u001b[0;31mNameError\u001b[0m                                 Traceback (most recent call last)",
      "\u001b[0;32m<ipython-input-2-64f1f1e6221e>\u001b[0m in \u001b[0;36m<module>\u001b[0;34m()\u001b[0m\n\u001b[1;32m     41\u001b[0m \u001b[0;34m\u001b[0m\u001b[0m\n\u001b[1;32m     42\u001b[0m         \u001b[0;32mif\u001b[0m \u001b[0mJmin\u001b[0m\u001b[0;34m+\u001b[0m\u001b[0mJ1sL\u001b[0m \u001b[0;34m<\u001b[0m \u001b[0mJtrue\u001b[0m \u001b[0;34m<\u001b[0m \u001b[0mJmin\u001b[0m\u001b[0;34m+\u001b[0m\u001b[0mJ1sR\u001b[0m\u001b[0;34m:\u001b[0m \u001b[0min1s\u001b[0m \u001b[0;34m+=\u001b[0m\u001b[0;36m1\u001b[0m\u001b[0;34m\u001b[0m\u001b[0m\n\u001b[0;32m---> 43\u001b[0;31m         \u001b[0;32mif\u001b[0m \u001b[0mJmin\u001b[0m\u001b[0;34m+\u001b[0m\u001b[0mJ2sL\u001b[0m \u001b[0;34m<\u001b[0m \u001b[0mJtrue\u001b[0m \u001b[0;34m<\u001b[0m \u001b[0mJmin\u001b[0m\u001b[0;34m+\u001b[0m\u001b[0mJ2sR\u001b[0m\u001b[0;34m:\u001b[0m \u001b[0min2s\u001b[0m \u001b[0;34m+=\u001b[0m\u001b[0;36m1\u001b[0m\u001b[0;34m\u001b[0m\u001b[0m\n\u001b[0m\u001b[1;32m     44\u001b[0m         \u001b[0;31m#if Jmin+J3sL < Jtrue < Jmin+J3sR: in3s +=1\u001b[0m\u001b[0;34m\u001b[0m\u001b[0;34m\u001b[0m\u001b[0m\n\u001b[1;32m     45\u001b[0m     \u001b[0mJmins\u001b[0m \u001b[0;34m=\u001b[0m \u001b[0mnp\u001b[0m\u001b[0;34m.\u001b[0m\u001b[0masarray\u001b[0m\u001b[0;34m(\u001b[0m \u001b[0mJmins\u001b[0m \u001b[0;34m)\u001b[0m\u001b[0;34m\u001b[0m\u001b[0m\n",
      "\u001b[0;31mNameError\u001b[0m: name 'J2sR' is not defined"
     ]
    }
   ],
   "source": [
    "Jtrue = 16.72\n",
    "path = '../results/mcmc/cov/'\n",
    "\n",
    "for s,S in enumerate( [10, 100] ):\n",
    "    samples_list = sorted([f for f in listdir(path) if 'samples_cov%i_n'%S in f])\n",
    "    lnprobs_list = sorted([f for f in listdir(path) if 'lnprobs_cov%i_n'%S in f])\n",
    "    \n",
    "    Jmins = []\n",
    "    in1s,in2s,in3s = 0,0,0\n",
    "    for j,(samples, lnprobs) in enumerate( zip(samples_list, lnprobs_list) ):\n",
    "        samples = np.load(path+samples)\n",
    "        lnprobs = np.load(path+lnprobs)\n",
    "        \n",
    "        Jmc = samples[:,0]\n",
    "        Lmc = -lnprobs\n",
    "        Lmin = min(Lmc)\n",
    "        \n",
    "        Jenv, Lenv = [], []\n",
    "\n",
    "        hist, binsedges = np.histogram(Jmc, bins=30)\n",
    "        for Jl,Jr in zip( binsedges[:-1], binsedges[1:] ):\n",
    "            indbin = np.where( np.logical_and( Jl<Jmc, Jmc<Jr ) )[0]\n",
    "            if any(indbin):\n",
    "                Lbin, Jbin = Lmc[indbin], Jmc[indbin]\n",
    "                indLmin = np.where( Lbin==min(Lbin) )[0][0]\n",
    "                Jenv.append( Jbin[indLmin] )\n",
    "                Lenv.append( Lbin[indLmin] )\n",
    "        \n",
    "        interpLenv = interp(Jenv, Lenv)\n",
    "        eval_Like_J = np.linspace(min(Jenv), max(Jenv), 100)\n",
    "        min_Like_J = min(interpLenv(eval_Like_J))\n",
    "        Jmin = eval_Like_J[ np.where( interpLenv(eval_Like_J) == min_Like_J )[0][0] ]\n",
    "        Jmins.append( Jmin )\n",
    "        \n",
    "        for i,c in enumerate([0.5, 2.0, 4.5]):\n",
    "            try:\n",
    "                exec('J%ssL = %.2f'%(i+1, brentq(lambda j : interpLenv(j)-min_Like_J-c, min(Jenv), Jmin) - Jmin))\n",
    "                exec('J%ssR = %.2f'%(i+1, brentq(lambda j : interpLenv(j)-min_Like_J-c, Jmin, max(Jenv)) - Jmin))\n",
    "            except:\n",
    "                pass\n",
    "        \n",
    "        if Jmin+J1sL < Jtrue < Jmin+J1sR: in1s +=1 \n",
    "        if Jmin+J2sL < Jtrue < Jmin+J2sR: in2s +=1 \n",
    "        #if Jmin+J3sL < Jtrue < Jmin+J3sR: in3s +=1 \n",
    "    Jmins = np.asarray( Jmins )\n",
    "\n",
    "    relbias = (Jtrue-Jmins.mean())/Jtrue\n",
    "    plt.errorbar(x=Jmins.mean(), \n",
    "                 y=s+1, \n",
    "                 xerr=Jmins.std()/np.sqrt(Jmins.size),\n",
    "                 linestyle='', \n",
    "                 marker='d', \n",
    "                 markersize=10, \n",
    "                 linewidth=2, \n",
    "                 capsize=5, \n",
    "                 label=r'$\\left<\\mathcal{J}_{MLE}\\right>$ = %.2f'%Jmins.mean() + ' , bias = %.2f'%relbias);\n",
    "    plt.text(s=r\"1$\\sigma$ = %i\"%in1s + '%' + \"\\n\" + \"2$\\sigma$ = %i\"%in2s + '%', \n",
    "            x=Jtrue+0.4,\n",
    "            y=s+1);\n",
    "\n",
    "plt.vlines(x=Jtrue, ymin=0, ymax=4, label=r'$\\mathcal{J}_{TRUE}$ = 16.72');\n",
    "plt.yticks([1, 2],[r'N$_\\star$ = 10', r'N$_\\star$ = 100']);\n",
    "plt.xlim(Jtrue-1, Jtrue+1);\n",
    "plt.ylim(0, 4);\n",
    "plt.legend(fontsize=12).set_zorder(100);\n",
    "#plt.savefig('../results/mcmc/bias.png', dpi=300);"
   ]
  },
  {
   "cell_type": "raw",
   "metadata": {},
   "source": [
    "samples_list = sorted([f for f in listdir(path) if 'samples_cov100_n' in f])\n",
    "lnprobs_list = sorted([f for f in listdir(path) if 'lnprobs_cov100_n' in f])\n",
    "\n",
    "fig, axes = plt.subplots(nrows=10, ncols=10, sharex=True, sharey=True, figsize=(30, 30))\n",
    "for ((samples, lnprobs), ax) in zip( zip(samples_list, lnprobs_list), axes.flat ):\n",
    "    samples = np.load(path+samples)\n",
    "    lnprobs = np.load(path+lnprobs)\n",
    "    \n",
    "    Jmc = samples[:,0]\n",
    "    Lmc = -lnprobs\n",
    "    Lmin = min(Lmc)\n",
    "    Lmc -= Lmin\n",
    "    \n",
    "    Jenv, Lenv = [], []\n",
    "    hist, binsedges = np.histogram(Jmc, bins=30)\n",
    "    for Jl,Jr in zip( binsedges[:-1], binsedges[1:] ):\n",
    "        indbin = np.where( np.logical_and( Jl<Jmc, Jmc<Jr ) )[0]\n",
    "        if any(indbin):\n",
    "            Lbin, Jbin = Lmc[indbin], Jmc[indbin]\n",
    "            indLmin = np.where( Lbin==min(Lbin) )[0][0]\n",
    "            Jenv.append( Jbin[indLmin] )\n",
    "            Lenv.append( Lbin[indLmin] )\n",
    "\n",
    "    interpLenv = interp(Jenv, Lenv)\n",
    "    eval_Like_J = np.linspace(min(Jenv), max(Jenv), 100)\n",
    "    min_Like_J = min(interpLenv(eval_Like_J))\n",
    "    Jmin = eval_Like_J[ np.where( interpLenv(eval_Like_J) == min_Like_J )[0][0] ]\n",
    "    \n",
    "    ax.plot(Jmc, Lmc, 'bo', zorder=0);\n",
    "    ax.plot(Jenv, Lenv, 'c', lw=3, zorder=1);\n",
    "    ax.hlines(y=0.5, xmin=12, xmax=26, linestyles='dashed', colors='r', zorder=2);\n",
    "    ax.hlines(y=2.0, xmin=12, xmax=26, linestyles='dashed', colors='g', zorder=3);\n",
    "    ax.vlines(x=Jtrue, ymin=-0.5, ymax=10, zorder=4)\n",
    "    #ax.set_xlim(10, 30);\n",
    "    ax.set_ylim(-1, 10);\n",
    "    ax.set_ylabel(r'$\\mathcal{L}(\\mathcal{J})$');\n",
    "    ax.set_xlabel(r'$\\mathcal{J}$');\n",
    "plt.tight_layout();\n",
    "#plt.savefig('../coverage10.png', dpi=300);"
   ]
  },
  {
   "cell_type": "raw",
   "metadata": {},
   "source": [
    "plt.plot(Jmc, Lmc, 'bo', label='MCMC scan points');\n",
    "plt.plot(Jenv, Lenv, 'c', lw=3, label='MCMC envelope');\n",
    "plt.xlim(10, 30);\n",
    "plt.ylim(Lmin-1, Lmin+10);\n",
    "plt.legend();\n",
    "plt.suptitle('profile-vs-mcmc', fontsize=14);\n",
    "#plt.savefig(path + 'profile-vs-mcmc.png', dpi=300);"
   ]
  },
  {
   "cell_type": "markdown",
   "metadata": {},
   "source": [
    "## manual coverage"
   ]
  },
  {
   "cell_type": "code",
   "execution_count": 15,
   "metadata": {
    "collapsed": true
   },
   "outputs": [],
   "source": [
    "from os import listdir\n",
    "import numpy as np\n",
    "import pylab as plt\n",
    "\n",
    "from scipy.interpolate import interp1d as interp\n",
    "from scipy.optimize import brentq\n",
    "\n",
    "%matplotlib inline"
   ]
  },
  {
   "cell_type": "code",
   "execution_count": 16,
   "metadata": {},
   "outputs": [
    {
     "data": {
      "text/plain": [
       "array([  1.19353202e+01,   1.35034587e+01,  -6.62071065e-01,\n",
       "         3.87728298e+00,   6.88562982e+00,   3.93382774e-03])"
      ]
     },
     "execution_count": 16,
     "metadata": {},
     "output_type": "execute_result"
    }
   ],
   "source": [
    "results = np.load('../results/mcmc/cov/manu_cov10_n71.npy')\n",
    "results[0]"
   ]
  },
  {
   "cell_type": "code",
   "execution_count": 18,
   "metadata": {
    "collapsed": true
   },
   "outputs": [],
   "source": [
    "J_array = results[:,0]\n",
    "Likes = results[:,1]\n",
    "params = results[:,1:]\n",
    "\n",
    "Lmin_man = min(Likes)\n",
    "indLmin = np.where( Likes==Lmin_man )[0][0]\n",
    "Jmin_man = J_array[ indLmin ]"
   ]
  },
  {
   "cell_type": "code",
   "execution_count": 19,
   "metadata": {
    "collapsed": true
   },
   "outputs": [],
   "source": [
    "samples = np.load('../results/mcmc/cov/samples_cov10_71.npy')\n",
    "lnprobs = np.load('../results/mcmc/cov/lnprobs_cov10_71.npy')"
   ]
  },
  {
   "cell_type": "code",
   "execution_count": 20,
   "metadata": {
    "collapsed": true
   },
   "outputs": [],
   "source": [
    "Jmc = samples[:,0]\n",
    "Lmc = -lnprobs\n",
    "Lmin_mc = min(Lmc)\n",
    "\n",
    "Jenv, Lenv = [], []\n",
    "\n",
    "hist, binsedges = np.histogram(Jmc, bins=30)\n",
    "for Jl,Jr in zip( binsedges[:-1], binsedges[1:] ):\n",
    "    indbin = np.where( np.logical_and( Jl<Jmc, Jmc<Jr ) )[0]\n",
    "    if any(indbin):\n",
    "        Lbin, Jbin = Lmc[indbin], Jmc[indbin]\n",
    "        indLmin = np.where( Lbin==min(Lbin) )[0][0]\n",
    "        Jenv.append( Jbin[indLmin] )\n",
    "        Lenv.append( Lbin[indLmin] )\n",
    "        \n",
    "interpLenv = interp(Jenv, Lenv)\n",
    "eval_Like_J = np.linspace(min(Jenv), max(Jenv), 100)\n",
    "min_Like_J = min(interpLenv(eval_Like_J))\n",
    "Jmin_mc = eval_Like_J[ np.where( interpLenv(eval_Like_J) == min_Like_J )[0][0] ]"
   ]
  },
  {
   "cell_type": "code",
   "execution_count": 22,
   "metadata": {},
   "outputs": [
    {
     "data": {
      "image/png": "[encoded data removed]",
      "text/plain": [
       "<matplotlib.figure.Figure at 0x7f46ae6d5c10>"
      ]
     },
     "metadata": {},
     "output_type": "display_data"
    }
   ],
   "source": [
    "plt.plot(J_array, Likes, 'r-', Jenv, interpLenv(Jenv), 'b-');\n",
    "plt.plot(Jmin_man, Lmin_man, 'm*', Jmin_mc, Lmin_mc, 'c*');"
   ]
  },
  {
   "cell_type": "markdown",
   "metadata": {},
   "source": [
    "### convergence check with Gelman-Rubin criterion for coverage/bias tests results"
   ]
  },
  {
   "cell_type": "raw",
   "metadata": {},
   "source": [
    "import numpy as np\n",
    "from os import listdir\n",
    "from pymc import gelman_rubin\n",
    "\n",
    "path = '../results/mcmc/cov/'\n",
    "parameters = parameters = ['J', 'r', 'a', 'b', 'c']\n",
    "\n",
    "Sams = []\n",
    "\n",
    "for s,S in enumerate( [10, 100] ):\n",
    "    print 'Nstars = ', S\n",
    "    samples_list = sorted([f for f in listdir(path) if 'samples_cov%i_n'%S in f])\n",
    "    lnprobs_list = sorted([f for f in listdir(path) if 'lnprobs_cov%i_n'%S in f])\n",
    "    \n",
    "    for j,(samples, lnprobs) in enumerate( zip(samples_list, lnprobs_list) ):\n",
    "        samples = np.load(path+samples)\n",
    "        Sams.append( samples )\n",
    "    \n",
    "    for p,(par,R) in enumerate( zip( parameters, gelman_rubin(Sams) ) ):\n",
    "        exec( '{0}_R = {1}'.format(par, R) )\n",
    "    \n",
    "    Rvals = '\\n '.join(  ['par    R'] + [ p + '    ' + str(eval( 'round({}_R,3)'.format(p) )) for p in parameters] )\n",
    "    print Rvals, '\\n'"
   ]
  }
 ],
 "metadata": {
  "anaconda-cloud": {},
  "kernelspec": {
   "display_name": "Python 2",
   "language": "python",
   "name": "python2"
  },
  "language_info": {
   "codemirror_mode": {
    "name": "ipython",
    "version": 2
   },
   "file_extension": ".py",
   "mimetype": "text/x-python",
   "name": "python",
   "nbconvert_exporter": "python",
   "pygments_lexer": "ipython2",
   "version": "2.7.6"
  }
 },
 "nbformat": 4,
 "nbformat_minor": 1
}
