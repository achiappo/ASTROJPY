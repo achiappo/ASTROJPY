{
 "cells": [
  {
   "cell_type": "code",
   "execution_count": 1,
   "metadata": {
    "collapsed": false
   },
   "outputs": [],
   "source": [
    "import numpy as np\n",
    "from math import log10\n",
    "import pylab as plt\n",
    "from scipy.interpolate import interp1d as interp\n",
    "from scipy.optimize import brentq, minimize_scalar\n",
    "from profiles import build_profile, build_kernel\n",
    "from dispersion import SphericalJeansDispersion\n",
    "from likelihood import GaussianLikelihood\n",
    "from fitter import MinuitFitter\n",
    "\n",
    "%matplotlib inline"
   ]
  },
  {
   "cell_type": "code",
   "execution_count": 2,
   "metadata": {
    "collapsed": false
   },
   "outputs": [],
   "source": [
    "directory = '/home/andrea/Desktop/work/DWARF/dsphsim/'\n",
    "rh = 0.04\n",
    "D = 39.81\n",
    "theta = 2*rh/D\n",
    "R, v = np.loadtxt(directory+'Ret2_data/dsph_001.txt',usecols=(5, 7),unpack=True)\n",
    "dv = np.zeros_like(v)"
   ]
  },
  {
   "cell_type": "code",
   "execution_count": 3,
   "metadata": {
    "collapsed": false
   },
   "outputs": [],
   "source": [
    "dm = build_profile('NFW')\n",
    "st = build_profile('plummer',**{'rh':rh}) # non-Plummer Stellar profile\n",
    "kr = build_kernel('iso') # isotropic kernel\n",
    "dwarf_props = {'D':D, 'theta':theta, 'rt':np.inf, 'with_errs':False}"
   ]
  },
  {
   "cell_type": "code",
   "execution_count": 4,
   "metadata": {
    "collapsed": false
   },
   "outputs": [],
   "source": [
    "Sigma = SphericalJeansDispersion(dm, st, kr, dwarf_props)\n",
    "LL = GaussianLikelihood([R, v, dv, 0.], Sigma)\n",
    "LL.set_free('dm_r0')\n",
    "global global_loglike\n",
    "global_loglike = LL\n",
    "M = MinuitFitter(LL)"
   ]
  },
  {
   "cell_type": "code",
   "execution_count": 5,
   "metadata": {
    "collapsed": false
   },
   "outputs": [
    {
     "name": "stdout",
     "output_type": "stream",
     "text": [
      "rs = 0.349977, rhos = 7.55474e+07, J = 16.7168\n"
     ]
    }
   ],
   "source": [
    "dm_true = build_profile('NFW')\n",
    "rvmax = 0.757\n",
    "vmax = 10.4\n",
    "rs = rvmax/2.163\n",
    "rhos = 4.625 * (vmax/rs)**2 / (4*np.pi*4.302e-6)\n",
    "dm_true.r0 = rs\n",
    "dm_true.rho0 = rhos\n",
    "Jtrue = log10(dm_true.Jfactor(**dwarf_props))\n",
    "print 'rs = %g, rhos = %g, J = %g'%(rs,rhos,Jtrue)"
   ]
  },
  {
   "cell_type": "code",
   "execution_count": 6,
   "metadata": {
    "collapsed": true
   },
   "outputs": [],
   "source": [
    "# J\n",
    "M.set_value('J',17)\n",
    "M.set_error('J',0.01)\n",
    "#M.set_fixed('J')\n",
    "#M.set_bound('J',(15,22))\n",
    "# r0\n",
    "M.set_value('dm_r0',rh*2.)\n",
    "M.set_error('dm_r0',0.01)\n",
    "#M.set_bound('dm_r0',(R.min(),R.max()*100))\n",
    "M.settings['print_level'] = 1"
   ]
  },
  {
   "cell_type": "raw",
   "metadata": {
    "collapsed": true
   },
   "source": [
    "LL.set_free('dm_a')\n",
    "LL.set_free('dm_b')\n",
    "LL.set_free('dm_c')\n",
    "\n",
    "# a\n",
    "M.set_value('dm_a',1.)\n",
    "M.set_error('dm_a',0.01)\n",
    "#M.set_bound('dm_a',(1e-10,10))\n",
    "# b\n",
    "M.set_value('dm_b',3.)\n",
    "M.set_error('dm_b',0.01)\n",
    "#M.set_bound('dm_b',(1e-10,10))\n",
    "# c\n",
    "M.set_value('dm_c',1.)\n",
    "M.set_error('dm_c',0.01)\n",
    "#M.set_bound('dm_c',(1e-10,10))"
   ]
  },
  {
   "cell_type": "code",
   "execution_count": 7,
   "metadata": {
    "collapsed": false
   },
   "outputs": [
    {
     "data": {
      "text/plain": [
       "{'J': 17,\n",
       " 'dm_r0': 0.08,\n",
       " 'error_J': 0.01,\n",
       " 'error_dm_r0': 0.01,\n",
       " 'errordef': 0.5,\n",
       " 'pedantic': False,\n",
       " 'print_level': 1}"
      ]
     },
     "execution_count": 7,
     "metadata": {},
     "output_type": "execute_result"
    }
   ],
   "source": [
    "M.settings"
   ]
  },
  {
   "cell_type": "code",
   "execution_count": 8,
   "metadata": {
    "collapsed": false
   },
   "outputs": [
    {
     "data": {
      "text/html": [
       "<hr>"
      ]
     },
     "metadata": {},
     "output_type": "display_data"
    },
    {
     "data": {
      "text/html": [
       "\n",
       "        <table>\n",
       "            <tr>\n",
       "                <td title=\"Minimum value of function\">FCN = 1195.30167405</td>\n",
       "                <td title=\"Total number of call to FCN so far\">TOTAL NCALL = 87</td>\n",
       "                <td title=\"Number of call in last migrad\">NCALLS = 87</td>\n",
       "            </tr>\n",
       "            <tr>\n",
       "                <td title=\"Estimated distance to minimum\">EDM = 0.177717907266</td>\n",
       "                <td title=\"Maximum EDM definition of convergence\">GOAL EDM = 0.5</td>\n",
       "                <td title=\"Error def. Amount of increase in FCN to be defined as 1 standard deviation\">\n",
       "                UP = 0.5</td>\n",
       "            </tr>\n",
       "        </table>\n",
       "        \n",
       "        <table>\n",
       "            <tr>\n",
       "                <td align=\"center\" title=\"Validity of the migrad call\">Valid</td>\n",
       "                <td align=\"center\" title=\"Validity of parameters\">Valid Param</td>\n",
       "                <td align=\"center\" title=\"Is Covariance matrix accurate?\">Accurate Covar</td>\n",
       "                <td align=\"center\" title=\"Positive definiteness of covariance matrix\">PosDef</td>\n",
       "                <td align=\"center\" title=\"Was covariance matrix made posdef by adding diagonal element\">Made PosDef</td>\n",
       "            </tr>\n",
       "            <tr>\n",
       "                <td align=\"center\" style=\"background-color:#92CCA6\">True</td>\n",
       "                <td align=\"center\" style=\"background-color:#92CCA6\">True</td>\n",
       "                <td align=\"center\" style=\"background-color:#92CCA6\">True</td>\n",
       "                <td align=\"center\" style=\"background-color:#92CCA6\">True</td>\n",
       "                <td align=\"center\" style=\"background-color:#92CCA6\">False</td>\n",
       "            </tr>\n",
       "            <tr>\n",
       "                <td align=\"center\" title=\"Was last hesse call fail?\">Hesse Fail</td>\n",
       "                <td align=\"center\" title=\"Validity of covariance\">HasCov</td>\n",
       "                <td align=\"center\" title=\"Is EDM above goal EDM?\">Above EDM</td>\n",
       "                <td align=\"center\"></td>\n",
       "                <td align=\"center\" title=\"Did last migrad call reach max call limit?\">Reach calllim</td>\n",
       "            </tr>\n",
       "            <tr>\n",
       "                <td align=\"center\" style=\"background-color:#92CCA6\">False</td>\n",
       "                <td align=\"center\" style=\"background-color:#92CCA6\">True</td>\n",
       "                <td align=\"center\" style=\"background-color:#92CCA6\">False</td>\n",
       "                <td align=\"center\"></td>\n",
       "                <td align=\"center\" style=\"background-color:#92CCA6\">False</td>\n",
       "            </tr>\n",
       "        </table>\n",
       "        "
      ]
     },
     "metadata": {},
     "output_type": "display_data"
    },
    {
     "data": {
      "text/html": [
       "\n",
       "        <table>\n",
       "            <tr>\n",
       "                <td><a href=\"#\" onclick=\"$('#vDbwVhrspB').toggle()\">+</a></td>\n",
       "                <td title=\"Variable name\">Name</td>\n",
       "                <td title=\"Value of parameter\">Value</td>\n",
       "                <td title=\"Parabolic error\">Parab Error</td>\n",
       "                <td title=\"Minos lower error\">Minos Error-</td>\n",
       "                <td title=\"Minos upper error\">Minos Error+</td>\n",
       "                <td title=\"Lower limit of the parameter\">Limit-</td>\n",
       "                <td title=\"Upper limit of the parameter\">Limit+</td>\n",
       "                <td title=\"Is the parameter fixed in the fit\">FIXED</td>\n",
       "            </tr>\n",
       "        \n",
       "            <tr>\n",
       "                <td>1</td>\n",
       "                <td>J</td>\n",
       "                <td>1.664284e+01</td>\n",
       "                <td>8.771086e-02</td>\n",
       "                <td>0.000000e+00</td>\n",
       "                <td>0.000000e+00</td>\n",
       "                <td></td>\n",
       "                <td></td>\n",
       "                <td></td>\n",
       "            </tr>\n",
       "            \n",
       "            <tr>\n",
       "                <td>2</td>\n",
       "                <td>dm_r0</td>\n",
       "                <td>3.280938e-01</td>\n",
       "                <td>1.066949e-01</td>\n",
       "                <td>0.000000e+00</td>\n",
       "                <td>0.000000e+00</td>\n",
       "                <td></td>\n",
       "                <td></td>\n",
       "                <td></td>\n",
       "            </tr>\n",
       "            \n",
       "            </table>\n",
       "        \n",
       "            <pre id=\"vDbwVhrspB\" style=\"display:none;\">\n",
       "            <textarea rows=\"10\" cols=\"50\" onclick=\"this.select()\" readonly>\\begin{tabular}{|c|r|r|r|r|r|r|r|c|}\n",
       "\\hline\n",
       " & Name & Value & Para Error & Error+ & Error- & Limit+ & Limit- & FIXED\\\\\n",
       "\\hline\n",
       "1 & J & 1.664e+01 & 8.771e-02 &  &  &  &  & \\\\\n",
       "\\hline\n",
       "2 & $dm_{r0}$ & 3.281e-01 & 1.067e-01 &  &  &  &  & \\\\\n",
       "\\hline\n",
       "\\end{tabular}</textarea>\n",
       "            </pre>\n",
       "            "
      ]
     },
     "metadata": {},
     "output_type": "display_data"
    },
    {
     "data": {
      "text/html": [
       "<hr>"
      ]
     },
     "metadata": {},
     "output_type": "display_data"
    }
   ],
   "source": [
    "%timeit\n",
    "M.set_minuit(**{'tol':1e4,'strategy':2})\n",
    "BF = M.migrad_min()"
   ]
  },
  {
   "cell_type": "markdown",
   "metadata": {},
   "source": [
    "free: J, rs  | result: J=19.61, rs=46.70  \n",
    "free: J, rs, a, b, c  |  result: J=17, rs=0.08, a=1, b=3, c=1 > NO ACTUAL MINIMISATION HAPPENING"
   ]
  },
  {
   "cell_type": "raw",
   "metadata": {
    "collapsed": false
   },
   "source": [
    "M.minuit.hesse()"
   ]
  },
  {
   "cell_type": "raw",
   "metadata": {
    "collapsed": false
   },
   "source": [
    "J_min = BF[1][0]['value']\n",
    "J_r0 = BF[1][1]['value']\n",
    "minrho = lambda rho : abs(J_min-log10(dm.Jfactor(D, theta, np.inf, False))-2*rho)\n",
    "J_rho0 = 10**minimize_scalar(minrho).x\n",
    "print '%g %g %g'%(J_min,J_r0,J_rho0)\n",
    "G = 4.3e-6\n",
    "Mtrue = 14.3**2 * 0.52 / G\n",
    "print '%g'%Mtrue\n",
    "Mmle = 4 * np.pi * J_rho0 * J_r0**3 * dm.mass(0.52/J_r0)\n",
    "print '%g'%Mmle"
   ]
  },
  {
   "cell_type": "raw",
   "metadata": {
    "collapsed": true
   },
   "source": [
    "M.minuit.tol = 1e-1\n",
    "J, L = M.minos_profile('J',**{'bound':(17,20), 'bins':10, 'subtract_min':True})"
   ]
  },
  {
   "cell_type": "raw",
   "metadata": {},
   "source": [
    "J_array = np.asarray(J)\n",
    "Like_array = np.asarray(L)\n",
    "new_Like = interp(J_array,Like_array)"
   ]
  },
  {
   "cell_type": "raw",
   "metadata": {},
   "source": [
    "new_J = np.linspace(J_array.min(),J_array.max())\n",
    "plt.plot(new_J, new_Like(new_J))\n",
    "plt.ylim(-0.5,12);"
   ]
  },
  {
   "cell_type": "raw",
   "metadata": {
    "collapsed": true
   },
   "source": [
    "err = BF[1][0]['error']\n",
    "J_array = np.linspace(J_min-err*3,J_min+err*3)\n",
    "for J in J_array:\n",
    "    \n",
    "M.minuit.draw_mnprofile('J', bound=(17,22), subtract_min=True, text=False);\n",
    "plt.plot([], [], label=r'M$_{true}$ = %.2e'%Mtrue + '\\n' +\n",
    "                         r'M$_{mle}$ = %.2e'%Mmle + '\\n' + \n",
    "                         r'J$_{min}$ = %.2f'%J_min + '\\n' +\n",
    "                         r'$\\rho_0$ = %.2e'%J_rho0 + '\\n' + \n",
    "                         r'$r_0$ = %.2f'%J_r0)\n",
    "plt.ylim(-0.5,6);\n",
    "name = 'dsphsim_100_2p_Core_Plum_IS_wstaterr'\n",
    "plt.suptitle(name)\n",
    "plt.legend(numpoints=1, fontsize=12);\n",
    "#plt.savefig('../plots/%s.png'%name,format='png',dpi=300)"
   ]
  },
  {
   "cell_type": "code",
   "execution_count": null,
   "metadata": {
    "collapsed": true
   },
   "outputs": [],
   "source": []
  }
 ],
 "metadata": {
  "kernelspec": {
   "display_name": "Python 2",
   "language": "python",
   "name": "python2"
  },
  "language_info": {
   "codemirror_mode": {
    "name": "ipython",
    "version": 2
   },
   "file_extension": ".py",
   "mimetype": "text/x-python",
   "name": "python",
   "nbconvert_exporter": "python",
   "pygments_lexer": "ipython2",
   "version": "2.7.6"
  }
 },
 "nbformat": 4,
 "nbformat_minor": 0
}
