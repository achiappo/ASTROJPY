{
 "cells": [
  {
   "cell_type": "code",
   "execution_count": 1,
   "metadata": {
    "collapsed": false,
    "deletable": true,
    "editable": true
   },
   "outputs": [],
   "source": [
    "import numpy as np\n",
    "import pylab as plt\n",
    "from math import *\n",
    "from scipy import integrate\n",
    "from cyfuncs import *\n",
    "from exceptions import Exception, ValueError, OverflowError, ZeroDivisionError\n",
    "%matplotlib inline"
   ]
  },
  {
   "cell_type": "code",
   "execution_count": 31,
   "metadata": {
    "collapsed": false,
    "deletable": true,
    "editable": true
   },
   "outputs": [],
   "source": [
    "D = 40.\n",
    "r0 = 0.35\n",
    "rt = 2.#np.inf\n",
    "theta = 0.5\n",
    "Dprime = D/r0\n",
    "rtprime = rt/r0\n",
    "ymin = cos(np.radians(theta))\n",
    "\n",
    "def density(x):\n",
    "    return zhao_func(x, 1., 3., 0.)\n",
    "\n",
    "def radius(z, y, Dprime):\n",
    "    try:\n",
    "        return sqrt( z*z + Dprime*Dprime*(1-y*y) )\n",
    "    except (OverflowError, ZeroDivisionError):\n",
    "        return np.nan"
   ]
  },
  {
   "cell_type": "code",
   "execution_count": 32,
   "metadata": {
    "collapsed": true,
    "deletable": true,
    "editable": true
   },
   "outputs": [],
   "source": [
    "def integrand(z,y):\n",
    "    try:\n",
    "        return density( radius(z, y, Dprime) )**2\n",
    "    except (OverflowError, ZeroDivisionError):\n",
    "        return np.nan\n",
    "\n",
    "rc = 0.01\n",
    "alpha = atan( rc/D )\n",
    "A = cos( np.radians(alpha) )\n",
    "\n",
    "def lim_z1(y):\n",
    "    l1_min = D*y - sqrt( rt*rt - D*D*(1.-y*y) )\n",
    "    l1_max = D*y if y<A else D*A - sqrt( rc*rc - D*D * (1. - A*A) )\n",
    "    return [l1_min, l1_max]\n",
    "\n",
    "def lim_z2(y):\n",
    "    l2_min = D*y if y<A else D*A + sqrt( rc*rc - D*D * (1. - A*A) )\n",
    "    l2_max = D*y + sqrt( rt*rt - D*D*(1.-y*y) )\n",
    "    return [l2_min, l2_max]\n",
    "\n",
    "def lim_y():\n",
    "    return [ymin, 1.]"
   ]
  },
  {
   "cell_type": "code",
   "execution_count": 33,
   "metadata": {
    "collapsed": false,
    "deletable": true,
    "editable": true
   },
   "outputs": [],
   "source": [
    "I1 = integrate.nquad(integrand, ranges=[lim_z1, lim_y], \\\n",
    "                    opts=[{'limit':1000, 'epsabs':1.e-10, 'epsrel':1.e-10},\\\n",
    "                          {'limit':1000, 'epsabs':1.e-10, 'epsrel':1.e-10}])\n",
    "\n",
    "I2 = integrate.nquad(integrand, ranges=[lim_z2, lim_y], \\\n",
    "                    opts=[{'limit':1000, 'epsabs':1.e-10, 'epsrel':1.e-10},\\\n",
    "                          {'limit':1000, 'epsabs':1.e-10, 'epsrel':1.e-10}])"
   ]
  },
  {
   "cell_type": "code",
   "execution_count": 9,
   "metadata": {
    "collapsed": false,
    "deletable": true,
    "editable": true
   },
   "outputs": [
    {
     "data": {
      "text/plain": [
       "((3.154060768276175e-06, 9.915497476320414e-11),\n",
       " (6.569492651829997e-14, 3.306656083003728e-11))"
      ]
     },
     "execution_count": 9,
     "metadata": {},
     "output_type": "execute_result"
    }
   ],
   "source": [
    "I1,I2 "
   ]
  },
  {
   "cell_type": "code",
   "execution_count": 49,
   "metadata": {
    "collapsed": false,
    "deletable": true,
    "editable": true
   },
   "outputs": [
    {
     "name": "stdout",
     "output_type": "stream",
     "text": [
      "\n",
      "    Integrate y(x) using samples along the given axis and the composite\n",
      "    Simpson's rule.  If x is None, spacing of dx is assumed.\n",
      "\n",
      "    If there are an even number of samples, N, then there are an odd\n",
      "    number of intervals (N-1), but Simpson's rule requires an even number\n",
      "    of intervals.  The parameter 'even' controls how this is handled.\n",
      "\n",
      "    Parameters\n",
      "    ----------\n",
      "    y : array_like\n",
      "        Array to be integrated.\n",
      "    x : array_like, optional\n",
      "        If given, the points at which `y` is sampled.\n",
      "    dx : int, optional\n",
      "        Spacing of integration points along axis of `y`. Only used when\n",
      "        `x` is None. Default is 1.\n",
      "    axis : int, optional\n",
      "        Axis along which to integrate. Default is the last axis.\n",
      "    even : str {'avg', 'first', 'last'}, optional\n",
      "        'avg' : Average two results:1) use the first N-2 intervals with\n",
      "                  a trapezoidal rule on the last interval and 2) use the last\n",
      "                  N-2 intervals with a trapezoidal rule on the first interval.\n",
      "\n",
      "        'first' : Use Simpson's rule for the first N-2 intervals with\n",
      "                a trapezoidal rule on the last interval.\n",
      "\n",
      "        'last' : Use Simpson's rule for the last N-2 intervals with a\n",
      "               trapezoidal rule on the first interval.\n",
      "\n",
      "    See Also\n",
      "    --------\n",
      "    quad: adaptive quadrature using QUADPACK\n",
      "    romberg: adaptive Romberg quadrature\n",
      "    quadrature: adaptive Gaussian quadrature\n",
      "    fixed_quad: fixed-order Gaussian quadrature\n",
      "    dblquad: double integrals\n",
      "    tplquad: triple integrals\n",
      "    romb: integrators for sampled data\n",
      "    cumtrapz: cumulative integration for sampled data\n",
      "    ode: ODE integrators\n",
      "    odeint: ODE integrators\n",
      "\n",
      "    Notes\n",
      "    -----\n",
      "    For an odd number of samples that are equally spaced the result is\n",
      "    exact if the function is a polynomial of order 3 or less.  If\n",
      "    the samples are not equally spaced, then the result is exact only\n",
      "    if the function is a polynomial of order 2 or less.\n",
      "\n",
      "    \n"
     ]
    }
   ],
   "source": [
    "print(integrate.simps.__doc__)"
   ]
  },
  {
   "cell_type": "code",
   "execution_count": 45,
   "metadata": {
    "collapsed": true,
    "deletable": true,
    "editable": true
   },
   "outputs": [],
   "source": [
    "def integrand_y(y):\n",
    "    return integrate.romberg(integrand, a=lim_z1(y)[0], b=lim_z1(y)[1], args=(y,), tol=1.e-10)"
   ]
  },
  {
   "cell_type": "code",
   "execution_count": 46,
   "metadata": {
    "collapsed": false,
    "deletable": true,
    "editable": true
   },
   "outputs": [],
   "source": [
    "I1romb = integrate.romberg( integrand_y, a=lim_y()[0], b=lim_y()[1], tol=1.e-10)"
   ]
  },
  {
   "cell_type": "code",
   "execution_count": 48,
   "metadata": {
    "collapsed": false,
    "deletable": true,
    "editable": true
   },
   "outputs": [
    {
     "data": {
      "text/plain": [
       "1.847955605408606e-14"
      ]
     },
     "execution_count": 48,
     "metadata": {},
     "output_type": "execute_result"
    }
   ],
   "source": [
    "I1romb"
   ]
  }
 ],
 "metadata": {
  "kernelspec": {
   "display_name": "Python 2",
   "language": "python",
   "name": "python2"
  },
  "language_info": {
   "codemirror_mode": {
    "name": "ipython",
    "version": 2
   },
   "file_extension": ".py",
   "mimetype": "text/x-python",
   "name": "python",
   "nbconvert_exporter": "python",
   "pygments_lexer": "ipython2",
   "version": "2.7.6"
  }
 },
 "nbformat": 4,
 "nbformat_minor": 0
}
