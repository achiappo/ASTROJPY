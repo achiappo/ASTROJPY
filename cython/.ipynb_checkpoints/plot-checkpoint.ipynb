{
 "cells": [
  {
   "cell_type": "code",
   "execution_count": 1,
   "metadata": {
    "collapsed": false
   },
   "outputs": [],
   "source": [
    "import yaml\n",
    "import numpy as np\n",
    "from math import sqrt,log10\n",
    "import pylab as plt\n",
    "from scipy.optimize import brentq\n",
    "from scipy.interpolate import interp1d as interp\n",
    "\n",
    "%matplotlib inline"
   ]
  },
  {
   "cell_type": "code",
   "execution_count": 2,
   "metadata": {
    "collapsed": false
   },
   "outputs": [],
   "source": [
    "J, L = np.load('results/LikeJ.npy')\n",
    "r = open('results/results.yaml')\n",
    "res = yaml.load(r)\n",
    "r.close()"
   ]
  },
  {
   "cell_type": "code",
   "execution_count": 3,
   "metadata": {
    "collapsed": false
   },
   "outputs": [
    {
     "data": {
      "text/plain": [
       "{'Jmin': 16.62962962962963,\n",
       " 'Nstars': 715,\n",
       " 'a': 22.45057813538897,\n",
       " 'b': 1.7011678703310478,\n",
       " 'c': 1.0587086562614088,\n",
       " 'r': 0.0756346781541735,\n",
       " 'rho': 2.5089636896296324e-72}"
      ]
     },
     "execution_count": 3,
     "metadata": {},
     "output_type": "execute_result"
    }
   ],
   "source": [
    "res"
   ]
  },
  {
   "cell_type": "code",
   "execution_count": 4,
   "metadata": {
    "collapsed": false
   },
   "outputs": [],
   "source": [
    "Jmin = res['Jmin']\n",
    "Ja = res['a']\n",
    "Jb = res['b']\n",
    "Jc = res['c']\n",
    "Jr = res['r']\n",
    "Jrho = res['rho']"
   ]
  },
  {
   "cell_type": "code",
   "execution_count": 5,
   "metadata": {
    "collapsed": true
   },
   "outputs": [],
   "source": [
    "J_new = np.linspace(J.min(),J.max())\n",
    "interp_L = interp(J,L)"
   ]
  },
  {
   "cell_type": "code",
   "execution_count": 6,
   "metadata": {
    "collapsed": false
   },
   "outputs": [],
   "source": [
    "for i,c in enumerate([0.5, 2.0, 4.5]):\n",
    "    exec('J%ssL = %.2f'%(i+1, brentq(lambda j : interp_L(j)-c, J_new.min(), Jmin) - Jmin))\n",
    "    exec('J%ssR = %.2f'%(i+1, brentq(lambda j : interp_L(j)-c, Jmin, J_new.max()) - Jmin))"
   ]
  },
  {
   "cell_type": "code",
   "execution_count": 7,
   "metadata": {
    "collapsed": false
   },
   "outputs": [
    {
     "name": "stderr",
     "output_type": "stream",
     "text": [
      "/usr/lib/pymodules/python2.7/matplotlib/collections.py:548: FutureWarning: elementwise comparison failed; returning scalar instead, but in the future will perform elementwise comparison\n",
      "  if self._edgecolors == 'face':\n"
     ]
    },
    {
     "data": {
      "image/png": "[encoded data removed]",
      "text/plain": [
       "<matplotlib.figure.Figure at 0x7fc496ce8610>"
      ]
     },
     "metadata": {},
     "output_type": "display_data"
    }
   ],
   "source": [
    "plt.plot(J_new, interp_L(J_new))\n",
    "plt.hlines(0, J_new.min(), J_new.max(), linestyles='dashed')\n",
    "plt.plot(Jmin, 0, 'b^', markersize=10, label=r'$\\mathcal{J}_{MLE}$ = %.2f'%Jmin)\n",
    "plt.plot(16.72, 0, 'rd', markersize=6, label=r'$\\mathcal{J}_{TRUE}$ = 16.72')\n",
    "for i,(c,h) in enumerate(zip(['r','g','c'],[0.5, 2.0, 4.5])):\n",
    "    JL, JR = eval('J%ssL'%str(i+1)), eval('J%ssR'%str(i+1))\n",
    "    plt.hlines(h, J_new.min(), J_new.max(), linestyles='dashed', colors=c,\n",
    "              label=r'$%i-\\sigma$'%(i+1)+'\\t'+'[%2s,%2s]'%(str(JL),str(JR)))\n",
    "plt.legend(numpoints=1,fontsize=14).get_frame().set_facecolor('w')\n",
    "plt.text(15.5, 7,'a = %.2f (1)'%Ja +'\\n'+\n",
    "                 'b = %.2f (3)'%Jb +'\\n'+\n",
    "                 'c = %.2f (1)'%Jc +'\\n'+\n",
    "                 r'$r_s$ = %.2f (0.35)'%Jr)\n",
    "\n",
    "plt.ylim(-0.5,12)\n",
    "#plt.savefig('results/LikeJ.png');"
   ]
  },
  {
   "cell_type": "code",
   "execution_count": null,
   "metadata": {
    "collapsed": true
   },
   "outputs": [],
   "source": []
  }
 ],
 "metadata": {
  "kernelspec": {
   "display_name": "Python 2",
   "language": "python",
   "name": "python2"
  },
  "language_info": {
   "codemirror_mode": {
    "name": "ipython",
    "version": 2
   },
   "file_extension": ".py",
   "mimetype": "text/x-python",
   "name": "python",
   "nbconvert_exporter": "python",
   "pygments_lexer": "ipython2",
   "version": "2.7.6"
  }
 },
 "nbformat": 4,
 "nbformat_minor": 0
}
