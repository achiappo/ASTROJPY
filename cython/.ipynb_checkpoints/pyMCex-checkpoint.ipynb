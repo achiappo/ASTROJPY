{
 "cells": [
  {
   "cell_type": "code",
   "execution_count": 2,
   "metadata": {
    "collapsed": false
   },
   "outputs": [
    {
     "ename": "NameError",
     "evalue": "name 'regions' is not defined",
     "output_type": "error",
     "traceback": [
      "\u001b[1;31m---------------------------------------------------------------------------\u001b[0m",
      "\u001b[1;31mNameError\u001b[0m                                 Traceback (most recent call last)",
      "\u001b[1;32m<ipython-input-2-58f4a5e39f23>\u001b[0m in \u001b[0;36m<module>\u001b[1;34m()\u001b[0m\n\u001b[0;32m     10\u001b[0m \u001b[1;33m\u001b[0m\u001b[0m\n\u001b[0;32m     11\u001b[0m \u001b[1;31m# Recovery rates from incidental take paper\u001b[0m\u001b[1;33m\u001b[0m\u001b[1;33m\u001b[0m\u001b[0m\n\u001b[1;32m---> 12\u001b[1;33m \u001b[0mrecovery\u001b[0m \u001b[1;33m=\u001b[0m \u001b[0mdict\u001b[0m\u001b[1;33m(\u001b[0m\u001b[0mzip\u001b[0m\u001b[1;33m(\u001b[0m\u001b[0mregions\u001b[0m\u001b[1;33m,\u001b[0m \u001b[1;33m(\u001b[0m\u001b[1;36m0.8625\u001b[0m\u001b[1;33m,\u001b[0m \u001b[1;36m0.8242\u001b[0m\u001b[1;33m,\u001b[0m \u001b[1;36m0.4069\u001b[0m\u001b[1;33m,\u001b[0m \u001b[1;36m0.5837\u001b[0m\u001b[1;33m)\u001b[0m\u001b[1;33m)\u001b[0m\u001b[1;33m)\u001b[0m\u001b[1;33m\u001b[0m\u001b[0m\n\u001b[0m\u001b[0;32m     13\u001b[0m \u001b[1;33m\u001b[0m\u001b[0m\n\u001b[0;32m     14\u001b[0m \u001b[1;31m# Strong red tide years\u001b[0m\u001b[1;33m\u001b[0m\u001b[1;33m\u001b[0m\u001b[0m\n",
      "\u001b[1;31mNameError\u001b[0m: name 'regions' is not defined"
     ]
    }
   ],
   "source": [
    "# Import modules\n",
    "from pymc import *\n",
    "import numpy as np\n",
    "#from get_data import *\n",
    "\n",
    "# Constants\n",
    "JUVENILE, ADULT = 0, 1\n",
    "STARTYEAR, ENDYEAR = 2001, 2009\n",
    "YEARS = ENDYEAR - STARTYEAR + 1\n",
    "\n",
    "# Recovery rates from incidental take paper\n",
    "recovery = dict(zip(regions, (0.8625, 0.8242, 0.4069, 0.5837)))\n",
    "\n",
    "# Strong red tide years\n",
    "tide_years = (2003, 2005, 2006)"
   ]
  },
  {
   "cell_type": "code",
   "execution_count": 2,
   "metadata": {
    "collapsed": false
   },
   "outputs": [],
   "source": [
    "# Specify Current model\n",
    "AGE = 'Adults'"
   ]
  },
  {
   "cell_type": "code",
   "execution_count": 6,
   "metadata": {
    "collapsed": false
   },
   "outputs": [],
   "source": [
    "# Containers for variables\n",
    "U = []\n",
    "p = []\n",
    "pi = []\n",
    "X = []\n",
    "X_like = []\n",
    "Z = []\n",
    "undetermined = []\n",
    "theta = []\n",
    "\n",
    "# Red tide effect factor\n",
    "a = Uniform('a', lower=0, upper=2)\n",
    "\n",
    "# Loop over regions\n",
    "for area in regions:\n",
    "    \n",
    "    # Upper St. John never gets red tide\n",
    "    k = len(causes) - 1*(area == 'USJ')\n",
    "    \n",
    "    # Undetermined deaths by latent cause modeled as multinomial\n",
    "    # with Dirichlet prior on probabilities\n",
    "    p_i = Dirichlet('p_%s' % area, theta=np.ones(k), value=np.ones(k-1)/k)\n",
    "    p.append(p_i)\n",
    "            \n",
    "    # Proportions of mortality for region i\n",
    "    pi_i = Dirichlet('pi_%s' % area, theta=np.ones(k))\n",
    "    pi.append(pi_i)\n",
    "\n",
    "    # Loop over years\n",
    "    for year in range(STARTYEAR, ENDYEAR+1):\n",
    "\n",
    "        # Subset data by year and age\n",
    "        cdata = data[(data[\"area\"]==area) & (data['year']==year) & (data['age']==AGE)]\n",
    "        \n",
    "        # Undetermined mortality\n",
    "        undetermined_i = cdata['undetermined']\n",
    "        undetermined.append(undetermined_i)\n",
    "        \n",
    "        # Upper St. John never gets red tide\n",
    "        if area == 'USJ':\n",
    "            # Remove red tide as a cause\n",
    "            Z_i = cdata[causes[0:4] + [causes[-1]]].values[0]\n",
    "        else:\n",
    "            Z_i = cdata[causes].values[0]\n",
    "        \n",
    "        \n",
    "        # Undetermined deaths by latent cause modeled as multinomial\n",
    "        # with Dirichlet prior on probabilities\n",
    "        U_i = Multinomial('U_%s%i' % (area,year), n=undetermined_i, p=p_i)\n",
    "        U.append(U_i)\n",
    "\n",
    "        # Total deaths by cause, corrected for recovery rate\n",
    "        X_i = Lambda('X_%s%i' % (area,year), lambda u=U_i, z=Z_i: ((z + u)/recovery[area]).astype(int))\n",
    "        X.append(X_i)\n",
    "\n",
    "        # A red tide year ...\n",
    "        if (year in tide_years) and (area == 'SW'):\n",
    "\n",
    "            @deterministic\n",
    "            def theta_i(p=pi_i, a=a):\n",
    "                \"\"\"Adjust proportions in red tide years\"\"\"\n",
    "                theta = p.copy()\n",
    "                theta[4] += a\n",
    "                return theta/(1+a) \n",
    "            theta_i.__name__ += '_%s%i' % (area,year)\n",
    "            theta.append(theta_i)\n",
    "\n",
    "        # Normal year ...\n",
    "        else:\n",
    "            \n",
    "            # No adjustment to proportions\n",
    "            theta_i = pi_i\n",
    "        \n",
    "        @potential\n",
    "        def X_like_i(x=X_i, p=theta_i):\n",
    "            \"The likelihood of total deaths by cause\"\n",
    "            return multinomial_like(x, n=np.sum(x), p=extend_dirichlet(p))\n",
    "        X_like.append(X_like_i)\n",
    "        \n",
    "try:\n",
    "    del adult_model\n",
    "except:\n",
    "    pass\n",
    "\n",
    "adult_model = MCMC(locals())"
   ]
  },
  {
   "cell_type": "code",
   "execution_count": 7,
   "metadata": {
    "collapsed": false
   },
   "outputs": [
    {
     "name": "stdout",
     "output_type": "stream",
     "text": [
      "[****************100%******************]  20000 of 20000 complete\n"
     ]
    }
   ],
   "source": [
    "adult_model.sample(20000, burn=10000)"
   ]
  },
  {
   "cell_type": "markdown",
   "metadata": {},
   "source": [
    "## Posterior estimate for red tide year effect"
   ]
  },
  {
   "cell_type": "code",
   "execution_count": 9,
   "metadata": {
    "collapsed": false
   },
   "outputs": [
    {
     "name": "stdout",
     "output_type": "stream",
     "text": [
      "\n",
      "a:\n",
      " \n",
      "\tMean             SD               MC Error        95% HPD interval\n",
      "\t------------------------------------------------------------------\n",
      "\t0.772            0.105            0.005            [ 0.587  0.991]\n",
      "\t\n",
      "\t\n",
      "\tPosterior quantiles:\n",
      "\t\n",
      "\t2.5             25              50              75             97.5\n",
      "\t |---------------|===============|===============|---------------|\n",
      "\t0.589            0.699           0.765          0.836         0.996\n",
      "\t\n"
     ]
    }
   ],
   "source": [
    "adult_model.a.summary()"
   ]
  },
  {
   "cell_type": "code",
   "execution_count": 8,
   "metadata": {
    "collapsed": false
   },
   "outputs": [
    {
     "name": "stdout",
     "output_type": "stream",
     "text": [
      "Plotting a\n"
     ]
    },
    {
     "data": {
      "image/png": "[encoded data removed]",
      "text/plain": [
       "<matplotlib.figure.Figure at 0x11180e390>"
      ]
     },
     "metadata": {},
     "output_type": "display_data"
    }
   ],
   "source": [
    "Matplot.plot(adult_model.a)"
   ]
  },
  {
   "cell_type": "markdown",
   "metadata": {},
   "source": [
    "## Proportions of mortality estimates"
   ]
  },
  {
   "cell_type": "code",
   "execution_count": 11,
   "metadata": {
    "collapsed": false
   },
   "outputs": [
    {
     "name": "stdout",
     "output_type": "stream",
     "text": [
      "\n",
      "pi_ATL:\n",
      " \n",
      "\tMean             SD               MC Error        95% HPD interval\n",
      "\t------------------------------------------------------------------\n",
      "\t0.582            0.017            0.002            [ 0.546  0.61 ]\n",
      "\t0.009            0.003            0.0              [ 0.003  0.015]\n",
      "\t0.01             0.004            0.0              [ 0.004  0.018]\n",
      "\t0.078            0.01             0.001            [ 0.057  0.099]\n",
      "\t0.11             0.004            0.0              [ 0.103  0.116]\n",
      "\t\n",
      "\t\n",
      "\tPosterior quantiles:\n",
      "\t\n",
      "\t2.5             25              50              75             97.5\n",
      "\t |---------------|===============|===============|---------------|\n",
      "\t0.547            0.572           0.583          0.594         0.612\n",
      "\t0.004            0.007           0.009          0.011         0.017\n",
      "\t0.005            0.008           0.009          0.012         0.018\n",
      "\t0.059            0.071           0.078          0.085         0.102\n",
      "\t0.102            0.107           0.11           0.113         0.116\n",
      "\t\n",
      "\n",
      "pi_USJ:\n",
      " \n",
      "\tMean             SD               MC Error        95% HPD interval\n",
      "\t------------------------------------------------------------------\n",
      "\t0.596            0.12             0.011            [ 0.379  0.806]\n",
      "\t0.05             0.035            0.002            [ 0.002  0.121]\n",
      "\t0.043            0.027            0.002            [ 0.001  0.095]\n",
      "\t0.214            0.093            0.009            [ 0.038  0.398]\n",
      "\t\n",
      "\t\n",
      "\tPosterior quantiles:\n",
      "\t\n",
      "\t2.5             25              50              75             97.5\n",
      "\t |---------------|===============|===============|---------------|\n",
      "\t0.364            0.505           0.606          0.695         0.796\n",
      "\t0.006            0.024           0.041          0.068         0.14\n",
      "\t0.005            0.023           0.039          0.059         0.113\n",
      "\t0.067            0.15            0.2            0.264         0.442\n",
      "\t\n",
      "\n",
      "pi_NW:\n",
      " \n",
      "\tMean             SD               MC Error        95% HPD interval\n",
      "\t------------------------------------------------------------------\n",
      "\t0.61             0.054            0.005            [ 0.501  0.705]\n",
      "\t0.011            0.01             0.001            [ 0.     0.031]\n",
      "\t0.033            0.02             0.001            [ 0.003  0.07 ]\n",
      "\t0.157            0.05             0.004            [ 0.065  0.249]\n",
      "\t0.032            0.018            0.001            [ 0.004  0.068]\n",
      "\t\n",
      "\t\n",
      "\tPosterior quantiles:\n",
      "\t\n",
      "\t2.5             25              50              75             97.5\n",
      "\t |---------------|===============|===============|---------------|\n",
      "\t0.508            0.572           0.612          0.648         0.712\n",
      "\t0.0              0.003           0.008          0.015         0.037\n",
      "\t0.006            0.02            0.029          0.044         0.084\n",
      "\t0.077            0.12            0.153          0.189         0.265\n",
      "\t0.007            0.018           0.029          0.043         0.075\n",
      "\t\n",
      "\n",
      "pi_SW:\n",
      " \n",
      "\tMean             SD               MC Error        95% HPD interval\n",
      "\t------------------------------------------------------------------\n",
      "\t0.445            0.014            0.001            [ 0.42   0.472]\n",
      "\t0.032            0.006            0.001            [ 0.025  0.046]\n",
      "\t0.008            0.004            0.0              [ 0.002  0.015]\n",
      "\t0.086            0.011            0.001            [ 0.065  0.108]\n",
      "\t0.332            0.014            0.001            [ 0.305  0.36 ]\n",
      "\t\n",
      "\t\n",
      "\tPosterior quantiles:\n",
      "\t\n",
      "\t2.5             25              50              75             97.5\n",
      "\t |---------------|===============|===============|---------------|\n",
      "\t0.418            0.436           0.445          0.453         0.471\n",
      "\t0.024            0.027           0.03           0.033         0.046\n",
      "\t0.003            0.006           0.008          0.01          0.017\n",
      "\t0.065            0.079           0.086          0.094         0.108\n",
      "\t0.302            0.322           0.332          0.343         0.358\n",
      "\t\n"
     ]
    },
    {
     "data": {
      "text/plain": [
       "[None, None, None, None]"
      ]
     },
     "execution_count": 11,
     "metadata": {},
     "output_type": "execute_result"
    }
   ],
   "source": [
    "[p.summary() for p in adult_model.pi]"
   ]
  }
 ],
 "metadata": {
  "kernelspec": {
   "display_name": "Python 2",
   "language": "python",
   "name": "python2"
  },
  "language_info": {
   "codemirror_mode": {
    "name": "ipython",
    "version": 2
   },
   "file_extension": ".py",
   "mimetype": "text/x-python",
   "name": "python",
   "nbconvert_exporter": "python",
   "pygments_lexer": "ipython2",
   "version": "2.7.6"
  }
 },
 "nbformat": 4,
 "nbformat_minor": 0
}
