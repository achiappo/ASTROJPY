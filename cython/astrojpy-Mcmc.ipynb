{
 "cells": [
  {
   "cell_type": "code",
   "execution_count": 1,
   "metadata": {
    "collapsed": false
   },
   "outputs": [],
   "source": [
    "import numpy as np\n",
    "from math import sqrt,log10\n",
    "import pylab as plt\n",
    "from scipy.interpolate import interp1d as interp\n",
    "from scipy.optimize import brentq, minimize_scalar\n",
    "from profiles import build_profile, build_kernel\n",
    "from dispersion import SphericalJeansDispersion\n",
    "from likelihood import GaussianLikelihood\n",
    "from fitter import McmcFitter\n",
    "\n",
    "%matplotlib inline"
   ]
  },
  {
   "cell_type": "code",
   "execution_count": 2,
   "metadata": {
    "collapsed": false
   },
   "outputs": [],
   "source": [
    "directory = '/home/andrea/Desktop/work/DWARF/dsphsim/'\n",
    "rh = 0.04\n",
    "D = 39.81\n",
    "theta = 2*rh/D"
   ]
  },
  {
   "cell_type": "code",
   "execution_count": 3,
   "metadata": {
    "collapsed": false
   },
   "outputs": [],
   "source": [
    "dm = build_profile('NFW')\n",
    "st = build_profile('plummer',**{'rh':rh}) # Plummer Stellar profile\n",
    "kr = build_kernel('iso') # isotropic kernel\n",
    "dwarf_props = {'D':D, 'theta':theta, 'rt':np.inf, 'with_errs':False}\n",
    "Sigma = SphericalJeansDispersion(dm, st, kr, dwarf_props)"
   ]
  },
  {
   "cell_type": "code",
   "execution_count": 4,
   "metadata": {
    "collapsed": true
   },
   "outputs": [],
   "source": [
    "R, v = np.loadtxt(directory+'Ret2_data/dsph_001.txt',usecols=(5, 7),unpack=True)\n",
    "v = v[~np.isnan(v)]\n",
    "R = R[~np.isnan(v)]\n",
    "dv = np.zeros_like(v)"
   ]
  },
  {
   "cell_type": "code",
   "execution_count": 5,
   "metadata": {
    "collapsed": false
   },
   "outputs": [],
   "source": [
    "LL = GaussianLikelihood([R, v, dv, 0.], Sigma)\n",
    "global global_loglike\n",
    "global_loglike = LL"
   ]
  },
  {
   "cell_type": "code",
   "execution_count": 10,
   "metadata": {
    "collapsed": false
   },
   "outputs": [],
   "source": [
    "LL.set_free('dm_a')\n",
    "LL.set_free('dm_b')\n",
    "LL.set_free('dm_c')\n",
    "LL.set_free('dm_r0')"
   ]
  },
  {
   "cell_type": "markdown",
   "metadata": {},
   "source": [
    "$r_s = 0.35 , \\rho_s = 7.55 \\times 10^7 , J = 16.72$"
   ]
  },
  {
   "cell_type": "code",
   "execution_count": 6,
   "metadata": {
    "collapsed": true
   },
   "outputs": [],
   "source": [
    "J_array = np.linspace(15,18,20)\n",
    "J_new = np.empty([0])\n",
    "L_arr = np.empty([0])\n",
    "a_arr = np.empty([0])\n",
    "b_arr = np.empty([0])\n",
    "c_arr = np.empty([0])\n",
    "r_arr = np.empty([0])"
   ]
  },
  {
   "cell_type": "code",
   "execution_count": null,
   "metadata": {
    "collapsed": true
   },
   "outputs": [],
   "source": [
    "from pymc import MCMC, Uniform\n",
    "\n",
    "a = Uniform('a',)\n",
    "b = Uniform('b',)\n",
    "c = Uniform('c',)\n",
    "r = Uniform('r',)\n",
    "\n",
    "@deterministic\n",
    "def "
   ]
  }
 ],
 "metadata": {
  "kernelspec": {
   "display_name": "Python 2",
   "language": "python",
   "name": "python2"
  },
  "language_info": {
   "codemirror_mode": {
    "name": "ipython",
    "version": 2
   },
   "file_extension": ".py",
   "mimetype": "text/x-python",
   "name": "python",
   "nbconvert_exporter": "python",
   "pygments_lexer": "ipython2",
   "version": "2.7.6"
  }
 },
 "nbformat": 4,
 "nbformat_minor": 0
}
