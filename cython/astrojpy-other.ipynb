{
 "cells": [
  {
   "cell_type": "code",
   "execution_count": 1,
   "metadata": {},
   "outputs": [],
   "source": [
    "import numpy as np\n",
    "import pylab as plt\n",
    "from math import *\n",
    "from pymc import Uniform, MCMC, deterministic\n",
    "\n",
    "from scipy.interpolate import interp1d as interp\n",
    "from scipy.optimize import brentq, minimize_scalar, basinhopping\n",
    "from profiles import build_profile, build_kernel\n",
    "from dispersion import SphericalJeansDispersion\n",
    "from likelihood import GaussianLikelihood\n",
    "#from fitter import *\n",
    "\n",
    "%matplotlib inline"
   ]
  },
  {
   "cell_type": "code",
   "execution_count": 2,
   "metadata": {},
   "outputs": [],
   "source": [
    "directory = '/home/andrea/Desktop/work/DWARF/'\n",
    "D = 39.81\n",
    "dwarf_props = {'D':D, 'rt':np.inf}"
   ]
  },
  {
   "cell_type": "code",
   "execution_count": 3,
   "metadata": {},
   "outputs": [],
   "source": [
    "cusp = build_profile('NFW')\n",
    "core = build_profile('Zhao', a=1, b=3, c=0)"
   ]
  },
  {
   "cell_type": "code",
   "execution_count": 4,
   "metadata": {
    "collapsed": true
   },
   "outputs": [],
   "source": [
    "r0 = 0.5\n",
    "rho0 = 1e8\n",
    "cusp.r0 = r0; cusp.rho0 = rho0\n",
    "core.r0 = r0; core.rho0 = rho0"
   ]
  },
  {
   "cell_type": "code",
   "execution_count": 5,
   "metadata": {},
   "outputs": [
    {
     "name": "stderr",
     "output_type": "stream",
     "text": [
      "/usr/local/lib/python2.7/dist-packages/scipy/integrate/quadpack.py:364: IntegrationWarning: The integral is probably divergent, or slowly convergent.\n",
      "  warnings.warn(msg, IntegrationWarning)\n"
     ]
    }
   ],
   "source": [
    "angles = np.linspace(0, 2)\n",
    "Jcusp = [cusp.Jfactor(theta=t, **dwarf_props) for t in angles]\n",
    "Jcore = [core.Jfactor(theta=t, **dwarf_props) for t in angles]"
   ]
  },
  {
   "cell_type": "code",
   "execution_count": 8,
   "metadata": {},
   "outputs": [
    {
     "data": {
      "image/png": "[encoded data removed]",
      "text/plain": [
       "<matplotlib.figure.Figure at 0x7f84dc29fed0>"
      ]
     },
     "metadata": {},
     "output_type": "display_data"
    }
   ],
   "source": [
    "plt.semilogy(angles, Jcusp, label='cusped');\n",
    "plt.semilogy(angles, Jcore, label='cored');\n",
    "plt.xlabel(r'$\\theta_{max}$ [deg]');\n",
    "plt.ylabel(r'J [GeV$^2$ cm$^{-5}$]');\n",
    "plt.legend();\n",
    "plt.xlim(0, 2);\n",
    "plt.savefig(directory + 'ASTROJPY/results/Jcusp_Jcore', dpi=300);"
   ]
  }
 ],
 "metadata": {
  "anaconda-cloud": {},
  "kernelspec": {
   "display_name": "Python 2",
   "language": "python",
   "name": "python2"
  },
  "language_info": {
   "codemirror_mode": {
    "name": "ipython",
    "version": 2
   },
   "file_extension": ".py",
   "mimetype": "text/x-python",
   "name": "python",
   "nbconvert_exporter": "python",
   "pygments_lexer": "ipython2",
   "version": "2.7.6"
  }
 },
 "nbformat": 4,
 "nbformat_minor": 1
}
