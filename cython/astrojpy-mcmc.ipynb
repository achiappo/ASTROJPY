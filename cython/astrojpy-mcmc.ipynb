{
 "cells": [
  {
   "cell_type": "code",
   "execution_count": 59,
   "metadata": {
    "collapsed": false,
    "deletable": true,
    "editable": true
   },
   "outputs": [],
   "source": [
    "import numpy as np\n",
    "import pylab as plt\n",
    "import inspect\n",
    "from math import log10\n",
    "from pymc import *\n",
    "from collections import OrderedDict as OD\n",
    "from scipy.interpolate import interp1d as interp\n",
    "from scipy.optimize import brentq, minimize_scalar\n",
    "from profiles import build_profile, build_kernel\n",
    "from dispersion import SphericalJeansDispersion\n",
    "from likelihood import GaussianLikelihood\n",
    "#from fitter import *\n",
    "\n",
    "%matplotlib inline"
   ]
  },
  {
   "cell_type": "code",
   "execution_count": 2,
   "metadata": {
    "collapsed": false,
    "deletable": true,
    "editable": true
   },
   "outputs": [],
   "source": [
    "directory = '/home/andrea/Desktop/work/DWARF/'\n",
    "rh = 0.04\n",
    "D = 39.81\n",
    "theta = 2*rh/D"
   ]
  },
  {
   "cell_type": "code",
   "execution_count": 3,
   "metadata": {
    "collapsed": false,
    "deletable": true,
    "editable": true
   },
   "outputs": [],
   "source": [
    "dm = build_profile('NFW')\n",
    "st = build_profile('plummer',**{'rh':rh}) # Plummer Stellar profile\n",
    "kr = build_kernel('iso') # isotropic kernel\n",
    "dwarf_props = {'D':D, 'theta':theta, 'rt':np.inf, 'with_errs':False}\n",
    "Sigma = SphericalJeansDispersion(dm, st, kr, dwarf_props)"
   ]
  },
  {
   "cell_type": "code",
   "execution_count": 4,
   "metadata": {
    "collapsed": true
   },
   "outputs": [],
   "source": [
    "R, v = np.loadtxt(directory+'dsphsim/Ret2_data/dsph_001.txt',usecols=(5, 7),unpack=True)\n",
    "#R, v = np.load('results/equiRdSphs.npy')\n",
    "vnan = np.isnan(v)\n",
    "v = v[:100]#[~vnan]\n",
    "R = R[:100]#[~vnan]\n",
    "dv = np.zeros_like(v)"
   ]
  },
  {
   "cell_type": "code",
   "execution_count": 5,
   "metadata": {
    "collapsed": false,
    "deletable": true,
    "editable": true
   },
   "outputs": [],
   "source": [
    "LL = GaussianLikelihood([R, v, dv, 0.], Sigma)"
   ]
  },
  {
   "cell_type": "code",
   "execution_count": 6,
   "metadata": {
    "collapsed": true,
    "deletable": true,
    "editable": true
   },
   "outputs": [],
   "source": [
    "LL.set_free('dm_a')\n",
    "LL.set_free('dm_b')\n",
    "LL.set_free('dm_c')\n",
    "LL.set_free('dm_r0')"
   ]
  },
  {
   "cell_type": "markdown",
   "metadata": {
    "deletable": true,
    "editable": true
   },
   "source": [
    "$r_s = 0.35 , \\rho_s = 7.55 \\times 10^7 , J = 16.72$"
   ]
  },
  {
   "cell_type": "code",
   "execution_count": 7,
   "metadata": {
    "collapsed": false,
    "deletable": true,
    "editable": true
   },
   "outputs": [
    {
     "data": {
      "text/plain": [
       "['dm_a', 'dm_b', 'J', 'dm_r0', 'dm_c']"
      ]
     },
     "execution_count": 7,
     "metadata": {},
     "output_type": "execute_result"
    }
   ],
   "source": [
    "Lpars = LL.free_pars.keys()\n",
    "LL.free_pars.keys()"
   ]
  },
  {
   "cell_type": "markdown",
   "metadata": {
    "deletable": true,
    "editable": true
   },
   "source": [
    "$f(x \\mid \\mu, \\tau) = \\sqrt{\\frac{\\tau}{2\\pi}} \\exp\\left\\{ -\\frac{\\tau}{2} (x-\\mu)^2 \\right\\}$"
   ]
  },
  {
   "cell_type": "code",
   "execution_count": 51,
   "metadata": {
    "collapsed": true
   },
   "outputs": [],
   "source": [
    "dic = {'J': 5, 'a': 1, 'b': 2, 'c': 3, 'r': 4}\n",
    "Lpars = ['dm_a', 'dm_b', 'J', 'dm_r0', 'dm_c']"
   ]
  },
  {
   "cell_type": "code",
   "execution_count": 63,
   "metadata": {
    "collapsed": false
   },
   "outputs": [
    {
     "data": {
      "text/plain": [
       "[('J', 5), ('dm_a', 1), ('dm_b', 2), ('dm_c', 3), ('dm_r0', 4)]"
      ]
     },
     "execution_count": 63,
     "metadata": {},
     "output_type": "execute_result"
    }
   ],
   "source": [
    "dict( zip( sorted(Lpars), OD(sorted(dic.items(), key=lambda x: x[0])).values() ) )"
   ]
  },
  {
   "cell_type": "code",
   "execution_count": 77,
   "metadata": {
    "collapsed": false,
    "deletable": true,
    "editable": true
   },
   "outputs": [],
   "source": [
    "def model(J):\n",
    "    #J = Uniform('J', lower=15, upper=19)\n",
    "    r = Uniform('r', lower=-3., upper=2.)\n",
    "    a = Uniform('a', lower=.5, upper=3.)\n",
    "    b = Uniform('b', lower=2., upper=6.)\n",
    "    c = Uniform('c', lower=0., upper=1.2)\n",
    "    \n",
    "    @deterministic\n",
    "    def sigma(a=a, b=b, c=c, r=10**r, J=J):\n",
    "        frame = inspect.currentframe()\n",
    "        argvals = inspect.getargvalues(frame)[3]\n",
    "        argvals.pop('frame')\n",
    "        print argvals\n",
    "        new_vals = zip(sorted(Lpars), OD(sorted(argvals.items(), key=lambda x: x[0])).values())\n",
    "        for name,value in new_vals:\n",
    "            print name, value\n",
    "            Sigma.setparams(name, value)\n",
    "        return dv**2 + Sigma.compute(R)\n",
    "    \n",
    "    @deterministic\n",
    "    def loglike(J=J, a=a, b=b, c=c, r=r):\n",
    "        return LL(a, b, J, 10**r, c)\n",
    "    \n",
    "    \n",
    "    v_obs = Normal('v', mu=v.mean(), tau=1/sigma, value=v, observed=True)\n",
    "    \n",
    "    return locals()"
   ]
  },
  {
   "cell_type": "code",
   "execution_count": 78,
   "metadata": {
    "collapsed": false,
    "deletable": true,
    "editable": true
   },
   "outputs": [
    {
     "name": "stdout",
     "output_type": "stream",
     "text": [
      "{'a': array(2.2938677975473487), 'c': array(0.9379100776046305), 'b': array(5.709673028836438), 'J': 16, 'r': 0.022742881814812061}\n",
      "J 16\n",
      "dm_a 2.29386779755\n",
      "dm_b 5.70967302884\n",
      "dm_c 0.937910077605\n",
      "dm_r0 0.0227428818148\n"
     ]
    }
   ],
   "source": [
    "M = MCMC( model(16) )"
   ]
  },
  {
   "cell_type": "code",
   "execution_count": 79,
   "metadata": {
    "collapsed": false,
    "deletable": true,
    "editable": true
   },
   "outputs": [
    {
     "name": "stdout",
     "output_type": "stream",
     "text": [
      "\n",
      "Burn-in interval complete\n",
      "Step method Metropolis_c stepping\n",
      "\n",
      "Metropolis_c getting initial logp.\n",
      "\tMetropolis_c Current log-likelihood plus current log-probability -918.676316029\n",
      "Metropolis_c proposing.\n",
      "Metropolis_c rejecting due to ZeroProbability.\n",
      "Metropolis_c returning.\n",
      "Step method Metropolis_r stepping\n",
      "\n",
      "Metropolis_r getting initial logp.\n",
      "\tMetropolis_r Current log-likelihood plus current log-probability -920.103432384\n",
      "Metropolis_r proposing.\n",
      "Metropolis_r rejecting due to ZeroProbability.\n",
      "Metropolis_r returning.\n",
      "Step method Metropolis_a stepping\n",
      "\n",
      "Metropolis_a getting initial logp.\n",
      "\tMetropolis_a Current log-likelihood plus current log-probability -919.410285204\n",
      "Metropolis_a proposing.\n",
      "Metropolis_a rejecting due to ZeroProbability.\n",
      "Metropolis_a returning.\n",
      "Step method Metropolis_b stepping\n",
      "\n",
      "Metropolis_b getting initial logp.\n",
      "\tMetropolis_b Current log-likelihood plus current log-probability -919.880288833\n",
      "Metropolis_b proposing.\n",
      "Metropolis_b rejecting due to ZeroProbability.\n",
      "Metropolis_b returning.\n",
      "MCMC tallying.\n",
      "MCMC done tallying.\n",
      "Step method Metropolis_c stepping\n",
      "\n",
      "Metropolis_c getting initial logp.\n",
      "\tMetropolis_c Current log-likelihood plus current log-probability -918.676316029\n",
      "Metropolis_c proposing.\n",
      "Metropolis_c rejecting due to ZeroProbability.\n",
      "Metropolis_c returning.\n",
      "Step method Metropolis_r stepping\n",
      "\n",
      "Metropolis_r getting initial logp.\n",
      "\tMetropolis_r Current log-likelihood plus current log-probability -920.103432384\n",
      "Metropolis_r proposing.\n",
      "Metropolis_r rejecting due to ZeroProbability.\n",
      "Metropolis_r returning.\n",
      "Step method Metropolis_a stepping\n",
      "\n",
      "Metropolis_a getting initial logp.\n",
      "\tMetropolis_a Current log-likelihood plus current log-probability -919.410285204\n",
      "Metropolis_a proposing.\n",
      "Metropolis_a rejecting due to ZeroProbability.\n",
      "Metropolis_a returning.\n",
      "Step method Metropolis_b stepping\n",
      "\n",
      "Metropolis_b getting initial logp.\n",
      "\tMetropolis_b Current log-likelihood plus current log-probability -919.880288833\n",
      "Metropolis_b proposing.\n",
      "Metropolis_b rejecting due to ZeroProbability.\n",
      "Metropolis_b returning.\n",
      "MCMC tallying.\n",
      "MCMC done tallying.\n",
      "\n",
      "Sampling finished normally.\n"
     ]
    }
   ],
   "source": [
    "M.sample( iter=2, verbose=3)"
   ]
  },
  {
   "cell_type": "raw",
   "metadata": {
    "collapsed": true,
    "deletable": true,
    "editable": true
   },
   "source": [
    "db = database.pickle.load('../results/mcmc/mcmc_AdaMet_1e4.pickle')\n",
    "\n",
    "M = MCMC( model(16), db=db)"
   ]
  },
  {
   "cell_type": "code",
   "execution_count": 31,
   "metadata": {
    "collapsed": true,
    "deletable": true,
    "editable": true
   },
   "outputs": [],
   "source": [
    "L = M.trace('loglike')[:]\n",
    "\n",
    "Lnan = np.logical_or(np.isnan(L), np.isinf(L))\n",
    "L = L[~Lnan]\n",
    "\n",
    "indLmin = np.where( L==min(L) )[0][0]\n",
    "Lmin = L[indLmin]\n",
    "\n",
    "for par in ['a', 'b', 'c', 'r']:\n",
    "    exec( \"{p} = M.trace('{p}')[~Lnan]\".format(p=par) )"
   ]
  },
  {
   "cell_type": "raw",
   "metadata": {
    "collapsed": false,
    "deletable": true,
    "editable": true
   },
   "source": [
    "for m in M.stochastics.union(M.deterministics):\n",
    "    pymc.Matplot.geweke_plot( pymc.geweke(m), name=m )"
   ]
  },
  {
   "cell_type": "raw",
   "metadata": {
    "collapsed": false,
    "deletable": true,
    "editable": true
   },
   "source": [
    "pymc.Matplot.autocorrelation(M)"
   ]
  },
  {
   "cell_type": "raw",
   "metadata": {
    "collapsed": false,
    "deletable": true,
    "editable": true
   },
   "source": [
    "pymc.raftery_lewis(M, q=0.025, r=0.01)"
   ]
  },
  {
   "cell_type": "code",
   "execution_count": 32,
   "metadata": {
    "collapsed": false,
    "deletable": true,
    "editable": true
   },
   "outputs": [
    {
     "data": {
      "image/png": "[encoded data removed]",
      "text/plain": [
       "<matplotlib.figure.Figure at 0x7f58b37d0a10>"
      ]
     },
     "metadata": {},
     "output_type": "display_data"
    }
   ],
   "source": [
    "fig = plt.figure(figsize=(8,8))\n",
    "for i,par in enumerate(['a', 'b', 'c', 'r']):\n",
    "    ax = fig.add_subplot(2,2,i+1)\n",
    "    ax.plot( eval('{}'.format(par)), L, 'bo', alpha=0.2  );\n",
    "    exec( 'parmin = {}[indLmin]'.format(par) )\n",
    "    ax.plot( parmin, L[indLmin], 'r*', ms=10, label= '%s = %.2f'%(par, parmin) );\n",
    "    ax.set_xlabel(par);\n",
    "    if i%2 == 0: \n",
    "        ax.set_ylabel('-logLike')\n",
    "    ax.set_ylim(1e3, 2e3);\n",
    "    ax.legend(numpoints=1);\n",
    "plt.suptitle('J = 16, 1000 points, R ~equal. dist.', fontsize=14);\n",
    "#plt.savefig('results/Likeparams_Mc1000_J16_equiR.png', dpi=300, format='png');"
   ]
  },
  {
   "cell_type": "raw",
   "metadata": {
    "collapsed": false,
    "deletable": true,
    "editable": true
   },
   "source": [
    "for j,J in enumerate(J_array):\n",
    "    M = MCMC(model(J))\n",
    "    M.sample(1000)\n",
    "    \n",
    "    L_sample = M.trace('loglike')[:]\n",
    "    true_indx = ~np.isnan(L_sample)\n",
    "    L_sample = L_sample[true_indx]\n",
    "    min_indx = np.where( L_sample==L_sample.min() )[0][0]\n",
    "    L_arr[j] = L_sample[min_indx]\n",
    "    print '\\n %2.2f %5.2f '%(J, L_arr[-1])\n",
    "    \n",
    "    for par in ['a', 'b', 'c', 'r']:\n",
    "        exec( \"p_sample = M.trace('{}')[:]\".format(par) )\n",
    "        exec( \"{}_sample = p_sample[true_indx]\".format(par) )\n",
    "        exec( \"{p}_arr[j] = {p}_sample[min_indx]\".format(p=par) )\n",
    "        exec( \"print '{p}' , {p}_arr[-1]\".format(p=par) )"
   ]
  },
  {
   "cell_type": "code",
   "execution_count": 16,
   "metadata": {
    "collapsed": true,
    "deletable": true,
    "editable": true
   },
   "outputs": [],
   "source": [
    "interp_L = interp(J_array, L_arr-L_arr.min())\n",
    "interp_r = interp(J_array, r_arr)\n",
    "interp_a = interp(J_array, a_arr)\n",
    "interp_b = interp(J_array, b_arr)\n",
    "interp_c = interp(J_array, c_arr)"
   ]
  },
  {
   "cell_type": "code",
   "execution_count": 17,
   "metadata": {
    "collapsed": true,
    "deletable": true,
    "editable": true
   },
   "outputs": [],
   "source": [
    "eval_Like_J = np.linspace(J_array.min(), J_array.max(), 1e3)\n",
    "min_Like_J = interp_L(eval_Like_J).min()\n",
    "Jmin = eval_Like_J[ np.where( interp_L(eval_Like_J) == min_Like_J )[0][0] ]\n",
    "J_plt = np.linspace(J_array.min(),J_array.max())"
   ]
  },
  {
   "cell_type": "code",
   "execution_count": 18,
   "metadata": {
    "collapsed": true,
    "deletable": true,
    "editable": true
   },
   "outputs": [],
   "source": [
    "Jr = float(interp_r(Jmin))\n",
    "Ja = float(interp_a(Jmin))\n",
    "Jb = float(interp_b(Jmin))\n",
    "Jc = float(interp_c(Jmin))"
   ]
  },
  {
   "cell_type": "code",
   "execution_count": 53,
   "metadata": {
    "collapsed": false,
    "deletable": true,
    "editable": true
   },
   "outputs": [],
   "source": [
    "dm.r0 = Jr\n",
    "dm.a = Ja\n",
    "dm.b = Jb\n",
    "dm.c = Jc\n",
    "minrho = lambda rho : float(abs(Jmin - log10( dm.Jfactor(**dwarf_props) ) - 2*rho))\n",
    "Jrho = 10**minimize_scalar(minrho).x"
   ]
  },
  {
   "cell_type": "code",
   "execution_count": 54,
   "metadata": {
    "collapsed": false,
    "deletable": true,
    "editable": true
   },
   "outputs": [
    {
     "name": "stdout",
     "output_type": "stream",
     "text": [
      "J = 16.00, r = 0.11, rho = 2.12e+08, a = 4.03, b = 2.77 , c = 0.83\n"
     ]
    }
   ],
   "source": [
    "print 'J = %2.2f, r = %2.2f, rho = %2.2e, a = %2.2f, b = %2.2f , c = %2.2f'%(Jmin, Jr, Jrho, Ja, Jb ,Jc)"
   ]
  },
  {
   "cell_type": "code",
   "execution_count": 23,
   "metadata": {
    "collapsed": true,
    "deletable": true,
    "editable": true
   },
   "outputs": [],
   "source": [
    "for i,c in enumerate([0.5,2.0,4.5]):\n",
    "    exec('J%ssL = %.2f'%(i+1, brentq(lambda j : interp_L(j)-c, J_array.min(), Jmin) - Jmin))\n",
    "    exec('J%ssR = %.2f'%(i+1, brentq(lambda j : interp_L(j)-c, Jmin, J_array.max()) - Jmin))"
   ]
  },
  {
   "cell_type": "code",
   "execution_count": 60,
   "metadata": {
    "collapsed": false,
    "deletable": true,
    "editable": true
   },
   "outputs": [
    {
     "data": {
      "image/png": "[encoded data removed]",
      "text/plain": [
       "<matplotlib.figure.Figure at 0x7f0d9d3cb0d0>"
      ]
     },
     "metadata": {},
     "output_type": "display_data"
    }
   ],
   "source": [
    "plt.plot(J_plt, interp_L(J_plt))\n",
    "plt.hlines(0, J_plt.min(), J_plt.max(), linestyles='dashed')\n",
    "plt.plot(Jmin, 0, 'b^', markersize=10, label=r'$\\mathcal{J}_{MLE}$ = %.2f'%Jmin)\n",
    "plt.plot(16.72, 0, 'rd', markersize=6, label=r'$\\mathcal{J}_{TRUE}$ = 16.72')\n",
    "for i,(c,h) in enumerate(zip(['r','g','c'],[0.5,2.0,4.5])):\n",
    "    JL, JR = eval('J%ssL'%str(i+1)), eval('J%ssR'%str(i+1))\n",
    "    plt.hlines(h, J_plt.min(), J_plt.max(), linestyles='dashed', colors=c,\n",
    "              label=r'$%i-\\sigma$'%(i+1)+'\\t'+'[%2s,%2s]'%(str(JL),str(JR)))\n",
    "plt.legend(numpoints=1,fontsize=14).get_frame().set_facecolor('w')\n",
    "plt.text(15.05, 5,'a = %.2f (1)'%Ja +'\\n'+\n",
    "                 'b = %.2f (3)'%Jb +'\\n'+\n",
    "                 'c = %.2f (1)'%Jc +'\\n'+\n",
    "                 r'$r_s$ = %.2f (0.35)'%Jr +'\\n'+\n",
    "                 r'$\\rho_s$ = %.2e (7.55e+07)'%Jrho +'\\n')\n",
    "\n",
    "plt.ylim(-0.5,12);\n",
    "#plt.savefig('results/LikeJ_10p_Mcmc.png',format='png',dpi=300);"
   ]
  }
 ],
 "metadata": {
  "anaconda-cloud": {},
  "kernelspec": {
   "display_name": "Python 2",
   "language": "python",
   "name": "python2"
  },
  "language_info": {
   "codemirror_mode": {
    "name": "ipython",
    "version": 2
   },
   "file_extension": ".py",
   "mimetype": "text/x-python",
   "name": "python",
   "nbconvert_exporter": "python",
   "pygments_lexer": "ipython2",
   "version": "2.7.6"
  }
 },
 "nbformat": 4,
 "nbformat_minor": 0
}
