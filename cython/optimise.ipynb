{
 "cells": [
  {
   "cell_type": "code",
   "execution_count": null,
   "metadata": {
    "collapsed": false
   },
   "outputs": [
    {
     "name": "stderr",
     "output_type": "stream",
     "text": [
      "/usr/lib/python2.7/dist-packages/scipy/integrate/quadpack.py:295: UserWarning: The integral is probably divergent, or slowly convergent.\n",
      "  warnings.warn(msg)\n",
      "/usr/lib/python2.7/dist-packages/scipy/integrate/quadpack.py:295: UserWarning: The algorithm does not converge.  Roundoff error is detected\n",
      "  in the extrapolation table.  It is assumed that the requested tolerance\n",
      "  cannot be achieved, and that the returned result (if full_output = 1) is \n",
      "  the best which can be obtained.\n",
      "  warnings.warn(msg)\n",
      "/usr/lib/python2.7/dist-packages/scipy/integrate/quadpack.py:295: UserWarning: Extremely bad integrand behavior occurs at some points of the\n",
      "  integration interval.\n",
      "  warnings.warn(msg)\n"
     ]
    }
   ],
   "source": [
    "%%timeit\n",
    "\n",
    "import numpy as np\n",
    "from profiles import build_profile, build_kernel\n",
    "from dispersion import SphericalJeansDispersion\n",
    "from likelihood import GaussianLikelihood\n",
    "from fitter import MinuitFitter\n",
    "from utils import load_gaia\n",
    "\n",
    "homedir = '/home/andrea/Desktop/work/DWARF/Jvalue/project2'\n",
    "MockSize = 1000\n",
    "dataSize = 1000\n",
    "dset = 1\n",
    "# enter model choice - cf. casedir (options 1,2,3,4)\n",
    "mod = 1\n",
    "theta = 0.5\n",
    "vsys = 0\n",
    "D = 100\n",
    "\n",
    "data = load_gaia(homedir, MockSize, dataSize, dset, mod, D, True)\n",
    "\n",
    "R = data[0]\n",
    "v = data[1]\n",
    "dv = data[2]\n",
    "rh = data[-3]\n",
    "r0_true = data[-2]\n",
    "rho0_true = data[-1]\n",
    "\n",
    "dm = build_profile('Zhao', a=1., b=3., c=0.) # Cored DM profile\n",
    "st = build_profile('plummer', **{'c':1, 'rh':rh}) # non-Plummer Stellar profile\n",
    "kr = build_kernel('iso') # isotropic kernel\n",
    "\n",
    "dwarf_props = {'D':D, 'theta':theta, 'rt':np.inf, 'errs':False}\n",
    "Sigma = SphericalJeansDispersion(dm, st, kr, dwarf_props)\n",
    "\n",
    "LL = GaussianLikelihood([R, v, dv, vsys], Sigma)\n",
    "LL.set_free('dm_r0')\n",
    "\n",
    "global global_loglike\n",
    "global_loglike = LL\n",
    "M = MinuitFitter(LL)\n",
    "\n",
    "# J\n",
    "M.set_value('J',19)\n",
    "M.set_fixed('J')\n",
    "# r0\n",
    "M.set_value('dm_r0',1.)\n",
    "M.set_error('dm_r0',0.01)\n",
    "M.set_bound('dm_r0',(R.min(),R.max()))\n",
    "# a\n",
    "LL.set_free('dm_a')\n",
    "M.set_value('dm_a',1.)\n",
    "M.set_error('dm_a',0.01)\n",
    "# b\n",
    "LL.set_free('dm_b')\n",
    "M.set_value('dm_b',3.)\n",
    "M.set_error('dm_b',0.01)\n",
    "# c\n",
    "LL.set_free('dm_c')\n",
    "M.set_value('dm_c',0.)\n",
    "M.set_error('dm_c',0.01)\n",
    "\n",
    "M.set_minuit(**{'tol':1e3,'strategy':2})\n",
    "BF = M.migrad_min()\n",
    "#print [BF[1][i]['value'] for i in range(5)]"
   ]
  },
  {
   "cell_type": "markdown",
   "metadata": {},
   "source": [
    "# single likelihood evaluation time"
   ]
  },
  {
   "cell_type": "code",
   "execution_count": 1,
   "metadata": {
    "collapsed": false
   },
   "outputs": [
    {
     "name": "stdout",
     "output_type": "stream",
     "text": [
      "Using  /home/andrea/Desktop/work/DWARF/Jvalue/project2/data/gs100_bs050_rcrs100_rarcinf_core_0400mpc3_df_1000_1.dat\n",
      "CPU times: user 1.71 s, sys: 17.5 ms, total: 1.72 s\n",
      "Wall time: 1.7 s\n"
     ]
    },
    {
     "data": {
      "text/plain": [
       "3606.6821514726671"
      ]
     },
     "execution_count": 1,
     "metadata": {},
     "output_type": "execute_result"
    }
   ],
   "source": [
    "import numpy as np\n",
    "from profiles import build_profile, build_kernel\n",
    "from dispersion import SphericalJeansDispersion\n",
    "from likelihood import GaussianLikelihood\n",
    "from fitter import MinuitFitter\n",
    "from utils import load_gaia\n",
    "\n",
    "homedir = '/home/andrea/Desktop/work/DWARF/Jvalue/project2'\n",
    "MockSize = 1000\n",
    "dataSize = 1000\n",
    "dset = 1\n",
    "# enter model choice - cf. casedir (options 1,2,3,4)\n",
    "mod = 1\n",
    "theta = 0.5\n",
    "vsys = 0\n",
    "D = 100\n",
    "\n",
    "data = load_gaia(homedir, MockSize, dataSize, dset, mod, D, True)\n",
    "\n",
    "R = data[0]\n",
    "v = data[1]\n",
    "dv = data[2]\n",
    "rh = data[-3]\n",
    "r0_true = data[-2]\n",
    "rho0_true = data[-1]\n",
    "\n",
    "dm = build_profile('Zhao', a=1., b=3., c=0.) # Cored DM profile\n",
    "st = build_profile('plummer', **{'c':1, 'rh':rh}) # non-Plummer Stellar profile\n",
    "kr = build_kernel('iso') # isotropic kernel\n",
    "\n",
    "dwarf_props = {'D':D, 'theta':theta, 'rt':np.inf, 'errs':False}\n",
    "Sigma = SphericalJeansDispersion(dm, st, kr, dwarf_props)\n",
    "\n",
    "LL = GaussianLikelihood([R, v, dv, vsys], Sigma)\n",
    "%time LL(19.)"
   ]
  },
  {
   "cell_type": "code",
   "execution_count": 1,
   "metadata": {
    "collapsed": false
   },
   "outputs": [],
   "source": [
    "import numpy as np\n",
    "from test import ZhaoProfile\n",
    "dm = ZhaoProfile()"
   ]
  },
  {
   "cell_type": "code",
   "execution_count": 2,
   "metadata": {
    "collapsed": false
   },
   "outputs": [
    {
     "data": {
      "text/plain": [
       "1580.7979270661854"
      ]
     },
     "execution_count": 2,
     "metadata": {},
     "output_type": "execute_result"
    }
   ],
   "source": [
    "dm.Jfactor(100.,0.5,np.inf)"
   ]
  },
  {
   "cell_type": "code",
   "execution_count": 3,
   "metadata": {
    "collapsed": true
   },
   "outputs": [],
   "source": [
    "from test2 import ZhaoProfile as ZP\n",
    "dm2 = ZP()"
   ]
  },
  {
   "cell_type": "code",
   "execution_count": 4,
   "metadata": {
    "collapsed": false
   },
   "outputs": [
    {
     "ename": "AttributeError",
     "evalue": "'module' object has no attribute 'integral'",
     "output_type": "error",
     "traceback": [
      "\u001b[1;31m---------------------------------------------------------------------------\u001b[0m",
      "\u001b[1;31mAttributeError\u001b[0m                            Traceback (most recent call last)",
      "\u001b[1;32m<ipython-input-4-f6ce7cfe90db>\u001b[0m in \u001b[0;36m<module>\u001b[1;34m()\u001b[0m\n\u001b[1;32m----> 1\u001b[1;33m \u001b[0mdm2\u001b[0m\u001b[1;33m.\u001b[0m\u001b[0mJfactor\u001b[0m\u001b[1;33m(\u001b[0m\u001b[1;36m100.\u001b[0m\u001b[1;33m,\u001b[0m\u001b[1;36m0.5\u001b[0m\u001b[1;33m,\u001b[0m\u001b[0mnp\u001b[0m\u001b[1;33m.\u001b[0m\u001b[0minf\u001b[0m\u001b[1;33m)\u001b[0m\u001b[1;33m\u001b[0m\u001b[0m\n\u001b[0m",
      "\u001b[1;32m/home/andrea/Desktop/work/DWARF/ASTROJPY/cython/test2.py\u001b[0m in \u001b[0;36mJfactor\u001b[1;34m(self, D, theta, rt, with_errs)\u001b[0m\n\u001b[0;32m     27\u001b[0m                 \u001b[0mMsun2kpc5_GeVcm5\u001b[0m \u001b[1;33m=\u001b[0m \u001b[1;36m4463954.894661358\u001b[0m\u001b[1;33m\u001b[0m\u001b[0m\n\u001b[0;32m     28\u001b[0m                 \u001b[0mcst\u001b[0m \u001b[1;33m=\u001b[0m \u001b[1;36m4\u001b[0m \u001b[1;33m*\u001b[0m \u001b[0mpi\u001b[0m \u001b[1;33m*\u001b[0m \u001b[0mself\u001b[0m\u001b[1;33m.\u001b[0m\u001b[0mr0\u001b[0m \u001b[1;33m*\u001b[0m \u001b[0mMsun2kpc5_GeVcm5\u001b[0m\u001b[1;33m\u001b[0m\u001b[0m\n\u001b[1;32m---> 29\u001b[1;33m                 \u001b[1;32mreturn\u001b[0m \u001b[0mcst\u001b[0m \u001b[1;33m*\u001b[0m \u001b[0mself\u001b[0m\u001b[1;33m.\u001b[0m\u001b[0mrho0\u001b[0m\u001b[1;33m**\u001b[0m\u001b[1;36m2\u001b[0m \u001b[1;33m*\u001b[0m \u001b[0mself\u001b[0m\u001b[1;33m.\u001b[0m\u001b[0mJreduced\u001b[0m\u001b[1;33m(\u001b[0m\u001b[0mD\u001b[0m\u001b[1;33m,\u001b[0m \u001b[0mtheta\u001b[0m\u001b[1;33m,\u001b[0m \u001b[0mrt\u001b[0m\u001b[1;33m,\u001b[0m \u001b[0mwith_errs\u001b[0m\u001b[1;33m=\u001b[0m\u001b[0mFalse\u001b[0m\u001b[1;33m)\u001b[0m\u001b[1;33m\u001b[0m\u001b[0m\n\u001b[0m\u001b[0;32m     30\u001b[0m \u001b[1;33m\u001b[0m\u001b[0m\n\u001b[0;32m     31\u001b[0m \u001b[1;32mclass\u001b[0m \u001b[0mZhaoProfile\u001b[0m\u001b[1;33m(\u001b[0m\u001b[0mDMProfile\u001b[0m\u001b[1;33m)\u001b[0m\u001b[1;33m:\u001b[0m\u001b[1;33m\u001b[0m\u001b[0m\n",
      "\u001b[1;32m/home/andrea/Desktop/work/DWARF/ASTROJPY/cython/test2.py\u001b[0m in \u001b[0;36mJreduced\u001b[1;34m(self, D, theta, rt, with_errs)\u001b[0m\n\u001b[0;32m     18\u001b[0m                 \u001b[0mrtprime\u001b[0m \u001b[1;33m=\u001b[0m \u001b[0mrt\u001b[0m\u001b[1;33m/\u001b[0m\u001b[0mr0\u001b[0m\u001b[1;33m\u001b[0m\u001b[0m\n\u001b[0;32m     19\u001b[0m                 \u001b[0mymin\u001b[0m \u001b[1;33m=\u001b[0m \u001b[0mcos\u001b[0m\u001b[1;33m(\u001b[0m\u001b[0mnp\u001b[0m\u001b[1;33m.\u001b[0m\u001b[0mradians\u001b[0m\u001b[1;33m(\u001b[0m\u001b[0mtheta\u001b[0m\u001b[1;33m)\u001b[0m\u001b[1;33m)\u001b[0m\u001b[1;33m\u001b[0m\u001b[0m\n\u001b[1;32m---> 20\u001b[1;33m                 \u001b[0mres\u001b[0m \u001b[1;33m=\u001b[0m \u001b[0mcyfuncsA\u001b[0m\u001b[1;33m.\u001b[0m\u001b[0mintegral\u001b[0m\u001b[1;33m(\u001b[0m\u001b[0mself\u001b[0m\u001b[1;33m.\u001b[0m\u001b[0mdensity\u001b[0m\u001b[1;33m,\u001b[0m \u001b[0mymin\u001b[0m\u001b[1;33m,\u001b[0m \u001b[0mrtprime\u001b[0m\u001b[1;33m,\u001b[0m \u001b[0mDprime\u001b[0m\u001b[1;33m)\u001b[0m\u001b[1;33m\u001b[0m\u001b[0m\n\u001b[0m\u001b[0;32m     21\u001b[0m                 \u001b[1;32mif\u001b[0m \u001b[0mwith_errs\u001b[0m\u001b[1;33m:\u001b[0m\u001b[1;33m\u001b[0m\u001b[0m\n\u001b[0;32m     22\u001b[0m                         \u001b[1;32mreturn\u001b[0m \u001b[0mres\u001b[0m\u001b[1;33m[\u001b[0m\u001b[1;36m0\u001b[0m\u001b[1;33m]\u001b[0m\u001b[1;33m,\u001b[0m \u001b[0mres\u001b[0m\u001b[1;33m[\u001b[0m\u001b[1;36m1\u001b[0m\u001b[1;33m]\u001b[0m\u001b[1;33m\u001b[0m\u001b[0m\n",
      "\u001b[1;31mAttributeError\u001b[0m: 'module' object has no attribute 'integral'"
     ]
    }
   ],
   "source": [
    "dm2.Jfactor(100.,0.5,np.inf)"
   ]
  },
  {
   "cell_type": "code",
   "execution_count": 5,
   "metadata": {
    "collapsed": true
   },
   "outputs": [],
   "source": [
    "import cyfuncsA"
   ]
  },
  {
   "cell_type": "code",
   "execution_count": 6,
   "metadata": {
    "collapsed": false
   },
   "outputs": [
    {
     "data": {
      "text/plain": [
       "['Exception',\n",
       " 'OverflowError',\n",
       " 'ValueError',\n",
       " 'ZeroDivisionError',\n",
       " '__builtins__',\n",
       " '__doc__',\n",
       " '__file__',\n",
       " '__name__',\n",
       " '__package__',\n",
       " '__test__',\n",
       " 'asin',\n",
       " 'atan',\n",
       " 'betainc',\n",
       " 'gamma',\n",
       " 'hyp2f1',\n",
       " 'np',\n",
       " 'nquad',\n",
       " 'pi',\n",
       " 'quad',\n",
       " 'sqrt']"
      ]
     },
     "execution_count": 6,
     "metadata": {},
     "output_type": "execute_result"
    }
   ],
   "source": [
    "dir(cyfuncsA)"
   ]
  }
 ],
 "metadata": {
  "kernelspec": {
   "display_name": "Python 2",
   "language": "python",
   "name": "python2"
  },
  "language_info": {
   "codemirror_mode": {
    "name": "ipython",
    "version": 2
   },
   "file_extension": ".py",
   "mimetype": "text/x-python",
   "name": "python",
   "nbconvert_exporter": "python",
   "pygments_lexer": "ipython2",
   "version": "2.7.6"
  }
 },
 "nbformat": 4,
 "nbformat_minor": 0
}
